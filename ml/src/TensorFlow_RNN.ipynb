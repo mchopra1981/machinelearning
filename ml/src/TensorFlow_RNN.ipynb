{
  "nbformat": 4,
  "nbformat_minor": 0,
  "metadata": {
    "colab": {
      "name": "TensorFlow-RNN.ipynb",
      "provenance": []
    },
    "kernelspec": {
      "name": "python3",
      "display_name": "Python 3"
    }
  },
  "cells": [
    {
      "cell_type": "markdown",
      "metadata": {
        "id": "ViTwmwk4UyrW"
      },
      "source": [
        "## TensorFlow - RNN\n",
        "\n",
        "In this notebook we will implement an RNN layer and verify it with tensorflow"
      ]
    },
    {
      "cell_type": "code",
      "metadata": {
        "id": "oq7IM9c1ImrD"
      },
      "source": [
        "import numpy as np\n",
        "import tensorflow as tf\n",
        "\n",
        "from tensorflow.keras.layers import Input, SimpleRNN, Dense, Flatten\n",
        "from tensorflow.keras.models import Model\n",
        "from tensorflow.keras.optimizers import SGD, Adam\n",
        "\n",
        "%matplotlib inline"
      ],
      "execution_count": 3,
      "outputs": []
    },
    {
      "cell_type": "code",
      "metadata": {
        "id": "vAuKUO2WU9o4"
      },
      "source": [
        "# Lets define these variables\n",
        "# N = number of samples\n",
        "# T = sequence length\n",
        "# D = number of input features\n",
        "# M = number of hidden units\n",
        "# K = number of output units\n",
        "\n",
        "np.random.seed(42)\n",
        "N = 1\n",
        "T = 10\n",
        "D = 3\n",
        "K = 2\n",
        "X = np.random.randn(N, T, D)"
      ],
      "execution_count": 4,
      "outputs": []
    },
    {
      "cell_type": "code",
      "metadata": {
        "id": "-tX4Ck-WVvor"
      },
      "source": [
        "# Make an RNN\n",
        "M = 5 # number of hidden units\n",
        "i = Input(shape=(T, D))\n",
        "x = SimpleRNN(M)(i)\n",
        "x = Dense(K)(x)\n",
        "\n",
        "model = Model(i, x)"
      ],
      "execution_count": 5,
      "outputs": []
    },
    {
      "cell_type": "code",
      "metadata": {
        "id": "dOQ94HlsVxtn",
        "outputId": "a09e888b-4ada-4b09-9ae3-ec282556d3df",
        "colab": {
          "base_uri": "https://localhost:8080/",
          "height": 34
        }
      },
      "source": [
        "# Get the output\n",
        "Yhat = model.predict(X)\n",
        "print(Yhat)"
      ],
      "execution_count": 6,
      "outputs": [
        {
          "output_type": "stream",
          "text": [
            "[[ 0.22453962 -0.8722438 ]]\n"
          ],
          "name": "stdout"
        }
      ]
    },
    {
      "cell_type": "code",
      "metadata": {
        "id": "P2pOD5SlVzc2",
        "outputId": "6ef6d604-b359-4983-9e52-7964e491df2b",
        "colab": {
          "base_uri": "https://localhost:8080/",
          "height": 255
        }
      },
      "source": [
        "model.summary()"
      ],
      "execution_count": 8,
      "outputs": [
        {
          "output_type": "stream",
          "text": [
            "Model: \"functional_1\"\n",
            "_________________________________________________________________\n",
            "Layer (type)                 Output Shape              Param #   \n",
            "=================================================================\n",
            "input_1 (InputLayer)         [(None, 10, 3)]           0         \n",
            "_________________________________________________________________\n",
            "simple_rnn (SimpleRNN)       (None, 5)                 45        \n",
            "_________________________________________________________________\n",
            "dense (Dense)                (None, 2)                 12        \n",
            "=================================================================\n",
            "Total params: 57\n",
            "Trainable params: 57\n",
            "Non-trainable params: 0\n",
            "_________________________________________________________________\n"
          ],
          "name": "stdout"
        }
      ]
    },
    {
      "cell_type": "code",
      "metadata": {
        "id": "TrUKMAn9WBMl",
        "outputId": "e5382dd3-44f8-4b37-c16e-41a00c390c5c",
        "colab": {
          "base_uri": "https://localhost:8080/",
          "height": 34
        }
      },
      "source": [
        "#Check the shapes of the layers\n",
        "a, b, c = model.layers[1].get_weights()\n",
        "print(a.shape, b.shape, c.shape)"
      ],
      "execution_count": 9,
      "outputs": [
        {
          "output_type": "stream",
          "text": [
            "(3, 5) (5, 5) (5,)\n"
          ],
          "name": "stdout"
        }
      ]
    },
    {
      "cell_type": "code",
      "metadata": {
        "id": "vwj6jxchWWJb"
      },
      "source": [
        "Wx, Wh, bh = model.layers[1].get_weights()\n",
        "Wo, bo = model.layers[2].get_weights()"
      ],
      "execution_count": 10,
      "outputs": []
    },
    {
      "cell_type": "code",
      "metadata": {
        "id": "yT93EzpaWY7S",
        "outputId": "629177db-e44c-4930-8ca9-f84162ea0341",
        "colab": {
          "base_uri": "https://localhost:8080/",
          "height": 34
        }
      },
      "source": [
        "#Initialize the hidden state\n",
        "h_last = np.zeros(M)\n",
        "#First sample\n",
        "x = X[0] \n",
        "Yhats = []\n",
        "\n",
        "for t in range(T):\n",
        "  h = np.tanh(x[t].dot(Wx) + h_last.dot(Wh) + bh) ## RNN Formula to compute new hidden state\n",
        "  y = h.dot(Wo) + bo \n",
        "  Yhats.append(y)\n",
        "  \n",
        "  # important: assign h to h_last\n",
        "  h_last = h\n",
        "\n",
        "# print the final output\n",
        "print(Yhats[-1])"
      ],
      "execution_count": 11,
      "outputs": [
        {
          "output_type": "stream",
          "text": [
            "[ 0.22453974 -0.87224379]\n"
          ],
          "name": "stdout"
        }
      ]
    },
    {
      "cell_type": "markdown",
      "metadata": {
        "id": "TYrd8LigXJxR"
      },
      "source": [
        "This outpit exactly matches the output of Simple RNN layer"
      ]
    }
  ]
}