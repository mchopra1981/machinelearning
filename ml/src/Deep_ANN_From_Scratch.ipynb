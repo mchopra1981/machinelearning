{
  "nbformat": 4,
  "nbformat_minor": 0,
  "metadata": {
    "colab": {
      "name": "Deep-ANN-From-Scratch.ipynb",
      "provenance": []
    },
    "kernelspec": {
      "name": "python3",
      "display_name": "Python 3"
    }
  },
  "cells": [
    {
      "cell_type": "markdown",
      "metadata": {
        "id": "OXpjMHo0qfzg"
      },
      "source": [
        "## Deep ANN\n",
        "In this notebook we will implement a Deep ANN from scratch in python."
      ]
    },
    {
      "cell_type": "code",
      "metadata": {
        "id": "jnRFFmlqW4jJ"
      },
      "source": [
        "import numpy as np\n",
        "import matplotlib.pyplot as plt\n",
        "\n",
        "%matplotlib inline\n",
        "plt.rcParams['figure.figsize'] = (12, 8) "
      ],
      "execution_count": 126,
      "outputs": []
    },
    {
      "cell_type": "code",
      "metadata": {
        "id": "sZThSi1vRF-t"
      },
      "source": [
        "#Utility functions\n",
        "def sigmoid(Z):\n",
        "    A = 1/(1+np.exp(-Z))\n",
        "    cache = Z \n",
        "    return A, cache\n",
        "\n",
        "def relu(Z):\n",
        "    A = np.maximum(0,Z)\n",
        "    cache = Z \n",
        "    return A, cache\n",
        "\n",
        "def relu_backward(dA, cache):\n",
        "    Z = cache\n",
        "    dZ = np.array(dA, copy=True)  \n",
        "    dZ[Z <= 0] = 0\n",
        "    return dZ\n",
        "\n",
        "def sigmoid_backward(dA, cache):\n",
        "    Z = cache\n",
        "    s = 1/(1+np.exp(-Z))\n",
        "    dZ = dA * s * (1-s)\n",
        "    return dZ"
      ],
      "execution_count": 127,
      "outputs": []
    },
    {
      "cell_type": "code",
      "metadata": {
        "id": "tHKihohMq1j6"
      },
      "source": [
        "#Function to initialize parameters of a deep neural network\n",
        "def initialize_parameters_deep(layer_dims):\n",
        "    np.random.seed(3)\n",
        "    parameters = {}\n",
        "    L = len(layer_dims)            \n",
        "    for l in range(1, L):\n",
        "        parameters['W' + str(l)] = np.random.randn(layer_dims[l], layer_dims[l-1])*0.01\n",
        "        parameters['b' + str(l)] = np.zeros((layer_dims[l],1))\n",
        "    return parameters"
      ],
      "execution_count": 128,
      "outputs": []
    },
    {
      "cell_type": "code",
      "metadata": {
        "id": "KDIRi9hXrP9U"
      },
      "source": [
        "#Implement linear forward step\n",
        "def linear_forward(A, W, b):\n",
        "    Z = np.matmul(W,A)+b\n",
        "    cache = (A, W, b)\n",
        "    return Z, cache"
      ],
      "execution_count": 146,
      "outputs": []
    },
    {
      "cell_type": "code",
      "metadata": {
        "id": "y45SGz4HreLK"
      },
      "source": [
        "#Implement linear forward with activation\n",
        "def linear_activation_forward(A_prev, W, b, activation):\n",
        "    if activation == \"sigmoid\":\n",
        "        Z, linear_cache = linear_forward(A_prev, W, b)\n",
        "        A, activation_cache = sigmoid(Z)\n",
        "    elif activation == \"relu\":\n",
        "        Z, linear_cache = linear_forward(A_prev, W, b)\n",
        "        A, activation_cache = relu(Z)\n",
        "    cache = (linear_cache, activation_cache)\n",
        "    return A, cache"
      ],
      "execution_count": 147,
      "outputs": []
    },
    {
      "cell_type": "code",
      "metadata": {
        "id": "8JfFV2pfrsNV"
      },
      "source": [
        "def L_model_forward(X, parameters):\n",
        "    caches = []\n",
        "    A = X\n",
        "    L = len(parameters) // 2                 \n",
        "    for l in range(1, L):\n",
        "        A_prev = A \n",
        "        A, cache = linear_activation_forward(A_prev, parameters[\"W\"+str(l)], parameters[\"b\"+str(l)],\"relu\")\n",
        "        caches.append(cache)\n",
        "    \n",
        "    AL, cache = linear_activation_forward(A, parameters[\"W\"+str(L)], parameters[\"b\"+str(L)],\"sigmoid\")\n",
        "    caches.append(cache) \n",
        "    return AL, caches"
      ],
      "execution_count": 182,
      "outputs": []
    },
    {
      "cell_type": "code",
      "metadata": {
        "id": "DafOcJ8fPjHN"
      },
      "source": [
        "def compute_cost(AL, Y):\n",
        "    m = Y.shape[1]\n",
        "    cost = -np.sum(np.multiply(np.log(AL),Y)+np.multiply(np.log(1-AL),(1-Y)))/m\n",
        "    cost = np.squeeze(cost)     \n",
        "    return cost"
      ],
      "execution_count": 183,
      "outputs": []
    },
    {
      "cell_type": "code",
      "metadata": {
        "id": "EJijQ_-QPq93"
      },
      "source": [
        "def linear_backward(dZ, cache):\n",
        "    A_prev, W, b = cache\n",
        "    m = A_prev.shape[1]\n",
        "    dW = 1/m * np.matmul(dZ, A_prev.T)\n",
        "    db = 1/m * np.sum(dZ, axis=1, keepdims=True)\n",
        "    dA_prev = np.matmul(W.T, dZ)\n",
        "    return dA_prev, dW, db"
      ],
      "execution_count": 184,
      "outputs": []
    },
    {
      "cell_type": "code",
      "metadata": {
        "id": "3g0CHeTiPz73"
      },
      "source": [
        "def linear_activation_backward(dA, cache, activation):\n",
        "    linear_cache, activation_cache = cache\n",
        "    if activation == \"relu\":\n",
        "        dZ = relu_backward(dA, activation_cache)\n",
        "        dA_prev, dW, db = linear_backward(dZ, linear_cache)   \n",
        "    elif activation == \"sigmoid\":\n",
        "        dZ = sigmoid_backward(dA, activation_cache)\n",
        "        dA_prev, dW, db = linear_backward(dZ, linear_cache)\n",
        "    return dA_prev, dW, db"
      ],
      "execution_count": 185,
      "outputs": []
    },
    {
      "cell_type": "code",
      "metadata": {
        "id": "Bj8bPYqBP-vv"
      },
      "source": [
        "def L_model_backward(AL, Y, caches):\n",
        "    grads = {}\n",
        "    L = len(caches) \n",
        "    m = AL.shape[1]\n",
        "    Y = Y.reshape(AL.shape) \n",
        "    \n",
        "    dAL = - (np.divide(Y, AL) - np.divide(1 - Y, 1 - AL))\n",
        "\n",
        "    current_cache = caches[L-1]\n",
        "    grads[\"dA\" + str(L-1)], grads[\"dW\" + str(L)], grads[\"db\" + str(L)] = linear_activation_backward(dAL, current_cache, activation = \"sigmoid\")\n",
        "   \n",
        "    # Loop from l=L-2 to l=0\n",
        "    for l in reversed(range(L-1)):\n",
        "        current_cache = caches[l]\n",
        "        dA_prev_temp, dW_temp, db_temp = linear_activation_backward(grads[\"dA\" + str(l+1)], current_cache, activation = \"relu\")\n",
        "        grads[\"dA\" + str(l)] = dA_prev_temp\n",
        "        grads[\"dW\" + str(l + 1)] = dW_temp\n",
        "        grads[\"db\" + str(l + 1)] = db_temp\n",
        "    return grads"
      ],
      "execution_count": 186,
      "outputs": []
    },
    {
      "cell_type": "code",
      "metadata": {
        "id": "pN9tHkn2P_ZA"
      },
      "source": [
        "def update_parameters(parameters, grads, learning_rate):\n",
        "    L = len(parameters) // 2 \n",
        "    for l in range(L):\n",
        "        parameters[\"W\" + str(l+1)] = parameters[\"W\" + str(l+1)] - learning_rate * grads[\"dW\" + str(l+1)]\n",
        "        parameters[\"b\" + str(l+1)] = parameters[\"b\" + str(l+1)] - learning_rate * grads[\"db\" + str(l+1)]\n",
        "    return parameters"
      ],
      "execution_count": 187,
      "outputs": []
    },
    {
      "cell_type": "code",
      "metadata": {
        "id": "f4lqgrerQCAt"
      },
      "source": [
        "layers_dims = [10, 5, 1] "
      ],
      "execution_count": 230,
      "outputs": []
    },
    {
      "cell_type": "code",
      "metadata": {
        "id": "02xj9XFNQMRU"
      },
      "source": [
        "def L_layer_model(X, Y, layers_dims, learning_rate = 0.1, num_iterations = 3000, print_cost=False):\n",
        "    np.random.seed(1)\n",
        "    costs = []                        \n",
        "    parameters = initialize_parameters_deep(layers_dims)\n",
        "    for i in range(0, num_iterations):\n",
        "        AL, caches = L_model_forward(X, parameters)\n",
        "        cost = compute_cost(AL, Y)\n",
        "        grads = L_model_backward(AL, Y, caches)\n",
        "        parameters = update_parameters(parameters, grads, learning_rate)\n",
        "        if print_cost and i % 100 == 0:\n",
        "            print (\"Cost after iteration %i: %f\" %(i, cost))\n",
        "        if print_cost and i % 100 == 0:\n",
        "            costs.append(cost)\n",
        "            \n",
        "    plt.plot(np.squeeze(costs))\n",
        "    plt.ylabel('cost')\n",
        "    plt.xlabel('iterations (per hundreds)')\n",
        "    plt.title(\"Learning rate =\" + str(learning_rate))\n",
        "    plt.show()\n",
        "    \n",
        "    return parameters"
      ],
      "execution_count": 237,
      "outputs": []
    },
    {
      "cell_type": "code",
      "metadata": {
        "id": "I9c8FSLEWJ1m"
      },
      "source": [
        "def predict(X, y, parameters):    \n",
        "    m = X.shape[1]\n",
        "    n = len(parameters) // 2 \n",
        "    p = np.zeros((1,m))\n",
        "\n",
        "    probas, caches = L_model_forward(X, parameters)\n",
        "    for i in range(0, probas.shape[1]):\n",
        "        if probas[0,i] > 0.5:\n",
        "            p[0,i] = 1\n",
        "        else:\n",
        "            p[0,i] = 0\n",
        "    \n",
        "    print(\"Accuracy: \"  + str(np.sum((p == y)/m)))    \n",
        "    return p\n"
      ],
      "execution_count": 238,
      "outputs": []
    },
    {
      "cell_type": "code",
      "metadata": {
        "id": "-Di71DlRRnYl"
      },
      "source": [
        "#Make hastie dataset\n",
        "from sklearn.datasets import make_hastie_10_2\n",
        "N = 10000\n",
        "(X,y) = make_hastie_10_2(n_samples=N)\n",
        "y = (y+1)/2\n",
        "y = y.astype(int)"
      ],
      "execution_count": 239,
      "outputs": []
    },
    {
      "cell_type": "code",
      "metadata": {
        "id": "Ay_urATVTvU6",
        "outputId": "e346eb67-9522-4c09-c826-d81c6d3e6e68",
        "colab": {
          "base_uri": "https://localhost:8080/",
          "height": 85
        }
      },
      "source": [
        "#Do test train split\n",
        "from sklearn.model_selection import train_test_split\n",
        "X_train, X_test, y_train, y_test = train_test_split(X,y)\n",
        "y_train = y_train.reshape(-1,1)\n",
        "y_test = y_test.reshape(-1,1)\n",
        "print(f\"X_train shape={X_train.shape}\")\n",
        "print(f\"X_test shape={X_test.shape}\")\n",
        "print(f\"y_train shape={y_train.shape}\")\n",
        "print(f\"y_test shape={y_test.shape}\")"
      ],
      "execution_count": 240,
      "outputs": [
        {
          "output_type": "stream",
          "text": [
            "X_train shape=(7500, 10)\n",
            "X_test shape=(2500, 10)\n",
            "y_train shape=(7500, 1)\n",
            "y_test shape=(2500, 1)\n"
          ],
          "name": "stdout"
        }
      ]
    },
    {
      "cell_type": "code",
      "metadata": {
        "id": "8Vw_GtaEQOlZ",
        "outputId": "459e842a-ddf2-4a24-c562-50353bdc3f74",
        "colab": {
          "base_uri": "https://localhost:8080/",
          "height": 1000
        }
      },
      "source": [
        "parameters = L_layer_model(X_train.T, y_train.T, layers_dims, num_iterations = 20000, print_cost = True)"
      ],
      "execution_count": 241,
      "outputs": [
        {
          "output_type": "stream",
          "text": [
            "Cost after iteration 0: 0.693080\n",
            "Cost after iteration 100: 0.692970\n",
            "Cost after iteration 200: 0.692750\n",
            "Cost after iteration 300: 0.692279\n",
            "Cost after iteration 400: 0.691256\n",
            "Cost after iteration 500: 0.689093\n",
            "Cost after iteration 600: 0.684867\n",
            "Cost after iteration 700: 0.677416\n",
            "Cost after iteration 800: 0.665813\n",
            "Cost after iteration 900: 0.649846\n",
            "Cost after iteration 1000: 0.630790\n",
            "Cost after iteration 1100: 0.610691\n",
            "Cost after iteration 1200: 0.591639\n",
            "Cost after iteration 1300: 0.575120\n",
            "Cost after iteration 1400: 0.561980\n",
            "Cost after iteration 1500: 0.552264\n",
            "Cost after iteration 1600: 0.545431\n",
            "Cost after iteration 1700: 0.540592\n",
            "Cost after iteration 1800: 0.537224\n",
            "Cost after iteration 1900: 0.534794\n",
            "Cost after iteration 2000: 0.532945\n",
            "Cost after iteration 2100: 0.531557\n",
            "Cost after iteration 2200: 0.530537\n",
            "Cost after iteration 2300: 0.529690\n",
            "Cost after iteration 2400: 0.529051\n",
            "Cost after iteration 2500: 0.528518\n",
            "Cost after iteration 2600: 0.528030\n",
            "Cost after iteration 2700: 0.527642\n",
            "Cost after iteration 2800: 0.527364\n",
            "Cost after iteration 2900: 0.527109\n",
            "Cost after iteration 3000: 0.526806\n",
            "Cost after iteration 3100: 0.526551\n",
            "Cost after iteration 3200: 0.526358\n",
            "Cost after iteration 3300: 0.526221\n",
            "Cost after iteration 3400: 0.526093\n",
            "Cost after iteration 3500: 0.525969\n",
            "Cost after iteration 3600: 0.525839\n",
            "Cost after iteration 3700: 0.525737\n",
            "Cost after iteration 3800: 0.525654\n",
            "Cost after iteration 3900: 0.525579\n",
            "Cost after iteration 4000: 0.525525\n",
            "Cost after iteration 4100: 0.525485\n",
            "Cost after iteration 4200: 0.525459\n",
            "Cost after iteration 4300: 0.525436\n",
            "Cost after iteration 4400: 0.525414\n",
            "Cost after iteration 4500: 0.525391\n",
            "Cost after iteration 4600: 0.525375\n",
            "Cost after iteration 4700: 0.525361\n",
            "Cost after iteration 4800: 0.525350\n",
            "Cost after iteration 4900: 0.525338\n",
            "Cost after iteration 5000: 0.525325\n",
            "Cost after iteration 5100: 0.525308\n",
            "Cost after iteration 5200: 0.525297\n",
            "Cost after iteration 5300: 0.525287\n",
            "Cost after iteration 5400: 0.525276\n",
            "Cost after iteration 5500: 0.525267\n",
            "Cost after iteration 5600: 0.525258\n",
            "Cost after iteration 5700: 0.525252\n",
            "Cost after iteration 5800: 0.525247\n",
            "Cost after iteration 5900: 0.525242\n",
            "Cost after iteration 6000: 0.525239\n",
            "Cost after iteration 6100: 0.525237\n",
            "Cost after iteration 6200: 0.525236\n",
            "Cost after iteration 6300: 0.525235\n",
            "Cost after iteration 6400: 0.525234\n",
            "Cost after iteration 6500: 0.525233\n",
            "Cost after iteration 6600: 0.525232\n",
            "Cost after iteration 6700: 0.525231\n",
            "Cost after iteration 6800: 0.525225\n",
            "Cost after iteration 6900: 0.525219\n",
            "Cost after iteration 7000: 0.525209\n",
            "Cost after iteration 7100: 0.525203\n",
            "Cost after iteration 7200: 0.525195\n",
            "Cost after iteration 7300: 0.525194\n",
            "Cost after iteration 7400: 0.525189\n",
            "Cost after iteration 7500: 0.525185\n",
            "Cost after iteration 7600: 0.525182\n",
            "Cost after iteration 7700: 0.525177\n",
            "Cost after iteration 7800: 0.525172\n",
            "Cost after iteration 7900: 0.525168\n",
            "Cost after iteration 8000: 0.525163\n",
            "Cost after iteration 8100: 0.525163\n",
            "Cost after iteration 8200: 0.525162\n",
            "Cost after iteration 8300: 0.525162\n",
            "Cost after iteration 8400: 0.525162\n",
            "Cost after iteration 8500: 0.525162\n",
            "Cost after iteration 8600: 0.525162\n",
            "Cost after iteration 8700: 0.525162\n",
            "Cost after iteration 8800: 0.525162\n",
            "Cost after iteration 8900: 0.525162\n",
            "Cost after iteration 9000: 0.525161\n",
            "Cost after iteration 9100: 0.525161\n",
            "Cost after iteration 9200: 0.525161\n",
            "Cost after iteration 9300: 0.525160\n",
            "Cost after iteration 9400: 0.525159\n",
            "Cost after iteration 9500: 0.525159\n",
            "Cost after iteration 9600: 0.525158\n",
            "Cost after iteration 9700: 0.525154\n",
            "Cost after iteration 9800: 0.525145\n",
            "Cost after iteration 9900: 0.525137\n",
            "Cost after iteration 10000: 0.525132\n",
            "Cost after iteration 10100: 0.525131\n",
            "Cost after iteration 10200: 0.525131\n",
            "Cost after iteration 10300: 0.525131\n",
            "Cost after iteration 10400: 0.525130\n",
            "Cost after iteration 10500: 0.525129\n",
            "Cost after iteration 10600: 0.525129\n",
            "Cost after iteration 10700: 0.525129\n",
            "Cost after iteration 10800: 0.525129\n",
            "Cost after iteration 10900: 0.525129\n",
            "Cost after iteration 11000: 0.525129\n",
            "Cost after iteration 11100: 0.525129\n",
            "Cost after iteration 11200: 0.525129\n",
            "Cost after iteration 11300: 0.525129\n",
            "Cost after iteration 11400: 0.525129\n",
            "Cost after iteration 11500: 0.525129\n",
            "Cost after iteration 11600: 0.525129\n",
            "Cost after iteration 11700: 0.525129\n",
            "Cost after iteration 11800: 0.525129\n",
            "Cost after iteration 11900: 0.525129\n",
            "Cost after iteration 12000: 0.525129\n",
            "Cost after iteration 12100: 0.525129\n",
            "Cost after iteration 12200: 0.525129\n",
            "Cost after iteration 12300: 0.525129\n",
            "Cost after iteration 12400: 0.525129\n",
            "Cost after iteration 12500: 0.525129\n",
            "Cost after iteration 12600: 0.525129\n",
            "Cost after iteration 12700: 0.525129\n",
            "Cost after iteration 12800: 0.525129\n",
            "Cost after iteration 12900: 0.525129\n",
            "Cost after iteration 13000: 0.525129\n",
            "Cost after iteration 13100: 0.525129\n",
            "Cost after iteration 13200: 0.525129\n",
            "Cost after iteration 13300: 0.525129\n",
            "Cost after iteration 13400: 0.525129\n",
            "Cost after iteration 13500: 0.525129\n",
            "Cost after iteration 13600: 0.525129\n",
            "Cost after iteration 13700: 0.525129\n",
            "Cost after iteration 13800: 0.525129\n",
            "Cost after iteration 13900: 0.525129\n",
            "Cost after iteration 14000: 0.525129\n",
            "Cost after iteration 14100: 0.525129\n",
            "Cost after iteration 14200: 0.525129\n",
            "Cost after iteration 14300: 0.525129\n",
            "Cost after iteration 14400: 0.525129\n",
            "Cost after iteration 14500: 0.525129\n",
            "Cost after iteration 14600: 0.525129\n",
            "Cost after iteration 14700: 0.525129\n",
            "Cost after iteration 14800: 0.525129\n",
            "Cost after iteration 14900: 0.525129\n",
            "Cost after iteration 15000: 0.525129\n",
            "Cost after iteration 15100: 0.525129\n",
            "Cost after iteration 15200: 0.525129\n",
            "Cost after iteration 15300: 0.525129\n",
            "Cost after iteration 15400: 0.525129\n",
            "Cost after iteration 15500: 0.525129\n",
            "Cost after iteration 15600: 0.525129\n",
            "Cost after iteration 15700: 0.525129\n",
            "Cost after iteration 15800: 0.525129\n",
            "Cost after iteration 15900: 0.525129\n",
            "Cost after iteration 16000: 0.525129\n",
            "Cost after iteration 16100: 0.525129\n",
            "Cost after iteration 16200: 0.525129\n",
            "Cost after iteration 16300: 0.525129\n",
            "Cost after iteration 16400: 0.525129\n",
            "Cost after iteration 16500: 0.525129\n",
            "Cost after iteration 16600: 0.525129\n",
            "Cost after iteration 16700: 0.525129\n",
            "Cost after iteration 16800: 0.525129\n",
            "Cost after iteration 16900: 0.525129\n",
            "Cost after iteration 17000: 0.525129\n",
            "Cost after iteration 17100: 0.525129\n",
            "Cost after iteration 17200: 0.525129\n",
            "Cost after iteration 17300: 0.525129\n",
            "Cost after iteration 17400: 0.525129\n",
            "Cost after iteration 17500: 0.525129\n",
            "Cost after iteration 17600: 0.525129\n",
            "Cost after iteration 17700: 0.525129\n",
            "Cost after iteration 17800: 0.525129\n",
            "Cost after iteration 17900: 0.525129\n",
            "Cost after iteration 18000: 0.525129\n",
            "Cost after iteration 18100: 0.525129\n",
            "Cost after iteration 18200: 0.525129\n",
            "Cost after iteration 18300: 0.525129\n",
            "Cost after iteration 18400: 0.525129\n",
            "Cost after iteration 18500: 0.525129\n",
            "Cost after iteration 18600: 0.525129\n",
            "Cost after iteration 18700: 0.525129\n",
            "Cost after iteration 18800: 0.525129\n",
            "Cost after iteration 18900: 0.525129\n",
            "Cost after iteration 19000: 0.525129\n",
            "Cost after iteration 19100: 0.525129\n",
            "Cost after iteration 19200: 0.525129\n",
            "Cost after iteration 19300: 0.525129\n",
            "Cost after iteration 19400: 0.525129\n",
            "Cost after iteration 19500: 0.525129\n",
            "Cost after iteration 19600: 0.525129\n",
            "Cost after iteration 19700: 0.525129\n",
            "Cost after iteration 19800: 0.525129\n",
            "Cost after iteration 19900: 0.525129\n"
          ],
          "name": "stdout"
        },
        {
          "output_type": "display_data",
          "data": {
            "image/png": "[encoded data removed]",
            "text/plain": [
              "<Figure size 864x576 with 1 Axes>"
            ]
          },
          "metadata": {
            "tags": [],
            "needs_background": "light"
          }
        }
      ]
    },
    {
      "cell_type": "code",
      "metadata": {
        "id": "RevVAgOdQT7C",
        "outputId": "4c1fe2f2-5667-4bc8-cfdf-1f2d85672c96",
        "colab": {
          "base_uri": "https://localhost:8080/",
          "height": 34
        }
      },
      "source": [
        "pred_train = predict(X_train.T, y_train.T, parameters)"
      ],
      "execution_count": 242,
      "outputs": [
        {
          "output_type": "stream",
          "text": [
            "Accuracy: 0.7328000000000002\n"
          ],
          "name": "stdout"
        }
      ]
    },
    {
      "cell_type": "code",
      "metadata": {
        "id": "J-ROy3tcQXcj",
        "outputId": "819db15b-6717-4a6c-c4f2-a6edf92d1c29",
        "colab": {
          "base_uri": "https://localhost:8080/",
          "height": 34
        }
      },
      "source": [
        "pred_test = predict(X_test.T, y_test.T, parameters)"
      ],
      "execution_count": 243,
      "outputs": [
        {
          "output_type": "stream",
          "text": [
            "Accuracy: 0.6976000000000001\n"
          ],
          "name": "stdout"
        }
      ]
    },
    {
      "cell_type": "markdown",
      "metadata": {
        "id": "jeYyyDMozFKM"
      },
      "source": [
        "This model seems to be under parametrized. It does give a descent accuracy but a bigger model can give better results."
      ]
    }
  ]
}