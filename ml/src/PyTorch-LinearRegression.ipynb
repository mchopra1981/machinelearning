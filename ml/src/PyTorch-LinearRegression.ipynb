{
 "cells": [
  {
   "cell_type": "markdown",
   "metadata": {},
   "source": [
    "## PyTorch-LinearRegression\n",
    "\n",
    "In the notebook below we will demonstrate use of **PyTorch** to fit a **Linear Regression** model. We will be using the linear layer of **PyTorch** for this example."
   ]
  },
  {
   "cell_type": "code",
   "execution_count": 1,
   "metadata": {
    "ExecuteTime": {
     "end_time": "2020-09-04T18:04:43.462145Z",
     "start_time": "2020-09-04T18:04:41.310180Z"
    }
   },
   "outputs": [],
   "source": [
    "import torch\n",
    "import torch.nn as nn\n",
    "\n",
    "import matplotlib.pyplot as plt\n",
    "%matplotlib inline"
   ]
  },
  {
   "cell_type": "code",
   "execution_count": 2,
   "metadata": {
    "ExecuteTime": {
     "end_time": "2020-09-04T18:04:43.483418Z",
     "start_time": "2020-09-04T18:04:43.472378Z"
    }
   },
   "outputs": [],
   "source": [
    "#Create fake X y data\n",
    "torch.manual_seed(42)\n",
    "x = torch.linspace(0,1, 100).reshape(-1,1)\n",
    "e = torch.randn_like(x)\n",
    "y = 10*x + 11 + e"
   ]
  },
  {
   "cell_type": "code",
   "execution_count": 3,
   "metadata": {
    "ExecuteTime": {
     "end_time": "2020-09-04T18:04:43.656064Z",
     "start_time": "2020-09-04T18:04:43.488420Z"
    }
   },
   "outputs": [
    {
     "data": {
      "text/plain": [
       "<matplotlib.collections.PathCollection at 0x7fae644390d0>"
      ]
     },
     "execution_count": 3,
     "metadata": {},
     "output_type": "execute_result"
    },
    {
     "data": {
      "image/png": "[encoded data removed]",
      "text/plain": [
       "<Figure size 432x288 with 1 Axes>"
      ]
     },
     "metadata": {
      "needs_background": "light"
     },
     "output_type": "display_data"
    }
   ],
   "source": [
    "plt.scatter(x.numpy(), y.numpy())"
   ]
  },
  {
   "cell_type": "code",
   "execution_count": 4,
   "metadata": {
    "ExecuteTime": {
     "end_time": "2020-09-04T18:04:43.666090Z",
     "start_time": "2020-09-04T18:04:43.660204Z"
    }
   },
   "outputs": [],
   "source": [
    "#Lets define a model class with one single Linear layer\n",
    "class Model(nn.Module):\n",
    "    def __init__(self, in_features, out_features):\n",
    "        super().__init__()\n",
    "        self.linear_ = nn.Linear(in_features, out_features)\n",
    "        \n",
    "    def forward(self, x):\n",
    "        y_pred = self.linear_(x)\n",
    "        return y_pred\n",
    "    \n",
    "    "
   ]
  },
  {
   "cell_type": "code",
   "execution_count": 5,
   "metadata": {
    "ExecuteTime": {
     "end_time": "2020-09-04T18:04:43.686565Z",
     "start_time": "2020-09-04T18:04:43.673377Z"
    }
   },
   "outputs": [
    {
     "name": "stdout",
     "output_type": "stream",
     "text": [
      "Model(\n",
      "  (linear_): Linear(in_features=1, out_features=1, bias=True)\n",
      ")\n",
      "Weight: 0.1563711166381836\n",
      "Bias:   -0.8799213171005249\n"
     ]
    }
   ],
   "source": [
    "#Initial random weights of the model\n",
    "model = Model(1, 1)\n",
    "print(model)\n",
    "print('Weight:', model.linear_.weight.item())\n",
    "print('Bias:  ', model.linear_.bias.item())"
   ]
  },
  {
   "cell_type": "code",
   "execution_count": 6,
   "metadata": {
    "ExecuteTime": {
     "end_time": "2020-09-04T18:04:43.716559Z",
     "start_time": "2020-09-04T18:04:43.694234Z"
    }
   },
   "outputs": [],
   "source": [
    "#Setup the loss function\n",
    "#We will use Mean Square Error Loss\n",
    "criterion = nn.MSELoss()"
   ]
  },
  {
   "cell_type": "code",
   "execution_count": 7,
   "metadata": {
    "ExecuteTime": {
     "end_time": "2020-09-04T18:04:43.726802Z",
     "start_time": "2020-09-04T18:04:43.721643Z"
    }
   },
   "outputs": [],
   "source": [
    "#Setup the optimizer\n",
    "optimizer = torch.optim.SGD(model.parameters(), lr = 0.1)"
   ]
  },
  {
   "cell_type": "code",
   "execution_count": 12,
   "metadata": {
    "ExecuteTime": {
     "end_time": "2020-09-04T18:07:29.001418Z",
     "start_time": "2020-09-04T18:07:28.859875Z"
    }
   },
   "outputs": [
    {
     "name": "stdout",
     "output_type": "stream",
     "text": [
      "epoch:  0  loss: 1.00265360  weight: 9.26239777  bias: 11.45295334\n",
      "epoch:  1  loss: 1.00159466  weight: 9.27149868  bias: 11.44807625\n",
      "epoch:  2  loss: 1.00056386  weight: 9.28047752  bias: 11.44326401\n",
      "epoch:  3  loss: 0.99956030  weight: 9.28933620  bias: 11.43851662\n",
      "epoch:  4  loss: 0.99858403  weight: 9.29807568  bias: 11.43383312\n",
      "epoch:  5  loss: 0.99763334  weight: 9.30669785  bias: 11.42921162\n",
      "epoch:  6  loss: 0.99670821  weight: 9.31520462  bias: 11.42465305\n",
      "epoch:  7  loss: 0.99580765  weight: 9.32359695  bias: 11.42015553\n",
      "epoch:  8  loss: 0.99493110  weight: 9.33187675  bias: 11.41571808\n",
      "epoch:  9  loss: 0.99407786  weight: 9.34004593  bias: 11.41133976\n",
      "epoch: 10  loss: 0.99324709  weight: 9.34810543  bias: 11.40702057\n",
      "epoch: 11  loss: 0.99243879  weight: 9.35605717  bias: 11.40275860\n",
      "epoch: 12  loss: 0.99165225  weight: 9.36390209  bias: 11.39855385\n",
      "epoch: 13  loss: 0.99088615  weight: 9.37164116  bias: 11.39440632\n",
      "epoch: 14  loss: 0.99014044  weight: 9.37927723  bias: 11.39031410\n",
      "epoch: 15  loss: 0.98941505  weight: 9.38681030  bias: 11.38627625\n",
      "epoch: 16  loss: 0.98870879  weight: 9.39424229  bias: 11.38229275\n",
      "epoch: 17  loss: 0.98802108  weight: 9.40157509  bias: 11.37836266\n",
      "epoch: 18  loss: 0.98735189  weight: 9.40880966  bias: 11.37448597\n",
      "epoch: 19  loss: 0.98670059  weight: 9.41594696  bias: 11.37066078\n",
      "epoch: 20  loss: 0.98606700  weight: 9.42298889  bias: 11.36688709\n",
      "epoch: 21  loss: 0.98544973  weight: 9.42993641  bias: 11.36316395\n",
      "epoch: 22  loss: 0.98484892  weight: 9.43679047  bias: 11.35949039\n",
      "epoch: 23  loss: 0.98426437  weight: 9.44355297  bias: 11.35586643\n",
      "epoch: 24  loss: 0.98369515  weight: 9.45022392  bias: 11.35229111\n",
      "epoch: 25  loss: 0.98314130  weight: 9.45680618  bias: 11.34876347\n",
      "epoch: 26  loss: 0.98260206  weight: 9.46329975  bias: 11.34528351\n",
      "epoch: 27  loss: 0.98207742  weight: 9.46970654  bias: 11.34185028\n",
      "epoch: 28  loss: 0.98156661  weight: 9.47602749  bias: 11.33846283\n",
      "epoch: 29  loss: 0.98106927  weight: 9.48226357  bias: 11.33512020\n",
      "epoch: 30  loss: 0.98058546  weight: 9.48841572  bias: 11.33182335\n",
      "epoch: 31  loss: 0.98011434  weight: 9.49448586  bias: 11.32857037\n",
      "epoch: 32  loss: 0.97965586  weight: 9.50047398  bias: 11.32536125\n",
      "epoch: 33  loss: 0.97920972  weight: 9.50638199  bias: 11.32219505\n",
      "epoch: 34  loss: 0.97877496  weight: 9.51221085  bias: 11.31907082\n",
      "epoch: 35  loss: 0.97835237  weight: 9.51796150  bias: 11.31598854\n",
      "epoch: 36  loss: 0.97794080  weight: 9.52363491  bias: 11.31294823\n",
      "epoch: 37  loss: 0.97754014  weight: 9.52923203  bias: 11.30994797\n",
      "epoch: 38  loss: 0.97715002  weight: 9.53475475  bias: 11.30698872\n",
      "epoch: 39  loss: 0.97677064  weight: 9.54020309  bias: 11.30406857\n",
      "epoch: 40  loss: 0.97640121  weight: 9.54557800  bias: 11.30118752\n",
      "epoch: 41  loss: 0.97604156  weight: 9.55088139  bias: 11.29834557\n",
      "epoch: 42  loss: 0.97569168  weight: 9.55611324  bias: 11.29554176\n",
      "epoch: 43  loss: 0.97535074  weight: 9.56127548  bias: 11.29277515\n",
      "epoch: 44  loss: 0.97501922  weight: 9.56636810  bias: 11.29004574\n",
      "epoch: 45  loss: 0.97469664  weight: 9.57139206  bias: 11.28735256\n",
      "epoch: 46  loss: 0.97438264  weight: 9.57634926  bias: 11.28469563\n",
      "epoch: 47  loss: 0.97407651  weight: 9.58123970  bias: 11.28207493\n",
      "epoch: 48  loss: 0.97377884  weight: 9.58606434  bias: 11.27948952\n",
      "epoch: 49  loss: 0.97348922  weight: 9.59082508  bias: 11.27693844\n",
      "epoch: 50  loss: 0.97320694  weight: 9.59552193  bias: 11.27442169\n",
      "epoch: 51  loss: 0.97293264  weight: 9.60015583  bias: 11.27193832\n",
      "epoch: 52  loss: 0.97266549  weight: 9.60472679  bias: 11.26948833\n",
      "epoch: 53  loss: 0.97240531  weight: 9.60923672  bias: 11.26707077\n",
      "epoch: 54  loss: 0.97215223  weight: 9.61368656  bias: 11.26468563\n",
      "epoch: 55  loss: 0.97190559  weight: 9.61807632  bias: 11.26233292\n",
      "epoch: 56  loss: 0.97166610  weight: 9.62240696  bias: 11.26001167\n",
      "epoch: 57  loss: 0.97143257  weight: 9.62668037  bias: 11.25772190\n",
      "epoch: 58  loss: 0.97120523  weight: 9.63089561  bias: 11.25546265\n",
      "epoch: 59  loss: 0.97098410  weight: 9.63505459  bias: 11.25323391\n",
      "epoch: 60  loss: 0.97076869  weight: 9.63915825  bias: 11.25103474\n",
      "epoch: 61  loss: 0.97055924  weight: 9.64320660  bias: 11.24886513\n",
      "epoch: 62  loss: 0.97035497  weight: 9.64720058  bias: 11.24672413\n",
      "epoch: 63  loss: 0.97015679  weight: 9.65114117  bias: 11.24461269\n",
      "epoch: 64  loss: 0.96996355  weight: 9.65502834  bias: 11.24252892\n",
      "epoch: 65  loss: 0.96977532  weight: 9.65886402  bias: 11.24047375\n",
      "epoch: 66  loss: 0.96959227  weight: 9.66264820  bias: 11.23844528\n",
      "epoch: 67  loss: 0.96941423  weight: 9.66638184  bias: 11.23644447\n",
      "epoch: 68  loss: 0.96924078  weight: 9.67006493  bias: 11.23447037\n",
      "epoch: 69  loss: 0.96907204  weight: 9.67369843  bias: 11.23252296\n",
      "epoch: 70  loss: 0.96890742  weight: 9.67728329  bias: 11.23060131\n",
      "epoch: 71  loss: 0.96874750  weight: 9.68082047  bias: 11.22870541\n",
      "epoch: 72  loss: 0.96859169  weight: 9.68430996  bias: 11.22683525\n",
      "epoch: 73  loss: 0.96844047  weight: 9.68775272  bias: 11.22498989\n",
      "epoch: 74  loss: 0.96829277  weight: 9.69114971  bias: 11.22316933\n",
      "epoch: 75  loss: 0.96814919  weight: 9.69450092  bias: 11.22137356\n",
      "epoch: 76  loss: 0.96800923  weight: 9.69780731  bias: 11.21960163\n",
      "epoch: 77  loss: 0.96787322  weight: 9.70106888  bias: 11.21785355\n",
      "epoch: 78  loss: 0.96774095  weight: 9.70428753  bias: 11.21612930\n",
      "epoch: 79  loss: 0.96761191  weight: 9.70746231  bias: 11.21442795\n",
      "epoch: 80  loss: 0.96748674  weight: 9.71059513  bias: 11.21274948\n",
      "epoch: 81  loss: 0.96736467  weight: 9.71368504  bias: 11.21109295\n",
      "epoch: 82  loss: 0.96724570  weight: 9.71673393  bias: 11.20945930\n",
      "epoch: 83  loss: 0.96712983  weight: 9.71974182  bias: 11.20784760\n",
      "epoch: 84  loss: 0.96701711  weight: 9.72270966  bias: 11.20625687\n",
      "epoch: 85  loss: 0.96690774  weight: 9.72563744  bias: 11.20468807\n",
      "epoch: 86  loss: 0.96680117  weight: 9.72852612  bias: 11.20314026\n",
      "epoch: 87  loss: 0.96669716  weight: 9.73137569  bias: 11.20161247\n",
      "epoch: 88  loss: 0.96659601  weight: 9.73418713  bias: 11.20010567\n",
      "epoch: 89  loss: 0.96649778  weight: 9.73696136  bias: 11.19861889\n",
      "epoch: 90  loss: 0.96640188  weight: 9.73969841  bias: 11.19715214\n",
      "epoch: 91  loss: 0.96630865  weight: 9.74239826  bias: 11.19570541\n",
      "epoch: 92  loss: 0.96621805  weight: 9.74506187  bias: 11.19427776\n",
      "epoch: 93  loss: 0.96612966  weight: 9.74769020  bias: 11.19286919\n",
      "epoch: 94  loss: 0.96604353  weight: 9.75028324  bias: 11.19147968\n",
      "epoch: 95  loss: 0.96596003  weight: 9.75284100  bias: 11.19010830\n",
      "epoch: 96  loss: 0.96587861  weight: 9.75536442  bias: 11.18875599\n",
      "epoch: 97  loss: 0.96579951  weight: 9.75785446  bias: 11.18742180\n",
      "epoch: 98  loss: 0.96572226  weight: 9.76031113  bias: 11.18610477\n",
      "epoch: 99  loss: 0.96564722  weight: 9.76273441  bias: 11.18480587\n"
     ]
    }
   ],
   "source": [
    "#Now lets train the model\n",
    "#Select the number of epocs\n",
    "epochs = 100\n",
    "\n",
    "#Make an empty list to save the losses\n",
    "losses = []\n",
    "\n",
    "for i in range(epochs):\n",
    "    #Make a forward step in the model\n",
    "    y_pred = model.forward(x)\n",
    "    \n",
    "    #Calculate the loss\n",
    "    loss = criterion(y_pred, y)\n",
    "    \n",
    "    #Save the loss\n",
    "    losses.append(loss)\n",
    "    \n",
    "    #Print the loss\n",
    "    print(f'epoch: {i:2}  loss: {loss.item():10.8f}  weight: {model.linear_.weight.item():10.8f}  \\\n",
    "bias: {model.linear_.bias.item():10.8f}') \n",
    "    \n",
    "    #Reset the gradient in the optimizer\n",
    "    optimizer.zero_grad()\n",
    "    \n",
    "    #Recalculate gradients and update parameters\n",
    "    loss.backward()\n",
    "    optimizer.step()"
   ]
  },
  {
   "cell_type": "code",
   "execution_count": 9,
   "metadata": {
    "ExecuteTime": {
     "end_time": "2020-09-04T18:04:43.969985Z",
     "start_time": "2020-09-04T18:04:43.825348Z"
    }
   },
   "outputs": [
    {
     "data": {
      "image/png": "[encoded data removed]",
      "text/plain": [
       "<Figure size 432x288 with 1 Axes>"
      ]
     },
     "metadata": {
      "needs_background": "light"
     },
     "output_type": "display_data"
    }
   ],
   "source": [
    "plt.plot(range(epochs), losses)\n",
    "plt.ylabel('Loss')\n",
    "plt.xlabel('epoch');"
   ]
  },
  {
   "cell_type": "code",
   "execution_count": 10,
   "metadata": {
    "ExecuteTime": {
     "end_time": "2020-09-04T18:04:44.132846Z",
     "start_time": "2020-09-04T18:04:43.972755Z"
    },
    "scrolled": false
   },
   "outputs": [
    {
     "name": "stdout",
     "output_type": "stream",
     "text": [
      "Current weight: 9.26239777, Current bias: 11.45295334\n"
     ]
    },
    {
     "data": {
      "image/png": "[encoded data removed]",
      "text/plain": [
       "<Figure size 432x288 with 1 Axes>"
      ]
     },
     "metadata": {
      "needs_background": "light"
     },
     "output_type": "display_data"
    }
   ],
   "source": [
    "#Final fit \n",
    "\n",
    "w1,b1 = model.linear_.weight.item(), model.linear_.bias.item()\n",
    "print(f'Current weight: {w1:.8f}, Current bias: {b1:.8f}')\n",
    "\n",
    "y1 = x*w1 + b1\n",
    "\n",
    "plt.scatter(x.numpy(), y.numpy())\n",
    "plt.plot(x,y1,'r')\n",
    "plt.title('Current Model')\n",
    "plt.ylabel('y')\n",
    "plt.xlabel('x');"
   ]
  },
  {
   "cell_type": "markdown",
   "metadata": {},
   "source": [
    "We got a very decent fit.  Let compare this with sklearn Linear regression"
   ]
  },
  {
   "cell_type": "code",
   "execution_count": 11,
   "metadata": {
    "ExecuteTime": {
     "end_time": "2020-09-04T18:04:45.006805Z",
     "start_time": "2020-09-04T18:04:44.135092Z"
    }
   },
   "outputs": [
    {
     "name": "stdout",
     "output_type": "stream",
     "text": [
      "Intercept=[11.089241], Coef=[[9.941049]]\n"
     ]
    }
   ],
   "source": [
    "from sklearn.linear_model import LinearRegression\n",
    "reg = LinearRegression().fit(x.numpy(), y.numpy())\n",
    "print(f\"Intercept={reg.intercept_}, Coef={reg.coef_}\")"
   ]
  },
  {
   "cell_type": "markdown",
   "metadata": {},
   "source": [
    "Very close answer"
   ]
  }
 ],
 "metadata": {
  "kernelspec": {
   "display_name": "Python 3",
   "language": "python",
   "name": "python3"
  },
  "language_info": {
   "codemirror_mode": {
    "name": "ipython",
    "version": 3
   },
   "file_extension": ".py",
   "mimetype": "text/x-python",
   "name": "python",
   "nbconvert_exporter": "python",
   "pygments_lexer": "ipython3",
   "version": "3.8.3"
  },
  "latex_envs": {
   "LaTeX_envs_menu_present": true,
   "autoclose": false,
   "autocomplete": true,
   "bibliofile": "biblio.bib",
   "cite_by": "apalike",
   "current_citInitial": 1,
   "eqLabelWithNumbers": true,
   "eqNumInitial": 1,
   "hotkeys": {
    "equation": "Ctrl-E",
    "itemize": "Ctrl-I"
   },
   "labels_anchors": false,
   "latex_user_defs": false,
   "report_style_numbering": false,
   "user_envs_cfg": false
  },
  "toc": {
   "base_numbering": 1,
   "nav_menu": {},
   "number_sections": false,
   "sideBar": true,
   "skip_h1_title": false,
   "title_cell": "Table of Contents",
   "title_sidebar": "Contents",
   "toc_cell": false,
   "toc_position": {},
   "toc_section_display": true,
   "toc_window_display": false
  }
 },
 "nbformat": 4,
 "nbformat_minor": 4
}
