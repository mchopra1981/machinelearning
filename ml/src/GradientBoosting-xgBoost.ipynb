{
 "cells": [
  {
   "cell_type": "markdown",
   "metadata": {},
   "source": [
    "## Gradient Boosting (xgBoost)"
   ]
  },
  {
   "cell_type": "markdown",
   "metadata": {},
   "source": [
    "**Gradient Boosting** with xgBoost. **xgBoost** is one of the most popular gradient boosting library in public domain.\n",
    "**xgBoost** added some novel innovations to Gradient boosting that make it very successful. Some of those innovations are listed below:\n",
    "1. A new regularized learning objective \n",
    "\n",
    "    $\\mathcal{L} = \\sum_{i}l(\\hat{y}_i,y_i) + \\sum_k\\Omega(f_k)$, where $\\Omega(f) = \\gamma T + \\frac{1}{2}\\lambda ||w||^2$\n",
    "\n",
    "2. Weighted approximate histogram based split finding. **xgBoost** has a mode to do approximate splitting of the tree based on an histogram. For exact splitting of a node the time complexity is $\\mathcal{O}(n \\text{ log}(n)\\text{ }m)$ where $m$ is the number of features and $n$ is the number of samples and for histogram bases splitting the complexity is $\\mathcal{O}(n\\text{}m)$ for histogram building and $\\mathcal{O}(b \\text{}m)$ for split point finding where $b$ is the number of bins.\n",
    "\n",
    "3. Sparsity aware split finding. What **xgBoost** does is for every node there is a default split direction, that is the direction which leads to maximum reduction in loss. If the data in missing then that default direction is picked.\n",
    "\n",
    "4. Parallel and distributed computing. And out-of-core training of models."
   ]
  },
  {
   "cell_type": "code",
   "execution_count": 1,
   "metadata": {},
   "outputs": [
    {
     "data": {
      "text/html": [
       "<style>.container {width:100% !important;}</style>"
      ],
      "text/plain": [
       "<IPython.core.display.HTML object>"
      ]
     },
     "metadata": {},
     "output_type": "display_data"
    }
   ],
   "source": [
    "import numpy as np\n",
    "import pandas as pd\n",
    "import matplotlib.pyplot as plt\n",
    "%matplotlib inline\n",
    "\n",
    "#Make the sheet width 100%\n",
    "from IPython.core.display import display, HTML\n",
    "display(HTML(\"<style>.container {width:100% !important;}</style>\" ))"
   ]
  },
  {
   "cell_type": "markdown",
   "metadata": {},
   "source": [
    "**Load adults dataset**\n",
    "\n",
    "https://archive.ics.uci.edu/ml/datasets/Adult"
   ]
  },
  {
   "cell_type": "code",
   "execution_count": 2,
   "metadata": {},
   "outputs": [],
   "source": [
    "#Load dataset\n",
    "colnames = ['age', 'workclass', 'fnlwgt', 'education', \n",
    "            'education-num', 'marital-status', 'occupation', 'relationship',\n",
    "           'race', 'sex', 'capital-gain','capital-loss', 'hours-per-week', \n",
    "           'native-country', 'target']\n",
    "df_adult_train=pd.read_csv(\"../data/adults/adult.data\",header=None, names=colnames)\n",
    "df_adult_test=pd.read_csv(\"../data/adults/adult.test\",header=None, names=colnames) "
   ]
  },
  {
   "cell_type": "code",
   "execution_count": 3,
   "metadata": {
    "scrolled": false
   },
   "outputs": [
    {
     "data": {
      "text/html": [
       "<div>\n",
       "<style scoped>\n",
       "    .dataframe tbody tr th:only-of-type {\n",
       "        vertical-align: middle;\n",
       "    }\n",
       "\n",
       "    .dataframe tbody tr th {\n",
       "        vertical-align: top;\n",
       "    }\n",
       "\n",
       "    .dataframe thead th {\n",
       "        text-align: right;\n",
       "    }\n",
       "</style>\n",
       "<table border=\"1\" class=\"dataframe\">\n",
       "  <thead>\n",
       "    <tr style=\"text-align: right;\">\n",
       "      <th></th>\n",
       "      <th>age</th>\n",
       "      <th>workclass</th>\n",
       "      <th>fnlwgt</th>\n",
       "      <th>education</th>\n",
       "      <th>education-num</th>\n",
       "      <th>marital-status</th>\n",
       "      <th>occupation</th>\n",
       "      <th>relationship</th>\n",
       "      <th>race</th>\n",
       "      <th>sex</th>\n",
       "      <th>capital-gain</th>\n",
       "      <th>capital-loss</th>\n",
       "      <th>hours-per-week</th>\n",
       "      <th>native-country</th>\n",
       "      <th>target</th>\n",
       "    </tr>\n",
       "  </thead>\n",
       "  <tbody>\n",
       "    <tr>\n",
       "      <th>0</th>\n",
       "      <td>39</td>\n",
       "      <td>State-gov</td>\n",
       "      <td>77516</td>\n",
       "      <td>Bachelors</td>\n",
       "      <td>13</td>\n",
       "      <td>Never-married</td>\n",
       "      <td>Adm-clerical</td>\n",
       "      <td>Not-in-family</td>\n",
       "      <td>White</td>\n",
       "      <td>Male</td>\n",
       "      <td>2174</td>\n",
       "      <td>0</td>\n",
       "      <td>40</td>\n",
       "      <td>United-States</td>\n",
       "      <td>&lt;=50K</td>\n",
       "    </tr>\n",
       "    <tr>\n",
       "      <th>1</th>\n",
       "      <td>50</td>\n",
       "      <td>Self-emp-not-inc</td>\n",
       "      <td>83311</td>\n",
       "      <td>Bachelors</td>\n",
       "      <td>13</td>\n",
       "      <td>Married-civ-spouse</td>\n",
       "      <td>Exec-managerial</td>\n",
       "      <td>Husband</td>\n",
       "      <td>White</td>\n",
       "      <td>Male</td>\n",
       "      <td>0</td>\n",
       "      <td>0</td>\n",
       "      <td>13</td>\n",
       "      <td>United-States</td>\n",
       "      <td>&lt;=50K</td>\n",
       "    </tr>\n",
       "    <tr>\n",
       "      <th>2</th>\n",
       "      <td>38</td>\n",
       "      <td>Private</td>\n",
       "      <td>215646</td>\n",
       "      <td>HS-grad</td>\n",
       "      <td>9</td>\n",
       "      <td>Divorced</td>\n",
       "      <td>Handlers-cleaners</td>\n",
       "      <td>Not-in-family</td>\n",
       "      <td>White</td>\n",
       "      <td>Male</td>\n",
       "      <td>0</td>\n",
       "      <td>0</td>\n",
       "      <td>40</td>\n",
       "      <td>United-States</td>\n",
       "      <td>&lt;=50K</td>\n",
       "    </tr>\n",
       "    <tr>\n",
       "      <th>3</th>\n",
       "      <td>53</td>\n",
       "      <td>Private</td>\n",
       "      <td>234721</td>\n",
       "      <td>11th</td>\n",
       "      <td>7</td>\n",
       "      <td>Married-civ-spouse</td>\n",
       "      <td>Handlers-cleaners</td>\n",
       "      <td>Husband</td>\n",
       "      <td>Black</td>\n",
       "      <td>Male</td>\n",
       "      <td>0</td>\n",
       "      <td>0</td>\n",
       "      <td>40</td>\n",
       "      <td>United-States</td>\n",
       "      <td>&lt;=50K</td>\n",
       "    </tr>\n",
       "    <tr>\n",
       "      <th>4</th>\n",
       "      <td>28</td>\n",
       "      <td>Private</td>\n",
       "      <td>338409</td>\n",
       "      <td>Bachelors</td>\n",
       "      <td>13</td>\n",
       "      <td>Married-civ-spouse</td>\n",
       "      <td>Prof-specialty</td>\n",
       "      <td>Wife</td>\n",
       "      <td>Black</td>\n",
       "      <td>Female</td>\n",
       "      <td>0</td>\n",
       "      <td>0</td>\n",
       "      <td>40</td>\n",
       "      <td>Cuba</td>\n",
       "      <td>&lt;=50K</td>\n",
       "    </tr>\n",
       "  </tbody>\n",
       "</table>\n",
       "</div>"
      ],
      "text/plain": [
       "   age          workclass  fnlwgt   education  education-num  \\\n",
       "0   39          State-gov   77516   Bachelors             13   \n",
       "1   50   Self-emp-not-inc   83311   Bachelors             13   \n",
       "2   38            Private  215646     HS-grad              9   \n",
       "3   53            Private  234721        11th              7   \n",
       "4   28            Private  338409   Bachelors             13   \n",
       "\n",
       "        marital-status          occupation    relationship    race      sex  \\\n",
       "0        Never-married        Adm-clerical   Not-in-family   White     Male   \n",
       "1   Married-civ-spouse     Exec-managerial         Husband   White     Male   \n",
       "2             Divorced   Handlers-cleaners   Not-in-family   White     Male   \n",
       "3   Married-civ-spouse   Handlers-cleaners         Husband   Black     Male   \n",
       "4   Married-civ-spouse      Prof-specialty            Wife   Black   Female   \n",
       "\n",
       "   capital-gain  capital-loss  hours-per-week  native-country  target  \n",
       "0          2174             0              40   United-States   <=50K  \n",
       "1             0             0              13   United-States   <=50K  \n",
       "2             0             0              40   United-States   <=50K  \n",
       "3             0             0              40   United-States   <=50K  \n",
       "4             0             0              40            Cuba   <=50K  "
      ]
     },
     "execution_count": 3,
     "metadata": {},
     "output_type": "execute_result"
    }
   ],
   "source": [
    "df_adult_train.head()"
   ]
  },
  {
   "cell_type": "code",
   "execution_count": 4,
   "metadata": {},
   "outputs": [],
   "source": [
    "#Handle missing data\n",
    "df_adult_train.replace(' ?' , np.nan, inplace=True)\n",
    "df_adult_test.replace(' ?' , np.nan, inplace=True)"
   ]
  },
  {
   "cell_type": "code",
   "execution_count": 5,
   "metadata": {},
   "outputs": [],
   "source": [
    "#Apply one hot encoding to categorical columns\n",
    "cat_columns = ['workclass', 'education', 'marital-status', 'occupation', \n",
    "              'relationship', 'race', 'sex', 'native-country']\n",
    "def applyOneHot(df, cat_columns):\n",
    "    onehot_df = df[cat_columns]\n",
    "    onehot_df = pd.get_dummies(onehot_df, columns = cat_columns)\n",
    "    onehot_drop = df.drop(cat_columns, axis = 1)\n",
    "    df = pd.concat([onehot_drop, onehot_df], axis = 1)\n",
    "    return df\n",
    "\n",
    "df_adult_train = applyOneHot(df_adult_train, cat_columns)\n",
    "df_adult_test = applyOneHot(df_adult_test, cat_columns)\n",
    "#There is no data point with native-country_ Holand-Netherlands in test set lets add that zero column\n",
    "df_adult_test['native-country_ Holand-Netherlands'] = 0"
   ]
  },
  {
   "cell_type": "code",
   "execution_count": 6,
   "metadata": {},
   "outputs": [],
   "source": [
    "#There is an extra . in test labels remove that\n",
    "df_adult_test.replace(to_replace={r' <=50K.': ' <=50K',r' >50K.':' >50K'}, regex=True, inplace=True)"
   ]
  },
  {
   "cell_type": "code",
   "execution_count": 7,
   "metadata": {},
   "outputs": [],
   "source": [
    "#Apply Label encoder to y\n",
    "from sklearn import preprocessing\n",
    "le = preprocessing.LabelEncoder()\n",
    "le = le.fit(df_adult_train['target'])\n",
    "df_adult_train['target'] = le.transform(df_adult_train['target'])\n",
    "df_adult_test['target'] = le.transform(df_adult_test['target'])"
   ]
  },
  {
   "cell_type": "code",
   "execution_count": 8,
   "metadata": {},
   "outputs": [
    {
     "data": {
      "text/plain": [
       "array([0, 1])"
      ]
     },
     "execution_count": 8,
     "metadata": {},
     "output_type": "execute_result"
    }
   ],
   "source": [
    "df_adult_test['target'].unique()"
   ]
  },
  {
   "cell_type": "code",
   "execution_count": 9,
   "metadata": {},
   "outputs": [
    {
     "name": "stdout",
     "output_type": "stream",
     "text": [
      "Size of test set = 16281\n",
      "Size of train set = 32561\n"
     ]
    }
   ],
   "source": [
    "#Make X_train, X_test, y_train, y_test\n",
    "X_train = df_adult_train.drop('target', axis=1).values.astype('float')\n",
    "y_train = df_adult_train['target'].values.astype('float')\n",
    "X_test = df_adult_test.drop('target', axis=1).values.astype('float')\n",
    "y_test = df_adult_test['target'].values.astype('float')\n",
    "\n",
    "assert y_test.shape[0] == X_test.shape[0]\n",
    "assert y_train.shape[0] == X_train.shape[0]\n",
    "\n",
    "print(f\"Size of test set = {y_test.shape[0]}\")\n",
    "print(f\"Size of train set = {y_train.shape[0]}\")"
   ]
  },
  {
   "cell_type": "code",
   "execution_count": 10,
   "metadata": {},
   "outputs": [],
   "source": [
    "#Lets standardize the Xs\n",
    "from sklearn.preprocessing import StandardScaler\n",
    "sc = StandardScaler()\n",
    "sc.fit(X_train)\n",
    "X_train_std = sc.transform(X_train)\n",
    "X_test_std = sc.transform(X_test)\n",
    "X_combined_std = np.vstack((X_train_std, X_test_std))\n",
    "y_combined = np.hstack((y_train, y_test))"
   ]
  },
  {
   "cell_type": "code",
   "execution_count": 11,
   "metadata": {},
   "outputs": [
    {
     "name": "stdout",
     "output_type": "stream",
     "text": [
      "Train score=0.853\n",
      "Test score=0.845\n"
     ]
    }
   ],
   "source": [
    "#Lets first apply Logistics regression\n",
    "from sklearn.linear_model import LogisticRegression\n",
    "clf = LogisticRegression(random_state=0, max_iter=500)\n",
    "clf.fit(X_train_std, y_train)\n",
    "print(f\"Train score={clf.score(X_train_std, y_train):.3}\")\n",
    "print(f\"Test score={clf.score(X_test_std, y_test):.3}\")"
   ]
  },
  {
   "cell_type": "markdown",
   "metadata": {},
   "source": [
    "Logistic regression has decent test score of 84.5%."
   ]
  },
  {
   "cell_type": "code",
   "execution_count": 12,
   "metadata": {},
   "outputs": [
    {
     "name": "stdout",
     "output_type": "stream",
     "text": [
      "Train score=1.0\n",
      "Test score=0.797\n"
     ]
    }
   ],
   "source": [
    "#Lets fit a single decision tree\n",
    "from sklearn import tree\n",
    "clf = tree.DecisionTreeClassifier(min_samples_split=2)\n",
    "clf = clf.fit(X_train_std, y_train)\n",
    "print(f\"Train score={clf.score(X_train_std, y_train):.3}\")\n",
    "print(f\"Test score={clf.score(X_test_std, y_test):.3}\")"
   ]
  },
  {
   "cell_type": "markdown",
   "metadata": {},
   "source": [
    "Decision tree has very good train score but bad test score. It seems like it has overfit."
   ]
  },
  {
   "cell_type": "code",
   "execution_count": 13,
   "metadata": {},
   "outputs": [
    {
     "name": "stdout",
     "output_type": "stream",
     "text": [
      "Train score=1.0\n",
      "Test score=0.86\n"
     ]
    }
   ],
   "source": [
    "#Now lets fit random forest\n",
    "from sklearn.ensemble import RandomForestClassifier\n",
    "clf = RandomForestClassifier(n_estimators=500, min_samples_split=2)\n",
    "clf.fit(X_train_std, y_train)\n",
    "print(f\"Train score={clf.score(X_train_std, y_train):.3}\")\n",
    "print(f\"Test score={clf.score(X_test_std, y_test):.3}\")"
   ]
  },
  {
   "cell_type": "markdown",
   "metadata": {},
   "source": [
    "Random forest seems to be over-fitting also."
   ]
  },
  {
   "cell_type": "code",
   "execution_count": 14,
   "metadata": {
    "scrolled": false
   },
   "outputs": [
    {
     "name": "stdout",
     "output_type": "stream",
     "text": [
      "Train score=0.9\n",
      "Test score=0.872\n"
     ]
    }
   ],
   "source": [
    "#Lets use default XgBoost parameters\n",
    "import xgboost as xgb\n",
    "clf = xgb.XGBClassifier()\n",
    "clf.fit(X_train_std, y_train)\n",
    "print(f\"Train score={clf.score(X_train_std, y_train):.3}\")\n",
    "print(f\"Test score={clf.score(X_test_std, y_test):.3}\")"
   ]
  },
  {
   "cell_type": "markdown",
   "metadata": {},
   "source": [
    "xgBoost default parameters giving very good performance"
   ]
  },
  {
   "cell_type": "code",
   "execution_count": 15,
   "metadata": {},
   "outputs": [
    {
     "data": {
      "text/plain": [
       "<matplotlib.axes._subplots.AxesSubplot at 0x7fef1bec3c90>"
      ]
     },
     "execution_count": 15,
     "metadata": {},
     "output_type": "execute_result"
    },
    {
     "data": {
      "text/plain": [
       "<Figure size 1440x1440 with 0 Axes>"
      ]
     },
     "metadata": {},
     "output_type": "display_data"
    },
    {
     "data": {
      "image/png": "[encoded data removed]",
      "text/plain": [
       "<Figure size 432x288 with 1 Axes>"
      ]
     },
     "metadata": {
      "needs_background": "light"
     },
     "output_type": "display_data"
    }
   ],
   "source": [
    "#Lets plot feature importance\n",
    "plt.figure(figsize=(20,20))\n",
    "xgb.plot_importance(clf, max_num_features=10)"
   ]
  },
  {
   "cell_type": "markdown",
   "metadata": {},
   "source": [
    "#### Now lets search parameters of xgBoost to see if we can improve on the default parameters\n",
    "Some important parameters to search on are \n",
    "1. max_depth of each tree \n",
    "2. gamma - Regularization penalty for splitting one more level.\n",
    "3. eta - learning rate\n",
    "4. Lambda - L2 regularization term on weights\n",
    "5. Boosting steps "
   ]
  },
  {
   "cell_type": "code",
   "execution_count": 16,
   "metadata": {},
   "outputs": [
    {
     "data": {
      "text/plain": [
       "{'objective': 'binary:logistic',\n",
       " 'base_score': 0.5,\n",
       " 'booster': 'gbtree',\n",
       " 'colsample_bylevel': 1,\n",
       " 'colsample_bynode': 1,\n",
       " 'colsample_bytree': 1,\n",
       " 'gamma': 0,\n",
       " 'gpu_id': -1,\n",
       " 'importance_type': 'gain',\n",
       " 'interaction_constraints': '',\n",
       " 'learning_rate': 0.300000012,\n",
       " 'max_delta_step': 0,\n",
       " 'max_depth': 6,\n",
       " 'min_child_weight': 1,\n",
       " 'missing': nan,\n",
       " 'monotone_constraints': '()',\n",
       " 'n_estimators': 100,\n",
       " 'n_jobs': 0,\n",
       " 'num_parallel_tree': 1,\n",
       " 'random_state': 0,\n",
       " 'reg_alpha': 0,\n",
       " 'reg_lambda': 1,\n",
       " 'scale_pos_weight': 1,\n",
       " 'subsample': 1,\n",
       " 'tree_method': 'exact',\n",
       " 'validate_parameters': 1,\n",
       " 'verbosity': None}"
      ]
     },
     "execution_count": 16,
     "metadata": {},
     "output_type": "execute_result"
    }
   ],
   "source": [
    "clf.get_params()"
   ]
  },
  {
   "cell_type": "code",
   "execution_count": 17,
   "metadata": {
    "scrolled": false
   },
   "outputs": [
    {
     "name": "stdout",
     "output_type": "stream",
     "text": [
      "Best score = 0.874\n",
      "{'gamma': 2, 'learning_rate': 0.1, 'max_depth': 6, 'n_estimators': 500, 'reg_lambda': 1}\n"
     ]
    }
   ],
   "source": [
    "from sklearn.model_selection import GridSearchCV\n",
    "# A parameter grid for XGBoost\n",
    "params = {\n",
    "        'learning_rate' : [ 0.1, 1],\n",
    "        'gamma': [0, 1, 2, 10],\n",
    "        'max_depth': [5, 6, 10],\n",
    "        'reg_lambda': [0.01, 0.1, 1, 2],\n",
    "        'n_estimators': [100, 500, 1000]\n",
    "        }\n",
    "clf = xgb.XGBClassifier(tree_method='hist')\n",
    "gs = GridSearchCV(clf, \n",
    "                    param_grid=params, \n",
    "                    scoring='accuracy',  \n",
    "                    cv=5,\n",
    "                    n_jobs=1)\n",
    "gs = gs.fit(X_train_std, y_train)\n",
    "\n",
    "print(f\"Best score = {gs.best_score_:.3}\")\n",
    "print(gs.best_params_)"
   ]
  },
  {
   "cell_type": "code",
   "execution_count": 18,
   "metadata": {},
   "outputs": [
    {
     "name": "stdout",
     "output_type": "stream",
     "text": [
      "Train score=0.889\n",
      "Test score=0.874\n"
     ]
    }
   ],
   "source": [
    "clf = xgb.XGBClassifier(tree_method='hist', \n",
    "                        gamma=2,\n",
    "                        learning_rate=0.1,\n",
    "                        max_depth=6,\n",
    "                        n_estimators=500,\n",
    "                        reg_lambda=1)\n",
    "clf.fit(X_train_std, y_train)\n",
    "print(f\"Train score={clf.score(X_train_std, y_train):.3}\")\n",
    "print(f\"Test score={clf.score(X_test_std, y_test):.3}\")"
   ]
  },
  {
   "cell_type": "markdown",
   "metadata": {},
   "source": [
    "#### One important feature of xgBoost is histogram and approx searches below we will compare the speed advantage of histogram or exact search"
   ]
  },
  {
   "cell_type": "code",
   "execution_count": 19,
   "metadata": {},
   "outputs": [
    {
     "name": "stdout",
     "output_type": "stream",
     "text": [
      "Train score=0.9\n",
      "Test score=0.872\n",
      "Train score=0.9\n",
      "Test score=0.872\n",
      "Train score=0.9\n",
      "Test score=0.872\n",
      "Train score=0.9\n",
      "Test score=0.872\n",
      "Train score=0.9\n",
      "Test score=0.872\n",
      "Train score=0.9\n",
      "Test score=0.872\n",
      "Train score=0.9\n",
      "Test score=0.872\n",
      "Train score=0.9\n",
      "Test score=0.872\n",
      "10.8 s ± 145 ms per loop (mean ± std. dev. of 7 runs, 1 loop each)\n"
     ]
    }
   ],
   "source": [
    "%%timeit\n",
    "#Exact search\n",
    "clf = xgb.XGBClassifier(tree_method='exact')\n",
    "clf.fit(X_train_std, y_train)\n",
    "print(f\"Train score={clf.score(X_train_std, y_train):.3}\")\n",
    "print(f\"Test score={clf.score(X_test_std, y_test):.3}\")"
   ]
  },
  {
   "cell_type": "code",
   "execution_count": 20,
   "metadata": {},
   "outputs": [
    {
     "name": "stdout",
     "output_type": "stream",
     "text": [
      "Train score=0.901\n",
      "Test score=0.866\n",
      "Train score=0.901\n",
      "Test score=0.866\n",
      "Train score=0.901\n",
      "Test score=0.866\n",
      "Train score=0.901\n",
      "Test score=0.866\n",
      "Train score=0.901\n",
      "Test score=0.866\n",
      "Train score=0.901\n",
      "Test score=0.866\n",
      "Train score=0.901\n",
      "Test score=0.866\n",
      "Train score=0.901\n",
      "Test score=0.866\n",
      "10.7 s ± 124 ms per loop (mean ± std. dev. of 7 runs, 1 loop each)\n"
     ]
    }
   ],
   "source": [
    "%%timeit\n",
    "#Approx search\n",
    "clf = xgb.XGBClassifier(tree_method='approx')\n",
    "clf.fit(X_train_std, y_train)\n",
    "print(f\"Train score={clf.score(X_train_std, y_train):.3}\")\n",
    "print(f\"Test score={clf.score(X_test_std, y_test):.3}\")"
   ]
  },
  {
   "cell_type": "code",
   "execution_count": 21,
   "metadata": {},
   "outputs": [
    {
     "name": "stdout",
     "output_type": "stream",
     "text": [
      "Train score=0.9\n",
      "Test score=0.87\n",
      "Train score=0.9\n",
      "Test score=0.87\n",
      "Train score=0.9\n",
      "Test score=0.87\n",
      "Train score=0.9\n",
      "Test score=0.87\n",
      "Train score=0.9\n",
      "Test score=0.87\n",
      "Train score=0.9\n",
      "Test score=0.87\n",
      "Train score=0.9\n",
      "Test score=0.87\n",
      "Train score=0.9\n",
      "Test score=0.87\n",
      "902 ms ± 41.6 ms per loop (mean ± std. dev. of 7 runs, 1 loop each)\n"
     ]
    }
   ],
   "source": [
    "%%timeit\n",
    "#Hist search\n",
    "clf = xgb.XGBClassifier(tree_method='hist')\n",
    "clf.fit(X_train_std, y_train)\n",
    "print(f\"Train score={clf.score(X_train_std, y_train):.3}\")\n",
    "print(f\"Test score={clf.score(X_test_std, y_test):.3}\")"
   ]
  },
  {
   "cell_type": "markdown",
   "metadata": {},
   "source": [
    "We can see from above that there is not much difference between exact and approx. But hist is **10x** faster than either."
   ]
  },
  {
   "cell_type": "markdown",
   "metadata": {},
   "source": [
    "#### What is the difference between hist and approx?\n",
    "Approximate splitting method in **xgBoost** buckets continuous features into discrete bins to speed up training. The approx method generates a new set of bins for each iteration, whereas the hist method re-uses the bins over multiple iterations."
   ]
  }
 ],
 "metadata": {
  "kernelspec": {
   "display_name": "Python 3",
   "language": "python",
   "name": "python3"
  },
  "language_info": {
   "codemirror_mode": {
    "name": "ipython",
    "version": 3
   },
   "file_extension": ".py",
   "mimetype": "text/x-python",
   "name": "python",
   "nbconvert_exporter": "python",
   "pygments_lexer": "ipython3",
   "version": "3.7.6"
  }
 },
 "nbformat": 4,
 "nbformat_minor": 4
}
