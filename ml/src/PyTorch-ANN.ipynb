{
 "cells": [
  {
   "cell_type": "markdown",
   "metadata": {},
   "source": [
    "## PyTorch-ANN\n",
    "\n",
    "Lets make a basic **PyTorch** ANN. Simple example of a classification problem using an **ANN** in **PyTorch**."
   ]
  },
  {
   "cell_type": "code",
   "execution_count": 1,
   "metadata": {
    "ExecuteTime": {
     "end_time": "2020-09-17T21:13:12.689355Z",
     "start_time": "2020-09-17T21:13:08.177094Z"
    }
   },
   "outputs": [],
   "source": [
    "import torch\n",
    "import torch.nn as nn\n",
    "\n",
    "import numpy as np\n",
    "import pandas as pd\n",
    "import seaborn as sns\n",
    "import matplotlib.pyplot as plt\n",
    "\n",
    "%matplotlib inline"
   ]
  },
  {
   "cell_type": "markdown",
   "metadata": {
    "ExecuteTime": {
     "end_time": "2020-09-04T20:34:19.858996Z",
     "start_time": "2020-09-04T20:34:19.850107Z"
    }
   },
   "source": [
    "We will be training an ANN to do classification on the coverage type datastet from UCI\n",
    "\n",
    "https://archive.ics.uci.edu/ml/datasets/Covertype"
   ]
  },
  {
   "cell_type": "code",
   "execution_count": 2,
   "metadata": {
    "ExecuteTime": {
     "end_time": "2020-09-17T21:13:15.133089Z",
     "start_time": "2020-09-17T21:13:12.692497Z"
    }
   },
   "outputs": [],
   "source": [
    "#Read data for analysis\n",
    "data=pd.read_csv('../data/cov/covtype.csv')"
   ]
  },
  {
   "cell_type": "code",
   "execution_count": 3,
   "metadata": {
    "ExecuteTime": {
     "end_time": "2020-09-17T21:13:15.145128Z",
     "start_time": "2020-09-17T21:13:15.136587Z"
    }
   },
   "outputs": [
    {
     "name": "stdout",
     "output_type": "stream",
     "text": [
      "Data Dimension:\n",
      "Number of Records: 581012\n",
      "Number of Features: 55\n"
     ]
    }
   ],
   "source": [
    "print('Data Dimension:')\n",
    "print('Number of Records:', data.shape[0])\n",
    "print('Number of Features:', data.shape[1])"
   ]
  },
  {
   "cell_type": "code",
   "execution_count": 4,
   "metadata": {
    "ExecuteTime": {
     "end_time": "2020-09-17T21:13:15.162527Z",
     "start_time": "2020-09-17T21:13:15.149726Z"
    }
   },
   "outputs": [
    {
     "name": "stdout",
     "output_type": "stream",
     "text": [
      "Feature Names\n",
      "Index(['Elevation', 'Aspect', 'Slope', 'Horizontal_Distance_To_Hydrology',\n",
      "       'Vertical_Distance_To_Hydrology', 'Horizontal_Distance_To_Roadways',\n",
      "       'Hillshade_9am', 'Hillshade_Noon', 'Hillshade_3pm',\n",
      "       'Horizontal_Distance_To_Fire_Points', 'Wilderness_Area1',\n",
      "       'Wilderness_Area2', 'Wilderness_Area3', 'Wilderness_Area4',\n",
      "       'Soil_Type1', 'Soil_Type2', 'Soil_Type3', 'Soil_Type4', 'Soil_Type5',\n",
      "       'Soil_Type6', 'Soil_Type7', 'Soil_Type8', 'Soil_Type9', 'Soil_Type10',\n",
      "       'Soil_Type11', 'Soil_Type12', 'Soil_Type13', 'Soil_Type14',\n",
      "       'Soil_Type15', 'Soil_Type16', 'Soil_Type17', 'Soil_Type18',\n",
      "       'Soil_Type19', 'Soil_Type20', 'Soil_Type21', 'Soil_Type22',\n",
      "       'Soil_Type23', 'Soil_Type24', 'Soil_Type25', 'Soil_Type26',\n",
      "       'Soil_Type27', 'Soil_Type28', 'Soil_Type29', 'Soil_Type30',\n",
      "       'Soil_Type31', 'Soil_Type32', 'Soil_Type33', 'Soil_Type34',\n",
      "       'Soil_Type35', 'Soil_Type36', 'Soil_Type37', 'Soil_Type38',\n",
      "       'Soil_Type39', 'Soil_Type40', 'Cover_Type'],\n",
      "      dtype='object')\n"
     ]
    }
   ],
   "source": [
    "#Names of columns\n",
    "print('Feature Names')\n",
    "print(data.columns)"
   ]
  },
  {
   "cell_type": "code",
   "execution_count": 5,
   "metadata": {
    "ExecuteTime": {
     "end_time": "2020-09-17T21:13:15.267301Z",
     "start_time": "2020-09-17T21:13:15.168647Z"
    }
   },
   "outputs": [
    {
     "data": {
      "text/plain": [
       "Elevation                             0\n",
       "Aspect                                0\n",
       "Slope                                 0\n",
       "Horizontal_Distance_To_Hydrology      0\n",
       "Vertical_Distance_To_Hydrology        0\n",
       "Horizontal_Distance_To_Roadways       0\n",
       "Hillshade_9am                         0\n",
       "Hillshade_Noon                        0\n",
       "Hillshade_3pm                         0\n",
       "Horizontal_Distance_To_Fire_Points    0\n",
       "Wilderness_Area1                      0\n",
       "Wilderness_Area2                      0\n",
       "Wilderness_Area3                      0\n",
       "Wilderness_Area4                      0\n",
       "Soil_Type1                            0\n",
       "Soil_Type2                            0\n",
       "Soil_Type3                            0\n",
       "Soil_Type4                            0\n",
       "Soil_Type5                            0\n",
       "Soil_Type6                            0\n",
       "Soil_Type7                            0\n",
       "Soil_Type8                            0\n",
       "Soil_Type9                            0\n",
       "Soil_Type10                           0\n",
       "Soil_Type11                           0\n",
       "Soil_Type12                           0\n",
       "Soil_Type13                           0\n",
       "Soil_Type14                           0\n",
       "Soil_Type15                           0\n",
       "Soil_Type16                           0\n",
       "Soil_Type17                           0\n",
       "Soil_Type18                           0\n",
       "Soil_Type19                           0\n",
       "Soil_Type20                           0\n",
       "Soil_Type21                           0\n",
       "Soil_Type22                           0\n",
       "Soil_Type23                           0\n",
       "Soil_Type24                           0\n",
       "Soil_Type25                           0\n",
       "Soil_Type26                           0\n",
       "Soil_Type27                           0\n",
       "Soil_Type28                           0\n",
       "Soil_Type29                           0\n",
       "Soil_Type30                           0\n",
       "Soil_Type31                           0\n",
       "Soil_Type32                           0\n",
       "Soil_Type33                           0\n",
       "Soil_Type34                           0\n",
       "Soil_Type35                           0\n",
       "Soil_Type36                           0\n",
       "Soil_Type37                           0\n",
       "Soil_Type38                           0\n",
       "Soil_Type39                           0\n",
       "Soil_Type40                           0\n",
       "Cover_Type                            0\n",
       "dtype: int64"
      ]
     },
     "execution_count": 5,
     "metadata": {},
     "output_type": "execute_result"
    }
   ],
   "source": [
    "#Let's check for missing values once again\n",
    "data.isnull().sum()"
   ]
  },
  {
   "cell_type": "markdown",
   "metadata": {},
   "source": [
    "We don't seem to be missing any data"
   ]
  },
  {
   "cell_type": "code",
   "execution_count": 6,
   "metadata": {
    "ExecuteTime": {
     "end_time": "2020-09-17T21:13:16.211952Z",
     "start_time": "2020-09-17T21:13:15.276242Z"
    }
   },
   "outputs": [
    {
     "data": {
      "text/html": [
       "<div>\n",
       "<style scoped>\n",
       "    .dataframe tbody tr th:only-of-type {\n",
       "        vertical-align: middle;\n",
       "    }\n",
       "\n",
       "    .dataframe tbody tr th {\n",
       "        vertical-align: top;\n",
       "    }\n",
       "\n",
       "    .dataframe thead th {\n",
       "        text-align: right;\n",
       "    }\n",
       "</style>\n",
       "<table border=\"1\" class=\"dataframe\">\n",
       "  <thead>\n",
       "    <tr style=\"text-align: right;\">\n",
       "      <th></th>\n",
       "      <th>count</th>\n",
       "      <th>mean</th>\n",
       "      <th>std</th>\n",
       "      <th>min</th>\n",
       "      <th>25%</th>\n",
       "      <th>50%</th>\n",
       "      <th>75%</th>\n",
       "      <th>max</th>\n",
       "    </tr>\n",
       "  </thead>\n",
       "  <tbody>\n",
       "    <tr>\n",
       "      <th>Elevation</th>\n",
       "      <td>581012.0</td>\n",
       "      <td>2959.365301</td>\n",
       "      <td>279.984734</td>\n",
       "      <td>1859.0</td>\n",
       "      <td>2809.0</td>\n",
       "      <td>2996.0</td>\n",
       "      <td>3163.0</td>\n",
       "      <td>3858.0</td>\n",
       "    </tr>\n",
       "    <tr>\n",
       "      <th>Aspect</th>\n",
       "      <td>581012.0</td>\n",
       "      <td>155.656807</td>\n",
       "      <td>111.913721</td>\n",
       "      <td>0.0</td>\n",
       "      <td>58.0</td>\n",
       "      <td>127.0</td>\n",
       "      <td>260.0</td>\n",
       "      <td>360.0</td>\n",
       "    </tr>\n",
       "    <tr>\n",
       "      <th>Slope</th>\n",
       "      <td>581012.0</td>\n",
       "      <td>14.103704</td>\n",
       "      <td>7.488242</td>\n",
       "      <td>0.0</td>\n",
       "      <td>9.0</td>\n",
       "      <td>13.0</td>\n",
       "      <td>18.0</td>\n",
       "      <td>66.0</td>\n",
       "    </tr>\n",
       "    <tr>\n",
       "      <th>Horizontal_Distance_To_Hydrology</th>\n",
       "      <td>581012.0</td>\n",
       "      <td>269.428217</td>\n",
       "      <td>212.549356</td>\n",
       "      <td>0.0</td>\n",
       "      <td>108.0</td>\n",
       "      <td>218.0</td>\n",
       "      <td>384.0</td>\n",
       "      <td>1397.0</td>\n",
       "    </tr>\n",
       "    <tr>\n",
       "      <th>Vertical_Distance_To_Hydrology</th>\n",
       "      <td>581012.0</td>\n",
       "      <td>46.418855</td>\n",
       "      <td>58.295232</td>\n",
       "      <td>-173.0</td>\n",
       "      <td>7.0</td>\n",
       "      <td>30.0</td>\n",
       "      <td>69.0</td>\n",
       "      <td>601.0</td>\n",
       "    </tr>\n",
       "    <tr>\n",
       "      <th>Horizontal_Distance_To_Roadways</th>\n",
       "      <td>581012.0</td>\n",
       "      <td>2350.146611</td>\n",
       "      <td>1559.254870</td>\n",
       "      <td>0.0</td>\n",
       "      <td>1106.0</td>\n",
       "      <td>1997.0</td>\n",
       "      <td>3328.0</td>\n",
       "      <td>7117.0</td>\n",
       "    </tr>\n",
       "    <tr>\n",
       "      <th>Hillshade_9am</th>\n",
       "      <td>581012.0</td>\n",
       "      <td>212.146049</td>\n",
       "      <td>26.769889</td>\n",
       "      <td>0.0</td>\n",
       "      <td>198.0</td>\n",
       "      <td>218.0</td>\n",
       "      <td>231.0</td>\n",
       "      <td>254.0</td>\n",
       "    </tr>\n",
       "    <tr>\n",
       "      <th>Hillshade_Noon</th>\n",
       "      <td>581012.0</td>\n",
       "      <td>223.318716</td>\n",
       "      <td>19.768697</td>\n",
       "      <td>0.0</td>\n",
       "      <td>213.0</td>\n",
       "      <td>226.0</td>\n",
       "      <td>237.0</td>\n",
       "      <td>254.0</td>\n",
       "    </tr>\n",
       "    <tr>\n",
       "      <th>Hillshade_3pm</th>\n",
       "      <td>581012.0</td>\n",
       "      <td>142.528263</td>\n",
       "      <td>38.274529</td>\n",
       "      <td>0.0</td>\n",
       "      <td>119.0</td>\n",
       "      <td>143.0</td>\n",
       "      <td>168.0</td>\n",
       "      <td>254.0</td>\n",
       "    </tr>\n",
       "    <tr>\n",
       "      <th>Horizontal_Distance_To_Fire_Points</th>\n",
       "      <td>581012.0</td>\n",
       "      <td>1980.291226</td>\n",
       "      <td>1324.195210</td>\n",
       "      <td>0.0</td>\n",
       "      <td>1024.0</td>\n",
       "      <td>1710.0</td>\n",
       "      <td>2550.0</td>\n",
       "      <td>7173.0</td>\n",
       "    </tr>\n",
       "    <tr>\n",
       "      <th>Wilderness_Area1</th>\n",
       "      <td>581012.0</td>\n",
       "      <td>0.448865</td>\n",
       "      <td>0.497379</td>\n",
       "      <td>0.0</td>\n",
       "      <td>0.0</td>\n",
       "      <td>0.0</td>\n",
       "      <td>1.0</td>\n",
       "      <td>1.0</td>\n",
       "    </tr>\n",
       "    <tr>\n",
       "      <th>Wilderness_Area2</th>\n",
       "      <td>581012.0</td>\n",
       "      <td>0.051434</td>\n",
       "      <td>0.220882</td>\n",
       "      <td>0.0</td>\n",
       "      <td>0.0</td>\n",
       "      <td>0.0</td>\n",
       "      <td>0.0</td>\n",
       "      <td>1.0</td>\n",
       "    </tr>\n",
       "    <tr>\n",
       "      <th>Wilderness_Area3</th>\n",
       "      <td>581012.0</td>\n",
       "      <td>0.436074</td>\n",
       "      <td>0.495897</td>\n",
       "      <td>0.0</td>\n",
       "      <td>0.0</td>\n",
       "      <td>0.0</td>\n",
       "      <td>1.0</td>\n",
       "      <td>1.0</td>\n",
       "    </tr>\n",
       "    <tr>\n",
       "      <th>Wilderness_Area4</th>\n",
       "      <td>581012.0</td>\n",
       "      <td>0.063627</td>\n",
       "      <td>0.244087</td>\n",
       "      <td>0.0</td>\n",
       "      <td>0.0</td>\n",
       "      <td>0.0</td>\n",
       "      <td>0.0</td>\n",
       "      <td>1.0</td>\n",
       "    </tr>\n",
       "    <tr>\n",
       "      <th>Soil_Type1</th>\n",
       "      <td>581012.0</td>\n",
       "      <td>0.005217</td>\n",
       "      <td>0.072039</td>\n",
       "      <td>0.0</td>\n",
       "      <td>0.0</td>\n",
       "      <td>0.0</td>\n",
       "      <td>0.0</td>\n",
       "      <td>1.0</td>\n",
       "    </tr>\n",
       "    <tr>\n",
       "      <th>Soil_Type2</th>\n",
       "      <td>581012.0</td>\n",
       "      <td>0.012952</td>\n",
       "      <td>0.113066</td>\n",
       "      <td>0.0</td>\n",
       "      <td>0.0</td>\n",
       "      <td>0.0</td>\n",
       "      <td>0.0</td>\n",
       "      <td>1.0</td>\n",
       "    </tr>\n",
       "    <tr>\n",
       "      <th>Soil_Type3</th>\n",
       "      <td>581012.0</td>\n",
       "      <td>0.008301</td>\n",
       "      <td>0.090731</td>\n",
       "      <td>0.0</td>\n",
       "      <td>0.0</td>\n",
       "      <td>0.0</td>\n",
       "      <td>0.0</td>\n",
       "      <td>1.0</td>\n",
       "    </tr>\n",
       "    <tr>\n",
       "      <th>Soil_Type4</th>\n",
       "      <td>581012.0</td>\n",
       "      <td>0.021335</td>\n",
       "      <td>0.144499</td>\n",
       "      <td>0.0</td>\n",
       "      <td>0.0</td>\n",
       "      <td>0.0</td>\n",
       "      <td>0.0</td>\n",
       "      <td>1.0</td>\n",
       "    </tr>\n",
       "    <tr>\n",
       "      <th>Soil_Type5</th>\n",
       "      <td>581012.0</td>\n",
       "      <td>0.002749</td>\n",
       "      <td>0.052356</td>\n",
       "      <td>0.0</td>\n",
       "      <td>0.0</td>\n",
       "      <td>0.0</td>\n",
       "      <td>0.0</td>\n",
       "      <td>1.0</td>\n",
       "    </tr>\n",
       "    <tr>\n",
       "      <th>Soil_Type6</th>\n",
       "      <td>581012.0</td>\n",
       "      <td>0.011316</td>\n",
       "      <td>0.105775</td>\n",
       "      <td>0.0</td>\n",
       "      <td>0.0</td>\n",
       "      <td>0.0</td>\n",
       "      <td>0.0</td>\n",
       "      <td>1.0</td>\n",
       "    </tr>\n",
       "    <tr>\n",
       "      <th>Soil_Type7</th>\n",
       "      <td>581012.0</td>\n",
       "      <td>0.000181</td>\n",
       "      <td>0.013442</td>\n",
       "      <td>0.0</td>\n",
       "      <td>0.0</td>\n",
       "      <td>0.0</td>\n",
       "      <td>0.0</td>\n",
       "      <td>1.0</td>\n",
       "    </tr>\n",
       "    <tr>\n",
       "      <th>Soil_Type8</th>\n",
       "      <td>581012.0</td>\n",
       "      <td>0.000308</td>\n",
       "      <td>0.017550</td>\n",
       "      <td>0.0</td>\n",
       "      <td>0.0</td>\n",
       "      <td>0.0</td>\n",
       "      <td>0.0</td>\n",
       "      <td>1.0</td>\n",
       "    </tr>\n",
       "    <tr>\n",
       "      <th>Soil_Type9</th>\n",
       "      <td>581012.0</td>\n",
       "      <td>0.001974</td>\n",
       "      <td>0.044387</td>\n",
       "      <td>0.0</td>\n",
       "      <td>0.0</td>\n",
       "      <td>0.0</td>\n",
       "      <td>0.0</td>\n",
       "      <td>1.0</td>\n",
       "    </tr>\n",
       "    <tr>\n",
       "      <th>Soil_Type10</th>\n",
       "      <td>581012.0</td>\n",
       "      <td>0.056168</td>\n",
       "      <td>0.230245</td>\n",
       "      <td>0.0</td>\n",
       "      <td>0.0</td>\n",
       "      <td>0.0</td>\n",
       "      <td>0.0</td>\n",
       "      <td>1.0</td>\n",
       "    </tr>\n",
       "    <tr>\n",
       "      <th>Soil_Type11</th>\n",
       "      <td>581012.0</td>\n",
       "      <td>0.021359</td>\n",
       "      <td>0.144579</td>\n",
       "      <td>0.0</td>\n",
       "      <td>0.0</td>\n",
       "      <td>0.0</td>\n",
       "      <td>0.0</td>\n",
       "      <td>1.0</td>\n",
       "    </tr>\n",
       "    <tr>\n",
       "      <th>Soil_Type12</th>\n",
       "      <td>581012.0</td>\n",
       "      <td>0.051584</td>\n",
       "      <td>0.221186</td>\n",
       "      <td>0.0</td>\n",
       "      <td>0.0</td>\n",
       "      <td>0.0</td>\n",
       "      <td>0.0</td>\n",
       "      <td>1.0</td>\n",
       "    </tr>\n",
       "    <tr>\n",
       "      <th>Soil_Type13</th>\n",
       "      <td>581012.0</td>\n",
       "      <td>0.030001</td>\n",
       "      <td>0.170590</td>\n",
       "      <td>0.0</td>\n",
       "      <td>0.0</td>\n",
       "      <td>0.0</td>\n",
       "      <td>0.0</td>\n",
       "      <td>1.0</td>\n",
       "    </tr>\n",
       "    <tr>\n",
       "      <th>Soil_Type14</th>\n",
       "      <td>581012.0</td>\n",
       "      <td>0.001031</td>\n",
       "      <td>0.032092</td>\n",
       "      <td>0.0</td>\n",
       "      <td>0.0</td>\n",
       "      <td>0.0</td>\n",
       "      <td>0.0</td>\n",
       "      <td>1.0</td>\n",
       "    </tr>\n",
       "    <tr>\n",
       "      <th>Soil_Type15</th>\n",
       "      <td>581012.0</td>\n",
       "      <td>0.000005</td>\n",
       "      <td>0.002272</td>\n",
       "      <td>0.0</td>\n",
       "      <td>0.0</td>\n",
       "      <td>0.0</td>\n",
       "      <td>0.0</td>\n",
       "      <td>1.0</td>\n",
       "    </tr>\n",
       "    <tr>\n",
       "      <th>Soil_Type16</th>\n",
       "      <td>581012.0</td>\n",
       "      <td>0.004897</td>\n",
       "      <td>0.069804</td>\n",
       "      <td>0.0</td>\n",
       "      <td>0.0</td>\n",
       "      <td>0.0</td>\n",
       "      <td>0.0</td>\n",
       "      <td>1.0</td>\n",
       "    </tr>\n",
       "    <tr>\n",
       "      <th>Soil_Type17</th>\n",
       "      <td>581012.0</td>\n",
       "      <td>0.005890</td>\n",
       "      <td>0.076518</td>\n",
       "      <td>0.0</td>\n",
       "      <td>0.0</td>\n",
       "      <td>0.0</td>\n",
       "      <td>0.0</td>\n",
       "      <td>1.0</td>\n",
       "    </tr>\n",
       "    <tr>\n",
       "      <th>Soil_Type18</th>\n",
       "      <td>581012.0</td>\n",
       "      <td>0.003268</td>\n",
       "      <td>0.057077</td>\n",
       "      <td>0.0</td>\n",
       "      <td>0.0</td>\n",
       "      <td>0.0</td>\n",
       "      <td>0.0</td>\n",
       "      <td>1.0</td>\n",
       "    </tr>\n",
       "    <tr>\n",
       "      <th>Soil_Type19</th>\n",
       "      <td>581012.0</td>\n",
       "      <td>0.006921</td>\n",
       "      <td>0.082902</td>\n",
       "      <td>0.0</td>\n",
       "      <td>0.0</td>\n",
       "      <td>0.0</td>\n",
       "      <td>0.0</td>\n",
       "      <td>1.0</td>\n",
       "    </tr>\n",
       "    <tr>\n",
       "      <th>Soil_Type20</th>\n",
       "      <td>581012.0</td>\n",
       "      <td>0.015936</td>\n",
       "      <td>0.125228</td>\n",
       "      <td>0.0</td>\n",
       "      <td>0.0</td>\n",
       "      <td>0.0</td>\n",
       "      <td>0.0</td>\n",
       "      <td>1.0</td>\n",
       "    </tr>\n",
       "    <tr>\n",
       "      <th>Soil_Type21</th>\n",
       "      <td>581012.0</td>\n",
       "      <td>0.001442</td>\n",
       "      <td>0.037950</td>\n",
       "      <td>0.0</td>\n",
       "      <td>0.0</td>\n",
       "      <td>0.0</td>\n",
       "      <td>0.0</td>\n",
       "      <td>1.0</td>\n",
       "    </tr>\n",
       "    <tr>\n",
       "      <th>Soil_Type22</th>\n",
       "      <td>581012.0</td>\n",
       "      <td>0.057439</td>\n",
       "      <td>0.232681</td>\n",
       "      <td>0.0</td>\n",
       "      <td>0.0</td>\n",
       "      <td>0.0</td>\n",
       "      <td>0.0</td>\n",
       "      <td>1.0</td>\n",
       "    </tr>\n",
       "    <tr>\n",
       "      <th>Soil_Type23</th>\n",
       "      <td>581012.0</td>\n",
       "      <td>0.099399</td>\n",
       "      <td>0.299197</td>\n",
       "      <td>0.0</td>\n",
       "      <td>0.0</td>\n",
       "      <td>0.0</td>\n",
       "      <td>0.0</td>\n",
       "      <td>1.0</td>\n",
       "    </tr>\n",
       "    <tr>\n",
       "      <th>Soil_Type24</th>\n",
       "      <td>581012.0</td>\n",
       "      <td>0.036622</td>\n",
       "      <td>0.187833</td>\n",
       "      <td>0.0</td>\n",
       "      <td>0.0</td>\n",
       "      <td>0.0</td>\n",
       "      <td>0.0</td>\n",
       "      <td>1.0</td>\n",
       "    </tr>\n",
       "    <tr>\n",
       "      <th>Soil_Type25</th>\n",
       "      <td>581012.0</td>\n",
       "      <td>0.000816</td>\n",
       "      <td>0.028551</td>\n",
       "      <td>0.0</td>\n",
       "      <td>0.0</td>\n",
       "      <td>0.0</td>\n",
       "      <td>0.0</td>\n",
       "      <td>1.0</td>\n",
       "    </tr>\n",
       "    <tr>\n",
       "      <th>Soil_Type26</th>\n",
       "      <td>581012.0</td>\n",
       "      <td>0.004456</td>\n",
       "      <td>0.066605</td>\n",
       "      <td>0.0</td>\n",
       "      <td>0.0</td>\n",
       "      <td>0.0</td>\n",
       "      <td>0.0</td>\n",
       "      <td>1.0</td>\n",
       "    </tr>\n",
       "    <tr>\n",
       "      <th>Soil_Type27</th>\n",
       "      <td>581012.0</td>\n",
       "      <td>0.001869</td>\n",
       "      <td>0.043193</td>\n",
       "      <td>0.0</td>\n",
       "      <td>0.0</td>\n",
       "      <td>0.0</td>\n",
       "      <td>0.0</td>\n",
       "      <td>1.0</td>\n",
       "    </tr>\n",
       "    <tr>\n",
       "      <th>Soil_Type28</th>\n",
       "      <td>581012.0</td>\n",
       "      <td>0.001628</td>\n",
       "      <td>0.040318</td>\n",
       "      <td>0.0</td>\n",
       "      <td>0.0</td>\n",
       "      <td>0.0</td>\n",
       "      <td>0.0</td>\n",
       "      <td>1.0</td>\n",
       "    </tr>\n",
       "    <tr>\n",
       "      <th>Soil_Type29</th>\n",
       "      <td>581012.0</td>\n",
       "      <td>0.198356</td>\n",
       "      <td>0.398762</td>\n",
       "      <td>0.0</td>\n",
       "      <td>0.0</td>\n",
       "      <td>0.0</td>\n",
       "      <td>0.0</td>\n",
       "      <td>1.0</td>\n",
       "    </tr>\n",
       "    <tr>\n",
       "      <th>Soil_Type30</th>\n",
       "      <td>581012.0</td>\n",
       "      <td>0.051927</td>\n",
       "      <td>0.221879</td>\n",
       "      <td>0.0</td>\n",
       "      <td>0.0</td>\n",
       "      <td>0.0</td>\n",
       "      <td>0.0</td>\n",
       "      <td>1.0</td>\n",
       "    </tr>\n",
       "    <tr>\n",
       "      <th>Soil_Type31</th>\n",
       "      <td>581012.0</td>\n",
       "      <td>0.044175</td>\n",
       "      <td>0.205483</td>\n",
       "      <td>0.0</td>\n",
       "      <td>0.0</td>\n",
       "      <td>0.0</td>\n",
       "      <td>0.0</td>\n",
       "      <td>1.0</td>\n",
       "    </tr>\n",
       "    <tr>\n",
       "      <th>Soil_Type32</th>\n",
       "      <td>581012.0</td>\n",
       "      <td>0.090392</td>\n",
       "      <td>0.286743</td>\n",
       "      <td>0.0</td>\n",
       "      <td>0.0</td>\n",
       "      <td>0.0</td>\n",
       "      <td>0.0</td>\n",
       "      <td>1.0</td>\n",
       "    </tr>\n",
       "    <tr>\n",
       "      <th>Soil_Type33</th>\n",
       "      <td>581012.0</td>\n",
       "      <td>0.077716</td>\n",
       "      <td>0.267725</td>\n",
       "      <td>0.0</td>\n",
       "      <td>0.0</td>\n",
       "      <td>0.0</td>\n",
       "      <td>0.0</td>\n",
       "      <td>1.0</td>\n",
       "    </tr>\n",
       "    <tr>\n",
       "      <th>Soil_Type34</th>\n",
       "      <td>581012.0</td>\n",
       "      <td>0.002773</td>\n",
       "      <td>0.052584</td>\n",
       "      <td>0.0</td>\n",
       "      <td>0.0</td>\n",
       "      <td>0.0</td>\n",
       "      <td>0.0</td>\n",
       "      <td>1.0</td>\n",
       "    </tr>\n",
       "    <tr>\n",
       "      <th>Soil_Type35</th>\n",
       "      <td>581012.0</td>\n",
       "      <td>0.003255</td>\n",
       "      <td>0.056957</td>\n",
       "      <td>0.0</td>\n",
       "      <td>0.0</td>\n",
       "      <td>0.0</td>\n",
       "      <td>0.0</td>\n",
       "      <td>1.0</td>\n",
       "    </tr>\n",
       "    <tr>\n",
       "      <th>Soil_Type36</th>\n",
       "      <td>581012.0</td>\n",
       "      <td>0.000205</td>\n",
       "      <td>0.014310</td>\n",
       "      <td>0.0</td>\n",
       "      <td>0.0</td>\n",
       "      <td>0.0</td>\n",
       "      <td>0.0</td>\n",
       "      <td>1.0</td>\n",
       "    </tr>\n",
       "    <tr>\n",
       "      <th>Soil_Type37</th>\n",
       "      <td>581012.0</td>\n",
       "      <td>0.000513</td>\n",
       "      <td>0.022641</td>\n",
       "      <td>0.0</td>\n",
       "      <td>0.0</td>\n",
       "      <td>0.0</td>\n",
       "      <td>0.0</td>\n",
       "      <td>1.0</td>\n",
       "    </tr>\n",
       "    <tr>\n",
       "      <th>Soil_Type38</th>\n",
       "      <td>581012.0</td>\n",
       "      <td>0.026803</td>\n",
       "      <td>0.161508</td>\n",
       "      <td>0.0</td>\n",
       "      <td>0.0</td>\n",
       "      <td>0.0</td>\n",
       "      <td>0.0</td>\n",
       "      <td>1.0</td>\n",
       "    </tr>\n",
       "    <tr>\n",
       "      <th>Soil_Type39</th>\n",
       "      <td>581012.0</td>\n",
       "      <td>0.023762</td>\n",
       "      <td>0.152307</td>\n",
       "      <td>0.0</td>\n",
       "      <td>0.0</td>\n",
       "      <td>0.0</td>\n",
       "      <td>0.0</td>\n",
       "      <td>1.0</td>\n",
       "    </tr>\n",
       "    <tr>\n",
       "      <th>Soil_Type40</th>\n",
       "      <td>581012.0</td>\n",
       "      <td>0.015060</td>\n",
       "      <td>0.121791</td>\n",
       "      <td>0.0</td>\n",
       "      <td>0.0</td>\n",
       "      <td>0.0</td>\n",
       "      <td>0.0</td>\n",
       "      <td>1.0</td>\n",
       "    </tr>\n",
       "    <tr>\n",
       "      <th>Cover_Type</th>\n",
       "      <td>581012.0</td>\n",
       "      <td>2.051471</td>\n",
       "      <td>1.396504</td>\n",
       "      <td>1.0</td>\n",
       "      <td>1.0</td>\n",
       "      <td>2.0</td>\n",
       "      <td>2.0</td>\n",
       "      <td>7.0</td>\n",
       "    </tr>\n",
       "  </tbody>\n",
       "</table>\n",
       "</div>"
      ],
      "text/plain": [
       "                                       count         mean          std  \\\n",
       "Elevation                           581012.0  2959.365301   279.984734   \n",
       "Aspect                              581012.0   155.656807   111.913721   \n",
       "Slope                               581012.0    14.103704     7.488242   \n",
       "Horizontal_Distance_To_Hydrology    581012.0   269.428217   212.549356   \n",
       "Vertical_Distance_To_Hydrology      581012.0    46.418855    58.295232   \n",
       "Horizontal_Distance_To_Roadways     581012.0  2350.146611  1559.254870   \n",
       "Hillshade_9am                       581012.0   212.146049    26.769889   \n",
       "Hillshade_Noon                      581012.0   223.318716    19.768697   \n",
       "Hillshade_3pm                       581012.0   142.528263    38.274529   \n",
       "Horizontal_Distance_To_Fire_Points  581012.0  1980.291226  1324.195210   \n",
       "Wilderness_Area1                    581012.0     0.448865     0.497379   \n",
       "Wilderness_Area2                    581012.0     0.051434     0.220882   \n",
       "Wilderness_Area3                    581012.0     0.436074     0.495897   \n",
       "Wilderness_Area4                    581012.0     0.063627     0.244087   \n",
       "Soil_Type1                          581012.0     0.005217     0.072039   \n",
       "Soil_Type2                          581012.0     0.012952     0.113066   \n",
       "Soil_Type3                          581012.0     0.008301     0.090731   \n",
       "Soil_Type4                          581012.0     0.021335     0.144499   \n",
       "Soil_Type5                          581012.0     0.002749     0.052356   \n",
       "Soil_Type6                          581012.0     0.011316     0.105775   \n",
       "Soil_Type7                          581012.0     0.000181     0.013442   \n",
       "Soil_Type8                          581012.0     0.000308     0.017550   \n",
       "Soil_Type9                          581012.0     0.001974     0.044387   \n",
       "Soil_Type10                         581012.0     0.056168     0.230245   \n",
       "Soil_Type11                         581012.0     0.021359     0.144579   \n",
       "Soil_Type12                         581012.0     0.051584     0.221186   \n",
       "Soil_Type13                         581012.0     0.030001     0.170590   \n",
       "Soil_Type14                         581012.0     0.001031     0.032092   \n",
       "Soil_Type15                         581012.0     0.000005     0.002272   \n",
       "Soil_Type16                         581012.0     0.004897     0.069804   \n",
       "Soil_Type17                         581012.0     0.005890     0.076518   \n",
       "Soil_Type18                         581012.0     0.003268     0.057077   \n",
       "Soil_Type19                         581012.0     0.006921     0.082902   \n",
       "Soil_Type20                         581012.0     0.015936     0.125228   \n",
       "Soil_Type21                         581012.0     0.001442     0.037950   \n",
       "Soil_Type22                         581012.0     0.057439     0.232681   \n",
       "Soil_Type23                         581012.0     0.099399     0.299197   \n",
       "Soil_Type24                         581012.0     0.036622     0.187833   \n",
       "Soil_Type25                         581012.0     0.000816     0.028551   \n",
       "Soil_Type26                         581012.0     0.004456     0.066605   \n",
       "Soil_Type27                         581012.0     0.001869     0.043193   \n",
       "Soil_Type28                         581012.0     0.001628     0.040318   \n",
       "Soil_Type29                         581012.0     0.198356     0.398762   \n",
       "Soil_Type30                         581012.0     0.051927     0.221879   \n",
       "Soil_Type31                         581012.0     0.044175     0.205483   \n",
       "Soil_Type32                         581012.0     0.090392     0.286743   \n",
       "Soil_Type33                         581012.0     0.077716     0.267725   \n",
       "Soil_Type34                         581012.0     0.002773     0.052584   \n",
       "Soil_Type35                         581012.0     0.003255     0.056957   \n",
       "Soil_Type36                         581012.0     0.000205     0.014310   \n",
       "Soil_Type37                         581012.0     0.000513     0.022641   \n",
       "Soil_Type38                         581012.0     0.026803     0.161508   \n",
       "Soil_Type39                         581012.0     0.023762     0.152307   \n",
       "Soil_Type40                         581012.0     0.015060     0.121791   \n",
       "Cover_Type                          581012.0     2.051471     1.396504   \n",
       "\n",
       "                                       min     25%     50%     75%     max  \n",
       "Elevation                           1859.0  2809.0  2996.0  3163.0  3858.0  \n",
       "Aspect                                 0.0    58.0   127.0   260.0   360.0  \n",
       "Slope                                  0.0     9.0    13.0    18.0    66.0  \n",
       "Horizontal_Distance_To_Hydrology       0.0   108.0   218.0   384.0  1397.0  \n",
       "Vertical_Distance_To_Hydrology      -173.0     7.0    30.0    69.0   601.0  \n",
       "Horizontal_Distance_To_Roadways        0.0  1106.0  1997.0  3328.0  7117.0  \n",
       "Hillshade_9am                          0.0   198.0   218.0   231.0   254.0  \n",
       "Hillshade_Noon                         0.0   213.0   226.0   237.0   254.0  \n",
       "Hillshade_3pm                          0.0   119.0   143.0   168.0   254.0  \n",
       "Horizontal_Distance_To_Fire_Points     0.0  1024.0  1710.0  2550.0  7173.0  \n",
       "Wilderness_Area1                       0.0     0.0     0.0     1.0     1.0  \n",
       "Wilderness_Area2                       0.0     0.0     0.0     0.0     1.0  \n",
       "Wilderness_Area3                       0.0     0.0     0.0     1.0     1.0  \n",
       "Wilderness_Area4                       0.0     0.0     0.0     0.0     1.0  \n",
       "Soil_Type1                             0.0     0.0     0.0     0.0     1.0  \n",
       "Soil_Type2                             0.0     0.0     0.0     0.0     1.0  \n",
       "Soil_Type3                             0.0     0.0     0.0     0.0     1.0  \n",
       "Soil_Type4                             0.0     0.0     0.0     0.0     1.0  \n",
       "Soil_Type5                             0.0     0.0     0.0     0.0     1.0  \n",
       "Soil_Type6                             0.0     0.0     0.0     0.0     1.0  \n",
       "Soil_Type7                             0.0     0.0     0.0     0.0     1.0  \n",
       "Soil_Type8                             0.0     0.0     0.0     0.0     1.0  \n",
       "Soil_Type9                             0.0     0.0     0.0     0.0     1.0  \n",
       "Soil_Type10                            0.0     0.0     0.0     0.0     1.0  \n",
       "Soil_Type11                            0.0     0.0     0.0     0.0     1.0  \n",
       "Soil_Type12                            0.0     0.0     0.0     0.0     1.0  \n",
       "Soil_Type13                            0.0     0.0     0.0     0.0     1.0  \n",
       "Soil_Type14                            0.0     0.0     0.0     0.0     1.0  \n",
       "Soil_Type15                            0.0     0.0     0.0     0.0     1.0  \n",
       "Soil_Type16                            0.0     0.0     0.0     0.0     1.0  \n",
       "Soil_Type17                            0.0     0.0     0.0     0.0     1.0  \n",
       "Soil_Type18                            0.0     0.0     0.0     0.0     1.0  \n",
       "Soil_Type19                            0.0     0.0     0.0     0.0     1.0  \n",
       "Soil_Type20                            0.0     0.0     0.0     0.0     1.0  \n",
       "Soil_Type21                            0.0     0.0     0.0     0.0     1.0  \n",
       "Soil_Type22                            0.0     0.0     0.0     0.0     1.0  \n",
       "Soil_Type23                            0.0     0.0     0.0     0.0     1.0  \n",
       "Soil_Type24                            0.0     0.0     0.0     0.0     1.0  \n",
       "Soil_Type25                            0.0     0.0     0.0     0.0     1.0  \n",
       "Soil_Type26                            0.0     0.0     0.0     0.0     1.0  \n",
       "Soil_Type27                            0.0     0.0     0.0     0.0     1.0  \n",
       "Soil_Type28                            0.0     0.0     0.0     0.0     1.0  \n",
       "Soil_Type29                            0.0     0.0     0.0     0.0     1.0  \n",
       "Soil_Type30                            0.0     0.0     0.0     0.0     1.0  \n",
       "Soil_Type31                            0.0     0.0     0.0     0.0     1.0  \n",
       "Soil_Type32                            0.0     0.0     0.0     0.0     1.0  \n",
       "Soil_Type33                            0.0     0.0     0.0     0.0     1.0  \n",
       "Soil_Type34                            0.0     0.0     0.0     0.0     1.0  \n",
       "Soil_Type35                            0.0     0.0     0.0     0.0     1.0  \n",
       "Soil_Type36                            0.0     0.0     0.0     0.0     1.0  \n",
       "Soil_Type37                            0.0     0.0     0.0     0.0     1.0  \n",
       "Soil_Type38                            0.0     0.0     0.0     0.0     1.0  \n",
       "Soil_Type39                            0.0     0.0     0.0     0.0     1.0  \n",
       "Soil_Type40                            0.0     0.0     0.0     0.0     1.0  \n",
       "Cover_Type                             1.0     1.0     2.0     2.0     7.0  "
      ]
     },
     "execution_count": 6,
     "metadata": {},
     "output_type": "execute_result"
    }
   ],
   "source": [
    "#distribution of data\n",
    "data.describe().T"
   ]
  },
  {
   "cell_type": "markdown",
   "metadata": {
    "ExecuteTime": {
     "end_time": "2020-09-04T20:47:40.572280Z",
     "start_time": "2020-09-04T20:47:40.563147Z"
    }
   },
   "source": [
    "Wilderness and soil type seems to be one hot encoded. Every other data type is continuous."
   ]
  },
  {
   "cell_type": "code",
   "execution_count": 7,
   "metadata": {
    "ExecuteTime": {
     "end_time": "2020-09-17T21:13:16.219076Z",
     "start_time": "2020-09-17T21:13:16.213914Z"
    }
   },
   "outputs": [],
   "source": [
    "cont_variables = ['Elevation',\n",
    "                'Aspect', \n",
    "                'Slope',\n",
    "                'Horizontal_Distance_To_Hydrology',\n",
    "                'Vertical_Distance_To_Hydrology',\n",
    "                'Horizontal_Distance_To_Roadways',\n",
    "                'Hillshade_9am',\n",
    "                'Hillshade_Noon',\n",
    "                'Hillshade_3pm',\n",
    "                'Horizontal_Distance_To_Fire_Points']\n"
   ]
  },
  {
   "cell_type": "code",
   "execution_count": 8,
   "metadata": {
    "ExecuteTime": {
     "end_time": "2020-09-17T21:13:17.041300Z",
     "start_time": "2020-09-17T21:13:16.223684Z"
    }
   },
   "outputs": [],
   "source": [
    "#Split the data in train test split\n",
    "from sklearn.model_selection import train_test_split\n",
    "\n",
    "X = data.drop('Cover_Type',axis=1)\n",
    "y = data['Cover_Type']\n",
    "\n",
    "X_train, X_test, y_train, y_test = train_test_split(X, y, test_size=0.20, random_state=42)"
   ]
  },
  {
   "cell_type": "code",
   "execution_count": 9,
   "metadata": {
    "ExecuteTime": {
     "end_time": "2020-09-17T21:13:17.737517Z",
     "start_time": "2020-09-17T21:13:17.052706Z"
    }
   },
   "outputs": [],
   "source": [
    "#Lets scale the continous variables\n",
    "from sklearn.preprocessing import StandardScaler\n",
    "\n",
    "X_train_cont = X_train[cont_variables]\n",
    "X_test_cont = X_test[cont_variables]\n",
    "\n",
    "X_train_cat = X_train.drop(cont_variables, axis=1)\n",
    "X_test_cat = X_test.drop(cont_variables, axis=1)\n",
    "\n",
    "sc = StandardScaler()\n",
    "sc.fit(X_train_cont)\n",
    "X_train_cont_std = sc.transform(X_train_cont)\n",
    "X_test_cont_std = sc.transform(X_test_cont)\n",
    "\n",
    "X_train_std = np.hstack((X_train_cont_std, X_train_cat))\n",
    "X_test_std = np.hstack((X_test_cont_std, X_test_cat))\n"
   ]
  },
  {
   "cell_type": "code",
   "execution_count": 10,
   "metadata": {
    "ExecuteTime": {
     "end_time": "2020-09-17T21:17:49.883212Z",
     "start_time": "2020-09-17T21:13:17.740186Z"
    }
   },
   "outputs": [
    {
     "name": "stderr",
     "output_type": "stream",
     "text": [
      "/Users/jamieott/anaconda3/lib/python3.8/site-packages/sklearn/linear_model/_logistic.py:762: ConvergenceWarning: lbfgs failed to converge (status=1):\n",
      "STOP: TOTAL NO. of ITERATIONS REACHED LIMIT.\n",
      "\n",
      "Increase the number of iterations (max_iter) or scale the data as shown in:\n",
      "    https://scikit-learn.org/stable/modules/preprocessing.html\n",
      "Please also refer to the documentation for alternative solver options:\n",
      "    https://scikit-learn.org/stable/modules/linear_model.html#logistic-regression\n",
      "  n_iter_i = _check_optimize_result(\n"
     ]
    },
    {
     "name": "stdout",
     "output_type": "stream",
     "text": [
      "Train score=0.72\n",
      "Test score=0.72\n"
     ]
    }
   ],
   "source": [
    "#Lets apply multiclass logistic regression to get a baseline model\n",
    "from sklearn.linear_model import LogisticRegression\n",
    "\n",
    "lr = LogisticRegression(max_iter=1000, tol=0.1)\n",
    "lr.fit(X_train_std, y_train)\n",
    "\n",
    "print(f\"Train score={lr.score(X_train_std,  y_train):.2}\")\n",
    "print(f\"Test score={lr.score(X_test_std,  y_test):.2}\")"
   ]
  },
  {
   "cell_type": "code",
   "execution_count": 11,
   "metadata": {
    "ExecuteTime": {
     "end_time": "2020-09-17T21:18:02.821620Z",
     "start_time": "2020-09-17T21:17:49.888867Z"
    }
   },
   "outputs": [
    {
     "name": "stdout",
     "output_type": "stream",
     "text": [
      "Train score=1.0\n",
      "Test score=0.94\n"
     ]
    }
   ],
   "source": [
    "#Lets fit a single decision tree\n",
    "from sklearn import tree\n",
    "clf = tree.DecisionTreeClassifier(min_samples_split=2)\n",
    "clf = clf.fit(X_train_std, y_train)\n",
    "print(f\"Train score={clf.score(X_train_std, y_train):.2}\")\n",
    "print(f\"Test score={clf.score(X_test_std, y_test):.2}\")"
   ]
  },
  {
   "cell_type": "markdown",
   "metadata": {},
   "source": [
    "Decision tree has a very good Train score and a decent test score."
   ]
  },
  {
   "cell_type": "code",
   "execution_count": 12,
   "metadata": {
    "ExecuteTime": {
     "end_time": "2020-09-17T21:37:01.571855Z",
     "start_time": "2020-09-17T21:18:02.834026Z"
    }
   },
   "outputs": [
    {
     "name": "stdout",
     "output_type": "stream",
     "text": [
      "Train score=1.0\n",
      "Test score=0.956\n"
     ]
    }
   ],
   "source": [
    "#Now lets fit random forest\n",
    "from sklearn.ensemble import RandomForestClassifier\n",
    "clf = RandomForestClassifier(n_estimators=500, min_samples_split=2)\n",
    "clf.fit(X_train_std, y_train)\n",
    "print(f\"Train score={clf.score(X_train_std, y_train):.3}\")\n",
    "print(f\"Test score={clf.score(X_test_std, y_test):.3}\")"
   ]
  },
  {
   "cell_type": "markdown",
   "metadata": {},
   "source": [
    "**Random Forest** has a good test set performance, better than decision trees."
   ]
  },
  {
   "cell_type": "markdown",
   "metadata": {
    "ExecuteTime": {
     "end_time": "2020-09-06T05:25:40.512637Z",
     "start_time": "2020-09-06T05:25:40.505841Z"
    }
   },
   "source": [
    "Now lets train a deep neural network on this"
   ]
  },
  {
   "cell_type": "code",
   "execution_count": 13,
   "metadata": {
    "ExecuteTime": {
     "end_time": "2020-09-17T21:37:02.269520Z",
     "start_time": "2020-09-17T21:37:01.579385Z"
    }
   },
   "outputs": [],
   "source": [
    "#Convert X and y to tensors\n",
    "X_train_std_t = torch.tensor(X_train_std, dtype=torch.float)\n",
    "y_train_t = torch.LongTensor(y_train.values-1)\n",
    "\n",
    "X_test_std_t = torch.tensor(X_test_std, dtype=torch.float)\n",
    "y_test_t = torch.LongTensor(y_test.values-1)"
   ]
  },
  {
   "cell_type": "code",
   "execution_count": 14,
   "metadata": {
    "ExecuteTime": {
     "end_time": "2020-09-17T21:37:02.293267Z",
     "start_time": "2020-09-17T21:37:02.275356Z"
    }
   },
   "outputs": [],
   "source": [
    "#Lets create a Model\n",
    "class ANNModel(nn.Module):\n",
    "    def __init__(self, n_sz, out_sz, layers ):\n",
    "        #Call the base class constructor\n",
    "        super().__init__()\n",
    "        #Create a list of layers\n",
    "        layerlist = []\n",
    "        for i in layers:\n",
    "            #Append a linear layer\n",
    "            layerlist.append(nn.Linear(n_sz,i))\n",
    "            #Append a ReLU layer\n",
    "            layerlist.append(nn.ReLU(inplace=True))\n",
    "            n_sz = i\n",
    "        #Append a final layer\n",
    "        layerlist.append(nn.Linear(layers[-1],out_sz)) \n",
    "        #Make it a sequential model\n",
    "        self.layers = nn.Sequential(*layerlist)\n",
    "\n",
    "    def forward(self, x):\n",
    "        #Forward propogate on all the layers\n",
    "        x = self.layers(x)\n",
    "        return x"
   ]
  },
  {
   "cell_type": "code",
   "execution_count": 15,
   "metadata": {
    "ExecuteTime": {
     "end_time": "2020-09-17T21:37:02.346362Z",
     "start_time": "2020-09-17T21:37:02.296298Z"
    }
   },
   "outputs": [],
   "source": [
    "torch.manual_seed(33)\n",
    "model = ANNModel(X_train_std_t.shape[1], 7, [108, 54]) #Two hidden layers with 108 and 54 neurons"
   ]
  },
  {
   "cell_type": "code",
   "execution_count": 16,
   "metadata": {
    "ExecuteTime": {
     "end_time": "2020-09-17T21:37:02.365084Z",
     "start_time": "2020-09-17T21:37:02.355870Z"
    }
   },
   "outputs": [
    {
     "name": "stdout",
     "output_type": "stream",
     "text": [
      "ANNModel(\n",
      "  (layers): Sequential(\n",
      "    (0): Linear(in_features=54, out_features=108, bias=True)\n",
      "    (1): ReLU(inplace=True)\n",
      "    (2): Linear(in_features=108, out_features=54, bias=True)\n",
      "    (3): ReLU(inplace=True)\n",
      "    (4): Linear(in_features=54, out_features=7, bias=True)\n",
      "  )\n",
      ")\n"
     ]
    }
   ],
   "source": [
    "print(model)"
   ]
  },
  {
   "cell_type": "code",
   "execution_count": 17,
   "metadata": {
    "ExecuteTime": {
     "end_time": "2020-09-17T21:37:02.377072Z",
     "start_time": "2020-09-17T21:37:02.368408Z"
    }
   },
   "outputs": [],
   "source": [
    "#Lets count the number of paramaters in the model\n",
    "def count_parameters(model):\n",
    "    params = [p.numel() for p in model.parameters() if p.requires_grad]\n",
    "    for item in params:\n",
    "        print(f'{item:>6}')\n",
    "    print(f'______\\n{sum(params):>6}')"
   ]
  },
  {
   "cell_type": "code",
   "execution_count": 18,
   "metadata": {
    "ExecuteTime": {
     "end_time": "2020-09-17T21:37:02.386781Z",
     "start_time": "2020-09-17T21:37:02.379741Z"
    }
   },
   "outputs": [
    {
     "name": "stdout",
     "output_type": "stream",
     "text": [
      "  5832\n",
      "   108\n",
      "  5832\n",
      "    54\n",
      "   378\n",
      "     7\n",
      "______\n",
      " 12211\n"
     ]
    }
   ],
   "source": [
    "count_parameters(model)"
   ]
  },
  {
   "cell_type": "code",
   "execution_count": 19,
   "metadata": {
    "ExecuteTime": {
     "end_time": "2020-09-17T21:37:02.399739Z",
     "start_time": "2020-09-17T21:37:02.393429Z"
    }
   },
   "outputs": [],
   "source": [
    "criterion = nn.CrossEntropyLoss()\n",
    "optimizer = torch.optim.Adam(model.parameters(), lr=0.1)"
   ]
  },
  {
   "cell_type": "code",
   "execution_count": 20,
   "metadata": {
    "ExecuteTime": {
     "end_time": "2020-09-17T21:58:53.217666Z",
     "start_time": "2020-09-17T21:37:02.402956Z"
    }
   },
   "outputs": [
    {
     "name": "stdout",
     "output_type": "stream",
     "text": [
      "epoch:  1  test_loss: 1.97033072 train_loss: 1.96927989\n",
      "epoch: 11  test_loss: 0.94927710 train_loss: 0.94388771\n",
      "epoch: 21  test_loss: 0.70946580 train_loss: 0.70742738\n",
      "epoch: 31  test_loss: 0.65042937 train_loss: 0.64616144\n",
      "epoch: 41  test_loss: 0.61071390 train_loss: 0.60417801\n",
      "epoch: 51  test_loss: 0.57642019 train_loss: 0.57008249\n",
      "epoch: 61  test_loss: 0.54861385 train_loss: 0.54277080\n",
      "epoch: 71  test_loss: 0.52625346 train_loss: 0.51984859\n",
      "epoch: 81  test_loss: 0.56361049 train_loss: 0.55694836\n",
      "epoch: 91  test_loss: 0.49627721 train_loss: 0.48981529\n",
      "epoch: 101  test_loss: 0.47105059 train_loss: 0.46360540\n",
      "epoch: 111  test_loss: 0.45572060 train_loss: 0.44780514\n",
      "epoch: 121  test_loss: 0.48197445 train_loss: 0.47448581\n",
      "epoch: 131  test_loss: 0.44282836 train_loss: 0.43485460\n",
      "epoch: 141  test_loss: 0.42586297 train_loss: 0.41731796\n",
      "epoch: 151  test_loss: 0.43178836 train_loss: 0.42237738\n",
      "epoch: 161  test_loss: 0.43104276 train_loss: 0.42329010\n",
      "epoch: 171  test_loss: 0.40950549 train_loss: 0.40088573\n",
      "epoch: 181  test_loss: 0.39913684 train_loss: 0.39007312\n",
      "epoch: 191  test_loss: 0.41419551 train_loss: 0.40544793\n",
      "epoch: 201  test_loss: 0.41265410 train_loss: 0.40525052\n",
      "epoch: 211  test_loss: 0.38952318 train_loss: 0.38108858\n",
      "epoch: 221  test_loss: 0.37909496 train_loss: 0.36856183\n",
      "epoch: 231  test_loss: 0.40246493 train_loss: 0.39160571\n",
      "epoch: 241  test_loss: 0.38041469 train_loss: 0.37019446\n",
      "epoch: 251  test_loss: 0.36694086 train_loss: 0.35620859\n",
      "epoch: 261  test_loss: 0.36291519 train_loss: 0.35149676\n",
      "epoch: 271  test_loss: 0.36173275 train_loss: 0.35066882\n",
      "epoch: 281  test_loss: 0.40747818 train_loss: 0.39602467\n",
      "epoch: 291  test_loss: 0.37170956 train_loss: 0.36008051\n",
      "epoch: 301  test_loss: 0.35892612 train_loss: 0.34743345\n",
      "epoch: 311  test_loss: 0.35122499 train_loss: 0.33910739\n",
      "epoch: 321  test_loss: 0.34653246 train_loss: 0.33395457\n",
      "epoch: 331  test_loss: 0.48876140 train_loss: 0.48048437\n",
      "epoch: 341  test_loss: 0.43143147 train_loss: 0.42180201\n",
      "epoch: 351  test_loss: 0.39129785 train_loss: 0.38248494\n",
      "epoch: 361  test_loss: 0.36707172 train_loss: 0.35657719\n",
      "epoch: 371  test_loss: 0.35285127 train_loss: 0.34238708\n",
      "epoch: 381  test_loss: 0.34489277 train_loss: 0.33379877\n",
      "epoch: 391  test_loss: 0.33894637 train_loss: 0.32751742\n",
      "epoch: 401  test_loss: 0.33547419 train_loss: 0.32379210\n",
      "epoch: 411  test_loss: 0.35039359 train_loss: 0.33874664\n",
      "epoch: 421  test_loss: 0.33650333 train_loss: 0.32469270\n",
      "epoch: 431  test_loss: 0.32785884 train_loss: 0.31613725\n",
      "epoch: 441  test_loss: 0.32833254 train_loss: 0.31606975\n",
      "epoch: 451  test_loss: 0.33954585 train_loss: 0.32747433\n",
      "epoch: 461  test_loss: 0.32626349 train_loss: 0.31374389\n",
      "epoch: 471  test_loss: 0.32495904 train_loss: 0.31203210\n",
      "epoch: 481  test_loss: 0.32288477 train_loss: 0.30970785\n",
      "epoch: 491  test_loss: 0.32276228 train_loss: 0.30918986\n",
      "epoch: 501  test_loss: 0.33004957 train_loss: 0.31708860\n",
      "epoch: 511  test_loss: 0.32642281 train_loss: 0.31256732\n",
      "epoch: 521  test_loss: 0.31967756 train_loss: 0.30575019\n",
      "epoch: 531  test_loss: 0.33848312 train_loss: 0.32357025\n",
      "epoch: 541  test_loss: 0.31920448 train_loss: 0.30487567\n",
      "epoch: 551  test_loss: 0.31845480 train_loss: 0.30428776\n",
      "epoch: 561  test_loss: 0.33860841 train_loss: 0.32369491\n",
      "epoch: 571  test_loss: 0.31556845 train_loss: 0.30104452\n",
      "epoch: 581  test_loss: 0.31464115 train_loss: 0.30057240\n",
      "epoch: 591  test_loss: 0.31508800 train_loss: 0.30017111\n",
      "epoch: 601  test_loss: 0.30885929 train_loss: 0.29358572\n",
      "epoch: 611  test_loss: 0.35832161 train_loss: 0.34493238\n",
      "epoch: 621  test_loss: 0.33136386 train_loss: 0.31984934\n",
      "epoch: 631  test_loss: 0.31576204 train_loss: 0.30322370\n",
      "epoch: 641  test_loss: 0.30708018 train_loss: 0.29360157\n",
      "epoch: 651  test_loss: 0.30328524 train_loss: 0.28937361\n",
      "epoch: 661  test_loss: 0.35183963 train_loss: 0.33695200\n",
      "epoch: 671  test_loss: 0.31462535 train_loss: 0.30028147\n",
      "epoch: 681  test_loss: 0.30748349 train_loss: 0.29368171\n",
      "epoch: 691  test_loss: 0.30264655 train_loss: 0.28785071\n",
      "epoch: 701  test_loss: 0.30490923 train_loss: 0.29029620\n",
      "epoch: 711  test_loss: 0.31630382 train_loss: 0.30086291\n",
      "epoch: 721  test_loss: 0.30477598 train_loss: 0.28978276\n",
      "epoch: 731  test_loss: 0.29805991 train_loss: 0.28288582\n",
      "epoch: 741  test_loss: 0.31595507 train_loss: 0.30134359\n",
      "epoch: 751  test_loss: 0.31644097 train_loss: 0.30170622\n",
      "epoch: 761  test_loss: 0.30275688 train_loss: 0.28773567\n",
      "epoch: 771  test_loss: 0.29884902 train_loss: 0.28317118\n",
      "epoch: 781  test_loss: 0.32303005 train_loss: 0.30741146\n",
      "epoch: 791  test_loss: 0.30611897 train_loss: 0.29078993\n",
      "epoch: 801  test_loss: 0.29754108 train_loss: 0.28202355\n",
      "epoch: 811  test_loss: 0.29979771 train_loss: 0.28445274\n",
      "epoch: 821  test_loss: 0.29700527 train_loss: 0.28149214\n",
      "epoch: 831  test_loss: 0.30242899 train_loss: 0.28692645\n",
      "epoch: 841  test_loss: 0.30238748 train_loss: 0.28601661\n",
      "epoch: 851  test_loss: 0.31322163 train_loss: 0.29778969\n",
      "epoch: 861  test_loss: 0.29854700 train_loss: 0.28351676\n",
      "epoch: 871  test_loss: 0.29796344 train_loss: 0.28181869\n",
      "epoch: 881  test_loss: 0.29533842 train_loss: 0.27918038\n",
      "epoch: 891  test_loss: 0.30330902 train_loss: 0.28650331\n",
      "epoch: 901  test_loss: 0.29266667 train_loss: 0.27716464\n",
      "epoch: 911  test_loss: 0.29657108 train_loss: 0.28098172\n",
      "epoch: 921  test_loss: 0.32492036 train_loss: 0.30938739\n",
      "epoch: 931  test_loss: 0.31301135 train_loss: 0.29808247\n",
      "epoch: 941  test_loss: 0.30192041 train_loss: 0.28608525\n",
      "epoch: 951  test_loss: 0.29220313 train_loss: 0.27622637\n",
      "epoch: 961  test_loss: 0.28828689 train_loss: 0.27146998\n",
      "epoch: 971  test_loss: 0.35157537 train_loss: 0.33302730\n",
      "epoch: 981  test_loss: 0.31389153 train_loss: 0.29657391\n",
      "epoch: 991  test_loss: 0.29451165 train_loss: 0.27940539\n"
     ]
    }
   ],
   "source": [
    "epochs = 1000\n",
    "train_losses = []\n",
    "test_losses = []\n",
    "\n",
    "for i in range(epochs):\n",
    "    i+=1\n",
    "    y_pred = model.forward(X_train_std_t)\n",
    "    train_loss = criterion(y_pred, y_train_t)\n",
    "    train_losses.append(train_loss)\n",
    "    \n",
    "    # Run the test data\n",
    "    with torch.no_grad():\n",
    "        # Apply the model\n",
    "        y_val = model(X_test_std_t)  \n",
    "    \n",
    "    # Update test loss for the epoch\n",
    "    test_loss = criterion(y_val, y_test_t)\n",
    "    test_losses.append(test_loss)\n",
    "    \n",
    "    if i%10 == 1:\n",
    "        print(f'epoch: {i:2}  test_loss: {test_loss.item():10.8f} train_loss: {train_loss.item():10.8f}')\n",
    "\n",
    "    optimizer.zero_grad()\n",
    "    train_loss.backward()\n",
    "    optimizer.step()"
   ]
  },
  {
   "cell_type": "code",
   "execution_count": 21,
   "metadata": {
    "ExecuteTime": {
     "end_time": "2020-09-17T21:58:53.470316Z",
     "start_time": "2020-09-17T21:58:53.223923Z"
    }
   },
   "outputs": [
    {
     "data": {
      "text/plain": [
       "<matplotlib.legend.Legend at 0x7fb7e2cd7760>"
      ]
     },
     "execution_count": 21,
     "metadata": {},
     "output_type": "execute_result"
    },
    {
     "data": {
      "image/png": "[encoded data removed]",
      "text/plain": [
       "<Figure size 1080x720 with 1 Axes>"
      ]
     },
     "metadata": {
      "needs_background": "light"
     },
     "output_type": "display_data"
    }
   ],
   "source": [
    "plt.figure(figsize=(15,10))\n",
    "plt.plot(range(epochs), test_losses, label='Test Loss')\n",
    "plt.plot(range(epochs), train_losses, label='Train Loss')\n",
    "plt.ylabel('Loss')\n",
    "plt.xlabel('epoch')\n",
    "plt.legend()"
   ]
  },
  {
   "cell_type": "code",
   "execution_count": 22,
   "metadata": {
    "ExecuteTime": {
     "end_time": "2020-09-17T21:58:53.972908Z",
     "start_time": "2020-09-17T21:58:53.473779Z"
    }
   },
   "outputs": [
    {
     "name": "stdout",
     "output_type": "stream",
     "text": [
      "Train accuracy=0.89\n",
      "Test accuracy=0.884\n"
     ]
    }
   ],
   "source": [
    "#evaluate final test and train set predictions\n",
    "with torch.no_grad():\n",
    "    y_train_pred = model(X_train_std_t) \n",
    "    train_pred = torch.max(y_train_pred,1)[1]\n",
    "    \n",
    "    y_test_pred = model(X_test_std_t)\n",
    "    test_pred = torch.max(y_test_pred,1)[1]\n",
    "\n",
    "#Lets measure train and test set accuracy\n",
    "from sklearn.metrics import accuracy_score\n",
    "print(f\"Train accuracy={accuracy_score(y_train_t.numpy(), train_pred):0.3}\")\n",
    "print(f\"Test accuracy={accuracy_score(y_test_t.numpy(), test_pred):0.3}\")"
   ]
  },
  {
   "cell_type": "markdown",
   "metadata": {},
   "source": [
    "In the above example ANN didn't beat Random Forest. One can potentially increase the size of the network, it seems to be a high bias situation where the train and test error both are pretty high."
   ]
  }
 ],
 "metadata": {
  "kernelspec": {
   "display_name": "Python 3",
   "language": "python",
   "name": "python3"
  },
  "language_info": {
   "codemirror_mode": {
    "name": "ipython",
    "version": 3
   },
   "file_extension": ".py",
   "mimetype": "text/x-python",
   "name": "python",
   "nbconvert_exporter": "python",
   "pygments_lexer": "ipython3",
   "version": "3.8.3"
  },
  "latex_envs": {
   "LaTeX_envs_menu_present": true,
   "autoclose": false,
   "autocomplete": true,
   "bibliofile": "biblio.bib",
   "cite_by": "apalike",
   "current_citInitial": 1,
   "eqLabelWithNumbers": true,
   "eqNumInitial": 1,
   "hotkeys": {
    "equation": "Ctrl-E",
    "itemize": "Ctrl-I"
   },
   "labels_anchors": false,
   "latex_user_defs": false,
   "report_style_numbering": false,
   "user_envs_cfg": false
  },
  "toc": {
   "base_numbering": 1,
   "nav_menu": {},
   "number_sections": false,
   "sideBar": true,
   "skip_h1_title": false,
   "title_cell": "Table of Contents",
   "title_sidebar": "Contents",
   "toc_cell": false,
   "toc_position": {},
   "toc_section_display": true,
   "toc_window_display": false
  }
 },
 "nbformat": 4,
 "nbformat_minor": 4
}
