{
  "nbformat": 4,
  "nbformat_minor": 0,
  "metadata": {
    "colab": {
      "name": "ANN-Initialization.ipynb",
      "provenance": []
    },
    "kernelspec": {
      "name": "python3",
      "display_name": "Python 3"
    }
  },
  "cells": [
    {
      "cell_type": "markdown",
      "metadata": {
        "id": "ZKDVLVo1WTLV"
      },
      "source": [
        "## Initialization\n",
        "\n",
        "Initialization parameters properly is very important for good convergence of ANNs. There are various schemes in literatture to do so.\n",
        "In this notebook we will implement some of the initialiation techniques in literature. \n"
      ]
    },
    {
      "cell_type": "markdown",
      "metadata": {
        "id": "62XtOJS6WzOw"
      },
      "source": [
        "### He et. al. initialization\n",
        "https://www.cv-foundation.org/openaccess/content_iccv_2015/papers/He_Delving_Deep_into_ICCV_2015_paper.pdf\n",
        "\n",
        "In He Initialization we initialize weight parameters from a normal distribution with stdev of $\\sqrt{\\frac{2}{\\text{dimension of the previous layer}}}$ for ReLU units.\n",
        "\n",
        "Lets implement He Initialization below."
      ]
    },
    {
      "cell_type": "code",
      "metadata": {
        "id": "cJ1yCA1OYYoq"
      },
      "source": [
        "import tensorflow as tf\n",
        "import numpy as np"
      ],
      "execution_count": 1,
      "outputs": []
    },
    {
      "cell_type": "code",
      "metadata": {
        "id": "nPN4rd3uXCXA"
      },
      "source": [
        "initializer = tf.keras.initializers.HeNormal(seed=42)\n",
        "values = initializer(shape=(1000, 1000))"
      ],
      "execution_count": 2,
      "outputs": []
    },
    {
      "cell_type": "code",
      "metadata": {
        "id": "3z4gvkssaeVS",
        "outputId": "7ae584b7-5d37-4c91-e1b4-7165e6b98131",
        "colab": {
          "base_uri": "https://localhost:8080/",
          "height": 34
        }
      },
      "source": [
        "#Lets check the stdev of the values\n",
        "print(f\"Standard deviation of values={np.std(values):.4} Expected Standard deviation={np.sqrt(2/1000.0):.4}\")"
      ],
      "execution_count": 3,
      "outputs": [
        {
          "output_type": "stream",
          "text": [
            "Standard deviation of values=0.04475 Expected Standard deviation=0.04472\n"
          ],
          "name": "stdout"
        }
      ]
    },
    {
      "cell_type": "markdown",
      "metadata": {
        "id": "AU0FhAoyZedD"
      },
      "source": [
        "For initialzing parameters from uniform distribution, He e.t. al. recommend drawing parameters from [-limit, limit], where limit = $\\sqrt{\\frac{6}{\\text{dimension of the previous layer}}}$."
      ]
    },
    {
      "cell_type": "code",
      "metadata": {
        "id": "RML0ywnBYUYC"
      },
      "source": [
        "initializer = tf.keras.initializers.HeUniform(seed=42)\n",
        "values = initializer(shape=(1000, 1000))"
      ],
      "execution_count": 4,
      "outputs": []
    },
    {
      "cell_type": "code",
      "metadata": {
        "id": "HIsXuqdTZMqV",
        "outputId": "d18bc406-0bc6-4fc6-cfe6-bb0c1db34a07",
        "colab": {
          "base_uri": "https://localhost:8080/",
          "height": 34
        }
      },
      "source": [
        "#Lets check min and max\n",
        "print(f\"Min of values={np.min(values):.4},max of values={np.max(values):.4},expected min of values={-np.sqrt(6/1000):.4},expected max of values={np.sqrt(6/1000.0):.4}\")"
      ],
      "execution_count": 5,
      "outputs": [
        {
          "output_type": "stream",
          "text": [
            "Min of values=-0.07746,max of values=0.07746,expected min of values=-0.07746,expected max of values=0.07746\n"
          ],
          "name": "stdout"
        }
      ]
    },
    {
      "cell_type": "markdown",
      "metadata": {
        "id": "9sSgICfwdBI8"
      },
      "source": [
        "### Xavier Initialization\n",
        "\n",
        "**Xavier Initialization** is an older method or initializing parameters.\n",
        "\n",
        "http://proceedings.mlr.press/v9/glorot10a/glorot10a.pdf\n",
        "\n",
        "He recommends initialzing weights with stdev = $\\sqrt{\\frac{1}{\\text{dimension of the previous layer}}}$"
      ]
    },
    {
      "cell_type": "code",
      "metadata": {
        "id": "Q3752nJYaMQN"
      },
      "source": [
        "initializer = tf.keras.initializers.GlorotNormal()\n",
        "values = initializer(shape=(1000, 1000))"
      ],
      "execution_count": 6,
      "outputs": []
    },
    {
      "cell_type": "code",
      "metadata": {
        "id": "tLLZcq9UaWu0",
        "outputId": "86ddc7d1-20ab-4108-f9fe-ef9a6de73124",
        "colab": {
          "base_uri": "https://localhost:8080/",
          "height": 34
        }
      },
      "source": [
        "#Lets check the stdev of the values\n",
        "print(f\"Standard deviation of values={np.std(values):.4} Expected Standard deviation={np.sqrt(1/1000.0):.4}\")"
      ],
      "execution_count": 7,
      "outputs": [
        {
          "output_type": "stream",
          "text": [
            "Standard deviation of values=0.03161 Expected Standard deviation=0.03162\n"
          ],
          "name": "stdout"
        }
      ]
    },
    {
      "cell_type": "markdown",
      "metadata": {
        "id": "iCBF1VPpdw-3"
      },
      "source": [
        "**Xavier Initialization** for uniform random variables is within the [-limit,limit] where limit = $\\sqrt{\\frac{6}{\\text{dimension of previous layer} + \\text{dimension of current layer}}}$"
      ]
    },
    {
      "cell_type": "code",
      "metadata": {
        "id": "jTNg3VG0dtjQ"
      },
      "source": [
        "initializer = tf.keras.initializers.GlorotUniform()\n",
        "values = initializer(shape=(1000, 2000))"
      ],
      "execution_count": 8,
      "outputs": []
    },
    {
      "cell_type": "code",
      "metadata": {
        "id": "TWzpLHO1ekcI",
        "outputId": "91d9dc9f-e09c-4c80-8fdc-4709a4f02ea8",
        "colab": {
          "base_uri": "https://localhost:8080/",
          "height": 34
        }
      },
      "source": [
        "#Lets check min and max\n",
        "print(f\"Min of values={np.min(values):.4},max of values={np.max(values):.4},expected min of values={-np.sqrt(6/3000):.4},expected max of values={np.sqrt(6/3000.0):.4}\")"
      ],
      "execution_count": 9,
      "outputs": [
        {
          "output_type": "stream",
          "text": [
            "Min of values=-0.04472,max of values=0.04472,expected min of values=-0.04472,expected max of values=0.04472\n"
          ],
          "name": "stdout"
        }
      ]
    },
    {
      "cell_type": "markdown",
      "metadata": {
        "id": "54Q0OA8dfIqj"
      },
      "source": [
        "### Everythings works as expected"
      ]
    }
  ]
}