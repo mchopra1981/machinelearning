{
 "cells": [
  {
   "cell_type": "markdown",
   "metadata": {
    "toc": true
   },
   "source": [
    "<h1>Table of Contents<span class=\"tocSkip\"></span></h1>\n",
    "<div class=\"toc\"><ul class=\"toc-item\"><li><span><a href=\"#Initialization\" data-toc-modified-id=\"Initialization-1\">Initialization</a></span><ul class=\"toc-item\"><li><span><a href=\"#He-et.-al.-initialization\" data-toc-modified-id=\"He-et.-al.-initialization-1.1\">He et. al. initialization</a></span></li><li><span><a href=\"#Xavier-Initialization\" data-toc-modified-id=\"Xavier-Initialization-1.2\">Xavier Initialization</a></span></li><li><span><a href=\"#Everythings-works-as-expected\" data-toc-modified-id=\"Everythings-works-as-expected-1.3\">Everythings works as expected</a></span></li></ul></li></ul></div>"
   ]
  },
  {
   "cell_type": "markdown",
   "metadata": {
    "id": "ZKDVLVo1WTLV"
   },
   "source": [
    "## Initialization\n",
    "\n",
    "Initialization parameters properly is very important for good convergence of ANNs. There are various schemes in literature to do so.\n",
    "In this notebook we will implement some of the initialization techniques in literature. \n"
   ]
  },
  {
   "cell_type": "markdown",
   "metadata": {
    "id": "62XtOJS6WzOw"
   },
   "source": [
    "### He et. al. initialization\n",
    "https://www.cv-foundation.org/openaccess/content_iccv_2015/papers/He_Delving_Deep_into_ICCV_2015_paper.pdf\n",
    "\n",
    "In He Initialization we initialize weight parameters from a normal distribution with stdev of $\\sqrt{\\frac{2}{\\text{dimension of the previous layer}}}$ for ReLU units.\n",
    "\n",
    "Lets implement He Initialization below."
   ]
  },
  {
   "cell_type": "code",
   "execution_count": 1,
   "metadata": {
    "id": "cJ1yCA1OYYoq"
   },
   "outputs": [],
   "source": [
    "import tensorflow as tf\n",
    "import numpy as np"
   ]
  },
  {
   "cell_type": "code",
   "execution_count": 2,
   "metadata": {
    "id": "nPN4rd3uXCXA"
   },
   "outputs": [],
   "source": [
    "initializer = tf.keras.initializers.HeNormal(seed=42)\n",
    "values = initializer(shape=(1000, 1000))"
   ]
  },
  {
   "cell_type": "code",
   "execution_count": 3,
   "metadata": {
    "colab": {
     "base_uri": "https://localhost:8080/",
     "height": 34
    },
    "id": "3z4gvkssaeVS",
    "outputId": "7ae584b7-5d37-4c91-e1b4-7165e6b98131"
   },
   "outputs": [
    {
     "name": "stdout",
     "output_type": "stream",
     "text": [
      "Standard deviation of values=0.04475 Expected Standard deviation=0.04472\n"
     ]
    }
   ],
   "source": [
    "#Lets check the stdev of the values\n",
    "print(f\"Standard deviation of values={np.std(values):.4} Expected Standard deviation={np.sqrt(2/1000.0):.4}\")"
   ]
  },
  {
   "cell_type": "markdown",
   "metadata": {
    "id": "AU0FhAoyZedD"
   },
   "source": [
    "For initialzing parameters from uniform distribution, He e.t. al. recommend drawing parameters from [-limit, limit], where limit = $\\sqrt{\\frac{6}{\\text{dimension of the previous layer}}}$."
   ]
  },
  {
   "cell_type": "code",
   "execution_count": 4,
   "metadata": {
    "id": "RML0ywnBYUYC"
   },
   "outputs": [],
   "source": [
    "initializer = tf.keras.initializers.HeUniform(seed=42)\n",
    "values = initializer(shape=(1000, 1000))"
   ]
  },
  {
   "cell_type": "code",
   "execution_count": 5,
   "metadata": {
    "colab": {
     "base_uri": "https://localhost:8080/",
     "height": 34
    },
    "id": "HIsXuqdTZMqV",
    "outputId": "d18bc406-0bc6-4fc6-cfe6-bb0c1db34a07"
   },
   "outputs": [
    {
     "name": "stdout",
     "output_type": "stream",
     "text": [
      "Min of values=-0.07746,max of values=0.07746,expected min of values=-0.07746,expected max of values=0.07746\n"
     ]
    }
   ],
   "source": [
    "#Lets check min and max\n",
    "print(f\"Min of values={np.min(values):.4},max of values={np.max(values):.4},expected min of values={-np.sqrt(6/1000):.4},expected max of values={np.sqrt(6/1000.0):.4}\")"
   ]
  },
  {
   "cell_type": "markdown",
   "metadata": {
    "id": "9sSgICfwdBI8"
   },
   "source": [
    "### Xavier Initialization\n",
    "\n",
    "**Xavier Initialization** is an older method or initializing parameters.\n",
    "\n",
    "http://proceedings.mlr.press/v9/glorot10a/glorot10a.pdf\n",
    "\n",
    "He recommends initialzing weights with stdev = $\\sqrt{\\frac{1}{\\text{dimension of the previous layer}}}$"
   ]
  },
  {
   "cell_type": "code",
   "execution_count": 6,
   "metadata": {
    "id": "Q3752nJYaMQN"
   },
   "outputs": [],
   "source": [
    "initializer = tf.keras.initializers.GlorotNormal()\n",
    "values = initializer(shape=(1000, 1000))"
   ]
  },
  {
   "cell_type": "code",
   "execution_count": 7,
   "metadata": {
    "colab": {
     "base_uri": "https://localhost:8080/",
     "height": 34
    },
    "id": "tLLZcq9UaWu0",
    "outputId": "86ddc7d1-20ab-4108-f9fe-ef9a6de73124"
   },
   "outputs": [
    {
     "name": "stdout",
     "output_type": "stream",
     "text": [
      "Standard deviation of values=0.03161 Expected Standard deviation=0.03162\n"
     ]
    }
   ],
   "source": [
    "#Lets check the stdev of the values\n",
    "print(f\"Standard deviation of values={np.std(values):.4} Expected Standard deviation={np.sqrt(1/1000.0):.4}\")"
   ]
  },
  {
   "cell_type": "markdown",
   "metadata": {
    "id": "iCBF1VPpdw-3"
   },
   "source": [
    "**Xavier Initialization** for uniform random variables is within the [-limit,limit] where limit = $\\sqrt{\\frac{6}{\\text{dimension of previous layer} + \\text{dimension of current layer}}}$"
   ]
  },
  {
   "cell_type": "code",
   "execution_count": 8,
   "metadata": {
    "id": "jTNg3VG0dtjQ"
   },
   "outputs": [],
   "source": [
    "initializer = tf.keras.initializers.GlorotUniform()\n",
    "values = initializer(shape=(1000, 2000))"
   ]
  },
  {
   "cell_type": "code",
   "execution_count": 9,
   "metadata": {
    "colab": {
     "base_uri": "https://localhost:8080/",
     "height": 34
    },
    "id": "TWzpLHO1ekcI",
    "outputId": "91d9dc9f-e09c-4c80-8fdc-4709a4f02ea8"
   },
   "outputs": [
    {
     "name": "stdout",
     "output_type": "stream",
     "text": [
      "Min of values=-0.04472,max of values=0.04472,expected min of values=-0.04472,expected max of values=0.04472\n"
     ]
    }
   ],
   "source": [
    "#Lets check min and max\n",
    "print(f\"Min of values={np.min(values):.4},max of values={np.max(values):.4},expected min of values={-np.sqrt(6/3000):.4},expected max of values={np.sqrt(6/3000.0):.4}\")"
   ]
  },
  {
   "cell_type": "markdown",
   "metadata": {
    "id": "54Q0OA8dfIqj"
   },
   "source": [
    "### Everythings works as expected"
   ]
  }
 ],
 "metadata": {
  "colab": {
   "name": "ANN-Initialization.ipynb",
   "provenance": []
  },
  "kernelspec": {
   "display_name": "Python 3",
   "language": "python",
   "name": "python3"
  },
  "language_info": {
   "codemirror_mode": {
    "name": "ipython",
    "version": 3
   },
   "file_extension": ".py",
   "mimetype": "text/x-python",
   "name": "python",
   "nbconvert_exporter": "python",
   "pygments_lexer": "ipython3",
   "version": "3.8.3"
  },
  "latex_envs": {
   "LaTeX_envs_menu_present": true,
   "autoclose": false,
   "autocomplete": true,
   "bibliofile": "biblio.bib",
   "cite_by": "apalike",
   "current_citInitial": 1,
   "eqLabelWithNumbers": true,
   "eqNumInitial": 1,
   "hotkeys": {
    "equation": "Ctrl-E",
    "itemize": "Ctrl-I"
   },
   "labels_anchors": false,
   "latex_user_defs": false,
   "report_style_numbering": false,
   "user_envs_cfg": false
  },
  "toc": {
   "base_numbering": 1,
   "nav_menu": {},
   "number_sections": false,
   "sideBar": true,
   "skip_h1_title": true,
   "title_cell": "Table of Contents",
   "title_sidebar": "Contents",
   "toc_cell": true,
   "toc_position": {},
   "toc_section_display": true,
   "toc_window_display": false
  }
 },
 "nbformat": 4,
 "nbformat_minor": 1
}
