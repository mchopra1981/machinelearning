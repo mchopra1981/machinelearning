{
  "nbformat": 4,
  "nbformat_minor": 0,
  "metadata": {
    "accelerator": "GPU",
    "colab": {
      "name": "TensorFlow_GANs.ipynb",
      "provenance": []
    },
    "kernelspec": {
      "display_name": "Python 3",
      "language": "python",
      "name": "python3"
    },
    "language_info": {
      "codemirror_mode": {
        "name": "ipython",
        "version": 3
      },
      "file_extension": ".py",
      "mimetype": "text/x-python",
      "name": "python",
      "nbconvert_exporter": "python",
      "pygments_lexer": "ipython3",
      "version": "3.8.3"
    },
    "latex_envs": {
      "LaTeX_envs_menu_present": true,
      "autoclose": false,
      "autocomplete": true,
      "bibliofile": "biblio.bib",
      "cite_by": "apalike",
      "current_citInitial": 1,
      "eqLabelWithNumbers": true,
      "eqNumInitial": 1,
      "hotkeys": {
        "equation": "Ctrl-E",
        "itemize": "Ctrl-I"
      },
      "labels_anchors": false,
      "latex_user_defs": false,
      "report_style_numbering": false,
      "user_envs_cfg": false
    }
  },
  "cells": [
    {
      "cell_type": "markdown",
      "metadata": {
        "id": "2fcvNMONRTG7"
      },
      "source": [
        "## TensorFlow - GANs\n",
        "**GANs (Generative Adversarial Networks)** in a deep learning architecture for generating new data with the same distributions as training data. In this sheet we will train a **GAN** as described in the original paper of Ian Godfellow et. al.\n",
        "\n",
        "https://papers.nips.cc/paper/5423-generative-adversarial-nets.pdf"
      ]
    },
    {
      "cell_type": "code",
      "metadata": {
        "id": "ErdglMTBRKSF"
      },
      "source": [
        "import numpy as np\n",
        "import pandas as pd\n",
        "import matplotlib.pyplot as plt\n",
        "import tensorflow as tf\n",
        "\n",
        "from tensorflow.keras.layers import Input, Dense, LeakyReLU, Dropout, \\\n",
        "  BatchNormalization\n",
        "from tensorflow.keras.models import Model\n",
        "from tensorflow.keras.optimizers import SGD, Adam\n",
        "\n",
        "import sys, os"
      ],
      "execution_count": 1,
      "outputs": []
    },
    {
      "cell_type": "code",
      "metadata": {
        "colab": {
          "base_uri": "https://localhost:8080/"
        },
        "id": "0bi6WUQfAchE",
        "outputId": "2a0701b7-ab34-4e77-9953-12d547e3be9a"
      },
      "source": [
        "# Load in the data\n",
        "mnist = tf.keras.datasets.mnist\n",
        "\n",
        "(x_train, y_train), (x_test, y_test) = mnist.load_data()\n",
        "\n",
        "# map inputs to (-1, +1) for better training\n",
        "x_train, x_test = x_train / 255.0 * 2 - 1, x_test / 255.0 * 2 - 1\n",
        "print(\"x_train.shape:\", x_train.shape)"
      ],
      "execution_count": 2,
      "outputs": [
        {
          "output_type": "stream",
          "text": [
            "Downloading data from https://storage.googleapis.com/tensorflow/tf-keras-datasets/mnist.npz\n",
            "11493376/11490434 [==============================] - 0s 0us/step\n",
            "x_train.shape: (60000, 28, 28)\n"
          ],
          "name": "stdout"
        }
      ]
    },
    {
      "cell_type": "code",
      "metadata": {
        "id": "bfW3Cc2KAisb"
      },
      "source": [
        "# Flatten the data\n",
        "N, H, W = x_train.shape\n",
        "D = H * W\n",
        "x_train = x_train.reshape(-1, D)\n",
        "x_test = x_test.reshape(-1, D)"
      ],
      "execution_count": 3,
      "outputs": []
    },
    {
      "cell_type": "code",
      "metadata": {
        "id": "UVtROJpEAl19"
      },
      "source": [
        "# Dimensionality of the latent space\n",
        "latent_dim = 100"
      ],
      "execution_count": 4,
      "outputs": []
    },
    {
      "cell_type": "code",
      "metadata": {
        "id": "BFjNGFwIAoN6"
      },
      "source": [
        "# build the generator model\n",
        "def build_generator(latent_dim):\n",
        "    i = Input(shape=(latent_dim,))\n",
        "    x = Dense(256, activation=LeakyReLU(alpha=0.2))(i)\n",
        "    x = BatchNormalization(momentum=0.7)(x)\n",
        "    x = Dense(512, activation=LeakyReLU(alpha=0.2))(x)\n",
        "    x = BatchNormalization(momentum=0.7)(x)\n",
        "    x = Dense(1024, activation=LeakyReLU(alpha=0.2))(x)\n",
        "    x = BatchNormalization(momentum=0.7)(x)\n",
        "    x = Dense(D, activation='tanh')(x)\n",
        "\n",
        "    model = Model(i, x)\n",
        "    return model"
      ],
      "execution_count": 5,
      "outputs": []
    },
    {
      "cell_type": "code",
      "metadata": {
        "id": "oEcEVEAvAscA"
      },
      "source": [
        "# build the discriminator model\n",
        "def build_discriminator(img_size):\n",
        "    i = Input(shape=(img_size,))\n",
        "    x = Dense(512, activation=LeakyReLU(alpha=0.2))(i)\n",
        "    x = Dense(256, activation=LeakyReLU(alpha=0.2))(x)\n",
        "    x = Dense(1, activation='sigmoid')(x)\n",
        "    model = Model(i, x)\n",
        "    return model"
      ],
      "execution_count": 6,
      "outputs": []
    },
    {
      "cell_type": "code",
      "metadata": {
        "id": "Sb-0jqsnAv7R"
      },
      "source": [
        "# Compile both models in preparation for training\n",
        "\n",
        "# Build and compile the discriminator\n",
        "discriminator = build_discriminator(D)\n",
        "discriminator.compile(\n",
        "    loss='binary_crossentropy',\n",
        "    optimizer=Adam(0.0002, 0.5),\n",
        "    metrics=['accuracy'])\n",
        "\n",
        "# Build and compile the combined model\n",
        "generator = build_generator(latent_dim)\n",
        "\n",
        "# Create an input to represent noise sample from latent space\n",
        "z = Input(shape=(latent_dim,))\n",
        "\n",
        "# Pass noise through generator to get an image\n",
        "img = generator(z)\n",
        "\n",
        "# Make sure only the generator is trained\n",
        "discriminator.trainable = False\n",
        "\n",
        "# The true output is fake, but we label them real!\n",
        "fake_pred = discriminator(img)\n",
        "\n",
        "# Create the combined model object\n",
        "combined_model = Model(z, fake_pred)\n",
        "\n",
        "# Compile the combined model\n",
        "combined_model.compile(loss='binary_crossentropy', optimizer=Adam(0.0002, 0.5))"
      ],
      "execution_count": 7,
      "outputs": []
    },
    {
      "cell_type": "code",
      "metadata": {
        "id": "WQ08YoDqB47C"
      },
      "source": [
        "batch_size = 32\n",
        "epochs = 5000\n",
        "sample_period = 200 # every `sample_period` steps generate and save some data\n",
        "\n",
        "\n",
        "# Create batch labels to use when calling train_on_batch\n",
        "ones = np.ones(batch_size)\n",
        "zeros = np.zeros(batch_size)\n",
        "\n",
        "# Store the losses\n",
        "d_losses = []\n",
        "g_losses = []\n",
        "\n",
        "# Create a folder to store generated images\n",
        "if not os.path.exists('gan_images'):\n",
        "    os.makedirs('gan_images')"
      ],
      "execution_count": 8,
      "outputs": []
    },
    {
      "cell_type": "code",
      "metadata": {
        "id": "UhaBHLtNCHV3"
      },
      "source": [
        "# A function to generate a grid of random samples from the generator\n",
        "# and save them to a file\n",
        "def sample_images(epoch):\n",
        "    rows, cols = 5, 5\n",
        "    noise = np.random.randn(rows * cols, latent_dim)\n",
        "    imgs = generator.predict(noise)\n",
        "\n",
        "    # Rescale images 0 - 1\n",
        "    imgs = 0.5 * imgs + 0.5\n",
        "\n",
        "    fig, axs = plt.subplots(rows, cols)\n",
        "    idx = 0\n",
        "    for i in range(rows):\n",
        "        for j in range(cols):\n",
        "            axs[i,j].imshow(imgs[idx].reshape(H, W), cmap='gray')\n",
        "            axs[i,j].axis('off')\n",
        "        idx += 1\n",
        "    fig.savefig(\"gan_images/%d.png\" % epoch)\n",
        "    plt.close()"
      ],
      "execution_count": 9,
      "outputs": []
    },
    {
      "cell_type": "code",
      "metadata": {
        "colab": {
          "base_uri": "https://localhost:8080/"
        },
        "id": "Cj2RbbIYCWel",
        "outputId": "e65ada1c-7d2e-472f-c7e3-d849a0272329"
      },
      "source": [
        "# Main training loop\n",
        "for epoch in range(epochs):\n",
        "    ###########################\n",
        "    ### Train discriminator ###\n",
        "    ###########################\n",
        "  \n",
        "    # Select a random batch of images\n",
        "    idx = np.random.randint(0, x_train.shape[0], batch_size)\n",
        "    real_imgs = x_train[idx]\n",
        "  \n",
        "    # Generate fake images\n",
        "    noise = np.random.randn(batch_size, latent_dim)\n",
        "    fake_imgs = generator.predict(noise)\n",
        "  \n",
        "    # Train the discriminator\n",
        "    # both loss and accuracy are returned\n",
        "    d_loss_real, d_acc_real = discriminator.train_on_batch(real_imgs, ones)\n",
        "    d_loss_fake, d_acc_fake = discriminator.train_on_batch(fake_imgs, zeros)\n",
        "    d_loss = 0.5 * (d_loss_real + d_loss_fake)\n",
        "    d_acc  = 0.5 * (d_acc_real + d_acc_fake)\n",
        "  \n",
        "  \n",
        "    #######################\n",
        "    ### Train generator ###\n",
        "    #######################\n",
        "  \n",
        "    noise = np.random.randn(batch_size, latent_dim)\n",
        "    g_loss = combined_model.train_on_batch(noise, ones)\n",
        "  \n",
        "    # do it again!\n",
        "    noise = np.random.randn(batch_size, latent_dim)\n",
        "    g_loss = combined_model.train_on_batch(noise, ones)\n",
        "  \n",
        "    # Save the losses\n",
        "    d_losses.append(d_loss)\n",
        "    g_losses.append(g_loss)\n",
        "  \n",
        "    if epoch % 100 == 0:\n",
        "        print(f\"epoch: {epoch+1}/{epochs}, d_loss: {d_loss:.2f}, \\\n",
        "        d_acc: {d_acc:.2f}, g_loss: {g_loss:.2f}\")\n",
        "  \n",
        "    if epoch % sample_period == 0:\n",
        "        print(f\"Saving image\")\n",
        "        sample_images(epoch)\n"
      ],
      "execution_count": 10,
      "outputs": [
        {
          "output_type": "stream",
          "text": [
            "epoch: 1/5000, d_loss: 0.76,         d_acc: 0.58, g_loss: 1.08\n",
            "Saving image\n",
            "epoch: 101/5000, d_loss: 0.02,         d_acc: 1.00, g_loss: 4.09\n",
            "epoch: 201/5000, d_loss: 0.99,         d_acc: 0.38, g_loss: 1.00\n",
            "Saving image\n",
            "epoch: 301/5000, d_loss: 0.74,         d_acc: 0.41, g_loss: 0.61\n",
            "epoch: 401/5000, d_loss: 0.69,         d_acc: 0.50, g_loss: 0.65\n",
            "Saving image\n",
            "epoch: 501/5000, d_loss: 0.66,         d_acc: 0.53, g_loss: 0.66\n",
            "epoch: 601/5000, d_loss: 0.69,         d_acc: 0.50, g_loss: 0.68\n",
            "Saving image\n",
            "epoch: 701/5000, d_loss: 0.68,         d_acc: 0.45, g_loss: 0.67\n",
            "epoch: 801/5000, d_loss: 0.66,         d_acc: 0.62, g_loss: 0.71\n",
            "Saving image\n",
            "epoch: 901/5000, d_loss: 0.69,         d_acc: 0.52, g_loss: 0.73\n",
            "epoch: 1001/5000, d_loss: 0.66,         d_acc: 0.53, g_loss: 0.72\n",
            "Saving image\n",
            "epoch: 1101/5000, d_loss: 0.64,         d_acc: 0.69, g_loss: 0.75\n",
            "epoch: 1201/5000, d_loss: 0.68,         d_acc: 0.47, g_loss: 0.75\n",
            "Saving image\n",
            "epoch: 1301/5000, d_loss: 0.64,         d_acc: 0.61, g_loss: 0.79\n",
            "epoch: 1401/5000, d_loss: 0.65,         d_acc: 0.70, g_loss: 0.82\n",
            "Saving image\n",
            "epoch: 1501/5000, d_loss: 0.68,         d_acc: 0.62, g_loss: 0.81\n",
            "epoch: 1601/5000, d_loss: 0.62,         d_acc: 0.67, g_loss: 0.75\n",
            "Saving image\n",
            "epoch: 1701/5000, d_loss: 0.66,         d_acc: 0.52, g_loss: 0.76\n",
            "epoch: 1801/5000, d_loss: 0.61,         d_acc: 0.70, g_loss: 0.85\n",
            "Saving image\n",
            "epoch: 1901/5000, d_loss: 0.66,         d_acc: 0.58, g_loss: 0.74\n",
            "epoch: 2001/5000, d_loss: 0.67,         d_acc: 0.61, g_loss: 0.81\n",
            "Saving image\n",
            "epoch: 2101/5000, d_loss: 0.68,         d_acc: 0.56, g_loss: 0.77\n",
            "epoch: 2201/5000, d_loss: 0.65,         d_acc: 0.61, g_loss: 0.81\n",
            "Saving image\n",
            "epoch: 2301/5000, d_loss: 0.66,         d_acc: 0.64, g_loss: 0.78\n",
            "epoch: 2401/5000, d_loss: 0.68,         d_acc: 0.55, g_loss: 0.76\n",
            "Saving image\n",
            "epoch: 2501/5000, d_loss: 0.63,         d_acc: 0.73, g_loss: 0.79\n",
            "epoch: 2601/5000, d_loss: 0.66,         d_acc: 0.61, g_loss: 0.78\n",
            "Saving image\n",
            "epoch: 2701/5000, d_loss: 0.68,         d_acc: 0.59, g_loss: 0.75\n",
            "epoch: 2801/5000, d_loss: 0.70,         d_acc: 0.56, g_loss: 0.82\n",
            "Saving image\n",
            "epoch: 2901/5000, d_loss: 0.70,         d_acc: 0.58, g_loss: 0.78\n",
            "epoch: 3001/5000, d_loss: 0.69,         d_acc: 0.58, g_loss: 0.84\n",
            "Saving image\n",
            "epoch: 3101/5000, d_loss: 0.69,         d_acc: 0.52, g_loss: 0.80\n",
            "epoch: 3201/5000, d_loss: 0.68,         d_acc: 0.62, g_loss: 0.79\n",
            "Saving image\n",
            "epoch: 3301/5000, d_loss: 0.66,         d_acc: 0.59, g_loss: 0.78\n",
            "epoch: 3401/5000, d_loss: 0.67,         d_acc: 0.56, g_loss: 0.81\n",
            "Saving image\n",
            "epoch: 3501/5000, d_loss: 0.69,         d_acc: 0.55, g_loss: 0.82\n",
            "epoch: 3601/5000, d_loss: 0.70,         d_acc: 0.55, g_loss: 0.82\n",
            "Saving image\n",
            "epoch: 3701/5000, d_loss: 0.67,         d_acc: 0.59, g_loss: 0.75\n",
            "epoch: 3801/5000, d_loss: 0.71,         d_acc: 0.52, g_loss: 0.76\n",
            "Saving image\n",
            "epoch: 3901/5000, d_loss: 0.69,         d_acc: 0.53, g_loss: 0.78\n",
            "epoch: 4001/5000, d_loss: 0.65,         d_acc: 0.55, g_loss: 0.80\n",
            "Saving image\n",
            "epoch: 4101/5000, d_loss: 0.67,         d_acc: 0.61, g_loss: 0.77\n",
            "epoch: 4201/5000, d_loss: 0.67,         d_acc: 0.62, g_loss: 0.76\n",
            "Saving image\n",
            "epoch: 4301/5000, d_loss: 0.68,         d_acc: 0.56, g_loss: 0.79\n",
            "epoch: 4401/5000, d_loss: 0.72,         d_acc: 0.47, g_loss: 0.77\n",
            "Saving image\n",
            "epoch: 4501/5000, d_loss: 0.67,         d_acc: 0.53, g_loss: 0.81\n",
            "epoch: 4601/5000, d_loss: 0.72,         d_acc: 0.45, g_loss: 0.78\n",
            "Saving image\n",
            "epoch: 4701/5000, d_loss: 0.70,         d_acc: 0.47, g_loss: 0.76\n",
            "epoch: 4801/5000, d_loss: 0.68,         d_acc: 0.62, g_loss: 0.76\n",
            "Saving image\n",
            "epoch: 4901/5000, d_loss: 0.68,         d_acc: 0.53, g_loss: 0.77\n"
          ],
          "name": "stdout"
        }
      ]
    },
    {
      "cell_type": "code",
      "metadata": {
        "colab": {
          "base_uri": "https://localhost:8080/",
          "height": 282
        },
        "id": "l38S-RWBC2_V",
        "outputId": "087efabf-e6f1-4e27-a34d-464fc1d46136"
      },
      "source": [
        "plt.plot(g_losses, label='g_losses')\n",
        "plt.plot(d_losses, label='d_losses')\n",
        "plt.legend()"
      ],
      "execution_count": 11,
      "outputs": [
        {
          "output_type": "execute_result",
          "data": {
            "text/plain": [
              "<matplotlib.legend.Legend at 0x7f8822674940>"
            ]
          },
          "metadata": {
            "tags": []
          },
          "execution_count": 11
        },
        {
          "output_type": "display_data",
          "data": {
            "image/png": "[encoded data removed]",
            "text/plain": [
              "<Figure size 432x288 with 1 Axes>"
            ]
          },
          "metadata": {
            "tags": [],
            "needs_background": "light"
          }
        }
      ]
    },
    {
      "cell_type": "code",
      "metadata": {
        "colab": {
          "base_uri": "https://localhost:8080/",
          "height": 286
        },
        "id": "cYg4VVVpC3dg",
        "outputId": "ac9b9042-e970-43e1-b718-73b09dc132c1"
      },
      "source": [
        "from skimage.io import imread\n",
        "a = imread('gan_images/4800.png')\n",
        "plt.imshow(a)"
      ],
      "execution_count": 12,
      "outputs": [
        {
          "output_type": "execute_result",
          "data": {
            "text/plain": [
              "<matplotlib.image.AxesImage at 0x7f881fcefeb8>"
            ]
          },
          "metadata": {
            "tags": []
          },
          "execution_count": 12
        },
        {
          "output_type": "display_data",
          "data": {
            "image/png": "[encoded data removed]",
            "text/plain": [
              "<Figure size 432x288 with 1 Axes>"
            ]
          },
          "metadata": {
            "tags": [],
            "needs_background": "light"
          }
        }
      ]
    },
    {
      "cell_type": "markdown",
      "metadata": {
        "id": "DxzFicR04bHQ"
      },
      "source": [
        "We get pretty realistic images from the GAN."
      ]
    }
  ]
}