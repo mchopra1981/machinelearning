{
 "cells": [
  {
   "cell_type": "markdown",
   "metadata": {},
   "source": [
    "## PyTorch-AlexNet"
   ]
  },
  {
   "cell_type": "markdown",
   "metadata": {},
   "source": [
    "**AlexNet** is the name of a CNN, designed by Alex Krizhevsky, Ilya Sutskever and Geoffrey Hinton. **AlexNet** was the first deep neural network which won the imagenet competition and arguably started the modern deep learning revolution. In the notebook below we will explore **AlexNet** architecture.\n",
    "\n",
    "https://papers.nips.cc/paper/4824-imagenet-classification-with-deep-convolutional-neural-networks.pdf"
   ]
  },
  {
   "cell_type": "code",
   "execution_count": 1,
   "metadata": {
    "ExecuteTime": {
     "end_time": "2020-09-18T21:20:35.798768Z",
     "start_time": "2020-09-18T21:20:31.423144Z"
    }
   },
   "outputs": [],
   "source": [
    "#Perform imports\n",
    "import torch\n",
    "import torch.nn as nn\n",
    "import torch.nn.functional as F\n",
    "from torch.utils.data import DataLoader\n",
    "from torchvision import datasets, transforms\n",
    "from torchvision.utils import make_grid\n",
    "\n",
    "import numpy as np\n",
    "import pandas as pd\n",
    "from sklearn.metrics import confusion_matrix\n",
    "import matplotlib.pyplot as plt\n",
    "%matplotlib inline"
   ]
  },
  {
   "cell_type": "code",
   "execution_count": 2,
   "metadata": {
    "ExecuteTime": {
     "end_time": "2020-09-18T21:20:35.808946Z",
     "start_time": "2020-09-18T21:20:35.801694Z"
    }
   },
   "outputs": [],
   "source": [
    "#Import models\n",
    "from torchvision import models"
   ]
  },
  {
   "cell_type": "code",
   "execution_count": 3,
   "metadata": {
    "ExecuteTime": {
     "end_time": "2020-09-18T21:20:36.755880Z",
     "start_time": "2020-09-18T21:20:35.816072Z"
    }
   },
   "outputs": [],
   "source": [
    "alexnet = models.alexnet(pretrained=True)"
   ]
  },
  {
   "cell_type": "code",
   "execution_count": 4,
   "metadata": {
    "ExecuteTime": {
     "end_time": "2020-09-18T21:20:36.774452Z",
     "start_time": "2020-09-18T21:20:36.759534Z"
    }
   },
   "outputs": [
    {
     "data": {
      "text/plain": [
       "AlexNet(\n",
       "  (features): Sequential(\n",
       "    (0): Conv2d(3, 64, kernel_size=(11, 11), stride=(4, 4), padding=(2, 2))\n",
       "    (1): ReLU(inplace=True)\n",
       "    (2): MaxPool2d(kernel_size=3, stride=2, padding=0, dilation=1, ceil_mode=False)\n",
       "    (3): Conv2d(64, 192, kernel_size=(5, 5), stride=(1, 1), padding=(2, 2))\n",
       "    (4): ReLU(inplace=True)\n",
       "    (5): MaxPool2d(kernel_size=3, stride=2, padding=0, dilation=1, ceil_mode=False)\n",
       "    (6): Conv2d(192, 384, kernel_size=(3, 3), stride=(1, 1), padding=(1, 1))\n",
       "    (7): ReLU(inplace=True)\n",
       "    (8): Conv2d(384, 256, kernel_size=(3, 3), stride=(1, 1), padding=(1, 1))\n",
       "    (9): ReLU(inplace=True)\n",
       "    (10): Conv2d(256, 256, kernel_size=(3, 3), stride=(1, 1), padding=(1, 1))\n",
       "    (11): ReLU(inplace=True)\n",
       "    (12): MaxPool2d(kernel_size=3, stride=2, padding=0, dilation=1, ceil_mode=False)\n",
       "  )\n",
       "  (avgpool): AdaptiveAvgPool2d(output_size=(6, 6))\n",
       "  (classifier): Sequential(\n",
       "    (0): Dropout(p=0.5, inplace=False)\n",
       "    (1): Linear(in_features=9216, out_features=4096, bias=True)\n",
       "    (2): ReLU(inplace=True)\n",
       "    (3): Dropout(p=0.5, inplace=False)\n",
       "    (4): Linear(in_features=4096, out_features=4096, bias=True)\n",
       "    (5): ReLU(inplace=True)\n",
       "    (6): Linear(in_features=4096, out_features=1000, bias=True)\n",
       "  )\n",
       ")"
      ]
     },
     "execution_count": 4,
     "metadata": {},
     "output_type": "execute_result"
    }
   ],
   "source": [
    "alexnet"
   ]
  },
  {
   "cell_type": "markdown",
   "metadata": {},
   "source": [
    "Above we can see the layers of **AlexNet**. AlexNet has five Convolutional layers, it has three fully connected layers. After every convolutional layer there is a MaxPool layer. Max. pool layers have a dilation of 1. Dilation is explained here very nicely https://github.com/vdumoulin/conv_arithmetic/blob/master/README.md. \n",
    "After the convolutional layers there is an AdaptiveAvgPool2d layer. That is an average pool layer with output size of (6,6). After these layers there are fully connected layers."
   ]
  },
  {
   "cell_type": "code",
   "execution_count": 5,
   "metadata": {
    "ExecuteTime": {
     "end_time": "2020-09-18T21:20:36.791096Z",
     "start_time": "2020-09-18T21:20:36.778568Z"
    }
   },
   "outputs": [
    {
     "name": "stdout",
     "output_type": "stream",
     "text": [
      " 23232\n",
      "    64\n",
      "307200\n",
      "   192\n",
      "663552\n",
      "   384\n",
      "884736\n",
      "   256\n",
      "589824\n",
      "   256\n",
      "37748736\n",
      "  4096\n",
      "16777216\n",
      "  4096\n",
      "4096000\n",
      "  1000\n",
      "______\n",
      "61100840\n"
     ]
    }
   ],
   "source": [
    "#lets count the number of parameters in the model\n",
    "def count_parameters(model):\n",
    "    params = [p.numel() for p in model.parameters() if p.requires_grad]\n",
    "    for item in params:\n",
    "        print(f'{item:>6}')\n",
    "    print(f'______\\n{sum(params):>6}')\n",
    "count_parameters(alexnet)"
   ]
  },
  {
   "cell_type": "markdown",
   "metadata": {},
   "source": [
    "There are 61 million parameters in the model."
   ]
  },
  {
   "cell_type": "code",
   "execution_count": 6,
   "metadata": {
    "ExecuteTime": {
     "end_time": "2020-09-18T21:20:36.830511Z",
     "start_time": "2020-09-18T21:20:36.794730Z"
    }
   },
   "outputs": [],
   "source": [
    "#Lets implement AlexNet model from scratch\n",
    "class AlexNetClone(nn.Module):\n",
    "    def __init__(self):\n",
    "        super().__init__()\n",
    "        self.conv1 = nn.Conv2d(3, 64, 11, 4, 2) \n",
    "        self.conv2 = nn.Conv2d(64, 192, 5, 1, 2)\n",
    "        self.conv3 = nn.Conv2d(192, 384, 3, 1, 1)\n",
    "        self.conv4 = nn.Conv2d(384, 256, 3, 1, 1)\n",
    "        self.conv5 = nn.Conv2d(256, 256, 3, 1, 1)\n",
    "        \n",
    "        \n",
    "        self.fc1 = nn.Linear(9216,4096)\n",
    "        self.fc2 = nn.Linear(4096,4096)\n",
    "        self.fc3 = nn.Linear(4096,1000)\n",
    "\n",
    "    def forward(self, X):\n",
    "        X = F.relu(self.conv1(X))\n",
    "        X = F.max_pool2d(X, kernel_size=3, stride=2, padding=0, dilation=1, ceil_mode=False)\n",
    "        X = F.relu(self.conv2(X))\n",
    "        X = F.max_pool2d(X, kernel_size=3, stride=2, padding=0, dilation=1, ceil_mode=False)\n",
    "        X = F.relu(self.conv3(X))\n",
    "        X = F.relu(self.conv4(X))\n",
    "        X = F.relu(self.conv5(X))\n",
    "        X = F.max_pool2d(X, kernel_size=3, stride=2, padding=0, dilation=1, ceil_mode=False)\n",
    "        X = F.AdaptiveAvgPool2d(X, output_size=(6, 6))\n",
    "        \n",
    "        X = X.view(-1, 9216)\n",
    "        X = F.dropout(X, p=0.5)\n",
    "        X = F.relu(self.fc1(X))\n",
    "        X = F.dropout(X, p=0.5)\n",
    "        X = F.relu(self.fc2(X))\n",
    "        X = self.fc3(X)\n",
    "        return F.log_softmax(X, dim=1)"
   ]
  },
  {
   "cell_type": "code",
   "execution_count": 7,
   "metadata": {
    "ExecuteTime": {
     "end_time": "2020-09-18T21:20:37.244533Z",
     "start_time": "2020-09-18T21:20:36.840695Z"
    }
   },
   "outputs": [
    {
     "name": "stdout",
     "output_type": "stream",
     "text": [
      " 23232\n",
      "    64\n",
      "307200\n",
      "   192\n",
      "663552\n",
      "   384\n",
      "884736\n",
      "   256\n",
      "589824\n",
      "   256\n",
      "37748736\n",
      "  4096\n",
      "16777216\n",
      "  4096\n",
      "4096000\n",
      "  1000\n",
      "______\n",
      "61100840\n"
     ]
    }
   ],
   "source": [
    "alexNetClone = AlexNetClone()\n",
    "def count_parameters(model):\n",
    "    params = [p.numel() for p in model.parameters() if p.requires_grad]\n",
    "    for item in params:\n",
    "        print(f'{item:>6}')\n",
    "    print(f'______\\n{sum(params):>6}')\n",
    "count_parameters(alexNetClone)"
   ]
  },
  {
   "cell_type": "markdown",
   "metadata": {},
   "source": [
    "Our AlexnetClone exactly matches PyTorch's AlexNet."
   ]
  },
  {
   "cell_type": "markdown",
   "metadata": {},
   "source": [
    "### Lets apply **AlexNet** on **CIFAR-10** dataset"
   ]
  },
  {
   "cell_type": "code",
   "execution_count": 8,
   "metadata": {
    "ExecuteTime": {
     "end_time": "2020-09-18T21:20:38.946811Z",
     "start_time": "2020-09-18T21:20:37.267954Z"
    }
   },
   "outputs": [
    {
     "name": "stdout",
     "output_type": "stream",
     "text": [
      "Files already downloaded and verified\n",
      "Files already downloaded and verified\n"
     ]
    }
   ],
   "source": [
    "#Download the dataset and transform them to the format for AlexNet\n",
    "train_transform = transforms.Compose([\n",
    "        transforms.Resize(224),             # resize shortest side to 224 pixels\n",
    "        transforms.CenterCrop(224),         # crop longest side to 224 pixels at center\n",
    "        transforms.ToTensor(),\n",
    "        transforms.Normalize([0.485, 0.456, 0.406],\n",
    "                             [0.229, 0.224, 0.225])\n",
    "    ])\n",
    "\n",
    "test_transform = transforms.Compose([\n",
    "        transforms.Resize(224),\n",
    "        transforms.CenterCrop(224),\n",
    "        transforms.ToTensor(),\n",
    "        transforms.Normalize([0.485, 0.456, 0.406],\n",
    "                             [0.229, 0.224, 0.225])\n",
    "    ])\n",
    "\n",
    "train_data = datasets.CIFAR10(root='./', train=True, download=True, transform=train_transform)\n",
    "test_data = datasets.CIFAR10(root='./', train=False, download=True, transform=test_transform)"
   ]
  },
  {
   "cell_type": "code",
   "execution_count": 9,
   "metadata": {
    "ExecuteTime": {
     "end_time": "2020-09-18T21:20:38.961325Z",
     "start_time": "2020-09-18T21:20:38.950217Z"
    }
   },
   "outputs": [
    {
     "data": {
      "text/plain": [
       "Dataset CIFAR10\n",
       "    Number of datapoints: 50000\n",
       "    Root location: ./\n",
       "    Split: Train\n",
       "    StandardTransform\n",
       "Transform: Compose(\n",
       "               Resize(size=224, interpolation=PIL.Image.BILINEAR)\n",
       "               CenterCrop(size=(224, 224))\n",
       "               ToTensor()\n",
       "               Normalize(mean=[0.485, 0.456, 0.406], std=[0.229, 0.224, 0.225])\n",
       "           )"
      ]
     },
     "execution_count": 9,
     "metadata": {},
     "output_type": "execute_result"
    }
   ],
   "source": [
    "train_data"
   ]
  },
  {
   "cell_type": "code",
   "execution_count": 10,
   "metadata": {
    "ExecuteTime": {
     "end_time": "2020-09-18T21:20:38.975159Z",
     "start_time": "2020-09-18T21:20:38.965245Z"
    }
   },
   "outputs": [
    {
     "data": {
      "text/plain": [
       "Dataset CIFAR10\n",
       "    Number of datapoints: 10000\n",
       "    Root location: ./\n",
       "    Split: Test\n",
       "    StandardTransform\n",
       "Transform: Compose(\n",
       "               Resize(size=224, interpolation=PIL.Image.BILINEAR)\n",
       "               CenterCrop(size=(224, 224))\n",
       "               ToTensor()\n",
       "               Normalize(mean=[0.485, 0.456, 0.406], std=[0.229, 0.224, 0.225])\n",
       "           )"
      ]
     },
     "execution_count": 10,
     "metadata": {},
     "output_type": "execute_result"
    }
   ],
   "source": [
    "test_data"
   ]
  },
  {
   "cell_type": "code",
   "execution_count": 11,
   "metadata": {
    "ExecuteTime": {
     "end_time": "2020-09-18T21:20:39.003903Z",
     "start_time": "2020-09-18T21:20:38.978372Z"
    }
   },
   "outputs": [],
   "source": [
    "#Create dataloaders\n",
    "torch.manual_seed(101)  # for reproducible results\n",
    "\n",
    "train_loader = DataLoader(train_data, batch_size=10, shuffle=True)\n",
    "test_loader = DataLoader(test_data, batch_size=10, shuffle=False)"
   ]
  },
  {
   "cell_type": "code",
   "execution_count": 12,
   "metadata": {
    "ExecuteTime": {
     "end_time": "2020-09-18T21:20:39.012977Z",
     "start_time": "2020-09-18T21:20:39.006749Z"
    }
   },
   "outputs": [],
   "source": [
    "#Lets update the classification layer of AlexNet to take in CIFAR-10 dataset\n",
    "for param in alexnet.parameters():\n",
    "    param.requires_grad = False"
   ]
  },
  {
   "cell_type": "code",
   "execution_count": 13,
   "metadata": {
    "ExecuteTime": {
     "end_time": "2020-09-18T21:20:39.142059Z",
     "start_time": "2020-09-18T21:20:39.017155Z"
    }
   },
   "outputs": [],
   "source": [
    "torch.manual_seed(42)\n",
    "alexnet.classifier = nn.Sequential(nn.Linear(9216, 1024),\n",
    "                                 nn.ReLU(),\n",
    "                                 nn.Dropout(0.5),\n",
    "                                 nn.Linear(1024, 10),\n",
    "                                 nn.LogSoftmax(dim=1))"
   ]
  },
  {
   "cell_type": "code",
   "execution_count": 14,
   "metadata": {
    "ExecuteTime": {
     "end_time": "2020-09-18T21:20:39.152375Z",
     "start_time": "2020-09-18T21:20:39.144543Z"
    }
   },
   "outputs": [
    {
     "name": "stdout",
     "output_type": "stream",
     "text": [
      "9437184\n",
      "  1024\n",
      " 10240\n",
      "    10\n",
      "______\n",
      "9448458\n"
     ]
    }
   ],
   "source": [
    "#Count parameters\n",
    "count_parameters(alexnet)"
   ]
  },
  {
   "cell_type": "markdown",
   "metadata": {},
   "source": [
    "Parameters to train are much less than the full AlexNet"
   ]
  },
  {
   "cell_type": "code",
   "execution_count": 15,
   "metadata": {
    "ExecuteTime": {
     "end_time": "2020-09-18T21:20:39.174314Z",
     "start_time": "2020-09-18T21:20:39.160423Z"
    }
   },
   "outputs": [],
   "source": [
    "#Define the loss function and optimizer\n",
    "criterion = nn.CrossEntropyLoss()\n",
    "optimizer = torch.optim.Adam(alexnet.classifier.parameters(), lr=0.001)"
   ]
  },
  {
   "cell_type": "code",
   "execution_count": 16,
   "metadata": {
    "ExecuteTime": {
     "end_time": "2020-09-18T21:20:39.205234Z",
     "start_time": "2020-09-18T21:20:39.181808Z"
    }
   },
   "outputs": [
    {
     "data": {
      "text/plain": [
       "torch.Size([3, 224, 224])"
      ]
     },
     "execution_count": 16,
     "metadata": {},
     "output_type": "execute_result"
    }
   ],
   "source": [
    "train_data[0][0].shape"
   ]
  },
  {
   "cell_type": "code",
   "execution_count": 17,
   "metadata": {
    "ExecuteTime": {
     "end_time": "2020-09-18T21:20:39.472959Z",
     "start_time": "2020-09-18T21:20:39.218887Z"
    }
   },
   "outputs": [
    {
     "data": {
      "text/plain": [
       "<matplotlib.image.AxesImage at 0x7faf2e969c10>"
      ]
     },
     "execution_count": 17,
     "metadata": {},
     "output_type": "execute_result"
    },
    {
     "data": {
      "image/png": "[encoded data removed]",
      "text/plain": [
       "<Figure size 432x288 with 1 Axes>"
      ]
     },
     "metadata": {
      "needs_background": "light"
     },
     "output_type": "display_data"
    }
   ],
   "source": [
    "inv_normalize = transforms.Normalize(\n",
    "    mean=[-0.485/0.229, -0.456/0.224, -0.406/0.225],\n",
    "    std=[1/0.229, 1/0.224, 1/0.225]\n",
    ")\n",
    "im_inv = inv_normalize(train_data[0][0])\n",
    "plt.imshow(np.transpose(im_inv, (1,2,0)))"
   ]
  },
  {
   "cell_type": "markdown",
   "metadata": {
    "ExecuteTime": {
     "end_time": "2020-09-18T21:16:30.080580Z",
     "start_time": "2020-09-18T21:16:30.072350Z"
    }
   },
   "source": [
    "CIFAR-10 are very low resolution images. Very different from the images on which AlexNet is trained on. Lets see how AlexNet performs on them."
   ]
  },
  {
   "cell_type": "code",
   "execution_count": 20,
   "metadata": {
    "ExecuteTime": {
     "end_time": "2020-09-18T21:55:49.452579Z",
     "start_time": "2020-09-18T21:30:35.597707Z"
    }
   },
   "outputs": [
    {
     "name": "stdout",
     "output_type": "stream",
     "text": [
      "epoch:  0  batch:  200 [  2000/8000]  loss: 1.47238207  accuracy:  69.900%\n",
      "epoch:  0  batch:  400 [  4000/8000]  loss: 0.80869359  accuracy:  69.325%\n",
      "epoch:  0  batch:  600 [  6000/8000]  loss: 0.49031729  accuracy:  69.033%\n",
      "epoch:  0  batch:  800 [  8000/8000]  loss: 0.95140779  accuracy:  69.025%\n",
      "epoch:  1  batch:  200 [  2000/8000]  loss: 1.01253569  accuracy:  70.450%\n",
      "epoch:  1  batch:  400 [  4000/8000]  loss: 1.60712171  accuracy:  71.000%\n",
      "epoch:  1  batch:  600 [  6000/8000]  loss: 1.09018540  accuracy:  71.000%\n",
      "epoch:  1  batch:  800 [  8000/8000]  loss: 0.95663863  accuracy:  71.013%\n",
      "epoch:  2  batch:  200 [  2000/8000]  loss: 0.31028634  accuracy:  73.950%\n",
      "epoch:  2  batch:  400 [  4000/8000]  loss: 1.14042544  accuracy:  73.425%\n",
      "epoch:  2  batch:  600 [  6000/8000]  loss: 0.73659503  accuracy:  73.383%\n",
      "epoch:  2  batch:  800 [  8000/8000]  loss: 1.25582957  accuracy:  73.112%\n",
      "\n",
      "Duration: 1514 seconds\n"
     ]
    }
   ],
   "source": [
    "#Lets train the model\n",
    "import time\n",
    "start_time = time.time()\n",
    "\n",
    "epochs = 3\n",
    "\n",
    "max_trn_batch = 800\n",
    "max_tst_batch = 300\n",
    "\n",
    "train_losses = []\n",
    "test_losses = []\n",
    "train_correct = []\n",
    "test_correct = []\n",
    "\n",
    "for i in range(epochs):\n",
    "    trn_corr = 0\n",
    "    tst_corr = 0\n",
    "    \n",
    "    # Run the training batches\n",
    "    for b, (X_train, y_train) in enumerate(train_loader):\n",
    "        if b == max_trn_batch:\n",
    "            break\n",
    "        b+=1\n",
    "        \n",
    "        # Apply the model\n",
    "        y_pred = alexnet(X_train)\n",
    "        loss = criterion(y_pred, y_train)\n",
    " \n",
    "        # Tally the number of correct predictions\n",
    "        predicted = torch.max(y_pred.data, 1)[1]\n",
    "        batch_corr = (predicted == y_train).sum()\n",
    "        trn_corr += batch_corr\n",
    "        \n",
    "        # Update parameters\n",
    "        optimizer.zero_grad()\n",
    "        loss.backward()\n",
    "        optimizer.step()\n",
    "\n",
    "        # Print interim results\n",
    "        if b%200 == 0:\n",
    "            print(f'epoch: {i:2}  batch: {b:4} [{10*b:6}/8000]  loss: {loss.item():10.8f}  \\\n",
    "accuracy: {trn_corr.item()*100/(10*b):7.3f}%')\n",
    "\n",
    "    train_losses.append(loss)\n",
    "    train_correct.append(trn_corr)\n",
    "\n",
    "    # Run the testing batches\n",
    "    with torch.no_grad():\n",
    "        for b, (X_test, y_test) in enumerate(test_loader):\n",
    "            if b == max_tst_batch:\n",
    "                break\n",
    "\n",
    "            # Apply the model\n",
    "            y_val = alexnet(X_test)\n",
    "\n",
    "            # Tally the number of correct predictions\n",
    "            predicted = torch.max(y_val.data, 1)[1] \n",
    "            tst_corr += (predicted == y_test).sum()\n",
    "\n",
    "    loss = criterion(y_val, y_test)\n",
    "    test_losses.append(loss)\n",
    "    test_correct.append(tst_corr)\n",
    "\n",
    "print(f'\\nDuration: {time.time() - start_time:.0f} seconds') # print the time elapsed"
   ]
  },
  {
   "cell_type": "code",
   "execution_count": 21,
   "metadata": {
    "ExecuteTime": {
     "end_time": "2020-09-18T21:55:49.461966Z",
     "start_time": "2020-09-18T21:55:49.455132Z"
    }
   },
   "outputs": [
    {
     "name": "stdout",
     "output_type": "stream",
     "text": [
      "[tensor(1882), tensor(2098), tensor(2069)]\n",
      "Test accuracy: 68.967%\n"
     ]
    }
   ],
   "source": [
    "print(test_correct)\n",
    "print(f'Test accuracy: {test_correct[-1].item()*100/3000:.3f}%')"
   ]
  }
 ],
 "metadata": {
  "kernelspec": {
   "display_name": "Python 3",
   "language": "python",
   "name": "python3"
  },
  "language_info": {
   "codemirror_mode": {
    "name": "ipython",
    "version": 3
   },
   "file_extension": ".py",
   "mimetype": "text/x-python",
   "name": "python",
   "nbconvert_exporter": "python",
   "pygments_lexer": "ipython3",
   "version": "3.8.3"
  },
  "latex_envs": {
   "LaTeX_envs_menu_present": true,
   "autoclose": false,
   "autocomplete": true,
   "bibliofile": "biblio.bib",
   "cite_by": "apalike",
   "current_citInitial": 1,
   "eqLabelWithNumbers": true,
   "eqNumInitial": 1,
   "hotkeys": {
    "equation": "Ctrl-E",
    "itemize": "Ctrl-I"
   },
   "labels_anchors": false,
   "latex_user_defs": false,
   "report_style_numbering": false,
   "user_envs_cfg": false
  },
  "toc": {
   "base_numbering": 1,
   "nav_menu": {},
   "number_sections": false,
   "sideBar": true,
   "skip_h1_title": false,
   "title_cell": "Table of Contents",
   "title_sidebar": "Contents",
   "toc_cell": false,
   "toc_position": {},
   "toc_section_display": true,
   "toc_window_display": false
  }
 },
 "nbformat": 4,
 "nbformat_minor": 4
}
