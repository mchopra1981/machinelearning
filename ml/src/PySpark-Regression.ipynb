{
 "cells": [
  {
   "cell_type": "markdown",
   "metadata": {},
   "source": [
    "## PySpark-Regression\n",
    "**PySpark** comes with a very powerful **MachineLearning** library called **MLLib**. In the notebook below we will use regression functions of MLLib."
   ]
  },
  {
   "cell_type": "code",
   "execution_count": 1,
   "metadata": {},
   "outputs": [],
   "source": [
    "#Lets import PySpark\n",
    "from pyspark.sql import SparkSession"
   ]
  },
  {
   "cell_type": "code",
   "execution_count": 2,
   "metadata": {},
   "outputs": [],
   "source": [
    "#Lets start a spark session\n",
    "spark = SparkSession.builder.appName('regression').getOrCreate()"
   ]
  },
  {
   "cell_type": "markdown",
   "metadata": {},
   "source": [
    "Load Seoul bike data\n",
    "\n",
    "https://archive.ics.uci.edu/ml/datasets/Seoul+Bike+Sharing+Demand"
   ]
  },
  {
   "cell_type": "code",
   "execution_count": 3,
   "metadata": {},
   "outputs": [],
   "source": [
    "df = spark.read.csv('../data/SeoulBikeData/SeoulBikeData.csv',\n",
    "                    header=True)"
   ]
  },
  {
   "cell_type": "code",
   "execution_count": 4,
   "metadata": {},
   "outputs": [
    {
     "name": "stdout",
     "output_type": "stream",
     "text": [
      "+----------+-----------------+----+---------------+-----------+----------------+----------------+-------------------------+-----------------------+------------+-------------+-------+----------+---------------+\n",
      "|      Date|Rented Bike Count|Hour|Temperature(�C)|Humidity(%)|Wind speed (m/s)|Visibility (10m)|Dew point temperature(�C)|Solar Radiation (MJ/m2)|Rainfall(mm)|Snowfall (cm)|Seasons|   Holiday|Functioning Day|\n",
      "+----------+-----------------+----+---------------+-----------+----------------+----------------+-------------------------+-----------------------+------------+-------------+-------+----------+---------------+\n",
      "|01/12/2017|              254|   0|           -5.2|         37|             2.2|            2000|                    -17.6|                      0|           0|            0| Winter|No Holiday|            Yes|\n",
      "|01/12/2017|              204|   1|           -5.5|         38|             0.8|            2000|                    -17.6|                      0|           0|            0| Winter|No Holiday|            Yes|\n",
      "|01/12/2017|              173|   2|             -6|         39|               1|            2000|                    -17.7|                      0|           0|            0| Winter|No Holiday|            Yes|\n",
      "|01/12/2017|              107|   3|           -6.2|         40|             0.9|            2000|                    -17.6|                      0|           0|            0| Winter|No Holiday|            Yes|\n",
      "|01/12/2017|               78|   4|             -6|         36|             2.3|            2000|                    -18.6|                      0|           0|            0| Winter|No Holiday|            Yes|\n",
      "|01/12/2017|              100|   5|           -6.4|         37|             1.5|            2000|                    -18.7|                      0|           0|            0| Winter|No Holiday|            Yes|\n",
      "|01/12/2017|              181|   6|           -6.6|         35|             1.3|            2000|                    -19.5|                      0|           0|            0| Winter|No Holiday|            Yes|\n",
      "|01/12/2017|              460|   7|           -7.4|         38|             0.9|            2000|                    -19.3|                      0|           0|            0| Winter|No Holiday|            Yes|\n",
      "|01/12/2017|              930|   8|           -7.6|         37|             1.1|            2000|                    -19.8|                   0.01|           0|            0| Winter|No Holiday|            Yes|\n",
      "|01/12/2017|              490|   9|           -6.5|         27|             0.5|            1928|                    -22.4|                   0.23|           0|            0| Winter|No Holiday|            Yes|\n",
      "|01/12/2017|              339|  10|           -3.5|         24|             1.2|            1996|                    -21.2|                   0.65|           0|            0| Winter|No Holiday|            Yes|\n",
      "|01/12/2017|              360|  11|           -0.5|         21|             1.3|            1936|                    -20.2|                   0.94|           0|            0| Winter|No Holiday|            Yes|\n",
      "|01/12/2017|              449|  12|            1.7|         23|             1.4|            2000|                    -17.2|                   1.11|           0|            0| Winter|No Holiday|            Yes|\n",
      "|01/12/2017|              451|  13|            2.4|         25|             1.6|            2000|                    -15.6|                   1.16|           0|            0| Winter|No Holiday|            Yes|\n",
      "|01/12/2017|              447|  14|              3|         26|               2|            2000|                    -14.6|                   1.01|           0|            0| Winter|No Holiday|            Yes|\n",
      "|01/12/2017|              463|  15|            2.1|         36|             3.2|            2000|                    -11.4|                   0.54|           0|            0| Winter|No Holiday|            Yes|\n",
      "|01/12/2017|              484|  16|            1.2|         54|             4.2|             793|                       -7|                   0.24|           0|            0| Winter|No Holiday|            Yes|\n",
      "|01/12/2017|              555|  17|            0.8|         58|             1.6|            2000|                     -6.5|                   0.08|           0|            0| Winter|No Holiday|            Yes|\n",
      "|01/12/2017|              862|  18|            0.6|         66|             1.4|            2000|                       -5|                      0|           0|            0| Winter|No Holiday|            Yes|\n",
      "|01/12/2017|              600|  19|              0|         77|             1.7|            2000|                     -3.5|                      0|           0|            0| Winter|No Holiday|            Yes|\n",
      "+----------+-----------------+----+---------------+-----------+----------------+----------------+-------------------------+-----------------------+------------+-------------+-------+----------+---------------+\n",
      "only showing top 20 rows\n",
      "\n"
     ]
    }
   ],
   "source": [
    "#Show the data\n",
    "df.show()"
   ]
  },
  {
   "cell_type": "code",
   "execution_count": 5,
   "metadata": {},
   "outputs": [
    {
     "name": "stdout",
     "output_type": "stream",
     "text": [
      "root\n",
      " |-- Date: string (nullable = true)\n",
      " |-- Rented Bike Count: string (nullable = true)\n",
      " |-- Hour: string (nullable = true)\n",
      " |-- Temperature(�C): string (nullable = true)\n",
      " |-- Humidity(%): string (nullable = true)\n",
      " |-- Wind speed (m/s): string (nullable = true)\n",
      " |-- Visibility (10m): string (nullable = true)\n",
      " |-- Dew point temperature(�C): string (nullable = true)\n",
      " |-- Solar Radiation (MJ/m2): string (nullable = true)\n",
      " |-- Rainfall(mm): string (nullable = true)\n",
      " |-- Snowfall (cm): string (nullable = true)\n",
      " |-- Seasons: string (nullable = true)\n",
      " |-- Holiday: string (nullable = true)\n",
      " |-- Functioning Day: string (nullable = true)\n",
      "\n"
     ]
    }
   ],
   "source": [
    "#printSchema\n",
    "df.printSchema()"
   ]
  },
  {
   "cell_type": "markdown",
   "metadata": {},
   "source": [
    "Note Spark infered all the columns as strings, below we will convert numeric columns to numeric types."
   ]
  },
  {
   "cell_type": "code",
   "execution_count": 6,
   "metadata": {},
   "outputs": [
    {
     "name": "stdout",
     "output_type": "stream",
     "text": [
      "['Date', 'Rented Bike Count', 'Hour', 'Temperature(�C)', 'Humidity(%)', 'Wind speed (m/s)', 'Visibility (10m)', 'Dew point temperature(�C)', 'Solar Radiation (MJ/m2)', 'Rainfall(mm)', 'Snowfall (cm)', 'Seasons', 'Holiday', 'Functioning Day']\n"
     ]
    }
   ],
   "source": [
    "#Get the column names\n",
    "print(df.columns)\n",
    "\n",
    "#Rename some Columns\n",
    "df = df.withColumnRenamed('Temperature(�C)','Temperature') \\\n",
    "        .withColumnRenamed('Humidity(%)','Humidity') \\\n",
    "        .withColumnRenamed('Dew point temperature(�C)', 'Dew point temperature')"
   ]
  },
  {
   "cell_type": "code",
   "execution_count": 7,
   "metadata": {},
   "outputs": [
    {
     "name": "stdout",
     "output_type": "stream",
     "text": [
      "['Date', 'Rented Bike Count', 'Hour', 'Temperature', 'Humidity', 'Wind speed (m/s)', 'Visibility (10m)', 'Dew point temperature', 'Solar Radiation (MJ/m2)', 'Rainfall(mm)', 'Snowfall (cm)', 'Seasons', 'Holiday', 'Functioning Day']\n"
     ]
    }
   ],
   "source": [
    "print(df.columns)"
   ]
  },
  {
   "cell_type": "code",
   "execution_count": 8,
   "metadata": {},
   "outputs": [],
   "source": [
    "#Convert the data to the types we want\n",
    "from pyspark.sql.types import (StructField, \n",
    "                               StringType, \n",
    "                               IntegerType,\n",
    "                               DateType,\n",
    "                               DoubleType,\n",
    "                               StructType)"
   ]
  },
  {
   "cell_type": "code",
   "execution_count": 9,
   "metadata": {},
   "outputs": [],
   "source": [
    "data_schema = [StructField('Date', StringType(), True), \n",
    "               StructField('Rented Bike Count', IntegerType(), True),\n",
    "               StructField('Hour', IntegerType(), True),\n",
    "               StructField('Temperature', DoubleType(), True),\n",
    "               StructField('Humidity', DoubleType(), True),\n",
    "               StructField('Wind speed (m/s)', DoubleType(), True),\n",
    "               StructField('Visibility (10m)', DoubleType(), True),\n",
    "               StructField('Dew point temperature', DoubleType(), True),\n",
    "               StructField('Solar Radiation (MJ/m2)', DoubleType(), True),\n",
    "               StructField('Rainfall(mm)', DoubleType(), True),\n",
    "               StructField('Snowfall (cm)', DoubleType(), True),\n",
    "               StructField('Seasons', StringType(), True),\n",
    "               StructField('Holiday', StringType(), True),\n",
    "               StructField('Functioning Day',  StringType(), True)\n",
    "              ]\n",
    "final_struct = StructType(fields=data_schema)"
   ]
  },
  {
   "cell_type": "markdown",
   "metadata": {},
   "source": [
    "Reload the data again with correct data types in schema"
   ]
  },
  {
   "cell_type": "code",
   "execution_count": 10,
   "metadata": {},
   "outputs": [],
   "source": [
    "df = spark.read.csv('../data/SeoulBikeData/SeoulBikeData.csv', header=True, schema=final_struct)"
   ]
  },
  {
   "cell_type": "code",
   "execution_count": 11,
   "metadata": {},
   "outputs": [
    {
     "name": "stdout",
     "output_type": "stream",
     "text": [
      "+----------+-----------------+----+-----------+--------+----------------+----------------+---------------------+-----------------------+------------+-------------+-------+----------+---------------+\n",
      "|      Date|Rented Bike Count|Hour|Temperature|Humidity|Wind speed (m/s)|Visibility (10m)|Dew point temperature|Solar Radiation (MJ/m2)|Rainfall(mm)|Snowfall (cm)|Seasons|   Holiday|Functioning Day|\n",
      "+----------+-----------------+----+-----------+--------+----------------+----------------+---------------------+-----------------------+------------+-------------+-------+----------+---------------+\n",
      "|01/12/2017|              254|   0|       -5.2|    37.0|             2.2|          2000.0|                -17.6|                    0.0|         0.0|          0.0| Winter|No Holiday|            Yes|\n",
      "|01/12/2017|              204|   1|       -5.5|    38.0|             0.8|          2000.0|                -17.6|                    0.0|         0.0|          0.0| Winter|No Holiday|            Yes|\n",
      "|01/12/2017|              173|   2|       -6.0|    39.0|             1.0|          2000.0|                -17.7|                    0.0|         0.0|          0.0| Winter|No Holiday|            Yes|\n",
      "|01/12/2017|              107|   3|       -6.2|    40.0|             0.9|          2000.0|                -17.6|                    0.0|         0.0|          0.0| Winter|No Holiday|            Yes|\n",
      "|01/12/2017|               78|   4|       -6.0|    36.0|             2.3|          2000.0|                -18.6|                    0.0|         0.0|          0.0| Winter|No Holiday|            Yes|\n",
      "|01/12/2017|              100|   5|       -6.4|    37.0|             1.5|          2000.0|                -18.7|                    0.0|         0.0|          0.0| Winter|No Holiday|            Yes|\n",
      "|01/12/2017|              181|   6|       -6.6|    35.0|             1.3|          2000.0|                -19.5|                    0.0|         0.0|          0.0| Winter|No Holiday|            Yes|\n",
      "|01/12/2017|              460|   7|       -7.4|    38.0|             0.9|          2000.0|                -19.3|                    0.0|         0.0|          0.0| Winter|No Holiday|            Yes|\n",
      "|01/12/2017|              930|   8|       -7.6|    37.0|             1.1|          2000.0|                -19.8|                   0.01|         0.0|          0.0| Winter|No Holiday|            Yes|\n",
      "|01/12/2017|              490|   9|       -6.5|    27.0|             0.5|          1928.0|                -22.4|                   0.23|         0.0|          0.0| Winter|No Holiday|            Yes|\n",
      "|01/12/2017|              339|  10|       -3.5|    24.0|             1.2|          1996.0|                -21.2|                   0.65|         0.0|          0.0| Winter|No Holiday|            Yes|\n",
      "|01/12/2017|              360|  11|       -0.5|    21.0|             1.3|          1936.0|                -20.2|                   0.94|         0.0|          0.0| Winter|No Holiday|            Yes|\n",
      "|01/12/2017|              449|  12|        1.7|    23.0|             1.4|          2000.0|                -17.2|                   1.11|         0.0|          0.0| Winter|No Holiday|            Yes|\n",
      "|01/12/2017|              451|  13|        2.4|    25.0|             1.6|          2000.0|                -15.6|                   1.16|         0.0|          0.0| Winter|No Holiday|            Yes|\n",
      "|01/12/2017|              447|  14|        3.0|    26.0|             2.0|          2000.0|                -14.6|                   1.01|         0.0|          0.0| Winter|No Holiday|            Yes|\n",
      "|01/12/2017|              463|  15|        2.1|    36.0|             3.2|          2000.0|                -11.4|                   0.54|         0.0|          0.0| Winter|No Holiday|            Yes|\n",
      "|01/12/2017|              484|  16|        1.2|    54.0|             4.2|           793.0|                 -7.0|                   0.24|         0.0|          0.0| Winter|No Holiday|            Yes|\n",
      "|01/12/2017|              555|  17|        0.8|    58.0|             1.6|          2000.0|                 -6.5|                   0.08|         0.0|          0.0| Winter|No Holiday|            Yes|\n",
      "|01/12/2017|              862|  18|        0.6|    66.0|             1.4|          2000.0|                 -5.0|                    0.0|         0.0|          0.0| Winter|No Holiday|            Yes|\n",
      "|01/12/2017|              600|  19|        0.0|    77.0|             1.7|          2000.0|                 -3.5|                    0.0|         0.0|          0.0| Winter|No Holiday|            Yes|\n",
      "+----------+-----------------+----+-----------+--------+----------------+----------------+---------------------+-----------------------+------------+-------------+-------+----------+---------------+\n",
      "only showing top 20 rows\n",
      "\n"
     ]
    }
   ],
   "source": [
    "#Show the dataframe\n",
    "df.show()"
   ]
  },
  {
   "cell_type": "code",
   "execution_count": 12,
   "metadata": {},
   "outputs": [
    {
     "name": "stdout",
     "output_type": "stream",
     "text": [
      "+-------+----------+-----------------+-----------------+------------------+------------------+------------------+-----------------+---------------------+-----------------------+------------------+-------------------+-------+----------+---------------+\n",
      "|summary|      Date|Rented Bike Count|             Hour|       Temperature|          Humidity|  Wind speed (m/s)| Visibility (10m)|Dew point temperature|Solar Radiation (MJ/m2)|      Rainfall(mm)|      Snowfall (cm)|Seasons|   Holiday|Functioning Day|\n",
      "+-------+----------+-----------------+-----------------+------------------+------------------+------------------+-----------------+---------------------+-----------------------+------------------+-------------------+-------+----------+---------------+\n",
      "|  count|      8760|             8760|             8760|              8760|              8760|              8760|             8760|                 8760|                   8760|              8760|               8760|   8760|      8760|           8760|\n",
      "|   mean|      null|704.6020547945205|             11.5|12.882922374429233|58.226255707762554|1.7249086757990943|1436.825799086758|    4.073812785388147|     0.5691107305936114|0.1486872146118721|0.07506849315068483|   null|      null|           null|\n",
      "| stddev|      null|644.9974677392169|6.922581688234331|11.944825230027929|20.362413301565603|1.0362999934025563|608.2987119840195|   13.060369338149783|     0.8687462422391529|1.1281929687321488|0.43674618112499025|   null|      null|           null|\n",
      "|    min|01/01/2018|                0|                0|             -17.8|               0.0|               0.0|             27.0|                -30.6|                    0.0|               0.0|                0.0| Autumn|   Holiday|             No|\n",
      "|    max|31/12/2017|             3556|               23|              39.4|              98.0|               7.4|           2000.0|                 27.2|                   3.52|              35.0|                8.8| Winter|No Holiday|            Yes|\n",
      "+-------+----------+-----------------+-----------------+------------------+------------------+------------------+-----------------+---------------------+-----------------------+------------------+-------------------+-------+----------+---------------+\n",
      "\n"
     ]
    }
   ],
   "source": [
    "#Describe the dataframe for all the numerical columns\n",
    "df.describe().show()"
   ]
  },
  {
   "cell_type": "code",
   "execution_count": 13,
   "metadata": {},
   "outputs": [
    {
     "name": "stdout",
     "output_type": "stream",
     "text": [
      "root\n",
      " |-- Date: string (nullable = true)\n",
      " |-- Rented Bike Count: integer (nullable = true)\n",
      " |-- Hour: integer (nullable = true)\n",
      " |-- Temperature: double (nullable = true)\n",
      " |-- Humidity: double (nullable = true)\n",
      " |-- Wind speed (m/s): double (nullable = true)\n",
      " |-- Visibility (10m): double (nullable = true)\n",
      " |-- Dew point temperature: double (nullable = true)\n",
      " |-- Solar Radiation (MJ/m2): double (nullable = true)\n",
      " |-- Rainfall(mm): double (nullable = true)\n",
      " |-- Snowfall (cm): double (nullable = true)\n",
      " |-- Seasons: string (nullable = true)\n",
      " |-- Holiday: string (nullable = true)\n",
      " |-- Functioning Day: string (nullable = true)\n",
      "\n"
     ]
    }
   ],
   "source": [
    "#Double check the schema\n",
    "df.printSchema()"
   ]
  },
  {
   "cell_type": "code",
   "execution_count": 14,
   "metadata": {},
   "outputs": [],
   "source": [
    "#Convert Date to dateType in PySpark\n",
    "from pyspark.sql.functions import to_date\n",
    "df = df.withColumn('New_date', to_date(df['Date'],format='dd/MM/yyyy'))"
   ]
  },
  {
   "cell_type": "code",
   "execution_count": 15,
   "metadata": {},
   "outputs": [
    {
     "name": "stdout",
     "output_type": "stream",
     "text": [
      "root\n",
      " |-- Rented Bike Count: integer (nullable = true)\n",
      " |-- Hour: integer (nullable = true)\n",
      " |-- Temperature: double (nullable = true)\n",
      " |-- Humidity: double (nullable = true)\n",
      " |-- Wind speed (m/s): double (nullable = true)\n",
      " |-- Visibility (10m): double (nullable = true)\n",
      " |-- Dew point temperature: double (nullable = true)\n",
      " |-- Solar Radiation (MJ/m2): double (nullable = true)\n",
      " |-- Rainfall(mm): double (nullable = true)\n",
      " |-- Snowfall (cm): double (nullable = true)\n",
      " |-- Seasons: string (nullable = true)\n",
      " |-- Holiday: string (nullable = true)\n",
      " |-- Functioning Day: string (nullable = true)\n",
      " |-- Date: date (nullable = true)\n",
      "\n"
     ]
    }
   ],
   "source": [
    "#Drop old date column\n",
    "df = df.drop(df['Date'])\n",
    "#rename New_date as date\n",
    "df = df.withColumnRenamed('New_Date', 'Date')\n",
    "df.printSchema()"
   ]
  },
  {
   "cell_type": "code",
   "execution_count": 17,
   "metadata": {},
   "outputs": [],
   "source": [
    "#Import vector and VectorAssembler\n",
    "from pyspark.ml.linalg import Vectors\n",
    "from pyspark.ml.feature import VectorAssembler"
   ]
  },
  {
   "cell_type": "code",
   "execution_count": 18,
   "metadata": {},
   "outputs": [],
   "source": [
    "#Assemble the features vector\n",
    "assembler = VectorAssembler(inputCols=['Hour',\n",
    "                                       'Temperature',\n",
    "                                       'Humidity',\n",
    "                                       'Wind speed (m/s)',\n",
    "                                       'Visibility (10m)', \n",
    "                                       'Dew point temperature',\n",
    "                                       'Solar Radiation (MJ/m2)',\n",
    "                                       'Rainfall(mm)',\n",
    "                                       'Snowfall (cm)'], \n",
    "                           outputCol='features')"
   ]
  },
  {
   "cell_type": "code",
   "execution_count": 19,
   "metadata": {},
   "outputs": [],
   "source": [
    "output = assembler.transform(df)"
   ]
  },
  {
   "cell_type": "code",
   "execution_count": 20,
   "metadata": {},
   "outputs": [
    {
     "name": "stdout",
     "output_type": "stream",
     "text": [
      "+--------------------+-----+\n",
      "|            features|label|\n",
      "+--------------------+-----+\n",
      "|[0.0,-5.2,37.0,2....|  254|\n",
      "|[1.0,-5.5,38.0,0....|  204|\n",
      "|[2.0,-6.0,39.0,1....|  173|\n",
      "|[3.0,-6.2,40.0,0....|  107|\n",
      "|[4.0,-6.0,36.0,2....|   78|\n",
      "|[5.0,-6.4,37.0,1....|  100|\n",
      "|[6.0,-6.6,35.0,1....|  181|\n",
      "|[7.0,-7.4,38.0,0....|  460|\n",
      "|[8.0,-7.6,37.0,1....|  930|\n",
      "|[9.0,-6.5,27.0,0....|  490|\n",
      "|[10.0,-3.5,24.0,1...|  339|\n",
      "|[11.0,-0.5,21.0,1...|  360|\n",
      "|[12.0,1.7,23.0,1....|  449|\n",
      "|[13.0,2.4,25.0,1....|  451|\n",
      "|[14.0,3.0,26.0,2....|  447|\n",
      "|[15.0,2.1,36.0,3....|  463|\n",
      "|[16.0,1.2,54.0,4....|  484|\n",
      "|[17.0,0.8,58.0,1....|  555|\n",
      "|[18.0,0.6,66.0,1....|  862|\n",
      "|[19.0,0.0,77.0,1....|  600|\n",
      "+--------------------+-----+\n",
      "only showing top 20 rows\n",
      "\n"
     ]
    }
   ],
   "source": [
    "df_final = output.select(['features', 'Rented Bike Count'])\n",
    "#Rename the Rented Bike Count as label\n",
    "df_final = df_final.withColumnRenamed('Rented Bike Count', 'label')\n",
    "df_final.show()"
   ]
  },
  {
   "cell_type": "code",
   "execution_count": 21,
   "metadata": {},
   "outputs": [],
   "source": [
    "#Train test split\n",
    "train_data, test_data = df_final.randomSplit([0.7, 0.3])"
   ]
  },
  {
   "cell_type": "code",
   "execution_count": 22,
   "metadata": {},
   "outputs": [],
   "source": [
    "from pyspark.ml.regression import LinearRegression\n",
    "\n",
    "lr = LinearRegression()\n",
    "lr_model = lr.fit(train_data)\n",
    "test_result = lr_model.evaluate(test_data)\n",
    "train_result = lr_model.evaluate(train_data)"
   ]
  },
  {
   "cell_type": "code",
   "execution_count": 23,
   "metadata": {},
   "outputs": [
    {
     "name": "stdout",
     "output_type": "stream",
     "text": [
      "Test Result =  0.467\n",
      "Train Result = 0.472\n"
     ]
    }
   ],
   "source": [
    "#Lets print r2\n",
    "print(f\"Test Result = {test_result.r2: 0.3}\")\n",
    "print(f\"Train Result = {train_result.r2 :0.3}\")"
   ]
  },
  {
   "cell_type": "markdown",
   "metadata": {},
   "source": [
    "Now lets try L1, L2 and Elastic Net regularization"
   ]
  },
  {
   "cell_type": "code",
   "execution_count": 24,
   "metadata": {},
   "outputs": [
    {
     "name": "stdout",
     "output_type": "stream",
     "text": [
      "Regularization Parameter for bestModel 2.0\n",
      "Test result = 0.467\n",
      "Train result = 0.472\n"
     ]
    }
   ],
   "source": [
    "#L2\n",
    "#Lets setup a grid search to search for regualization parameter\n",
    "from pyspark.ml.evaluation import RegressionEvaluator\n",
    "from pyspark.ml.tuning import CrossValidator, ParamGridBuilder\n",
    "\n",
    "lr = LinearRegression()\n",
    "paramGrid = ParamGridBuilder() \\\n",
    "    .addGrid(lr.regParam, [5, 3, 2.0, 1, 0.1]) \\\n",
    "    .build()\n",
    "\n",
    "crossval = CrossValidator(estimator=lr,\n",
    "                          estimatorParamMaps=paramGrid,\n",
    "                          evaluator=RegressionEvaluator(),\n",
    "                          numFolds=5) \n",
    "cv_model = crossval.fit(train_data)\n",
    "test_result = cv_model.transform(test_data)\n",
    "train_result = cv_model.transform(train_data)\n",
    "\n",
    "#get regularization parameter for best Model \n",
    "print(f\"Regularization Parameter for bestModel {cv_model.bestModel.getOrDefault('regParam')}\")\n",
    "\n",
    "#Evaluate the model\n",
    "re = RegressionEvaluator()\n",
    "print(f\"Test result = {re.evaluate(test_result, {re.metricName: 'r2'}):0.3}\")\n",
    "print(f\"Train result = {re.evaluate(train_result, {re.metricName: 'r2'}):0.3}\")"
   ]
  },
  {
   "cell_type": "code",
   "execution_count": 25,
   "metadata": {},
   "outputs": [
    {
     "name": "stdout",
     "output_type": "stream",
     "text": [
      "Regularization Parameter for bestModel 1.0\n",
      "Test result = 0.466\n",
      "Train result = 0.472\n"
     ]
    }
   ],
   "source": [
    "#L1\n",
    "#Lets setup a grid search to search for regualization parameter\n",
    "\n",
    "lr = LinearRegression(elasticNetParam=1.0)\n",
    "paramGrid = ParamGridBuilder() \\\n",
    "    .addGrid(lr.regParam, [5, 3, 2.0, 1, 0.1]) \\\n",
    "    .build()\n",
    "\n",
    "crossval = CrossValidator(estimator=lr,\n",
    "                          estimatorParamMaps=paramGrid,\n",
    "                          evaluator=RegressionEvaluator(),\n",
    "                          numFolds=5) \n",
    "cv_model = crossval.fit(train_data)\n",
    "test_result = cv_model.transform(test_data)\n",
    "train_result = cv_model.transform(train_data)\n",
    "\n",
    "#get regularization parameter for best Model \n",
    "print(f\"Regularization Parameter for bestModel {cv_model.bestModel.getOrDefault('regParam')}\")\n",
    "\n",
    "#Evaluate the model\n",
    "re = RegressionEvaluator()\n",
    "print(f\"Test result = {re.evaluate(test_result, {re.metricName: 'r2'}):0.3}\")\n",
    "print(f\"Train result = {re.evaluate(train_result, {re.metricName: 'r2'}):0.3}\")"
   ]
  },
  {
   "cell_type": "code",
   "execution_count": 26,
   "metadata": {},
   "outputs": [
    {
     "name": "stdout",
     "output_type": "stream",
     "text": [
      "Regularization Parameter for bestModel 1.0\n",
      "Elastic Net Parameter for bestModel 1.0\n",
      "Test result = 0.466\n",
      "Train result = 0.472\n"
     ]
    }
   ],
   "source": [
    "#elastic net\n",
    "#Lets setup a grid search to search for regualization parameter\n",
    "\n",
    "lr = LinearRegression()\n",
    "paramGrid = ParamGridBuilder() \\\n",
    "    .addGrid(lr.regParam, [5, 3, 2.0, 1, 0.1]) \\\n",
    "    .addGrid(lr.elasticNetParam, [0, 0.25, 0.5, 0.75, 1]) \\\n",
    "    .build()\n",
    "\n",
    "crossval = CrossValidator(estimator=lr,\n",
    "                          estimatorParamMaps=paramGrid,\n",
    "                          evaluator=RegressionEvaluator(),\n",
    "                          numFolds=5) \n",
    "cv_model = crossval.fit(train_data)\n",
    "test_result = cv_model.transform(test_data)\n",
    "train_result = cv_model.transform(train_data)\n",
    "\n",
    "#get regularization parameter for best Model \n",
    "print(f\"Regularization Parameter for bestModel {cv_model.bestModel.getOrDefault('regParam')}\")\n",
    "print(f\"Elastic Net Parameter for bestModel {cv_model.bestModel.getOrDefault('elasticNetParam')}\")\n",
    "\n",
    "#Evaluate the model\n",
    "re = RegressionEvaluator()\n",
    "print(f\"Test result = {re.evaluate(test_result, {re.metricName: 'r2'}):0.3}\")\n",
    "print(f\"Train result = {re.evaluate(train_result, {re.metricName: 'r2'}):0.3}\")"
   ]
  },
  {
   "cell_type": "markdown",
   "metadata": {},
   "source": [
    "Lets try tree based methods\n",
    "1. Decision Tree regressor\n",
    "2. Random forest regressor\n",
    "3. Gradient boosted trees regressor."
   ]
  },
  {
   "cell_type": "code",
   "execution_count": 27,
   "metadata": {},
   "outputs": [],
   "source": [
    "from pyspark.ml.regression import ( DecisionTreeRegressor,\n",
    "                                   RandomForestRegressor,\n",
    "                                   GBTRegressor )"
   ]
  },
  {
   "cell_type": "code",
   "execution_count": 28,
   "metadata": {},
   "outputs": [],
   "source": [
    "#Make three models DecisionTree\n",
    "dtr = DecisionTreeRegressor()\n",
    "#Random Forest\n",
    "rfr = RandomForestRegressor(numTrees=100)\n",
    "#Gradient Boosting trees\n",
    "gbt = GBTRegressor()"
   ]
  },
  {
   "cell_type": "code",
   "execution_count": 29,
   "metadata": {},
   "outputs": [],
   "source": [
    "#Train three models\n",
    "dtr_model = dtr.fit(train_data)\n",
    "rfr_model = rfr.fit(train_data)\n",
    "gbt_model = gbt.fit(train_data)"
   ]
  },
  {
   "cell_type": "code",
   "execution_count": 30,
   "metadata": {},
   "outputs": [],
   "source": [
    "#Predict on test and train\n",
    "#Decision Tree\n",
    "dtr_train_result = dtr_model.transform(train_data)\n",
    "dtr_test_result = dtr_model.transform(test_data)\n",
    "\n",
    "#Random Forest\n",
    "rfr_train_result = rfr_model.transform(train_data)\n",
    "rfr_test_result = rfr_model.transform(test_data)\n",
    "\n",
    "#Gradient Boosting trees\n",
    "gbt_train_result = gbt_model.transform(train_data)\n",
    "gbt_test_result = gbt_model.transform(test_data)\n",
    "\n"
   ]
  },
  {
   "cell_type": "code",
   "execution_count": 31,
   "metadata": {},
   "outputs": [
    {
     "name": "stdout",
     "output_type": "stream",
     "text": [
      "+--------------------+-----+------------------+\n",
      "|            features|label|        prediction|\n",
      "+--------------------+-----+------------------+\n",
      "|(9,[0,1,2,4],[5.0...|  162| 163.1220472440945|\n",
      "|(9,[1,2,3,4],[20....|  841| 759.1698113207547|\n",
      "|(9,[1,2,4,5],[10....|  520| 431.8782608695652|\n",
      "|(9,[1,2,4,5],[11....|  848| 431.8782608695652|\n",
      "|(9,[2,3,4,5],[75....|  177|159.11016949152543|\n",
      "|[0.0,-15.9,43.0,3...|   78|159.11016949152543|\n",
      "|[0.0,-15.0,42.0,1...|   80|159.11016949152543|\n",
      "|[0.0,-12.3,47.0,0...|  116|159.11016949152543|\n",
      "|[0.0,-11.0,51.0,1...|  133|159.11016949152543|\n",
      "|[0.0,-10.3,54.0,2...|   98|159.11016949152543|\n",
      "|[0.0,-10.0,34.0,1...|  108|159.11016949152543|\n",
      "|[0.0,-9.5,48.0,1....|  168|159.11016949152543|\n",
      "|[0.0,-9.3,45.0,0....|   80|159.11016949152543|\n",
      "|[0.0,-8.2,50.0,1....|  136|159.11016949152543|\n",
      "|[0.0,-8.1,41.0,2....|  175|159.11016949152543|\n",
      "|[0.0,-7.9,37.0,2....|  133|159.11016949152543|\n",
      "|[0.0,-7.7,52.0,3....|  103|159.11016949152543|\n",
      "|[0.0,-7.5,36.0,2....|  125|159.11016949152543|\n",
      "|[0.0,-6.5,41.0,1....|  164|159.11016949152543|\n",
      "|[0.0,-6.3,54.0,1....|  159|159.11016949152543|\n",
      "+--------------------+-----+------------------+\n",
      "only showing top 20 rows\n",
      "\n"
     ]
    }
   ],
   "source": [
    "dtr_train_result.show()"
   ]
  },
  {
   "cell_type": "code",
   "execution_count": 32,
   "metadata": {},
   "outputs": [
    {
     "name": "stdout",
     "output_type": "stream",
     "text": [
      "+--------------------+-----+------------------+\n",
      "|            features|label|        prediction|\n",
      "+--------------------+-----+------------------+\n",
      "|(9,[0,1,2,4],[5.0...|  162|261.51091130022155|\n",
      "|(9,[1,2,3,4],[20....|  841| 705.0882521556236|\n",
      "|(9,[1,2,4,5],[10....|  520|401.15577894706706|\n",
      "|(9,[1,2,4,5],[11....|  848| 451.3354875930239|\n",
      "|(9,[2,3,4,5],[75....|  177|208.77549117110797|\n",
      "|[0.0,-15.9,43.0,3...|   78| 126.6858377403711|\n",
      "|[0.0,-15.0,42.0,1...|   80| 133.8327623207651|\n",
      "|[0.0,-12.3,47.0,0...|  116|160.89342655688964|\n",
      "|[0.0,-11.0,51.0,1...|  133|160.66495972386616|\n",
      "|[0.0,-10.3,54.0,2...|   98|164.73509088656098|\n",
      "|[0.0,-10.0,34.0,1...|  108|  160.612337935749|\n",
      "|[0.0,-9.5,48.0,1....|  168|161.03620852099587|\n",
      "|[0.0,-9.3,45.0,0....|   80|162.20137116839476|\n",
      "|[0.0,-8.2,50.0,1....|  136|167.57162816083738|\n",
      "|[0.0,-8.1,41.0,2....|  175|158.54194806499592|\n",
      "|[0.0,-7.9,37.0,2....|  133|158.33677437126363|\n",
      "|[0.0,-7.7,52.0,3....|  103|163.14745186387717|\n",
      "|[0.0,-7.5,36.0,2....|  125|157.71192687077146|\n",
      "|[0.0,-6.5,41.0,1....|  164|167.50715495563497|\n",
      "|[0.0,-6.3,54.0,1....|  159|173.68286431197635|\n",
      "+--------------------+-----+------------------+\n",
      "only showing top 20 rows\n",
      "\n"
     ]
    }
   ],
   "source": [
    "rfr_train_result.show()"
   ]
  },
  {
   "cell_type": "code",
   "execution_count": 33,
   "metadata": {},
   "outputs": [
    {
     "name": "stdout",
     "output_type": "stream",
     "text": [
      "+--------------------+-----+------------------+\n",
      "|            features|label|        prediction|\n",
      "+--------------------+-----+------------------+\n",
      "|(9,[0,1,2,4],[5.0...|  162|242.12687409022388|\n",
      "|(9,[1,2,3,4],[20....|  841| 915.3636609461033|\n",
      "|(9,[1,2,4,5],[10....|  520|412.81563221671246|\n",
      "|(9,[1,2,4,5],[11....|  848| 452.9882858321737|\n",
      "|(9,[2,3,4,5],[75....|  177| 116.8891160944871|\n",
      "|[0.0,-15.9,43.0,3...|   78|111.56474210419492|\n",
      "|[0.0,-15.0,42.0,1...|   80| 140.5520733882255|\n",
      "|[0.0,-12.3,47.0,0...|  116| 140.5520733882255|\n",
      "|[0.0,-11.0,51.0,1...|  133| 140.5520733882255|\n",
      "|[0.0,-10.3,54.0,2...|   98|149.93985688818896|\n",
      "|[0.0,-10.0,34.0,1...|  108| 140.5520733882255|\n",
      "|[0.0,-9.5,48.0,1....|  168| 140.5520733882255|\n",
      "|[0.0,-9.3,45.0,0....|   80| 140.5520733882255|\n",
      "|[0.0,-8.2,50.0,1....|  136|171.50810425758618|\n",
      "|[0.0,-8.1,41.0,2....|  175|153.40273109832734|\n",
      "|[0.0,-7.9,37.0,2....|  133|153.40273109832734|\n",
      "|[0.0,-7.7,52.0,3....|  103|152.68114776118546|\n",
      "|[0.0,-7.5,36.0,2....|  125|153.40273109832734|\n",
      "|[0.0,-6.5,41.0,1....|  164|164.02241949343474|\n",
      "|[0.0,-6.3,54.0,1....|  159|171.50810425758618|\n",
      "+--------------------+-----+------------------+\n",
      "only showing top 20 rows\n",
      "\n"
     ]
    }
   ],
   "source": [
    "gbt_train_result.show()"
   ]
  },
  {
   "cell_type": "code",
   "execution_count": 34,
   "metadata": {
    "scrolled": true
   },
   "outputs": [
    {
     "name": "stdout",
     "output_type": "stream",
     "text": [
      "Test result = 0.627\n",
      "Train result = 0.663\n",
      "Test result = 0.662\n",
      "Train result = 0.679\n",
      "Test result = 0.729\n",
      "Train result = 0.778\n"
     ]
    }
   ],
   "source": [
    "#Evaluate the model\n",
    "re = RegressionEvaluator()\n",
    "\n",
    "#Decision Tree\n",
    "print(f\"Test result = {re.evaluate(dtr_test_result, {re.metricName: 'r2'}):0.3}\")\n",
    "print(f\"Train result = {re.evaluate(dtr_train_result, {re.metricName: 'r2'}):0.3}\")\n",
    "\n",
    "#Random Forest\n",
    "print(f\"Test result = {re.evaluate(rfr_test_result, {re.metricName: 'r2'}):0.3}\")\n",
    "print(f\"Train result = {re.evaluate(rfr_train_result, {re.metricName: 'r2'}):0.3}\")\n",
    "\n",
    "#Gradient Boosting trees\n",
    "print(f\"Test result = {re.evaluate(gbt_test_result, {re.metricName: 'r2'}):0.3}\")\n",
    "print(f\"Train result = {re.evaluate(gbt_train_result, {re.metricName: 'r2'}):0.3}\")"
   ]
  },
  {
   "cell_type": "markdown",
   "metadata": {},
   "source": [
    "We can also look at feature importance "
   ]
  },
  {
   "cell_type": "code",
   "execution_count": 35,
   "metadata": {},
   "outputs": [
    {
     "data": {
      "text/plain": [
       "SparseVector(9, {0: 0.3505, 1: 0.4368, 2: 0.0975, 3: 0.0022, 4: 0.0012, 6: 0.102, 7: 0.0097})"
      ]
     },
     "execution_count": 35,
     "metadata": {},
     "output_type": "execute_result"
    }
   ],
   "source": [
    "dtr_model.featureImportances"
   ]
  },
  {
   "cell_type": "code",
   "execution_count": 36,
   "metadata": {},
   "outputs": [
    {
     "data": {
      "text/plain": [
       "SparseVector(9, {0: 0.3264, 1: 0.3059, 2: 0.1085, 3: 0.0073, 4: 0.0237, 5: 0.1197, 6: 0.0632, 7: 0.0402, 8: 0.005})"
      ]
     },
     "execution_count": 36,
     "metadata": {},
     "output_type": "execute_result"
    }
   ],
   "source": [
    "rfr_model.featureImportances"
   ]
  },
  {
   "cell_type": "code",
   "execution_count": 37,
   "metadata": {},
   "outputs": [
    {
     "data": {
      "text/plain": [
       "SparseVector(9, {0: 0.304, 1: 0.3136, 2: 0.0758, 3: 0.0331, 4: 0.0429, 5: 0.0774, 6: 0.1072, 7: 0.0457, 8: 0.0004})"
      ]
     },
     "execution_count": 37,
     "metadata": {},
     "output_type": "execute_result"
    }
   ],
   "source": [
    "gbt_model.featureImportances"
   ]
  },
  {
   "cell_type": "markdown",
   "metadata": {},
   "source": [
    "We can see from above feature 1 or Temperature seems to be most important feature"
   ]
  },
  {
   "cell_type": "markdown",
   "metadata": {},
   "source": [
    "We can see from the above all the methods gave better results than Linear regression. Gradient Boosting trees beating it the most."
   ]
  }
 ],
 "metadata": {
  "kernelspec": {
   "display_name": "Python 3",
   "language": "python",
   "name": "python3"
  },
  "language_info": {
   "codemirror_mode": {
    "name": "ipython",
    "version": 3
   },
   "file_extension": ".py",
   "mimetype": "text/x-python",
   "name": "python",
   "nbconvert_exporter": "python",
   "pygments_lexer": "ipython3",
   "version": "3.9.1"
  }
 },
 "nbformat": 4,
 "nbformat_minor": 4
}
