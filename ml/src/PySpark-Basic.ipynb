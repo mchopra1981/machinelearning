{
 "cells": [
  {
   "cell_type": "markdown",
   "metadata": {
    "ExecuteTime": {
     "end_time": "2020-08-18T21:46:08.751698Z",
     "start_time": "2020-08-18T21:46:08.744504Z"
    }
   },
   "source": [
    "## PySpark-Basic\n",
    "\n",
    "**PySpark** is the Python API for **Spark**. **Spark** is an open-source distributed general-purpose cluster-computing framework. Core of **Spark** is **Resilient Distributed Dataset (RDD)**. **RDD** has 4 main features:\n",
    "\n",
    "1. Distributed collection of data.\n",
    "2. Fault tolerance.\n",
    "3. Parallel operation.\n",
    "4. Ability to use many data sources.\n",
    "\n",
    "There are two main operations in **Spark**, transformations and actions. \n",
    "\n",
    "Transformations are recipe to follow. Actions actually perform what the recipe says to do so and return a result back.\n",
    "\n",
    "In the notebook below we will demonstrate some uses of **PySpark**."
   ]
  },
  {
   "cell_type": "code",
   "execution_count": 1,
   "metadata": {
    "ExecuteTime": {
     "end_time": "2020-08-18T22:33:06.155213Z",
     "start_time": "2020-08-18T22:33:05.576021Z"
    }
   },
   "outputs": [],
   "source": [
    "#Lets import PySpark\n",
    "from pyspark.sql import SparkSession"
   ]
  },
  {
   "cell_type": "code",
   "execution_count": 2,
   "metadata": {},
   "outputs": [],
   "source": [
    "#Lets start a spark session\n",
    "spark = SparkSession.builder.appName('basic').getOrCreate()"
   ]
  },
  {
   "cell_type": "markdown",
   "metadata": {},
   "source": [
    "Load Seoul bike data\n",
    "\n",
    "https://archive.ics.uci.edu/ml/datasets/Seoul+Bike+Sharing+Demand"
   ]
  },
  {
   "cell_type": "code",
   "execution_count": 3,
   "metadata": {},
   "outputs": [],
   "source": [
    "df = spark.read.csv('../data/SeoulBikeData/SeoulBikeData.csv',\n",
    "                    header=True)"
   ]
  },
  {
   "cell_type": "code",
   "execution_count": 4,
   "metadata": {},
   "outputs": [
    {
     "name": "stdout",
     "output_type": "stream",
     "text": [
      "+----------+-----------------+----+---------------+-----------+----------------+----------------+-------------------------+-----------------------+------------+-------------+-------+----------+---------------+\n",
      "|      Date|Rented Bike Count|Hour|Temperature(�C)|Humidity(%)|Wind speed (m/s)|Visibility (10m)|Dew point temperature(�C)|Solar Radiation (MJ/m2)|Rainfall(mm)|Snowfall (cm)|Seasons|   Holiday|Functioning Day|\n",
      "+----------+-----------------+----+---------------+-----------+----------------+----------------+-------------------------+-----------------------+------------+-------------+-------+----------+---------------+\n",
      "|01/12/2017|              254|   0|           -5.2|         37|             2.2|            2000|                    -17.6|                      0|           0|            0| Winter|No Holiday|            Yes|\n",
      "|01/12/2017|              204|   1|           -5.5|         38|             0.8|            2000|                    -17.6|                      0|           0|            0| Winter|No Holiday|            Yes|\n",
      "|01/12/2017|              173|   2|             -6|         39|               1|            2000|                    -17.7|                      0|           0|            0| Winter|No Holiday|            Yes|\n",
      "|01/12/2017|              107|   3|           -6.2|         40|             0.9|            2000|                    -17.6|                      0|           0|            0| Winter|No Holiday|            Yes|\n",
      "|01/12/2017|               78|   4|             -6|         36|             2.3|            2000|                    -18.6|                      0|           0|            0| Winter|No Holiday|            Yes|\n",
      "|01/12/2017|              100|   5|           -6.4|         37|             1.5|            2000|                    -18.7|                      0|           0|            0| Winter|No Holiday|            Yes|\n",
      "|01/12/2017|              181|   6|           -6.6|         35|             1.3|            2000|                    -19.5|                      0|           0|            0| Winter|No Holiday|            Yes|\n",
      "|01/12/2017|              460|   7|           -7.4|         38|             0.9|            2000|                    -19.3|                      0|           0|            0| Winter|No Holiday|            Yes|\n",
      "|01/12/2017|              930|   8|           -7.6|         37|             1.1|            2000|                    -19.8|                   0.01|           0|            0| Winter|No Holiday|            Yes|\n",
      "|01/12/2017|              490|   9|           -6.5|         27|             0.5|            1928|                    -22.4|                   0.23|           0|            0| Winter|No Holiday|            Yes|\n",
      "|01/12/2017|              339|  10|           -3.5|         24|             1.2|            1996|                    -21.2|                   0.65|           0|            0| Winter|No Holiday|            Yes|\n",
      "|01/12/2017|              360|  11|           -0.5|         21|             1.3|            1936|                    -20.2|                   0.94|           0|            0| Winter|No Holiday|            Yes|\n",
      "|01/12/2017|              449|  12|            1.7|         23|             1.4|            2000|                    -17.2|                   1.11|           0|            0| Winter|No Holiday|            Yes|\n",
      "|01/12/2017|              451|  13|            2.4|         25|             1.6|            2000|                    -15.6|                   1.16|           0|            0| Winter|No Holiday|            Yes|\n",
      "|01/12/2017|              447|  14|              3|         26|               2|            2000|                    -14.6|                   1.01|           0|            0| Winter|No Holiday|            Yes|\n",
      "|01/12/2017|              463|  15|            2.1|         36|             3.2|            2000|                    -11.4|                   0.54|           0|            0| Winter|No Holiday|            Yes|\n",
      "|01/12/2017|              484|  16|            1.2|         54|             4.2|             793|                       -7|                   0.24|           0|            0| Winter|No Holiday|            Yes|\n",
      "|01/12/2017|              555|  17|            0.8|         58|             1.6|            2000|                     -6.5|                   0.08|           0|            0| Winter|No Holiday|            Yes|\n",
      "|01/12/2017|              862|  18|            0.6|         66|             1.4|            2000|                       -5|                      0|           0|            0| Winter|No Holiday|            Yes|\n",
      "|01/12/2017|              600|  19|              0|         77|             1.7|            2000|                     -3.5|                      0|           0|            0| Winter|No Holiday|            Yes|\n",
      "+----------+-----------------+----+---------------+-----------+----------------+----------------+-------------------------+-----------------------+------------+-------------+-------+----------+---------------+\n",
      "only showing top 20 rows\n",
      "\n"
     ]
    }
   ],
   "source": [
    "#Show the data\n",
    "df.show()"
   ]
  },
  {
   "cell_type": "code",
   "execution_count": 5,
   "metadata": {},
   "outputs": [
    {
     "name": "stdout",
     "output_type": "stream",
     "text": [
      "root\n",
      " |-- Date: string (nullable = true)\n",
      " |-- Rented Bike Count: string (nullable = true)\n",
      " |-- Hour: string (nullable = true)\n",
      " |-- Temperature(�C): string (nullable = true)\n",
      " |-- Humidity(%): string (nullable = true)\n",
      " |-- Wind speed (m/s): string (nullable = true)\n",
      " |-- Visibility (10m): string (nullable = true)\n",
      " |-- Dew point temperature(�C): string (nullable = true)\n",
      " |-- Solar Radiation (MJ/m2): string (nullable = true)\n",
      " |-- Rainfall(mm): string (nullable = true)\n",
      " |-- Snowfall (cm): string (nullable = true)\n",
      " |-- Seasons: string (nullable = true)\n",
      " |-- Holiday: string (nullable = true)\n",
      " |-- Functioning Day: string (nullable = true)\n",
      "\n"
     ]
    }
   ],
   "source": [
    "#printSchema\n",
    "df.printSchema()"
   ]
  },
  {
   "cell_type": "markdown",
   "metadata": {},
   "source": [
    "Note Spark infered all the columns as strings, below we will convert numeric columns to numeric types."
   ]
  },
  {
   "cell_type": "code",
   "execution_count": 6,
   "metadata": {},
   "outputs": [
    {
     "name": "stdout",
     "output_type": "stream",
     "text": [
      "['Date', 'Rented Bike Count', 'Hour', 'Temperature(�C)', 'Humidity(%)', 'Wind speed (m/s)', 'Visibility (10m)', 'Dew point temperature(�C)', 'Solar Radiation (MJ/m2)', 'Rainfall(mm)', 'Snowfall (cm)', 'Seasons', 'Holiday', 'Functioning Day']\n"
     ]
    }
   ],
   "source": [
    "#Get the column names\n",
    "print(df.columns)\n",
    "\n",
    "#Rename some Columns\n",
    "df = df.withColumnRenamed('Temperature(�C)','Temperature') \\\n",
    "        .withColumnRenamed('Humidity(%)','Humidity') \\\n",
    "        .withColumnRenamed('Dew point temperature(�C)', 'Dew point temperature')"
   ]
  },
  {
   "cell_type": "code",
   "execution_count": 7,
   "metadata": {},
   "outputs": [
    {
     "name": "stdout",
     "output_type": "stream",
     "text": [
      "['Date', 'Rented Bike Count', 'Hour', 'Temperature', 'Humidity', 'Wind speed (m/s)', 'Visibility (10m)', 'Dew point temperature', 'Solar Radiation (MJ/m2)', 'Rainfall(mm)', 'Snowfall (cm)', 'Seasons', 'Holiday', 'Functioning Day']\n"
     ]
    }
   ],
   "source": [
    "print(df.columns)"
   ]
  },
  {
   "cell_type": "code",
   "execution_count": 8,
   "metadata": {},
   "outputs": [],
   "source": [
    "#Convert the data to the types we want\n",
    "from pyspark.sql.types import (StructField, \n",
    "                               StringType, \n",
    "                               IntegerType,\n",
    "                               DateType,\n",
    "                               DoubleType,\n",
    "                               StructType)"
   ]
  },
  {
   "cell_type": "code",
   "execution_count": 9,
   "metadata": {},
   "outputs": [],
   "source": [
    "data_schema = [StructField('Date', StringType(), True), \n",
    "               StructField('Rented Bike Count', IntegerType(), True),\n",
    "               StructField('Hour', IntegerType(), True),\n",
    "               StructField('Temperature', DoubleType(), True),\n",
    "               StructField('Humidity', DoubleType(), True),\n",
    "               StructField('Wind speed (m/s)', DoubleType(), True),\n",
    "               StructField('Visibility (10m)', DoubleType(), True),\n",
    "               StructField('Dew point temperature', DoubleType(), True),\n",
    "               StructField('Solar Radiation (MJ/m2)', DoubleType(), True),\n",
    "               StructField('Rainfall(mm)', DoubleType(), True),\n",
    "               StructField('Snowfall (cm)', DoubleType(), True),\n",
    "               StructField('Seasons', StringType(), True),\n",
    "               StructField('Holiday', StringType(), True),\n",
    "               StructField('Functioning Day',  StringType(), True)\n",
    "              ]\n",
    "final_struct = StructType(fields=data_schema)"
   ]
  },
  {
   "cell_type": "markdown",
   "metadata": {},
   "source": [
    "Reload the data again with correct data types in schema"
   ]
  },
  {
   "cell_type": "code",
   "execution_count": 10,
   "metadata": {},
   "outputs": [],
   "source": [
    "df = spark.read.csv('../data/SeoulBikeData/SeoulBikeData.csv', header=True, schema=final_struct)"
   ]
  },
  {
   "cell_type": "code",
   "execution_count": 11,
   "metadata": {},
   "outputs": [
    {
     "name": "stdout",
     "output_type": "stream",
     "text": [
      "+----------+-----------------+----+-----------+--------+----------------+----------------+---------------------+-----------------------+------------+-------------+-------+----------+---------------+\n",
      "|      Date|Rented Bike Count|Hour|Temperature|Humidity|Wind speed (m/s)|Visibility (10m)|Dew point temperature|Solar Radiation (MJ/m2)|Rainfall(mm)|Snowfall (cm)|Seasons|   Holiday|Functioning Day|\n",
      "+----------+-----------------+----+-----------+--------+----------------+----------------+---------------------+-----------------------+------------+-------------+-------+----------+---------------+\n",
      "|01/12/2017|              254|   0|       -5.2|    37.0|             2.2|          2000.0|                -17.6|                    0.0|         0.0|          0.0| Winter|No Holiday|            Yes|\n",
      "|01/12/2017|              204|   1|       -5.5|    38.0|             0.8|          2000.0|                -17.6|                    0.0|         0.0|          0.0| Winter|No Holiday|            Yes|\n",
      "|01/12/2017|              173|   2|       -6.0|    39.0|             1.0|          2000.0|                -17.7|                    0.0|         0.0|          0.0| Winter|No Holiday|            Yes|\n",
      "|01/12/2017|              107|   3|       -6.2|    40.0|             0.9|          2000.0|                -17.6|                    0.0|         0.0|          0.0| Winter|No Holiday|            Yes|\n",
      "|01/12/2017|               78|   4|       -6.0|    36.0|             2.3|          2000.0|                -18.6|                    0.0|         0.0|          0.0| Winter|No Holiday|            Yes|\n",
      "|01/12/2017|              100|   5|       -6.4|    37.0|             1.5|          2000.0|                -18.7|                    0.0|         0.0|          0.0| Winter|No Holiday|            Yes|\n",
      "|01/12/2017|              181|   6|       -6.6|    35.0|             1.3|          2000.0|                -19.5|                    0.0|         0.0|          0.0| Winter|No Holiday|            Yes|\n",
      "|01/12/2017|              460|   7|       -7.4|    38.0|             0.9|          2000.0|                -19.3|                    0.0|         0.0|          0.0| Winter|No Holiday|            Yes|\n",
      "|01/12/2017|              930|   8|       -7.6|    37.0|             1.1|          2000.0|                -19.8|                   0.01|         0.0|          0.0| Winter|No Holiday|            Yes|\n",
      "|01/12/2017|              490|   9|       -6.5|    27.0|             0.5|          1928.0|                -22.4|                   0.23|         0.0|          0.0| Winter|No Holiday|            Yes|\n",
      "|01/12/2017|              339|  10|       -3.5|    24.0|             1.2|          1996.0|                -21.2|                   0.65|         0.0|          0.0| Winter|No Holiday|            Yes|\n",
      "|01/12/2017|              360|  11|       -0.5|    21.0|             1.3|          1936.0|                -20.2|                   0.94|         0.0|          0.0| Winter|No Holiday|            Yes|\n",
      "|01/12/2017|              449|  12|        1.7|    23.0|             1.4|          2000.0|                -17.2|                   1.11|         0.0|          0.0| Winter|No Holiday|            Yes|\n",
      "|01/12/2017|              451|  13|        2.4|    25.0|             1.6|          2000.0|                -15.6|                   1.16|         0.0|          0.0| Winter|No Holiday|            Yes|\n",
      "|01/12/2017|              447|  14|        3.0|    26.0|             2.0|          2000.0|                -14.6|                   1.01|         0.0|          0.0| Winter|No Holiday|            Yes|\n",
      "|01/12/2017|              463|  15|        2.1|    36.0|             3.2|          2000.0|                -11.4|                   0.54|         0.0|          0.0| Winter|No Holiday|            Yes|\n",
      "|01/12/2017|              484|  16|        1.2|    54.0|             4.2|           793.0|                 -7.0|                   0.24|         0.0|          0.0| Winter|No Holiday|            Yes|\n",
      "|01/12/2017|              555|  17|        0.8|    58.0|             1.6|          2000.0|                 -6.5|                   0.08|         0.0|          0.0| Winter|No Holiday|            Yes|\n",
      "|01/12/2017|              862|  18|        0.6|    66.0|             1.4|          2000.0|                 -5.0|                    0.0|         0.0|          0.0| Winter|No Holiday|            Yes|\n",
      "|01/12/2017|              600|  19|        0.0|    77.0|             1.7|          2000.0|                 -3.5|                    0.0|         0.0|          0.0| Winter|No Holiday|            Yes|\n",
      "+----------+-----------------+----+-----------+--------+----------------+----------------+---------------------+-----------------------+------------+-------------+-------+----------+---------------+\n",
      "only showing top 20 rows\n",
      "\n"
     ]
    }
   ],
   "source": [
    "#Show the dataframe\n",
    "df.show()"
   ]
  },
  {
   "cell_type": "code",
   "execution_count": 12,
   "metadata": {},
   "outputs": [
    {
     "name": "stdout",
     "output_type": "stream",
     "text": [
      "+-------+----------+-----------------+-----------------+------------------+------------------+------------------+-----------------+---------------------+-----------------------+------------------+-------------------+-------+----------+---------------+\n",
      "|summary|      Date|Rented Bike Count|             Hour|       Temperature|          Humidity|  Wind speed (m/s)| Visibility (10m)|Dew point temperature|Solar Radiation (MJ/m2)|      Rainfall(mm)|      Snowfall (cm)|Seasons|   Holiday|Functioning Day|\n",
      "+-------+----------+-----------------+-----------------+------------------+------------------+------------------+-----------------+---------------------+-----------------------+------------------+-------------------+-------+----------+---------------+\n",
      "|  count|      8760|             8760|             8760|              8760|              8760|              8760|             8760|                 8760|                   8760|              8760|               8760|   8760|      8760|           8760|\n",
      "|   mean|      null|704.6020547945205|             11.5|12.882922374429233|58.226255707762554|1.7249086757990943|1436.825799086758|    4.073812785388147|     0.5691107305936114|0.1486872146118721|0.07506849315068483|   null|      null|           null|\n",
      "| stddev|      null|644.9974677392169|6.922581688234331|11.944825230027929|20.362413301565603|1.0362999934025563|608.2987119840195|   13.060369338149783|     0.8687462422391529|1.1281929687321488|0.43674618112499025|   null|      null|           null|\n",
      "|    min|01/01/2018|                0|                0|             -17.8|               0.0|               0.0|             27.0|                -30.6|                    0.0|               0.0|                0.0| Autumn|   Holiday|             No|\n",
      "|    max|31/12/2017|             3556|               23|              39.4|              98.0|               7.4|           2000.0|                 27.2|                   3.52|              35.0|                8.8| Winter|No Holiday|            Yes|\n",
      "+-------+----------+-----------------+-----------------+------------------+------------------+------------------+-----------------+---------------------+-----------------------+------------------+-------------------+-------+----------+---------------+\n",
      "\n"
     ]
    }
   ],
   "source": [
    "#Describe the dataframe for all the numerical columns\n",
    "df.describe().show()"
   ]
  },
  {
   "cell_type": "code",
   "execution_count": 13,
   "metadata": {},
   "outputs": [
    {
     "name": "stdout",
     "output_type": "stream",
     "text": [
      "root\n",
      " |-- Date: string (nullable = true)\n",
      " |-- Rented Bike Count: integer (nullable = true)\n",
      " |-- Hour: integer (nullable = true)\n",
      " |-- Temperature: double (nullable = true)\n",
      " |-- Humidity: double (nullable = true)\n",
      " |-- Wind speed (m/s): double (nullable = true)\n",
      " |-- Visibility (10m): double (nullable = true)\n",
      " |-- Dew point temperature: double (nullable = true)\n",
      " |-- Solar Radiation (MJ/m2): double (nullable = true)\n",
      " |-- Rainfall(mm): double (nullable = true)\n",
      " |-- Snowfall (cm): double (nullable = true)\n",
      " |-- Seasons: string (nullable = true)\n",
      " |-- Holiday: string (nullable = true)\n",
      " |-- Functioning Day: string (nullable = true)\n",
      "\n"
     ]
    }
   ],
   "source": [
    "#Double check the schema\n",
    "df.printSchema()"
   ]
  },
  {
   "cell_type": "code",
   "execution_count": 14,
   "metadata": {},
   "outputs": [
    {
     "name": "stdout",
     "output_type": "stream",
     "text": [
      "+-----------------+\n",
      "|Rented Bike Count|\n",
      "+-----------------+\n",
      "|              254|\n",
      "|              204|\n",
      "|              173|\n",
      "|              107|\n",
      "|               78|\n",
      "|              100|\n",
      "|              181|\n",
      "|              460|\n",
      "|              930|\n",
      "|              490|\n",
      "|              339|\n",
      "|              360|\n",
      "|              449|\n",
      "|              451|\n",
      "|              447|\n",
      "|              463|\n",
      "|              484|\n",
      "|              555|\n",
      "|              862|\n",
      "|              600|\n",
      "+-----------------+\n",
      "only showing top 20 rows\n",
      "\n"
     ]
    }
   ],
   "source": [
    "#Select the Rented Bike Count\n",
    "df.select('Rented Bike Count').show()"
   ]
  },
  {
   "cell_type": "code",
   "execution_count": 15,
   "metadata": {},
   "outputs": [
    {
     "name": "stdout",
     "output_type": "stream",
     "text": [
      "+-----------------+----+\n",
      "|Rented Bike Count|Hour|\n",
      "+-----------------+----+\n",
      "|              254|   0|\n",
      "|              204|   1|\n",
      "|              173|   2|\n",
      "|              107|   3|\n",
      "|               78|   4|\n",
      "|              100|   5|\n",
      "|              181|   6|\n",
      "|              460|   7|\n",
      "|              930|   8|\n",
      "|              490|   9|\n",
      "|              339|  10|\n",
      "|              360|  11|\n",
      "|              449|  12|\n",
      "|              451|  13|\n",
      "|              447|  14|\n",
      "|              463|  15|\n",
      "|              484|  16|\n",
      "|              555|  17|\n",
      "|              862|  18|\n",
      "|              600|  19|\n",
      "+-----------------+----+\n",
      "only showing top 20 rows\n",
      "\n"
     ]
    }
   ],
   "source": [
    "#Select two columns Rented Bike Count and Hour\n",
    "df.select(['Rented Bike Count', 'Hour']).show()"
   ]
  },
  {
   "cell_type": "code",
   "execution_count": 16,
   "metadata": {},
   "outputs": [
    {
     "data": {
      "text/plain": [
       "[Row(Date='01/12/2017', Rented Bike Count=254, Hour=0, Temperature=-5.2, Humidity=37.0, Wind speed (m/s)=2.2, Visibility (10m)=2000.0, Dew point temperature=-17.6, Solar Radiation (MJ/m2)=0.0, Rainfall(mm)=0.0, Snowfall (cm)=0.0, Seasons='Winter', Holiday='No Holiday', Functioning Day='Yes'),\n",
       " Row(Date='01/12/2017', Rented Bike Count=204, Hour=1, Temperature=-5.5, Humidity=38.0, Wind speed (m/s)=0.8, Visibility (10m)=2000.0, Dew point temperature=-17.6, Solar Radiation (MJ/m2)=0.0, Rainfall(mm)=0.0, Snowfall (cm)=0.0, Seasons='Winter', Holiday='No Holiday', Functioning Day='Yes')]"
      ]
     },
     "execution_count": 16,
     "metadata": {},
     "output_type": "execute_result"
    }
   ],
   "source": [
    "#Select top 2 rows\n",
    "df.head(2)"
   ]
  },
  {
   "cell_type": "code",
   "execution_count": 17,
   "metadata": {},
   "outputs": [
    {
     "name": "stdout",
     "output_type": "stream",
     "text": [
      "+--------+----------+\n",
      "|Humidity|2xHumidity|\n",
      "+--------+----------+\n",
      "|    37.0|      74.0|\n",
      "|    38.0|      76.0|\n",
      "|    39.0|      78.0|\n",
      "|    40.0|      80.0|\n",
      "|    36.0|      72.0|\n",
      "|    37.0|      74.0|\n",
      "|    35.0|      70.0|\n",
      "|    38.0|      76.0|\n",
      "|    37.0|      74.0|\n",
      "|    27.0|      54.0|\n",
      "|    24.0|      48.0|\n",
      "|    21.0|      42.0|\n",
      "|    23.0|      46.0|\n",
      "|    25.0|      50.0|\n",
      "|    26.0|      52.0|\n",
      "|    36.0|      72.0|\n",
      "|    54.0|     108.0|\n",
      "|    58.0|     116.0|\n",
      "|    66.0|     132.0|\n",
      "|    77.0|     154.0|\n",
      "+--------+----------+\n",
      "only showing top 20 rows\n",
      "\n"
     ]
    }
   ],
   "source": [
    "#Creating a new columns\n",
    "df.withColumn('2xHumidity', df['Humidity']*2).select(['Humidity','2xHumidity']).show()"
   ]
  },
  {
   "cell_type": "code",
   "execution_count": 18,
   "metadata": {},
   "outputs": [],
   "source": [
    "#You can also use sql queries in Spark\n",
    "df.createOrReplaceTempView(\"sqlTest\")"
   ]
  },
  {
   "cell_type": "code",
   "execution_count": 19,
   "metadata": {},
   "outputs": [
    {
     "name": "stdout",
     "output_type": "stream",
     "text": [
      "+----+\n",
      "|Hour|\n",
      "+----+\n",
      "|   0|\n",
      "|   1|\n",
      "|   2|\n",
      "|   3|\n",
      "|   4|\n",
      "|   5|\n",
      "|   6|\n",
      "|   7|\n",
      "|   8|\n",
      "|   9|\n",
      "|  10|\n",
      "|  11|\n",
      "|  12|\n",
      "|  13|\n",
      "|  14|\n",
      "|  15|\n",
      "|  16|\n",
      "|  17|\n",
      "|  18|\n",
      "|  19|\n",
      "+----+\n",
      "only showing top 20 rows\n",
      "\n"
     ]
    }
   ],
   "source": [
    "#Here we performed a sql query to get data fromspark dataframe \n",
    "results = spark.sql(\"SELECT Hour from sqlTest\")\n",
    "results.show()"
   ]
  },
  {
   "cell_type": "code",
   "execution_count": 20,
   "metadata": {},
   "outputs": [
    {
     "name": "stdout",
     "output_type": "stream",
     "text": [
      "+----------+-----------------+----+-----------+--------+----------------+----------------+---------------------+-----------------------+------------+-------------+-------+----------+---------------+\n",
      "|      Date|Rented Bike Count|Hour|Temperature|Humidity|Wind speed (m/s)|Visibility (10m)|Dew point temperature|Solar Radiation (MJ/m2)|Rainfall(mm)|Snowfall (cm)|Seasons|   Holiday|Functioning Day|\n",
      "+----------+-----------------+----+-----------+--------+----------------+----------------+---------------------+-----------------------+------------+-------------+-------+----------+---------------+\n",
      "|01/12/2017|              254|   0|       -5.2|    37.0|             2.2|          2000.0|                -17.6|                    0.0|         0.0|          0.0| Winter|No Holiday|            Yes|\n",
      "|02/12/2017|              328|   0|       -1.8|    87.0|             1.1|           994.0|                 -3.6|                    0.0|         0.0|          0.0| Winter|No Holiday|            Yes|\n",
      "|03/12/2017|              342|   0|        4.0|    58.0|             1.4|          1296.0|                 -3.5|                    0.0|         0.0|          0.0| Winter|No Holiday|            Yes|\n",
      "|04/12/2017|              285|   0|        4.2|    88.0|             0.6|           216.0|                  2.3|                    0.0|         0.0|          0.0| Winter|No Holiday|            Yes|\n",
      "|05/12/2017|              216|   0|       -6.1|    42.0|             2.6|          2000.0|                -16.9|                    0.0|         0.0|          0.0| Winter|No Holiday|            Yes|\n",
      "|06/12/2017|              145|   0|       -2.8|    77.0|             0.0|           331.0|                 -6.2|                    0.0|         0.1|          0.1| Winter|No Holiday|            Yes|\n",
      "|07/12/2017|              198|   0|        1.4|    92.0|             0.5|           240.0|                  0.2|                    0.0|         0.0|          0.9| Winter|No Holiday|            Yes|\n",
      "|08/12/2017|              233|   0|       -3.5|    49.0|             2.6|          1893.0|                -12.6|                    0.0|         0.0|          0.0| Winter|No Holiday|            Yes|\n",
      "|09/12/2017|              267|   0|       -3.5|    48.0|             0.9|          1967.0|                -12.9|                    0.0|         0.0|          0.0| Winter|No Holiday|            Yes|\n",
      "|10/12/2017|              326|   0|       -0.2|    55.0|             1.0|          1629.0|                 -8.1|                    0.0|         0.0|          0.0| Winter|No Holiday|            Yes|\n",
      "|11/12/2017|              125|   0|       -2.5|    39.0|             3.4|          2000.0|                -14.5|                    0.0|         0.0|          0.0| Winter|No Holiday|            Yes|\n",
      "|12/12/2017|              133|   0|      -11.0|    51.0|             1.1|          2000.0|                -19.1|                    0.0|         0.0|          0.0| Winter|No Holiday|            Yes|\n",
      "|13/12/2017|              168|   0|       -9.5|    48.0|             1.3|          1996.0|                -18.4|                    0.0|         0.0|          0.0| Winter|No Holiday|            Yes|\n",
      "|14/12/2017|              171|   0|       -9.5|    50.0|             0.6|          1953.0|                -18.0|                    0.0|         0.0|          0.0| Winter|No Holiday|            Yes|\n",
      "|15/12/2017|              227|   0|       -5.7|    53.0|             0.6|          1262.0|                -13.7|                    0.0|         0.0|          0.0| Winter|No Holiday|            Yes|\n",
      "|16/12/2017|              217|   0|       -2.6|    73.0|             3.4|           787.0|                 -6.7|                    0.0|         0.0|          0.0| Winter|No Holiday|            Yes|\n",
      "|17/12/2017|              175|   0|       -8.1|    41.0|             2.0|          2000.0|                -19.0|                    0.0|         0.0|          0.0| Winter|No Holiday|            Yes|\n",
      "|18/12/2017|              151|   0|       -5.9|    50.0|             0.6|          2000.0|                -14.6|                    0.0|         0.0|          0.0| Winter|No Holiday|            Yes|\n",
      "|19/12/2017|              122|   0|       -1.0|    73.0|             2.3|           881.0|                 -5.2|                    0.0|         0.0|          2.6| Winter|No Holiday|            Yes|\n",
      "|20/12/2017|              142|   0|       -6.5|    63.0|             1.5|          1666.0|                -12.3|                    0.0|         0.0|          2.0| Winter|No Holiday|            Yes|\n",
      "+----------+-----------------+----+-----------+--------+----------------+----------------+---------------------+-----------------------+------------+-------------+-------+----------+---------------+\n",
      "only showing top 20 rows\n",
      "\n"
     ]
    }
   ],
   "source": [
    "#use of filter to filter out rows with Hour=0\n",
    "df.filter(\"Hour=0\").show()"
   ]
  },
  {
   "cell_type": "code",
   "execution_count": 21,
   "metadata": {},
   "outputs": [
    {
     "name": "stdout",
     "output_type": "stream",
     "text": [
      "+-----------------+\n",
      "|Rented Bike Count|\n",
      "+-----------------+\n",
      "|              254|\n",
      "|              328|\n",
      "|              342|\n",
      "|              285|\n",
      "|              216|\n",
      "|              145|\n",
      "|              198|\n",
      "|              233|\n",
      "|              267|\n",
      "|              326|\n",
      "|              125|\n",
      "|              133|\n",
      "|              168|\n",
      "|              171|\n",
      "|              227|\n",
      "|              217|\n",
      "|              175|\n",
      "|              151|\n",
      "|              122|\n",
      "|              142|\n",
      "+-----------------+\n",
      "only showing top 20 rows\n",
      "\n"
     ]
    }
   ],
   "source": [
    "#Select Rented Bike Count when Hour=0\n",
    "df.filter(\"Hour=0\").select(['Rented Bike Count']).show()"
   ]
  },
  {
   "cell_type": "code",
   "execution_count": 22,
   "metadata": {},
   "outputs": [
    {
     "name": "stdout",
     "output_type": "stream",
     "text": [
      "Row(Hour=21, Rented Bike Count=405)\n",
      "<class 'pyspark.sql.types.Row'>\n"
     ]
    },
    {
     "data": {
      "text/plain": [
       "{'Hour': 21, 'Rented Bike Count': 405}"
      ]
     },
     "execution_count": 22,
     "metadata": {},
     "output_type": "execute_result"
    }
   ],
   "source": [
    "#Select Rented Bike Count and Hour when Hour>20\n",
    "result = df.filter(\"Hour>20\").select(['Hour','Rented Bike Count']).collect()\n",
    "print(result[0])\n",
    "print(type(result[0]))\n",
    "\n",
    "#PySpark row can also be converted to a dictionary\n",
    "result[0].asDict()"
   ]
  },
  {
   "cell_type": "code",
   "execution_count": 23,
   "metadata": {},
   "outputs": [
    {
     "name": "stdout",
     "output_type": "stream",
     "text": [
      "+----+---------+----------------------+\n",
      "|Hour|avg(Hour)|avg(Rented Bike Count)|\n",
      "+----+---------+----------------------+\n",
      "|  12|     12.0|     699.4410958904109|\n",
      "|  22|     22.0|     922.7972602739726|\n",
      "|   1|      1.0|     426.1835616438356|\n",
      "|  13|     13.0|     733.2465753424658|\n",
      "|   6|      6.0|     287.5643835616438|\n",
      "|  16|     16.0|     930.6219178082192|\n",
      "|   3|      3.0|    203.33150684931508|\n",
      "|  20|     20.0|     1068.964383561644|\n",
      "|   5|      5.0|    139.08219178082192|\n",
      "|  19|     19.0|    1195.1479452054793|\n",
      "|  15|     15.0|      829.186301369863|\n",
      "|   9|      9.0|     645.9835616438356|\n",
      "|  17|     17.0|     1138.509589041096|\n",
      "|   4|      4.0|     132.5917808219178|\n",
      "|   8|      8.0|    1015.7013698630137|\n",
      "|  23|     23.0|     671.1260273972603|\n",
      "|   7|      7.0|     606.0054794520548|\n",
      "|  10|     10.0|     527.8219178082192|\n",
      "|  21|     21.0|    1031.4493150684932|\n",
      "|  11|     11.0|     600.8520547945205|\n",
      "+----+---------+----------------------+\n",
      "only showing top 20 rows\n",
      "\n",
      "+----+---------+----------------------+\n",
      "|Hour|min(Hour)|min(Rented Bike Count)|\n",
      "+----+---------+----------------------+\n",
      "|  12|       12|                     0|\n",
      "|  22|       22|                     0|\n",
      "|   1|        1|                     0|\n",
      "|  13|       13|                     0|\n",
      "|   6|        6|                     0|\n",
      "|  16|       16|                     0|\n",
      "|   3|        3|                     0|\n",
      "|  20|       20|                     0|\n",
      "|   5|        5|                     0|\n",
      "|  19|       19|                     0|\n",
      "|  15|       15|                     0|\n",
      "|   9|        9|                     0|\n",
      "|  17|       17|                     0|\n",
      "|   4|        4|                     0|\n",
      "|   8|        8|                     0|\n",
      "|  23|       23|                     0|\n",
      "|   7|        7|                     0|\n",
      "|  10|       10|                     0|\n",
      "|  21|       21|                     0|\n",
      "|  11|       11|                     0|\n",
      "+----+---------+----------------------+\n",
      "only showing top 20 rows\n",
      "\n",
      "+----+---------+----------------------+\n",
      "|Hour|max(Hour)|max(Rented Bike Count)|\n",
      "+----+---------+----------------------+\n",
      "|  12|       12|                  1798|\n",
      "|  22|       22|                  2309|\n",
      "|   1|        1|                  1088|\n",
      "|  13|       13|                  2000|\n",
      "|   6|        6|                   807|\n",
      "|  16|       16|                  2479|\n",
      "|   3|        3|                   644|\n",
      "|  20|       20|                  2579|\n",
      "|   5|        5|                   383|\n",
      "|  19|       19|                  2984|\n",
      "|  15|       15|                  2329|\n",
      "|   9|        9|                  1401|\n",
      "|  17|       17|                  2664|\n",
      "|   4|        4|                   421|\n",
      "|   8|        8|                  2495|\n",
      "|  23|       23|                  1732|\n",
      "|   7|        7|                  1629|\n",
      "|  10|       10|                  1269|\n",
      "|  21|       21|                  2505|\n",
      "|  11|       11|                  1478|\n",
      "+----+---------+----------------------+\n",
      "only showing top 20 rows\n",
      "\n",
      "+----+-----+\n",
      "|Hour|count|\n",
      "+----+-----+\n",
      "|  12|  365|\n",
      "|  22|  365|\n",
      "|   1|  365|\n",
      "|  13|  365|\n",
      "|   6|  365|\n",
      "|  16|  365|\n",
      "|   3|  365|\n",
      "|  20|  365|\n",
      "|   5|  365|\n",
      "|  19|  365|\n",
      "|  15|  365|\n",
      "|   9|  365|\n",
      "|  17|  365|\n",
      "|   4|  365|\n",
      "|   8|  365|\n",
      "|  23|  365|\n",
      "|   7|  365|\n",
      "|  10|  365|\n",
      "|  21|  365|\n",
      "|  11|  365|\n",
      "+----+-----+\n",
      "only showing top 20 rows\n",
      "\n"
     ]
    }
   ],
   "source": [
    "#groupby in pySpark\n",
    "#mean\n",
    "df.select(['Hour','Rented Bike Count']).groupBy('Hour').mean().show()\n",
    "#min\n",
    "df.select(['Hour','Rented Bike Count']).groupBy('Hour').min().show()\n",
    "#max\n",
    "df.select(['Hour','Rented Bike Count']).groupBy('Hour').max().show()\n",
    "#count\n",
    "df.select(['Hour','Rented Bike Count']).groupBy('Hour').count().show()"
   ]
  },
  {
   "cell_type": "code",
   "execution_count": 24,
   "metadata": {},
   "outputs": [],
   "source": [
    "#using pyspark functions\n",
    "from pyspark.sql.functions import countDistinct, avg, stddev"
   ]
  },
  {
   "cell_type": "code",
   "execution_count": 25,
   "metadata": {},
   "outputs": [
    {
     "name": "stdout",
     "output_type": "stream",
     "text": [
      "+--------------------+\n",
      "|count(DISTINCT Hour)|\n",
      "+--------------------+\n",
      "|                  24|\n",
      "+--------------------+\n",
      "\n"
     ]
    }
   ],
   "source": [
    "#Count Distinct\n",
    "df.select(countDistinct(\"Hour\")).show()"
   ]
  },
  {
   "cell_type": "code",
   "execution_count": 26,
   "metadata": {},
   "outputs": [
    {
     "name": "stdout",
     "output_type": "stream",
     "text": [
      "+------------------+\n",
      "|  avg(Temperature)|\n",
      "+------------------+\n",
      "|12.882922374429233|\n",
      "+------------------+\n",
      "\n"
     ]
    }
   ],
   "source": [
    "#Avg\n",
    "df.select(avg(\"Temperature\")).show()"
   ]
  },
  {
   "cell_type": "code",
   "execution_count": 27,
   "metadata": {},
   "outputs": [
    {
     "name": "stdout",
     "output_type": "stream",
     "text": [
      "+------------------------+\n",
      "|stddev_samp(Temperature)|\n",
      "+------------------------+\n",
      "|      11.944825230027929|\n",
      "+------------------------+\n",
      "\n"
     ]
    }
   ],
   "source": [
    "#stddev\n",
    "df.select(stddev(\"Temperature\")).show()"
   ]
  },
  {
   "cell_type": "code",
   "execution_count": 28,
   "metadata": {},
   "outputs": [
    {
     "name": "stdout",
     "output_type": "stream",
     "text": [
      "+------------------+\n",
      "|STDDev Temperature|\n",
      "+------------------+\n",
      "|11.944825230027929|\n",
      "+------------------+\n",
      "\n"
     ]
    }
   ],
   "source": [
    "#using aliases\n",
    "df.select(stddev(\"Temperature\").alias(\"STDDev Temperature\")).show()"
   ]
  },
  {
   "cell_type": "code",
   "execution_count": 29,
   "metadata": {},
   "outputs": [
    {
     "name": "stdout",
     "output_type": "stream",
     "text": [
      "+---------------------+\n",
      "|stddev_samp(Humidity)|\n",
      "+---------------------+\n",
      "|   20.362413301565603|\n",
      "+---------------------+\n",
      "\n",
      "+-----+\n",
      "|  std|\n",
      "+-----+\n",
      "|20.36|\n",
      "+-----+\n",
      "\n"
     ]
    }
   ],
   "source": [
    "#formatting numbers\n",
    "from pyspark.sql.functions import format_number\n",
    "humidity_std = df.select(stddev(\"Humidity\"))\n",
    "humidity_std.show()\n",
    "humidity_std.select(format_number('stddev_samp(Humidity)',2).alias('std')).show()"
   ]
  },
  {
   "cell_type": "code",
   "execution_count": 30,
   "metadata": {},
   "outputs": [
    {
     "name": "stdout",
     "output_type": "stream",
     "text": [
      "+----+----------------------+\n",
      "|Hour|sum(Rented Bike Count)|\n",
      "+----+----------------------+\n",
      "|   4|                 48396|\n",
      "|   5|                 50765|\n",
      "|   3|                 74216|\n",
      "|   6|                104961|\n",
      "|   2|                110095|\n",
      "|   1|                155557|\n",
      "|  10|                192655|\n",
      "|   0|                197633|\n",
      "|  11|                219311|\n",
      "|   7|                221192|\n",
      "|   9|                235784|\n",
      "|  23|                244961|\n",
      "|  12|                255296|\n",
      "|  13|                267635|\n",
      "|  14|                276971|\n",
      "|  15|                302653|\n",
      "|  22|                336821|\n",
      "|  16|                339677|\n",
      "|   8|                370731|\n",
      "|  21|                376479|\n",
      "|  20|                390172|\n",
      "|  17|                415556|\n",
      "|  19|                436229|\n",
      "|  18|                548568|\n",
      "+----+----------------------+\n",
      "\n"
     ]
    }
   ],
   "source": [
    "#Order by\n",
    "df.select(['Hour','Rented Bike Count']) \\\n",
    "    .groupBy('Hour').sum() \\\n",
    "    .orderBy('sum(Rented Bike Count)') \\\n",
    "    .select(['Hour','sum(Rented Bike Count)']).show(24)"
   ]
  },
  {
   "cell_type": "code",
   "execution_count": 31,
   "metadata": {},
   "outputs": [
    {
     "name": "stdout",
     "output_type": "stream",
     "text": [
      "+----+----------------------+\n",
      "|Hour|sum(Rented Bike Count)|\n",
      "+----+----------------------+\n",
      "|  18|                548568|\n",
      "|  19|                436229|\n",
      "|  17|                415556|\n",
      "|  20|                390172|\n",
      "|  21|                376479|\n",
      "|   8|                370731|\n",
      "|  16|                339677|\n",
      "|  22|                336821|\n",
      "|  15|                302653|\n",
      "|  14|                276971|\n",
      "|  13|                267635|\n",
      "|  12|                255296|\n",
      "|  23|                244961|\n",
      "|   9|                235784|\n",
      "|   7|                221192|\n",
      "|  11|                219311|\n",
      "|   0|                197633|\n",
      "|  10|                192655|\n",
      "|   1|                155557|\n",
      "|   2|                110095|\n",
      "|   6|                104961|\n",
      "|   3|                 74216|\n",
      "|   5|                 50765|\n",
      "|   4|                 48396|\n",
      "+----+----------------------+\n",
      "\n"
     ]
    }
   ],
   "source": [
    "#Order By Desc\n",
    "res = df.select(['Hour','Rented Bike Count']) \\\n",
    "    .groupBy('Hour').sum()\n",
    "\n",
    "res.orderBy(res['sum(Rented Bike Count)'].desc()) \\\n",
    "    .select(['Hour','sum(Rented Bike Count)']).show(24)"
   ]
  },
  {
   "cell_type": "code",
   "execution_count": 32,
   "metadata": {},
   "outputs": [
    {
     "name": "stdout",
     "output_type": "stream",
     "text": [
      "+----+-----------------+----+-----------+--------+----------------+----------------+---------------------+-----------------------+------------+-------------+-------+-------+---------------+\n",
      "|Date|Rented Bike Count|Hour|Temperature|Humidity|Wind speed (m/s)|Visibility (10m)|Dew point temperature|Solar Radiation (MJ/m2)|Rainfall(mm)|Snowfall (cm)|Seasons|Holiday|Functioning Day|\n",
      "+----+-----------------+----+-----------+--------+----------------+----------------+---------------------+-----------------------+------------+-------------+-------+-------+---------------+\n",
      "|   0|                0|   0|          0|       0|               0|               0|                    0|                      0|           0|            0|      0|      0|              0|\n",
      "+----+-----------------+----+-----------+--------+----------------+----------------+---------------------+-----------------------+------------+-------------+-------+-------+---------------+\n",
      "\n"
     ]
    }
   ],
   "source": [
    "#Checking nulls in colums\n",
    "from pyspark.sql.functions import isnan, when, count\n",
    "df.select([count(when(isnan(c), c)).alias(c) for c in df.columns]).show()\n",
    "#No nans in the data"
   ]
  },
  {
   "cell_type": "code",
   "execution_count": 33,
   "metadata": {},
   "outputs": [],
   "source": [
    "#Convert Date to dateType in PySpark\n",
    "from pyspark.sql.functions import to_date\n",
    "df = df.withColumn('New_date', to_date(df['Date'],format='dd/MM/yyyy'))"
   ]
  },
  {
   "cell_type": "code",
   "execution_count": 34,
   "metadata": {},
   "outputs": [
    {
     "name": "stdout",
     "output_type": "stream",
     "text": [
      "root\n",
      " |-- Date: string (nullable = true)\n",
      " |-- Rented Bike Count: integer (nullable = true)\n",
      " |-- Hour: integer (nullable = true)\n",
      " |-- Temperature: double (nullable = true)\n",
      " |-- Humidity: double (nullable = true)\n",
      " |-- Wind speed (m/s): double (nullable = true)\n",
      " |-- Visibility (10m): double (nullable = true)\n",
      " |-- Dew point temperature: double (nullable = true)\n",
      " |-- Solar Radiation (MJ/m2): double (nullable = true)\n",
      " |-- Rainfall(mm): double (nullable = true)\n",
      " |-- Snowfall (cm): double (nullable = true)\n",
      " |-- Seasons: string (nullable = true)\n",
      " |-- Holiday: string (nullable = true)\n",
      " |-- Functioning Day: string (nullable = true)\n",
      " |-- New_date: date (nullable = true)\n",
      "\n"
     ]
    }
   ],
   "source": [
    "df.printSchema()"
   ]
  },
  {
   "cell_type": "code",
   "execution_count": 35,
   "metadata": {},
   "outputs": [
    {
     "name": "stdout",
     "output_type": "stream",
     "text": [
      "+-----------------+----+-----------+--------+----------------+----------------+---------------------+-----------------------+------------+-------------+-------+----------+---------------+----------+\n",
      "|Rented Bike Count|Hour|Temperature|Humidity|Wind speed (m/s)|Visibility (10m)|Dew point temperature|Solar Radiation (MJ/m2)|Rainfall(mm)|Snowfall (cm)|Seasons|   Holiday|Functioning Day|      Date|\n",
      "+-----------------+----+-----------+--------+----------------+----------------+---------------------+-----------------------+------------+-------------+-------+----------+---------------+----------+\n",
      "|              254|   0|       -5.2|    37.0|             2.2|          2000.0|                -17.6|                    0.0|         0.0|          0.0| Winter|No Holiday|            Yes|2017-12-01|\n",
      "|              204|   1|       -5.5|    38.0|             0.8|          2000.0|                -17.6|                    0.0|         0.0|          0.0| Winter|No Holiday|            Yes|2017-12-01|\n",
      "|              173|   2|       -6.0|    39.0|             1.0|          2000.0|                -17.7|                    0.0|         0.0|          0.0| Winter|No Holiday|            Yes|2017-12-01|\n",
      "|              107|   3|       -6.2|    40.0|             0.9|          2000.0|                -17.6|                    0.0|         0.0|          0.0| Winter|No Holiday|            Yes|2017-12-01|\n",
      "|               78|   4|       -6.0|    36.0|             2.3|          2000.0|                -18.6|                    0.0|         0.0|          0.0| Winter|No Holiday|            Yes|2017-12-01|\n",
      "|              100|   5|       -6.4|    37.0|             1.5|          2000.0|                -18.7|                    0.0|         0.0|          0.0| Winter|No Holiday|            Yes|2017-12-01|\n",
      "|              181|   6|       -6.6|    35.0|             1.3|          2000.0|                -19.5|                    0.0|         0.0|          0.0| Winter|No Holiday|            Yes|2017-12-01|\n",
      "|              460|   7|       -7.4|    38.0|             0.9|          2000.0|                -19.3|                    0.0|         0.0|          0.0| Winter|No Holiday|            Yes|2017-12-01|\n",
      "|              930|   8|       -7.6|    37.0|             1.1|          2000.0|                -19.8|                   0.01|         0.0|          0.0| Winter|No Holiday|            Yes|2017-12-01|\n",
      "|              490|   9|       -6.5|    27.0|             0.5|          1928.0|                -22.4|                   0.23|         0.0|          0.0| Winter|No Holiday|            Yes|2017-12-01|\n",
      "|              339|  10|       -3.5|    24.0|             1.2|          1996.0|                -21.2|                   0.65|         0.0|          0.0| Winter|No Holiday|            Yes|2017-12-01|\n",
      "|              360|  11|       -0.5|    21.0|             1.3|          1936.0|                -20.2|                   0.94|         0.0|          0.0| Winter|No Holiday|            Yes|2017-12-01|\n",
      "|              449|  12|        1.7|    23.0|             1.4|          2000.0|                -17.2|                   1.11|         0.0|          0.0| Winter|No Holiday|            Yes|2017-12-01|\n",
      "|              451|  13|        2.4|    25.0|             1.6|          2000.0|                -15.6|                   1.16|         0.0|          0.0| Winter|No Holiday|            Yes|2017-12-01|\n",
      "|              447|  14|        3.0|    26.0|             2.0|          2000.0|                -14.6|                   1.01|         0.0|          0.0| Winter|No Holiday|            Yes|2017-12-01|\n",
      "|              463|  15|        2.1|    36.0|             3.2|          2000.0|                -11.4|                   0.54|         0.0|          0.0| Winter|No Holiday|            Yes|2017-12-01|\n",
      "|              484|  16|        1.2|    54.0|             4.2|           793.0|                 -7.0|                   0.24|         0.0|          0.0| Winter|No Holiday|            Yes|2017-12-01|\n",
      "|              555|  17|        0.8|    58.0|             1.6|          2000.0|                 -6.5|                   0.08|         0.0|          0.0| Winter|No Holiday|            Yes|2017-12-01|\n",
      "|              862|  18|        0.6|    66.0|             1.4|          2000.0|                 -5.0|                    0.0|         0.0|          0.0| Winter|No Holiday|            Yes|2017-12-01|\n",
      "|              600|  19|        0.0|    77.0|             1.7|          2000.0|                 -3.5|                    0.0|         0.0|          0.0| Winter|No Holiday|            Yes|2017-12-01|\n",
      "+-----------------+----+-----------+--------+----------------+----------------+---------------------+-----------------------+------------+-------------+-------+----------+---------------+----------+\n",
      "only showing top 20 rows\n",
      "\n"
     ]
    }
   ],
   "source": [
    "#Drop old date column\n",
    "df = df.drop(df['Date'])\n",
    "#rename New_date as date\n",
    "df = df.withColumnRenamed('New_Date', 'Date')\n",
    "df.show()"
   ]
  },
  {
   "cell_type": "code",
   "execution_count": 36,
   "metadata": {
    "scrolled": false
   },
   "outputs": [
    {
     "name": "stdout",
     "output_type": "stream",
     "text": [
      "+---+\n",
      "|DOM|\n",
      "+---+\n",
      "|  1|\n",
      "|  1|\n",
      "|  1|\n",
      "|  1|\n",
      "|  1|\n",
      "|  1|\n",
      "|  1|\n",
      "|  1|\n",
      "|  1|\n",
      "|  1|\n",
      "|  1|\n",
      "|  1|\n",
      "|  1|\n",
      "|  1|\n",
      "|  1|\n",
      "|  1|\n",
      "|  1|\n",
      "|  1|\n",
      "|  1|\n",
      "|  1|\n",
      "+---+\n",
      "only showing top 20 rows\n",
      "\n",
      "+---+\n",
      "|DOM|\n",
      "+---+\n",
      "| 31|\n",
      "| 28|\n",
      "| 26|\n",
      "| 27|\n",
      "| 12|\n",
      "| 22|\n",
      "|  1|\n",
      "| 13|\n",
      "|  6|\n",
      "| 16|\n",
      "|  3|\n",
      "| 20|\n",
      "|  5|\n",
      "| 19|\n",
      "| 15|\n",
      "|  9|\n",
      "| 17|\n",
      "|  4|\n",
      "|  8|\n",
      "| 23|\n",
      "+---+\n",
      "only showing top 20 rows\n",
      "\n",
      "+---+\n",
      "|DOY|\n",
      "+---+\n",
      "|148|\n",
      "|243|\n",
      "| 31|\n",
      "| 85|\n",
      "|137|\n",
      "|251|\n",
      "| 65|\n",
      "| 53|\n",
      "|255|\n",
      "|133|\n",
      "|296|\n",
      "| 78|\n",
      "|322|\n",
      "|362|\n",
      "|321|\n",
      "|108|\n",
      "|155|\n",
      "| 34|\n",
      "|193|\n",
      "|211|\n",
      "+---+\n",
      "only showing top 20 rows\n",
      "\n",
      "+-----+\n",
      "|Month|\n",
      "+-----+\n",
      "|   12|\n",
      "|    1|\n",
      "|    6|\n",
      "|    3|\n",
      "|    5|\n",
      "|    9|\n",
      "|    4|\n",
      "|    8|\n",
      "|    7|\n",
      "|   10|\n",
      "|   11|\n",
      "|    2|\n",
      "+-----+\n",
      "\n",
      "+----+\n",
      "|Year|\n",
      "+----+\n",
      "|2018|\n",
      "|2017|\n",
      "+----+\n",
      "\n",
      "+---+\n",
      "|WOY|\n",
      "+---+\n",
      "| 31|\n",
      "| 34|\n",
      "| 28|\n",
      "| 26|\n",
      "| 27|\n",
      "| 44|\n",
      "| 12|\n",
      "| 22|\n",
      "| 47|\n",
      "|  1|\n",
      "| 52|\n",
      "| 13|\n",
      "|  6|\n",
      "| 16|\n",
      "|  3|\n",
      "| 20|\n",
      "| 40|\n",
      "| 48|\n",
      "|  5|\n",
      "| 19|\n",
      "+---+\n",
      "only showing top 20 rows\n",
      "\n"
     ]
    }
   ],
   "source": [
    "#Some datetime operations\n",
    "from pyspark.sql.functions import (dayofmonth, \n",
    "                                   dayofyear,\n",
    "                                   month,\n",
    "                                   year,\n",
    "                                   weekofyear)\n",
    "\n",
    "#Dateofmonth operation\n",
    "df.select(dayofmonth('Date').alias('DOM')).show()\n",
    "df.select(dayofmonth('Date').alias('DOM')).distinct().show()\n",
    "\n",
    "#Date of year\n",
    "df.select(dayofyear('Date').alias('DOY')).distinct().show()\n",
    "\n",
    "#month\n",
    "df.select(month('Date').alias('Month')).distinct().show()\n",
    "\n",
    "#year\n",
    "df.select(year('Date').alias('Year')).distinct().show()\n",
    "\n",
    "#weekofyear\n",
    "df.select(weekofyear('Date').alias('WOY')).distinct().show()"
   ]
  }
 ],
 "metadata": {
  "kernelspec": {
   "display_name": "Python 3",
   "language": "python",
   "name": "python3"
  },
  "language_info": {
   "codemirror_mode": {
    "name": "ipython",
    "version": 3
   },
   "file_extension": ".py",
   "mimetype": "text/x-python",
   "name": "python",
   "nbconvert_exporter": "python",
   "pygments_lexer": "ipython3",
   "version": "3.7.8"
  },
  "latex_envs": {
   "LaTeX_envs_menu_present": true,
   "autoclose": false,
   "autocomplete": true,
   "bibliofile": "biblio.bib",
   "cite_by": "apalike",
   "current_citInitial": 1,
   "eqLabelWithNumbers": true,
   "eqNumInitial": 1,
   "hotkeys": {
    "equation": "Ctrl-E",
    "itemize": "Ctrl-I"
   },
   "labels_anchors": false,
   "latex_user_defs": false,
   "report_style_numbering": false,
   "user_envs_cfg": false
  },
  "toc": {
   "base_numbering": 1,
   "nav_menu": {},
   "number_sections": false,
   "sideBar": true,
   "skip_h1_title": false,
   "title_cell": "Table of Contents",
   "title_sidebar": "Contents",
   "toc_cell": false,
   "toc_position": {
    "height": "calc(100% - 180px)",
    "left": "10px",
    "top": "150px",
    "width": "236px"
   },
   "toc_section_display": true,
   "toc_window_display": false
  }
 },
 "nbformat": 4,
 "nbformat_minor": 4
}
