{
 "cells": [
  {
   "cell_type": "markdown",
   "id": "regulated-senior",
   "metadata": {},
   "source": [
    "# Word2Vec\n",
    "\n",
    "**Word2Vec** is a group if algorithms to learn vector space representations of the words (also called word embeddings) . **Word2Vec** technique has two different algorithms:\n",
    "1. Continuous Bag of Words (CBOW)\n",
    "2. Skip gram method\n",
    "\n",
    "Both of the techniques were described in these two papers.\n",
    "\n",
    "https://arxiv.org/abs/1301.3781\n",
    "\n",
    "https://arxiv.org/abs/1310.4546\n",
    "\n",
    "In the sheet below we will implement Skip gram method from scratch. Later we will use gensim to make word embeddings and see some its properties."
   ]
  },
  {
   "cell_type": "code",
   "execution_count": 1,
   "id": "gross-sperm",
   "metadata": {
    "ExecuteTime": {
     "end_time": "2021-02-25T22:59:05.295468Z",
     "start_time": "2021-02-25T22:59:00.576311Z"
    }
   },
   "outputs": [
    {
     "name": "stderr",
     "output_type": "stream",
     "text": [
      "[nltk_data] Downloading package punkt to /Users/jamieott/nltk_data...\n",
      "[nltk_data]   Package punkt is already up-to-date!\n",
      "[nltk_data] Downloading package stopwords to\n",
      "[nltk_data]     /Users/jamieott/nltk_data...\n",
      "[nltk_data]   Package stopwords is already up-to-date!\n"
     ]
    },
    {
     "data": {
      "text/plain": [
       "True"
      ]
     },
     "execution_count": 1,
     "metadata": {},
     "output_type": "execute_result"
    }
   ],
   "source": [
    "import numpy as np\n",
    "import string\n",
    "from collections import defaultdict\n",
    "import pandas as pd\n",
    "import matplotlib.pyplot as plt\n",
    "import re\n",
    "\n",
    "import nltk\n",
    "from nltk.tokenize import sent_tokenize, word_tokenize\n",
    "from nltk.corpus import stopwords\n",
    "nltk.download('punkt')\n",
    "nltk.download('stopwords')"
   ]
  },
  {
   "cell_type": "code",
   "execution_count": 2,
   "id": "blocked-market",
   "metadata": {
    "ExecuteTime": {
     "end_time": "2021-02-25T22:59:05.340307Z",
     "start_time": "2021-02-25T22:59:05.301508Z"
    }
   },
   "outputs": [],
   "source": [
    "class Word2Vec:\n",
    "    def __init__(self, embed_d, learning_rate, epochs, window_size):\n",
    "        self.embed_d       = embed_d\n",
    "        self.learning_rate = learning_rate\n",
    "        self.epochs        = epochs\n",
    "        self.window_size   = window_size\n",
    "    \n",
    "    def _word2onehot(self, word):\n",
    "        word_vec = [0 for i in range(0, self.vocab_size)]\n",
    "        word_index = self.word_index[word]\n",
    "        word_vec[word_index] = 1\n",
    "        return word_vec\n",
    "    \n",
    "    def prepare_data(self, corpus):\n",
    "        word_counts = defaultdict(int)\n",
    "        for row in corpus:\n",
    "            for word in row:\n",
    "                word_counts[word] += 1\n",
    "\n",
    "        self.vocab_size = len(word_counts.keys())\n",
    "\n",
    "        self.words_list = sorted(list(word_counts.keys()),reverse=False)\n",
    "        self.word_index = dict((word, i) for i, word in enumerate(self.words_list))\n",
    "        self.index_word = dict((i, word) for i, word in enumerate(self.words_list))\n",
    "\n",
    "        self.training_data = []\n",
    "        for sentence in corpus:\n",
    "            sent_len = len(sentence)\n",
    "            for i, word in enumerate(sentence):\n",
    "                w_target = self._word2onehot(sentence[i])\n",
    "                w_context = []\n",
    "                for j in range(i-self.window_size, i+self.window_size+1):\n",
    "                    if j!=i and j<sent_len and j>=0:\n",
    "                        w_context.append(self._word2onehot(sentence[j]))\n",
    "                self.training_data.append([w_target, w_context])\n",
    "    \n",
    "    def init_weights(self):\n",
    "        self.w1 = np.random.uniform(-1, 1, (self.vocab_size, self.embed_d))     \n",
    "        self.w2 = np.random.uniform(-1, 1, (self.embed_d, self.vocab_size))     \n",
    "    \n",
    "    def _softmax(self, x):\n",
    "        e_x = np.exp(x - np.max(x))\n",
    "        return e_x / e_x.sum(axis=0)\n",
    "    \n",
    "    def _forward_pass(self, x):\n",
    "        h = np.dot(self.w1.T, x)\n",
    "        u = np.dot(self.w2.T, h)\n",
    "        y_c = self._softmax(u)\n",
    "        return y_c, h, u\n",
    "    \n",
    "    def _backprop(self, e, h, x):\n",
    "        dl_dw2 = np.outer(h, e)  \n",
    "        dl_dw1 = np.outer(x, np.dot(self.w2, e.T))\n",
    "\n",
    "        self.w1 = self.w1 - (self.learning_rate * dl_dw1)\n",
    "        self.w2 = self.w2 - (self.learning_rate * dl_dw2)\n",
    "    \n",
    "    def fit(self):\n",
    "        self.init_weights()\n",
    "        self.losses = []\n",
    "        for i in range(0, self.epochs):\n",
    "            loss = 0\n",
    "            for t, c in self.training_data:\n",
    "                y_pred, h, u = self._forward_pass(t)\n",
    "                \n",
    "                err = np.sum([np.subtract(y_pred, word) for word in c], axis=0)\n",
    "\n",
    "                self._backprop(err, h, t)\n",
    "\n",
    "                loss += -np.sum([u[word.index(1)] for word in c]) + len(c) * np.log(np.sum(np.exp(u)))\n",
    "            if i % 100 == 0:\n",
    "                print(f\"EPOCH: {i}, LOSS: {loss}\")\n",
    "            self.losses.append(loss)\n",
    "\n",
    "    def word_vec(self, word):\n",
    "        w_index = self.word_index[word]\n",
    "        v_w = self.w1[w_index]\n",
    "        return v_w\n",
    "\n",
    "    def vec_sim(self, vec, top_n):\n",
    "        word_sim = {}\n",
    "        for i in range(self.vocab_size):\n",
    "            v_w2 = self.w1[i]\n",
    "            theta_num = np.dot(vec, v_w2)\n",
    "            theta_den = np.linalg.norm(vec) * np.linalg.norm(v_w2)\n",
    "            theta = theta_num / theta_den\n",
    "\n",
    "            word = self.index_word[i]\n",
    "            word_sim[word] = theta\n",
    "\n",
    "        words_sorted = sorted(word_sim.items(), key=lambda item : item[1], reverse=True)\n",
    "\n",
    "        for word, sim in words_sorted[:top_n]:\n",
    "            print(word, sim)\n",
    "            "
   ]
  },
  {
   "cell_type": "code",
   "execution_count": 3,
   "id": "controlling-stanley",
   "metadata": {
    "ExecuteTime": {
     "end_time": "2021-02-25T22:59:11.694071Z",
     "start_time": "2021-02-25T22:59:05.348113Z"
    }
   },
   "outputs": [
    {
     "name": "stdout",
     "output_type": "stream",
     "text": [
      "EPOCH: 0, LOSS: 799.9936433848986\n",
      "EPOCH: 100, LOSS: 337.2295425751781\n",
      "EPOCH: 200, LOSS: 292.7990057219159\n",
      "EPOCH: 300, LOSS: 286.095814277507\n",
      "EPOCH: 400, LOSS: 283.97845091584327\n",
      "EPOCH: 500, LOSS: 282.9892427981479\n",
      "EPOCH: 600, LOSS: 282.415675811719\n",
      "EPOCH: 700, LOSS: 282.03245900455823\n",
      "EPOCH: 800, LOSS: 281.7496210019721\n",
      "EPOCH: 900, LOSS: 281.52545280806567\n"
     ]
    }
   ],
   "source": [
    "word2vec = Word2Vec(10, 0.01, 1000, 2)\n",
    "text=\"\"\"Word2vec is a technique for natural language processing. \n",
    "The word2vec algorithm uses a neural network model to learn word associations from a large corpus of text. \n",
    "Once trained, such a model can detect synonymous words or suggest additional words for a partial sentence. \n",
    "As the name implies, word2vec represents each distinct word with a particular list of numbers called a vector. \n",
    "The vectors are chosen carefully such that a simple mathematical function \n",
    "(the cosine similarity between the vectors) indicates the level of semantic similarity between the words \n",
    "represented by those vectors.\"\"\"\n",
    "\n",
    "stop = set(stopwords.words('english') + list(string.punctuation))\n",
    "\n",
    "corpus = []\n",
    "for sent in sent_tokenize(text):\n",
    "    sent_split = []\n",
    "    for w in word_tokenize(sent.lower()):\n",
    "        if w not in stop:\n",
    "            sent_split.append(w)\n",
    "    corpus.append(sent_split)\n",
    "word2vec.prepare_data(corpus)\n",
    "word2vec.fit()"
   ]
  },
  {
   "cell_type": "code",
   "execution_count": 4,
   "id": "brazilian-drunk",
   "metadata": {
    "ExecuteTime": {
     "end_time": "2021-02-25T22:59:11.889981Z",
     "start_time": "2021-02-25T22:59:11.697641Z"
    }
   },
   "outputs": [
    {
     "data": {
      "text/plain": [
       "[<matplotlib.lines.Line2D at 0x7fe770ffc130>]"
      ]
     },
     "execution_count": 4,
     "metadata": {},
     "output_type": "execute_result"
    },
    {
     "data": {
      "image/png": "[encoded data removed]",
      "text/plain": [
       "<Figure size 432x288 with 1 Axes>"
      ]
     },
     "metadata": {
      "needs_background": "light"
     },
     "output_type": "display_data"
    }
   ],
   "source": [
    "plt.plot(word2vec.losses)"
   ]
  },
  {
   "cell_type": "code",
   "execution_count": 5,
   "id": "played-airfare",
   "metadata": {
    "ExecuteTime": {
     "end_time": "2021-02-25T22:59:11.899346Z",
     "start_time": "2021-02-25T22:59:11.892417Z"
    }
   },
   "outputs": [
    {
     "data": {
      "text/plain": [
       "array([ 1.11063421, -1.11807186, -0.52986382, -1.21634822, -2.05934472,\n",
       "        0.27011979, -0.49927939, -2.10755115,  0.72212965, -0.97921892])"
      ]
     },
     "execution_count": 5,
     "metadata": {},
     "output_type": "execute_result"
    }
   ],
   "source": [
    "word2vec.word_vec('neural')"
   ]
  },
  {
   "cell_type": "code",
   "execution_count": 6,
   "id": "substantial-percentage",
   "metadata": {
    "ExecuteTime": {
     "end_time": "2021-02-25T22:59:11.940159Z",
     "start_time": "2021-02-25T22:59:11.908039Z"
    }
   },
   "outputs": [
    {
     "name": "stdout",
     "output_type": "stream",
     "text": [
      "network 0.9999999999999999\n",
      "algorithm 0.6344168180957185\n",
      "associations 0.5511618179731903\n",
      "neural 0.5083719112122781\n"
     ]
    }
   ],
   "source": [
    "word2vec.vec_sim(word2vec.word_vec('network'),4)"
   ]
  },
  {
   "cell_type": "markdown",
   "id": "traditional-bradford",
   "metadata": {},
   "source": [
    "## GenSim\n",
    "Now lets use **GenSim** to generate word embeddings"
   ]
  },
  {
   "cell_type": "code",
   "execution_count": 7,
   "id": "valuable-baseball",
   "metadata": {
    "ExecuteTime": {
     "end_time": "2021-02-25T22:59:12.230720Z",
     "start_time": "2021-02-25T22:59:11.947842Z"
    }
   },
   "outputs": [],
   "source": [
    "df = pd.read_csv('./simpsons_dataset.csv')"
   ]
  },
  {
   "cell_type": "code",
   "execution_count": 8,
   "id": "exact-photograph",
   "metadata": {
    "ExecuteTime": {
     "end_time": "2021-02-25T22:59:12.283232Z",
     "start_time": "2021-02-25T22:59:12.236466Z"
    }
   },
   "outputs": [],
   "source": [
    "df.head()\n",
    "df = df.dropna().reset_index(drop=True)"
   ]
  },
  {
   "cell_type": "code",
   "execution_count": 9,
   "id": "isolated-learning",
   "metadata": {
    "ExecuteTime": {
     "end_time": "2021-02-25T22:59:19.733990Z",
     "start_time": "2021-02-25T22:59:12.290122Z"
    }
   },
   "outputs": [],
   "source": [
    "import spacy"
   ]
  },
  {
   "cell_type": "code",
   "execution_count": 10,
   "id": "controlled-tobago",
   "metadata": {
    "ExecuteTime": {
     "end_time": "2021-02-25T23:01:04.204875Z",
     "start_time": "2021-02-25T22:59:19.738066Z"
    }
   },
   "outputs": [],
   "source": [
    "nlp = spacy.load(\"en_core_web_sm\")\n",
    "def cleaning(doc):\n",
    "    txt = [token.lemma_ for token in doc if not token.is_stop]\n",
    "    return \" \".join(txt)\n",
    "\n",
    "brief_cleaning = (re.sub(\"[^A-Za-z']+\", ' ', str(row)).lower() for row in df['spoken_words'])\n",
    "txt = [cleaning(doc) for doc in nlp.pipe(brief_cleaning, batch_size=5000, disable=[\"parser\", \"ner\"])]"
   ]
  },
  {
   "cell_type": "code",
   "execution_count": 11,
   "id": "lonely-advocate",
   "metadata": {
    "ExecuteTime": {
     "end_time": "2021-02-25T23:01:04.334369Z",
     "start_time": "2021-02-25T23:01:04.207348Z"
    }
   },
   "outputs": [
    {
     "data": {
      "text/plain": [
       "(107505, 1)"
      ]
     },
     "execution_count": 11,
     "metadata": {},
     "output_type": "execute_result"
    }
   ],
   "source": [
    "df_clean = pd.DataFrame({'clean': txt})\n",
    "df_clean = df_clean.dropna().drop_duplicates()\n",
    "df_clean.shape"
   ]
  },
  {
   "cell_type": "code",
   "execution_count": 12,
   "id": "corporate-picking",
   "metadata": {
    "ExecuteTime": {
     "end_time": "2021-02-25T23:01:05.134220Z",
     "start_time": "2021-02-25T23:01:04.343477Z"
    }
   },
   "outputs": [],
   "source": [
    "from gensim.models import Word2Vec\n",
    "from gensim.models.phrases import Phrases, Phraser"
   ]
  },
  {
   "cell_type": "code",
   "execution_count": 13,
   "id": "ambient-blade",
   "metadata": {
    "ExecuteTime": {
     "end_time": "2021-02-25T23:01:09.538186Z",
     "start_time": "2021-02-25T23:01:05.143146Z"
    }
   },
   "outputs": [],
   "source": [
    "sent = [row.split() for row in df_clean['clean']]\n",
    "phrases = Phrases(sent, min_count=30, progress_per=10000)\n",
    "bigram = Phraser(phrases)\n",
    "sentences = bigram[sent]"
   ]
  },
  {
   "cell_type": "code",
   "execution_count": 14,
   "id": "pharmaceutical-module",
   "metadata": {
    "ExecuteTime": {
     "end_time": "2021-02-25T23:01:12.311489Z",
     "start_time": "2021-02-25T23:01:09.540687Z"
    }
   },
   "outputs": [],
   "source": [
    "word2Vec_model = Word2Vec(min_count=20,\n",
    "                     window=2,\n",
    "                     size=300,\n",
    "                     sample=6e-5, \n",
    "                     alpha=0.03, \n",
    "                     min_alpha=0.0007, \n",
    "                     negative=20)\n",
    "word2Vec_model.build_vocab(sentences, progress_per=10000)"
   ]
  },
  {
   "cell_type": "code",
   "execution_count": 15,
   "id": "checked-emperor",
   "metadata": {
    "ExecuteTime": {
     "end_time": "2021-02-25T23:07:04.592391Z",
     "start_time": "2021-02-25T23:01:12.314143Z"
    }
   },
   "outputs": [
    {
     "data": {
      "text/plain": [
       "(147887018, 331906000)"
      ]
     },
     "execution_count": 15,
     "metadata": {},
     "output_type": "execute_result"
    }
   ],
   "source": [
    "word2Vec_model.train(df_clean[\"clean\"], total_examples=word2Vec_model.corpus_count, epochs=100, report_delay=1)"
   ]
  },
  {
   "cell_type": "code",
   "execution_count": 16,
   "id": "asian-guyana",
   "metadata": {
    "ExecuteTime": {
     "end_time": "2021-02-25T23:07:04.634009Z",
     "start_time": "2021-02-25T23:07:04.596250Z"
    }
   },
   "outputs": [
    {
     "data": {
      "text/plain": [
       "[('wheel', 0.1806177943944931),\n",
       " ('horse', 0.1788918673992157),\n",
       " ('drown', 0.17627103626728058),\n",
       " ('jacket', 0.1736503392457962),\n",
       " ('lick', 0.1733086258172989),\n",
       " ('restaurant', 0.16978919506072998),\n",
       " ('especially', 0.1688036322593689),\n",
       " ('peach', 0.16804105043411255),\n",
       " ('q', 0.1659407615661621),\n",
       " ('source', 0.16477200388908386)]"
      ]
     },
     "execution_count": 16,
     "metadata": {},
     "output_type": "execute_result"
    }
   ],
   "source": [
    "word2Vec_model.wv.most_similar(positive=[\"bart\"])"
   ]
  },
  {
   "cell_type": "markdown",
   "id": "instrumental-insert",
   "metadata": {},
   "source": [
    "Lets try out some other corpus"
   ]
  },
  {
   "cell_type": "code",
   "execution_count": 17,
   "id": "rental-gauge",
   "metadata": {
    "ExecuteTime": {
     "end_time": "2021-02-25T23:09:05.635662Z",
     "start_time": "2021-02-25T23:07:04.670726Z"
    }
   },
   "outputs": [],
   "source": [
    "import gensim.downloader as api\n",
    "corpus = api.load('text8')\n",
    "\n",
    "model = Word2Vec(corpus)"
   ]
  },
  {
   "cell_type": "code",
   "execution_count": 18,
   "id": "formal-shell",
   "metadata": {
    "ExecuteTime": {
     "end_time": "2021-02-25T23:09:05.727323Z",
     "start_time": "2021-02-25T23:09:05.637894Z"
    }
   },
   "outputs": [
    {
     "name": "stdout",
     "output_type": "stream",
     "text": [
      "[('trees', 0.6888453960418701), ('leaf', 0.6712740659713745), ('fruit', 0.6434304118156433), ('flower', 0.6400408744812012), ('bark', 0.6394050121307373), ('bird', 0.6125483512878418), ('avl', 0.6082426309585571), ('bee', 0.5910632610321045), ('garden', 0.5887804627418518), ('cactus', 0.5871884822845459)]\n"
     ]
    }
   ],
   "source": [
    "print(model.wv.most_similar('tree'))"
   ]
  }
 ],
 "metadata": {
  "kernelspec": {
   "display_name": "Python 3",
   "language": "python",
   "name": "python3"
  },
  "language_info": {
   "codemirror_mode": {
    "name": "ipython",
    "version": 3
   },
   "file_extension": ".py",
   "mimetype": "text/x-python",
   "name": "python",
   "nbconvert_exporter": "python",
   "pygments_lexer": "ipython3",
   "version": "3.8.3"
  },
  "latex_envs": {
   "LaTeX_envs_menu_present": true,
   "autoclose": false,
   "autocomplete": true,
   "bibliofile": "biblio.bib",
   "cite_by": "apalike",
   "current_citInitial": 1,
   "eqLabelWithNumbers": true,
   "eqNumInitial": 1,
   "hotkeys": {
    "equation": "Ctrl-E",
    "itemize": "Ctrl-I"
   },
   "labels_anchors": false,
   "latex_user_defs": false,
   "report_style_numbering": false,
   "user_envs_cfg": false
  },
  "toc": {
   "base_numbering": 1,
   "nav_menu": {},
   "number_sections": false,
   "sideBar": true,
   "skip_h1_title": false,
   "title_cell": "Table of Contents",
   "title_sidebar": "Contents",
   "toc_cell": false,
   "toc_position": {},
   "toc_section_display": true,
   "toc_window_display": false
  }
 },
 "nbformat": 4,
 "nbformat_minor": 5
}
