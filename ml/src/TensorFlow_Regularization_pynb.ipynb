{
 "cells": [
  {
   "cell_type": "markdown",
   "metadata": {
    "id": "DhuabPJNoIrg"
   },
   "source": [
    "## Regularization\n",
    "\n",
    "**Regularization** is a very important tool for improving the performance of ANNs. Regularization helps to reduce the overfit and variance of models. Helps to get better test set performance. For Neural networks there are two most popular **Regularization** techniques, **L_2** regularization and **Dropout** regularization. In this notebook we will use both of these techniques in **TensorFlow**.\n",
    "\n",
    "**Dropout** paper: https://arxiv.org/abs/1207.0580"
   ]
  },
  {
   "cell_type": "code",
   "execution_count": 1,
   "metadata": {
    "ExecuteTime": {
     "end_time": "2021-01-05T22:50:04.996936Z",
     "start_time": "2021-01-05T22:49:57.356228Z"
    },
    "colab": {
     "base_uri": "https://localhost:8080/",
     "height": 34
    },
    "id": "ReEyDy9on1zf",
    "outputId": "35a387a0-c041-4e74-8fc5-71ad5697610e"
   },
   "outputs": [
    {
     "name": "stdout",
     "output_type": "stream",
     "text": [
      "2.3.1\n"
     ]
    }
   ],
   "source": [
    "#Do regular imports\n",
    "import numpy as np\n",
    "import pandas as pd\n",
    "import matplotlib.pyplot as plt\n",
    "import tensorflow as tf\n",
    "print(tf.__version__)"
   ]
  },
  {
   "cell_type": "code",
   "execution_count": 2,
   "metadata": {
    "ExecuteTime": {
     "end_time": "2021-01-05T22:53:18.821821Z",
     "start_time": "2021-01-05T22:53:17.727363Z"
    },
    "colab": {
     "base_uri": "https://localhost:8080/",
     "height": 68
    },
    "id": "a003H7WSKy5D",
    "outputId": "26dc6ad7-2cf7-4c88-825c-7850b53fb5a0"
   },
   "outputs": [
    {
     "name": "stdout",
     "output_type": "stream",
     "text": [
      "x_train.shape: (60000, 28, 28)\n"
     ]
    }
   ],
   "source": [
    "#Get MNIST dataset\n",
    "mnist = tf.keras.datasets.mnist\n",
    "\n",
    "(x_train, y_train), (x_test, y_test) = mnist.load_data()\n",
    "x_train, x_test = x_train / 255.0, x_test / 255.0\n",
    "print(\"x_train.shape:\", x_train.shape)"
   ]
  },
  {
   "cell_type": "code",
   "execution_count": 3,
   "metadata": {
    "ExecuteTime": {
     "end_time": "2021-01-05T22:53:20.388554Z",
     "start_time": "2021-01-05T22:53:20.251040Z"
    },
    "id": "QeWEfCVvLU6-"
   },
   "outputs": [],
   "source": [
    "#Lets build a simple model\n",
    "model = tf.keras.models.Sequential([\n",
    "  tf.keras.layers.Flatten(input_shape=(28, 28)),\n",
    "  tf.keras.layers.Dense(392, activation='relu'),\n",
    "  tf.keras.layers.Dense(196, activation='relu'),\n",
    "  tf.keras.layers.Dense(98, activation='relu'),\n",
    "  tf.keras.layers.Dense(10, activation='softmax')\n",
    "])\n",
    "\n",
    "# Compile the model\n",
    "model.compile(optimizer='adam',\n",
    "              loss='sparse_categorical_crossentropy',\n",
    "              metrics=['accuracy'])"
   ]
  },
  {
   "cell_type": "code",
   "execution_count": 4,
   "metadata": {
    "ExecuteTime": {
     "end_time": "2021-01-05T22:54:35.721012Z",
     "start_time": "2021-01-05T22:53:23.817272Z"
    },
    "colab": {
     "base_uri": "https://localhost:8080/",
     "height": 357
    },
    "id": "UJ0TYpQoMGTs",
    "outputId": "686baa34-05aa-47ae-9390-f7e26cfde2e0"
   },
   "outputs": [
    {
     "name": "stdout",
     "output_type": "stream",
     "text": [
      "Epoch 1/10\n",
      "1875/1875 [==============================] - 7s 4ms/step - loss: 0.1983 - accuracy: 0.9403 - val_loss: 0.1195 - val_accuracy: 0.9623\n",
      "Epoch 2/10\n",
      "1875/1875 [==============================] - 7s 4ms/step - loss: 0.0862 - accuracy: 0.9729 - val_loss: 0.0928 - val_accuracy: 0.9726\n",
      "Epoch 3/10\n",
      "1875/1875 [==============================] - 7s 4ms/step - loss: 0.0603 - accuracy: 0.9811 - val_loss: 0.0712 - val_accuracy: 0.9789\n",
      "Epoch 4/10\n",
      "1875/1875 [==============================] - 7s 4ms/step - loss: 0.0468 - accuracy: 0.9852 - val_loss: 0.0932 - val_accuracy: 0.9745\n",
      "Epoch 5/10\n",
      "1875/1875 [==============================] - 8s 4ms/step - loss: 0.0382 - accuracy: 0.9881 - val_loss: 0.0797 - val_accuracy: 0.9784\n",
      "Epoch 6/10\n",
      "1875/1875 [==============================] - 7s 4ms/step - loss: 0.0324 - accuracy: 0.9895 - val_loss: 0.0746 - val_accuracy: 0.9798\n",
      "Epoch 7/10\n",
      "1875/1875 [==============================] - 7s 4ms/step - loss: 0.0278 - accuracy: 0.9912 - val_loss: 0.0930 - val_accuracy: 0.9778\n",
      "Epoch 8/10\n",
      "1875/1875 [==============================] - 7s 4ms/step - loss: 0.0254 - accuracy: 0.9922 - val_loss: 0.1219 - val_accuracy: 0.9723\n",
      "Epoch 9/10\n",
      "1875/1875 [==============================] - 7s 4ms/step - loss: 0.0231 - accuracy: 0.9930 - val_loss: 0.0802 - val_accuracy: 0.9790\n",
      "Epoch 10/10\n",
      "1875/1875 [==============================] - 6s 3ms/step - loss: 0.0197 - accuracy: 0.9938 - val_loss: 0.0892 - val_accuracy: 0.9795\n"
     ]
    }
   ],
   "source": [
    "# Train the model\n",
    "r = model.fit(x_train, y_train, validation_data=(x_test, y_test), epochs=10)"
   ]
  },
  {
   "cell_type": "code",
   "execution_count": 5,
   "metadata": {
    "ExecuteTime": {
     "end_time": "2021-01-05T22:54:36.083324Z",
     "start_time": "2021-01-05T22:54:35.724545Z"
    },
    "colab": {
     "base_uri": "https://localhost:8080/",
     "height": 282
    },
    "id": "AnwaEfwfMmKW",
    "outputId": "b191178f-5473-468c-d0ff-601d86b10386"
   },
   "outputs": [
    {
     "data": {
      "text/plain": [
       "<matplotlib.legend.Legend at 0x7fad6b211490>"
      ]
     },
     "execution_count": 5,
     "metadata": {},
     "output_type": "execute_result"
    },
    {
     "data": {
      "image/png": "[encoded data removed]",
      "text/plain": [
       "<Figure size 432x288 with 1 Axes>"
      ]
     },
     "metadata": {
      "needs_background": "light"
     },
     "output_type": "display_data"
    }
   ],
   "source": [
    "# Plot loss per iteration\n",
    "plt.plot(r.history['loss'], label='loss')\n",
    "plt.plot(r.history['val_loss'], label='val_loss')\n",
    "plt.legend()"
   ]
  },
  {
   "cell_type": "code",
   "execution_count": 6,
   "metadata": {
    "ExecuteTime": {
     "end_time": "2021-01-05T22:54:36.274382Z",
     "start_time": "2021-01-05T22:54:36.087152Z"
    },
    "colab": {
     "base_uri": "https://localhost:8080/",
     "height": 282
    },
    "id": "h9jw1fhhMsZC",
    "outputId": "5a6357f4-efe2-4ad8-efcb-d14abe433e8b"
   },
   "outputs": [
    {
     "data": {
      "text/plain": [
       "<matplotlib.legend.Legend at 0x7fad6ab26790>"
      ]
     },
     "execution_count": 6,
     "metadata": {},
     "output_type": "execute_result"
    },
    {
     "data": {
      "image/png": "[encoded data removed]",
      "text/plain": [
       "<Figure size 432x288 with 1 Axes>"
      ]
     },
     "metadata": {
      "needs_background": "light"
     },
     "output_type": "display_data"
    }
   ],
   "source": [
    "# Plot accuracy per iteration\n",
    "plt.plot(r.history['accuracy'], label='acc')\n",
    "plt.plot(r.history['val_accuracy'], label='val_acc')\n",
    "plt.legend()"
   ]
  },
  {
   "cell_type": "code",
   "execution_count": 7,
   "metadata": {
    "ExecuteTime": {
     "end_time": "2021-01-05T22:54:36.894563Z",
     "start_time": "2021-01-05T22:54:36.277111Z"
    },
    "colab": {
     "base_uri": "https://localhost:8080/",
     "height": 51
    },
    "id": "vflbtdUqyHZP",
    "outputId": "54a56509-16ac-4b58-a882-1223a1da7c04"
   },
   "outputs": [
    {
     "name": "stdout",
     "output_type": "stream",
     "text": [
      "313/313 [==============================] - 0s 2ms/step - loss: 0.0892 - accuracy: 0.9795\n",
      "[0.08920613676309586, 0.9794999957084656]\n"
     ]
    }
   ],
   "source": [
    "# Evaluate the model\n",
    "print(model.evaluate(x_test, y_test))"
   ]
  },
  {
   "cell_type": "code",
   "execution_count": 8,
   "metadata": {
    "ExecuteTime": {
     "end_time": "2021-01-05T22:54:36.964494Z",
     "start_time": "2021-01-05T22:54:36.898147Z"
    },
    "id": "cca2Y-Xoyufq"
   },
   "outputs": [],
   "source": [
    "# Now lets apply an L2 regularization to first dense layer\n",
    "model = tf.keras.models.Sequential([\n",
    "  tf.keras.layers.Flatten(input_shape=(28, 28)),\n",
    "  tf.keras.layers.Dense(392, activation='relu', kernel_regularizer='l2'),\n",
    "  tf.keras.layers.Dense(196, activation='relu'),\n",
    "  tf.keras.layers.Dense(98, activation='relu'),\n",
    "  tf.keras.layers.Dense(10, activation='softmax')\n",
    "])\n",
    "\n",
    "# Compile the model\n",
    "model.compile(optimizer='adam',\n",
    "              loss='sparse_categorical_crossentropy',\n",
    "              metrics=['accuracy'])"
   ]
  },
  {
   "cell_type": "code",
   "execution_count": 9,
   "metadata": {
    "ExecuteTime": {
     "end_time": "2021-01-05T22:55:57.840739Z",
     "start_time": "2021-01-05T22:54:36.966673Z"
    },
    "colab": {
     "base_uri": "https://localhost:8080/",
     "height": 357
    },
    "id": "MrCLWNnMzp61",
    "outputId": "1d70d1f5-af83-4a6a-8830-42dfbb1dd23c"
   },
   "outputs": [
    {
     "name": "stdout",
     "output_type": "stream",
     "text": [
      "Epoch 1/10\n",
      "1875/1875 [==============================] - 8s 4ms/step - loss: 0.5895 - accuracy: 0.9136 - val_loss: 0.3349 - val_accuracy: 0.9435\n",
      "Epoch 2/10\n",
      "1875/1875 [==============================] - 8s 4ms/step - loss: 0.3213 - accuracy: 0.9443 - val_loss: 0.2745 - val_accuracy: 0.9551\n",
      "Epoch 3/10\n",
      "1875/1875 [==============================] - 8s 4ms/step - loss: 0.2730 - accuracy: 0.9529 - val_loss: 0.2686 - val_accuracy: 0.9514\n",
      "Epoch 4/10\n",
      "1875/1875 [==============================] - 8s 4ms/step - loss: 0.2494 - accuracy: 0.9552 - val_loss: 0.2377 - val_accuracy: 0.9573\n",
      "Epoch 5/10\n",
      "1875/1875 [==============================] - 8s 4ms/step - loss: 0.2330 - accuracy: 0.9589 - val_loss: 0.2169 - val_accuracy: 0.9621\n",
      "Epoch 6/10\n",
      "1875/1875 [==============================] - 8s 4ms/step - loss: 0.2236 - accuracy: 0.9597 - val_loss: 0.2263 - val_accuracy: 0.9597\n",
      "Epoch 7/10\n",
      "1875/1875 [==============================] - 8s 4ms/step - loss: 0.2176 - accuracy: 0.9614 - val_loss: 0.1944 - val_accuracy: 0.9683\n",
      "Epoch 8/10\n",
      "1875/1875 [==============================] - 8s 4ms/step - loss: 0.2115 - accuracy: 0.9626 - val_loss: 0.2128 - val_accuracy: 0.9609\n",
      "Epoch 9/10\n",
      "1875/1875 [==============================] - 8s 4ms/step - loss: 0.2040 - accuracy: 0.9628 - val_loss: 0.1944 - val_accuracy: 0.9649\n",
      "Epoch 10/10\n",
      "1875/1875 [==============================] - 9s 5ms/step - loss: 0.2004 - accuracy: 0.9647 - val_loss: 0.2053 - val_accuracy: 0.9639\n"
     ]
    }
   ],
   "source": [
    "# Train the model\n",
    "r = model.fit(x_train, y_train, validation_data=(x_test, y_test), epochs=10)"
   ]
  },
  {
   "cell_type": "code",
   "execution_count": 10,
   "metadata": {
    "ExecuteTime": {
     "end_time": "2021-01-05T22:55:58.145252Z",
     "start_time": "2021-01-05T22:55:57.844438Z"
    },
    "colab": {
     "base_uri": "https://localhost:8080/",
     "height": 284
    },
    "id": "NrEZK-rPzthN",
    "outputId": "2e32127e-3586-46bf-d7e0-f3d0435b5747"
   },
   "outputs": [
    {
     "data": {
      "text/plain": [
       "<matplotlib.legend.Legend at 0x7fad5b57a6a0>"
      ]
     },
     "execution_count": 10,
     "metadata": {},
     "output_type": "execute_result"
    },
    {
     "data": {
      "image/png": "[encoded data removed]",
      "text/plain": [
       "<Figure size 432x288 with 1 Axes>"
      ]
     },
     "metadata": {
      "needs_background": "light"
     },
     "output_type": "display_data"
    }
   ],
   "source": [
    "# Plot loss per iteration\n",
    "plt.plot(r.history['loss'], label='loss')\n",
    "plt.plot(r.history['val_loss'], label='val_loss')\n",
    "plt.legend()"
   ]
  },
  {
   "cell_type": "code",
   "execution_count": 11,
   "metadata": {
    "ExecuteTime": {
     "end_time": "2021-01-05T22:55:58.362202Z",
     "start_time": "2021-01-05T22:55:58.150090Z"
    },
    "colab": {
     "base_uri": "https://localhost:8080/",
     "height": 283
    },
    "id": "m8HSXESdzxFe",
    "outputId": "84e0103b-cc36-446e-d944-8ffd020ffa9e"
   },
   "outputs": [
    {
     "data": {
      "text/plain": [
       "<matplotlib.legend.Legend at 0x7fad5aef44f0>"
      ]
     },
     "execution_count": 11,
     "metadata": {},
     "output_type": "execute_result"
    },
    {
     "data": {
      "image/png": "[encoded data removed]",
      "text/plain": [
       "<Figure size 432x288 with 1 Axes>"
      ]
     },
     "metadata": {
      "needs_background": "light"
     },
     "output_type": "display_data"
    }
   ],
   "source": [
    "# Plot accuracy per iteration\n",
    "plt.plot(r.history['accuracy'], label='acc')\n",
    "plt.plot(r.history['val_accuracy'], label='val_acc')\n",
    "plt.legend()"
   ]
  },
  {
   "cell_type": "markdown",
   "metadata": {
    "id": "t5sNU47m1J5D"
   },
   "source": [
    "We can see from above after a little bit of regularization dev and train set accuracies are very similar."
   ]
  },
  {
   "cell_type": "code",
   "execution_count": 12,
   "metadata": {
    "ExecuteTime": {
     "end_time": "2021-01-05T22:55:58.501698Z",
     "start_time": "2021-01-05T22:55:58.369324Z"
    },
    "id": "sMtAKTj30i9M"
   },
   "outputs": [],
   "source": [
    "#Lets try now Dropout regularization - we have applied two dropout layers after Dense layers\n",
    "model = tf.keras.models.Sequential([\n",
    "  tf.keras.layers.Flatten(input_shape=(28, 28)),\n",
    "  tf.keras.layers.Dense(392, activation='relu'),\n",
    "  tf.keras.layers.Dropout(0.4),\n",
    "  tf.keras.layers.Dense(196, activation='relu'),\n",
    "  tf.keras.layers.Dropout(0.4),\n",
    "  tf.keras.layers.Dense(98, activation='relu'),\n",
    "  tf.keras.layers.Dense(10, activation='softmax')\n",
    "])\n",
    "\n",
    "# Compile the model\n",
    "model.compile(optimizer='adam',\n",
    "              loss='sparse_categorical_crossentropy',\n",
    "              metrics=['accuracy'])"
   ]
  },
  {
   "cell_type": "code",
   "execution_count": 13,
   "metadata": {
    "ExecuteTime": {
     "end_time": "2021-01-05T22:57:21.239318Z",
     "start_time": "2021-01-05T22:55:58.505062Z"
    },
    "colab": {
     "base_uri": "https://localhost:8080/",
     "height": 357
    },
    "id": "IUQIdqbR0XM_",
    "outputId": "e4b5cb38-e726-4111-c719-93fd7840e3a8"
   },
   "outputs": [
    {
     "name": "stdout",
     "output_type": "stream",
     "text": [
      "Epoch 1/10\n",
      "1875/1875 [==============================] - 9s 5ms/step - loss: 0.3281 - accuracy: 0.9009 - val_loss: 0.1219 - val_accuracy: 0.9620\n",
      "Epoch 2/10\n",
      "1875/1875 [==============================] - 8s 5ms/step - loss: 0.1697 - accuracy: 0.9493 - val_loss: 0.1123 - val_accuracy: 0.9655\n",
      "Epoch 3/10\n",
      "1875/1875 [==============================] - 9s 5ms/step - loss: 0.1386 - accuracy: 0.9592 - val_loss: 0.0882 - val_accuracy: 0.9738\n",
      "Epoch 4/10\n",
      "1875/1875 [==============================] - 6s 3ms/step - loss: 0.1203 - accuracy: 0.9639 - val_loss: 0.0872 - val_accuracy: 0.9730\n",
      "Epoch 5/10\n",
      "1875/1875 [==============================] - 11s 6ms/step - loss: 0.1052 - accuracy: 0.9682 - val_loss: 0.0963 - val_accuracy: 0.9722\n",
      "Epoch 6/10\n",
      "1875/1875 [==============================] - 11s 6ms/step - loss: 0.0988 - accuracy: 0.9712 - val_loss: 0.0865 - val_accuracy: 0.9757\n",
      "Epoch 7/10\n",
      "1875/1875 [==============================] - 9s 5ms/step - loss: 0.0905 - accuracy: 0.9732 - val_loss: 0.0756 - val_accuracy: 0.9791\n",
      "Epoch 8/10\n",
      "1875/1875 [==============================] - 6s 3ms/step - loss: 0.0819 - accuracy: 0.9749 - val_loss: 0.0757 - val_accuracy: 0.9786\n",
      "Epoch 9/10\n",
      "1875/1875 [==============================] - 6s 3ms/step - loss: 0.0783 - accuracy: 0.9766 - val_loss: 0.0721 - val_accuracy: 0.9802\n",
      "Epoch 10/10\n",
      "1875/1875 [==============================] - 7s 3ms/step - loss: 0.0744 - accuracy: 0.9774 - val_loss: 0.0677 - val_accuracy: 0.9818\n"
     ]
    }
   ],
   "source": [
    "# Train the model\n",
    "r = model.fit(x_train, y_train, validation_data=(x_test, y_test), epochs=10)"
   ]
  },
  {
   "cell_type": "code",
   "execution_count": 14,
   "metadata": {
    "ExecuteTime": {
     "end_time": "2021-01-05T22:57:21.427559Z",
     "start_time": "2021-01-05T22:57:21.241666Z"
    },
    "colab": {
     "base_uri": "https://localhost:8080/",
     "height": 282
    },
    "id": "SlqsV4Pj1xbj",
    "outputId": "efceecfc-535d-4d9c-cca8-bdf15a0029bf"
   },
   "outputs": [
    {
     "data": {
      "text/plain": [
       "<matplotlib.legend.Legend at 0x7fad4b131ca0>"
      ]
     },
     "execution_count": 14,
     "metadata": {},
     "output_type": "execute_result"
    },
    {
     "data": {
      "image/png": "[encoded data removed]",
      "text/plain": [
       "<Figure size 432x288 with 1 Axes>"
      ]
     },
     "metadata": {
      "needs_background": "light"
     },
     "output_type": "display_data"
    }
   ],
   "source": [
    "# Plot loss per iteration\n",
    "plt.plot(r.history['loss'], label='loss')\n",
    "plt.plot(r.history['val_loss'], label='val_loss')\n",
    "plt.legend()"
   ]
  },
  {
   "cell_type": "code",
   "execution_count": 15,
   "metadata": {
    "ExecuteTime": {
     "end_time": "2021-01-05T22:57:21.602555Z",
     "start_time": "2021-01-05T22:57:21.429695Z"
    },
    "colab": {
     "base_uri": "https://localhost:8080/",
     "height": 282
    },
    "id": "mWYfnshS13gH",
    "outputId": "d93bcd0a-bafb-42b9-d916-91d4e627f3dd"
   },
   "outputs": [
    {
     "data": {
      "text/plain": [
       "<matplotlib.legend.Legend at 0x7fad4a955fa0>"
      ]
     },
     "execution_count": 15,
     "metadata": {},
     "output_type": "execute_result"
    },
    {
     "data": {
      "image/png": "[encoded data removed]",
      "text/plain": [
       "<Figure size 432x288 with 1 Axes>"
      ]
     },
     "metadata": {
      "needs_background": "light"
     },
     "output_type": "display_data"
    }
   ],
   "source": [
    "# Plot accuracy per iteration\n",
    "plt.plot(r.history['accuracy'], label='acc')\n",
    "plt.plot(r.history['val_accuracy'], label='val_acc')\n",
    "plt.legend()"
   ]
  },
  {
   "cell_type": "markdown",
   "metadata": {
    "id": "XZk10q292OQi"
   },
   "source": [
    "We have very nice validation and train set accuracies now."
   ]
  }
 ],
 "metadata": {
  "accelerator": "GPU",
  "colab": {
   "collapsed_sections": [],
   "name": "TensorFlow-Regularization.pynb",
   "provenance": []
  },
  "kernelspec": {
   "display_name": "Python 3",
   "language": "python",
   "name": "python3"
  },
  "language_info": {
   "codemirror_mode": {
    "name": "ipython",
    "version": 3
   },
   "file_extension": ".py",
   "mimetype": "text/x-python",
   "name": "python",
   "nbconvert_exporter": "python",
   "pygments_lexer": "ipython3",
   "version": "3.8.3"
  },
  "latex_envs": {
   "LaTeX_envs_menu_present": true,
   "autoclose": false,
   "autocomplete": true,
   "bibliofile": "biblio.bib",
   "cite_by": "apalike",
   "current_citInitial": 1,
   "eqLabelWithNumbers": true,
   "eqNumInitial": 1,
   "hotkeys": {
    "equation": "Ctrl-E",
    "itemize": "Ctrl-I"
   },
   "labels_anchors": false,
   "latex_user_defs": false,
   "report_style_numbering": false,
   "user_envs_cfg": false
  },
  "toc": {
   "base_numbering": 1,
   "nav_menu": {},
   "number_sections": true,
   "sideBar": true,
   "skip_h1_title": false,
   "title_cell": "Table of Contents",
   "title_sidebar": "Contents",
   "toc_cell": false,
   "toc_position": {},
   "toc_section_display": true,
   "toc_window_display": false
  }
 },
 "nbformat": 4,
 "nbformat_minor": 1
}
