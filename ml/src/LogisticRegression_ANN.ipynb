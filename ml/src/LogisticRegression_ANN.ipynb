{
  "nbformat": 4,
  "nbformat_minor": 0,
  "metadata": {
    "colab": {
      "name": "LogisticRegression-ANN.ipynb",
      "provenance": []
    },
    "kernelspec": {
      "name": "python3",
      "display_name": "Python 3"
    }
  },
  "cells": [
    {
      "cell_type": "markdown",
      "metadata": {
        "id": "uSXXguRujZiS"
      },
      "source": [
        "## Logistic Regression\n",
        "\n",
        "**Logistic Regression** is a classic Machine Learning algorithm for classification problems. **Logistic Regression** can also be thought of as a basic building block of ANNs. In this notebook we will implement logistic regression as a building block of ANNs."
      ]
    },
    {
      "cell_type": "code",
      "metadata": {
        "id": "JPBahsiYjUuQ"
      },
      "source": [
        "import numpy as np\n",
        "import matplotlib.pyplot as plt\n"
      ],
      "execution_count": 1,
      "outputs": []
    },
    {
      "cell_type": "code",
      "metadata": {
        "id": "1XJVrtj6j62W"
      },
      "source": [
        "#Make a fake dataset\n",
        "from sklearn import datasets\n",
        "(X, y) = datasets.make_classification(n_samples=10000, n_features=5, n_informative=3)"
      ],
      "execution_count": 3,
      "outputs": []
    },
    {
      "cell_type": "code",
      "metadata": {
        "id": "ZYnMjBFfko9I"
      },
      "source": [
        "#Split in test train split\n",
        "from sklearn.model_selection import train_test_split\n",
        "X_train, X_test, y_train, y_test = train_test_split(X, y, test_size=0.20, random_state=42)\n",
        "X_train = X_train.T\n",
        "X_test = X_test.T\n",
        "y_train = y_train.reshape(1,-1)\n",
        "y_test = y_test.reshape(1, -1)"
      ],
      "execution_count": 31,
      "outputs": []
    },
    {
      "cell_type": "code",
      "metadata": {
        "id": "fR6vepyKlg0m",
        "outputId": "e30d36c5-e6f9-4fce-a8b1-ce5d694ed319",
        "colab": {
          "base_uri": "https://localhost:8080/",
          "height": 102
        }
      },
      "source": [
        "print(\"Train samples\", X_train.shape[1])\n",
        "print(\"Test samples\", X_test.shape[1])\n",
        "print(\"Features\",X_test.shape[0])\n",
        "print(\"X shape\",X_train.shape)\n",
        "print(\"y shape\",y_train.shape)"
      ],
      "execution_count": 32,
      "outputs": [
        {
          "output_type": "stream",
          "text": [
            "Train samples 8000\n",
            "Test samples 2000\n",
            "Features 5\n",
            "X shape (5, 8000)\n",
            "y shape (1, 8000)\n"
          ],
          "name": "stdout"
        }
      ]
    },
    {
      "cell_type": "code",
      "metadata": {
        "id": "BHqXtIWfl1f3"
      },
      "source": [
        "#Lets implement the sigmoid function\n",
        "def sigmoid(x):\n",
        "  return (1.0/(1.0+np.exp(-x)))\n"
      ],
      "execution_count": 33,
      "outputs": []
    },
    {
      "cell_type": "code",
      "metadata": {
        "id": "rLeJPozOmazh",
        "outputId": "25aab643-8450-4d53-f6a4-cef85904735f",
        "colab": {
          "base_uri": "https://localhost:8080/",
          "height": 282
        }
      },
      "source": [
        "x = np.arange(-10,10,0.1)\n",
        "z = sigmoid(x)\n",
        "\n",
        "plt.plot(x, z, label='sigmoid')\n",
        "plt.legend()"
      ],
      "execution_count": 34,
      "outputs": [
        {
          "output_type": "execute_result",
          "data": {
            "text/plain": [
              "<matplotlib.legend.Legend at 0x7f3716286208>"
            ]
          },
          "metadata": {
            "tags": []
          },
          "execution_count": 34
        },
        {
          "output_type": "display_data",
          "data": {
            "image/png": "[encoded data removed]",
            "text/plain": [
              "<Figure size 432x288 with 1 Axes>"
            ]
          },
          "metadata": {
            "tags": [],
            "needs_background": "light"
          }
        }
      ]
    },
    {
      "cell_type": "code",
      "metadata": {
        "id": "mqME85BVmzWE"
      },
      "source": [
        "#initialize weights and biases\n",
        "def initialize(dim):\n",
        "    w = np.zeros(shape=(dim, 1))\n",
        "    b = 0\n",
        "    return w, b"
      ],
      "execution_count": 36,
      "outputs": []
    },
    {
      "cell_type": "markdown",
      "metadata": {
        "id": "LdNfI0aqokG7"
      },
      "source": [
        "Forward Propagation:\n",
        "- We compute activation as $A = \\sigma(w^T X + b) = (a^{(1)}, a^{(2)}, ..., a^{(m-1)}, a^{(m)})$\n",
        "- We calculate the cost function as: $J = -\\frac{1}{m}\\sum_{i=1}^{m}y^{(i)}\\log(a^{(i)})+(1-y^{(i)})\\log(1-a^{(i)})$\n",
        "\n",
        "Backward gradient step:\n",
        "\n",
        "$$\\frac{\\partial J}{\\partial w} = \\frac{1}{m}X(A-Y)^T$$\n",
        "$$ \\frac{\\partial J}{\\partial b} = \\frac{1}{m} \\sum_{i=1}^m (a^{(i)}-y^{(i)}$$"
      ]
    },
    {
      "cell_type": "code",
      "metadata": {
        "id": "AYxdQwEym335"
      },
      "source": [
        "#forward propogate and calculate gradients\n",
        "def forward_and_backward(w, b, X, Y):\n",
        "    m = X.shape[1]\n",
        "    A = sigmoid(np.dot(w.T,X)+b)                \n",
        "    cost = -1*(Y*np.log(A)+(1-Y)*np.log(1-A)).sum()/m  \n",
        "   \n",
        "    #calculate gradient\n",
        "    dw = np.dot(X,(A-Y).T)/m\n",
        "    db = (A-Y).sum()/m\n",
        "    \n",
        "    grads = {\"dw\": dw,\n",
        "             \"db\": db}\n",
        "    \n",
        "    return grads, cost"
      ],
      "execution_count": 47,
      "outputs": []
    },
    {
      "cell_type": "code",
      "metadata": {
        "id": "GG_nJDL8ocNP"
      },
      "source": [
        "#Optrimize the cost function using batch gradient descent\n",
        "def optimize(w, b, X, Y, num_iterations, learning_rate):  \n",
        "    costs = []\n",
        "    for i in range(num_iterations):\n",
        "        grads, cost = forward_and_backward(w, b, X, Y)\n",
        "        dw = grads[\"dw\"]\n",
        "        db = grads[\"db\"]\n",
        "        w = w - learning_rate * dw\n",
        "        b = b - learning_rate * db\n",
        "        costs.append(cost)\n",
        "    params = {\"w\": w,\n",
        "              \"b\": b}\n",
        "    grads = {\"dw\": dw,\n",
        "             \"db\": db}\n",
        "    return params, grads, costs"
      ],
      "execution_count": 48,
      "outputs": []
    },
    {
      "cell_type": "code",
      "metadata": {
        "id": "gLy0s740peNt"
      },
      "source": [
        "#Predict \n",
        "def predict(w, b, X):\n",
        "    m = X.shape[1]\n",
        "    Y_prediction = np.zeros((1,m))\n",
        "    w = w.reshape(X.shape[0], 1)\n",
        "    A = sigmoid(np.dot(w.T,X)+b)\n",
        "    for i in range(A.shape[1]):\n",
        "        if(A[0,i] > 0.5):\n",
        "            Y_prediction[0, i] = 1\n",
        "        else:\n",
        "            Y_prediction[0, i] = 0    \n",
        "    return Y_prediction"
      ],
      "execution_count": 52,
      "outputs": []
    },
    {
      "cell_type": "code",
      "metadata": {
        "id": "S2qcH1xBprPC"
      },
      "source": [
        "#Putting it all together\n",
        "def model(X_train, Y_train, X_test, Y_test, num_iterations, learning_rate):\n",
        "    w, b = initialize(X_train.shape[0])\n",
        "    parameters, grads, costs = optimize(w, b, X_train, Y_train, num_iterations, learning_rate)\n",
        "    w = parameters[\"w\"]\n",
        "    b = parameters[\"b\"]\n",
        "    Y_prediction_test = predict(w, b, X_test)\n",
        "    Y_prediction_train = predict(w, b, X_train)\n",
        "\n",
        "    print(\"train accuracy: {} %\".format(100 - np.mean(np.abs(Y_prediction_train - Y_train)) * 100))\n",
        "    print(\"test accuracy: {} %\".format(100 - np.mean(np.abs(Y_prediction_test - Y_test)) * 100))\n",
        "\n",
        "    \n",
        "    d = {\"costs\": costs,\n",
        "         \"Y_prediction_test\": Y_prediction_test, \n",
        "         \"Y_prediction_train\" : Y_prediction_train, \n",
        "         \"w\" : w, \n",
        "         \"b\" : b,\n",
        "         \"learning_rate\" : learning_rate,\n",
        "         \"num_iterations\": num_iterations}\n",
        "    \n",
        "    return d"
      ],
      "execution_count": 53,
      "outputs": []
    },
    {
      "cell_type": "code",
      "metadata": {
        "id": "pc9yjgqTqHGW",
        "outputId": "0152eed6-e5ac-4fac-cfc4-adf95256465b",
        "colab": {
          "base_uri": "https://localhost:8080/",
          "height": 51
        }
      },
      "source": [
        "d = model(X_train, y_train, X_test, y_test, num_iterations = 20000, learning_rate = 0.005)"
      ],
      "execution_count": 57,
      "outputs": [
        {
          "output_type": "stream",
          "text": [
            "train accuracy: 88.9375 %\n",
            "test accuracy: 88.6 %\n"
          ],
          "name": "stdout"
        }
      ]
    },
    {
      "cell_type": "code",
      "metadata": {
        "id": "tH6HnbIgsukJ",
        "outputId": "44096531-c6e6-4a38-b2b2-b43b5072ed6b",
        "colab": {
          "base_uri": "https://localhost:8080/",
          "height": 282
        }
      },
      "source": [
        "plt.plot(d[\"costs\"], label='costs')\n",
        "plt.legend()"
      ],
      "execution_count": 58,
      "outputs": [
        {
          "output_type": "execute_result",
          "data": {
            "text/plain": [
              "<matplotlib.legend.Legend at 0x7f3713807e80>"
            ]
          },
          "metadata": {
            "tags": []
          },
          "execution_count": 58
        },
        {
          "output_type": "display_data",
          "data": {
            "image/png": "[encoded data removed]",
            "text/plain": [
              "<Figure size 432x288 with 1 Axes>"
            ]
          },
          "metadata": {
            "tags": [],
            "needs_background": "light"
          }
        }
      ]
    }
  ]
}