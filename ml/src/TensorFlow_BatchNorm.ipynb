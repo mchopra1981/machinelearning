{
 "cells": [
  {
   "cell_type": "markdown",
   "metadata": {
    "id": "TeAYPBhyn9IO"
   },
   "source": [
    "**BatchNorm** is a very useful technique to accelerate the training of Deep Neural Networks. In batch norm what we do is we shift the mean and variance of the outputs of the previous layer before it goes to the activations. Such shifting is very similar to scaling the inputs to a ML algorithm and causes faster convergence, also somewhat decopules training of one layer from another. It also has a little bit of regularization effect.\n",
    "\n",
    "**BatchNorm** was first proposed in this paper\n",
    "\n",
    "https://arxiv.org/pdf/1502.03167.pdf\n",
    "\n",
    "In the notebook below we will experiment with Batch Norm in tensorflow.\n"
   ]
  },
  {
   "cell_type": "code",
   "execution_count": 1,
   "metadata": {
    "colab": {
     "base_uri": "https://localhost:8080/",
     "height": 34
    },
    "id": "dL30Ow2VnyVh",
    "outputId": "94543d7a-a089-4ce1-88b8-66988e9db078"
   },
   "outputs": [
    {
     "name": "stdout",
     "output_type": "stream",
     "text": [
      "2.3.0\n"
     ]
    }
   ],
   "source": [
    "#Do regular imports\n",
    "import numpy as np\n",
    "import pandas as pd\n",
    "import matplotlib.pyplot as plt\n",
    "import tensorflow as tf\n",
    "print(tf.__version__)\n",
    "\n",
    "from tensorflow.keras.layers import Input, Conv2D, Dense, Flatten, Dropout, GlobalMaxPooling2D, MaxPooling2D, BatchNormalization\n",
    "from tensorflow.keras.models import Model"
   ]
  },
  {
   "cell_type": "code",
   "execution_count": 2,
   "metadata": {
    "colab": {
     "base_uri": "https://localhost:8080/",
     "height": 68
    },
    "id": "jBR08Awwp5TB",
    "outputId": "07936ca7-c26b-4e78-e5b0-124672f1fc80"
   },
   "outputs": [
    {
     "name": "stdout",
     "output_type": "stream",
     "text": [
      "Downloading data from https://storage.googleapis.com/tensorflow/tf-keras-datasets/mnist.npz\n",
      "11493376/11490434 [==============================] - 0s 0us/step\n",
      "x_train.shape: (60000, 28, 28)\n"
     ]
    }
   ],
   "source": [
    "#Get MNIST dataset\n",
    "mnist = tf.keras.datasets.mnist\n",
    "\n",
    "(x_train, y_train), (x_test, y_test) = mnist.load_data()\n",
    "x_train, x_test = x_train / 255.0, x_test / 255.0\n",
    "print(\"x_train.shape:\", x_train.shape)"
   ]
  },
  {
   "cell_type": "code",
   "execution_count": 3,
   "metadata": {
    "id": "JA8RAfUXp7gk"
   },
   "outputs": [],
   "source": [
    "#Lets build a simple model\n",
    "#Build the model\n",
    "i = Input(shape=x_train[0].shape)\n",
    "x = Flatten()(i)\n",
    "x = Dense(392, activation='relu')(x)\n",
    "x = Dense(196, activation='relu') (x)\n",
    "x = Dense(98, activation='relu') (x)\n",
    "x = Dense(10, activation='softmax')(x)\n",
    "model = Model(i, x)\n",
    "\n",
    "# Compile the model\n",
    "model.compile(optimizer='adam',\n",
    "              loss='sparse_categorical_crossentropy',\n",
    "              metrics=['accuracy'])"
   ]
  },
  {
   "cell_type": "code",
   "execution_count": 4,
   "metadata": {
    "colab": {
     "base_uri": "https://localhost:8080/",
     "height": 357
    },
    "id": "7M1upru4qDC4",
    "outputId": "1c19ce1a-259b-4bcb-aa95-1dacbab49b91"
   },
   "outputs": [
    {
     "name": "stdout",
     "output_type": "stream",
     "text": [
      "Epoch 1/10\n",
      "1875/1875 [==============================] - 4s 2ms/step - loss: 0.1958 - accuracy: 0.9400 - val_loss: 0.1050 - val_accuracy: 0.9688\n",
      "Epoch 2/10\n",
      "1875/1875 [==============================] - 4s 2ms/step - loss: 0.0864 - accuracy: 0.9732 - val_loss: 0.0959 - val_accuracy: 0.9708\n",
      "Epoch 3/10\n",
      "1875/1875 [==============================] - 4s 2ms/step - loss: 0.0639 - accuracy: 0.9800 - val_loss: 0.0880 - val_accuracy: 0.9736\n",
      "Epoch 4/10\n",
      "1875/1875 [==============================] - 4s 2ms/step - loss: 0.0484 - accuracy: 0.9852 - val_loss: 0.0763 - val_accuracy: 0.9796\n",
      "Epoch 5/10\n",
      "1875/1875 [==============================] - 4s 2ms/step - loss: 0.0379 - accuracy: 0.9883 - val_loss: 0.0851 - val_accuracy: 0.9766\n",
      "Epoch 6/10\n",
      "1875/1875 [==============================] - 4s 2ms/step - loss: 0.0323 - accuracy: 0.9899 - val_loss: 0.0823 - val_accuracy: 0.9803\n",
      "Epoch 7/10\n",
      "1875/1875 [==============================] - 4s 2ms/step - loss: 0.0276 - accuracy: 0.9913 - val_loss: 0.0946 - val_accuracy: 0.9763\n",
      "Epoch 8/10\n",
      "1875/1875 [==============================] - 4s 2ms/step - loss: 0.0269 - accuracy: 0.9918 - val_loss: 0.0871 - val_accuracy: 0.9774\n",
      "Epoch 9/10\n",
      "1875/1875 [==============================] - 4s 2ms/step - loss: 0.0218 - accuracy: 0.9930 - val_loss: 0.0934 - val_accuracy: 0.9804\n",
      "Epoch 10/10\n",
      "1875/1875 [==============================] - 4s 2ms/step - loss: 0.0185 - accuracy: 0.9940 - val_loss: 0.0948 - val_accuracy: 0.9786\n"
     ]
    }
   ],
   "source": [
    "# Train the model\n",
    "r = model.fit(x_train, y_train, validation_data=(x_test, y_test), epochs=10)"
   ]
  },
  {
   "cell_type": "code",
   "execution_count": 5,
   "metadata": {
    "colab": {
     "base_uri": "https://localhost:8080/",
     "height": 282
    },
    "id": "j_84Qg0usmfm",
    "outputId": "fc997f31-5d07-4a51-d5b7-18541fa6bab6"
   },
   "outputs": [
    {
     "data": {
      "text/plain": [
       "<matplotlib.legend.Legend at 0x7f54501ffa90>"
      ]
     },
     "execution_count": 5,
     "metadata": {
      "tags": []
     },
     "output_type": "execute_result"
    },
    {
     "data": {
      "image/png": "[encoded data removed]",
      "text/plain": [
       "<Figure size 432x288 with 1 Axes>"
      ]
     },
     "metadata": {
      "needs_background": "light",
      "tags": []
     },
     "output_type": "display_data"
    }
   ],
   "source": [
    "# Plot loss per iteration\n",
    "plt.plot(r.history['loss'], label='loss')\n",
    "plt.plot(r.history['val_loss'], label='val_loss')\n",
    "plt.legend()"
   ]
  },
  {
   "cell_type": "code",
   "execution_count": 6,
   "metadata": {
    "colab": {
     "base_uri": "https://localhost:8080/",
     "height": 282
    },
    "id": "3ovEv6_ysnoZ",
    "outputId": "92f1cc11-8823-444a-969a-3440de59fbab"
   },
   "outputs": [
    {
     "data": {
      "text/plain": [
       "<matplotlib.legend.Legend at 0x7f545ed30908>"
      ]
     },
     "execution_count": 6,
     "metadata": {
      "tags": []
     },
     "output_type": "execute_result"
    },
    {
     "data": {
      "image/png": "[encoded data removed]",
      "text/plain": [
       "<Figure size 432x288 with 1 Axes>"
      ]
     },
     "metadata": {
      "needs_background": "light",
      "tags": []
     },
     "output_type": "display_data"
    }
   ],
   "source": [
    "# Plot accuracy per iteration\n",
    "plt.plot(r.history['accuracy'], label='acc')\n",
    "plt.plot(r.history['val_accuracy'], label='val_acc')\n",
    "plt.legend()"
   ]
  },
  {
   "cell_type": "code",
   "execution_count": 7,
   "metadata": {
    "id": "0XGETk0zr-eb"
   },
   "outputs": [],
   "source": [
    "#Lets build the model with BatchNorm\n",
    "#Build the model\n",
    "i = Input(shape=x_train[0].shape)\n",
    "x = Flatten()(i)\n",
    "x = Dense(392, activation='relu')(x)\n",
    "x = BatchNormalization()(x)\n",
    "x = Dense(196, activation='relu') (x)\n",
    "x = BatchNormalization()(x)\n",
    "x = Dense(98, activation='relu') (x)\n",
    "x = BatchNormalization()(x)\n",
    "x = Dense(10, activation='softmax')(x)\n",
    "model = Model(i, x)\n",
    "\n",
    "# Compile the model\n",
    "model.compile(optimizer='adam',\n",
    "              loss='sparse_categorical_crossentropy',\n",
    "              metrics=['accuracy'])"
   ]
  },
  {
   "cell_type": "code",
   "execution_count": 8,
   "metadata": {
    "colab": {
     "base_uri": "https://localhost:8080/",
     "height": 357
    },
    "id": "2py3C9AxsV9S",
    "outputId": "5dfaf849-646c-4fab-90ea-7af8f9ca1a3e"
   },
   "outputs": [
    {
     "name": "stdout",
     "output_type": "stream",
     "text": [
      "Epoch 1/10\n",
      "1875/1875 [==============================] - 6s 3ms/step - loss: 0.2177 - accuracy: 0.9338 - val_loss: 0.1084 - val_accuracy: 0.9654\n",
      "Epoch 2/10\n",
      "1875/1875 [==============================] - 6s 3ms/step - loss: 0.1192 - accuracy: 0.9638 - val_loss: 0.0953 - val_accuracy: 0.9688\n",
      "Epoch 3/10\n",
      "1875/1875 [==============================] - 6s 3ms/step - loss: 0.0926 - accuracy: 0.9706 - val_loss: 0.0689 - val_accuracy: 0.9777\n",
      "Epoch 4/10\n",
      "1875/1875 [==============================] - 6s 3ms/step - loss: 0.0757 - accuracy: 0.9763 - val_loss: 0.0810 - val_accuracy: 0.9759\n",
      "Epoch 5/10\n",
      "1875/1875 [==============================] - 6s 3ms/step - loss: 0.0661 - accuracy: 0.9786 - val_loss: 0.0725 - val_accuracy: 0.9776\n",
      "Epoch 6/10\n",
      "1875/1875 [==============================] - 7s 3ms/step - loss: 0.0520 - accuracy: 0.9831 - val_loss: 0.0644 - val_accuracy: 0.9804\n",
      "Epoch 7/10\n",
      "1875/1875 [==============================] - 6s 3ms/step - loss: 0.0458 - accuracy: 0.9850 - val_loss: 0.0757 - val_accuracy: 0.9781\n",
      "Epoch 8/10\n",
      "1875/1875 [==============================] - 6s 3ms/step - loss: 0.0430 - accuracy: 0.9861 - val_loss: 0.0652 - val_accuracy: 0.9798\n",
      "Epoch 9/10\n",
      "1875/1875 [==============================] - 6s 3ms/step - loss: 0.0396 - accuracy: 0.9868 - val_loss: 0.0729 - val_accuracy: 0.9786\n",
      "Epoch 10/10\n",
      "1875/1875 [==============================] - 6s 3ms/step - loss: 0.0332 - accuracy: 0.9889 - val_loss: 0.0686 - val_accuracy: 0.9813\n"
     ]
    }
   ],
   "source": [
    "# Train the model\n",
    "r = model.fit(x_train, y_train, validation_data=(x_test, y_test), epochs=10)"
   ]
  },
  {
   "cell_type": "code",
   "execution_count": 9,
   "metadata": {
    "colab": {
     "base_uri": "https://localhost:8080/",
     "height": 284
    },
    "id": "oGfh03R2sthz",
    "outputId": "ec3c1e4c-0a0f-45d9-caa9-1061723e2487"
   },
   "outputs": [
    {
     "data": {
      "text/plain": [
       "<matplotlib.legend.Legend at 0x7f53f21d16d8>"
      ]
     },
     "execution_count": 9,
     "metadata": {
      "tags": []
     },
     "output_type": "execute_result"
    },
    {
     "data": {
      "image/png": "[encoded data removed]",
      "text/plain": [
       "<Figure size 432x288 with 1 Axes>"
      ]
     },
     "metadata": {
      "needs_background": "light",
      "tags": []
     },
     "output_type": "display_data"
    }
   ],
   "source": [
    "# Plot loss per iteration\n",
    "plt.plot(r.history['loss'], label='loss')\n",
    "plt.plot(r.history['val_loss'], label='val_loss')\n",
    "plt.legend()"
   ]
  },
  {
   "cell_type": "code",
   "execution_count": 10,
   "metadata": {
    "colab": {
     "base_uri": "https://localhost:8080/",
     "height": 282
    },
    "id": "M5K_XeDjsuzU",
    "outputId": "719b825f-36f7-4be0-e8e3-7d8fa53429ef"
   },
   "outputs": [
    {
     "data": {
      "text/plain": [
       "<matplotlib.legend.Legend at 0x7f53f2144cf8>"
      ]
     },
     "execution_count": 10,
     "metadata": {
      "tags": []
     },
     "output_type": "execute_result"
    },
    {
     "data": {
      "image/png": "[encoded data removed]",
      "text/plain": [
       "<Figure size 432x288 with 1 Axes>"
      ]
     },
     "metadata": {
      "needs_background": "light",
      "tags": []
     },
     "output_type": "display_data"
    }
   ],
   "source": [
    "# Plot accuracy per iteration\n",
    "plt.plot(r.history['accuracy'], label='acc')\n",
    "plt.plot(r.history['val_accuracy'], label='val_acc')\n",
    "plt.legend()"
   ]
  },
  {
   "cell_type": "markdown",
   "metadata": {
    "id": "OLGOfTWCtWQO"
   },
   "source": [
    "With **BatchNorm** we get a better validation set accuracy."
   ]
  }
 ],
 "metadata": {
  "accelerator": "GPU",
  "colab": {
   "name": "TensorFlow-BatchNorm.ipynb",
   "provenance": []
  },
  "kernelspec": {
   "display_name": "Python 3",
   "language": "python",
   "name": "python3"
  },
  "language_info": {
   "codemirror_mode": {
    "name": "ipython",
    "version": 3
   },
   "file_extension": ".py",
   "mimetype": "text/x-python",
   "name": "python",
   "nbconvert_exporter": "python",
   "pygments_lexer": "ipython3",
   "version": "3.8.3"
  },
  "latex_envs": {
   "LaTeX_envs_menu_present": true,
   "autoclose": false,
   "autocomplete": true,
   "bibliofile": "biblio.bib",
   "cite_by": "apalike",
   "current_citInitial": 1,
   "eqLabelWithNumbers": true,
   "eqNumInitial": 1,
   "hotkeys": {
    "equation": "Ctrl-E",
    "itemize": "Ctrl-I"
   },
   "labels_anchors": false,
   "latex_user_defs": false,
   "report_style_numbering": false,
   "user_envs_cfg": false
  },
  "toc": {
   "base_numbering": 1,
   "nav_menu": {},
   "number_sections": true,
   "sideBar": true,
   "skip_h1_title": false,
   "title_cell": "Table of Contents",
   "title_sidebar": "Contents",
   "toc_cell": false,
   "toc_position": {},
   "toc_section_display": true,
   "toc_window_display": false
  }
 },
 "nbformat": 4,
 "nbformat_minor": 1
}
