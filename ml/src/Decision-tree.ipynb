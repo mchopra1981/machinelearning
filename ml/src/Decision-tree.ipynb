{
 "cells": [
  {
   "cell_type": "markdown",
   "metadata": {},
   "source": [
    "## Decision Tree"
   ]
  },
  {
   "cell_type": "markdown",
   "metadata": {},
   "source": [
    "**Decision Trees**  are a very important ML method. **Decision trees** by themselves suffer from high variance, but they form the basis of some of the most powerful ML algorithms like **Random Forest**, **AdaBoosting** and **Gradient Boosting**. \n",
    "In this notebook we will implement **Decision trees** from scratch. **Decision trees** can be used for both **regression** and **classification**, difference between these two uses of **Decision trees** is the splitting criteria.\n",
    "\n",
    "#### Decision Trees for Regression \n",
    "\n",
    "Say our data consists of $m$ inputs and a response for each of the $n$ observations, that is $(x_i, y_i)$. The decision tree algorithm needs to decide the splitting variables and splitting points. Suppose we partition the whole data in $R$ regions and in each region we model the response as an average response for that region ($c_r$). Then the regression function is given as $f(x) = \\sum_{i=1}^{R}c_r \\mathcal{I}(x \\in R_r)$. \n",
    "\n",
    "Goal is to minimize $\\mathcal{L} = \\sum_{r=1}^{R}\\sum_{i \\in R_r} (y_i - \\hat{y}_{R_r})^2$. Where $\\hat{y}_{R_r}$ is the prediction for the region $R_r$.\n",
    "\n",
    "It is not feasible to find the most optimal cut of the tree in a reasonable time, if there are $m$ inputs and $n$ observations there are a total of $m^n$ cuts possible which is infeasible to evaluate for any reasonably large $m$ and $n$. Hence **Decision tree** algorithms use a greedy approach. At each step of the tree building algorithm the best cut is made at that particular point rather than looking ahead and picking a cut which will make a better tree in some future step.\n",
    "At any given step a cut is made which will minimize the loss most, i.e. we find split variable $j$ and split point $s$  such that the quantity in the bracket is minimized: \n",
    "\n",
    "$\\text{min}_{j,s} \\left [ \\sum_{x_i \\in R_1} (y_i - c_1)^2  + \\sum_{x_i \\in R_2} (y_i - c_2)^2 \\right ]$\n",
    "\n",
    "Clearly if we put every data point in its own node then the loss function will be zero. But that would lead to massive overfitting of the data. In practice we split until a certain depth or until a small number of points are left in the nodes. Also some pruning strategies are employed to regularize the trees.\n",
    "\n",
    "Below we will implement **Decision Tree** for **Regression**."
   ]
  },
  {
   "cell_type": "code",
   "execution_count": 1,
   "metadata": {
    "ExecuteTime": {
     "end_time": "2020-12-21T22:45:08.004866Z",
     "start_time": "2020-12-21T22:45:06.064710Z"
    }
   },
   "outputs": [],
   "source": [
    "import numpy as np\n",
    "import pandas as pd\n",
    "import matplotlib.pyplot as plt\n",
    "%matplotlib inline"
   ]
  },
  {
   "cell_type": "code",
   "execution_count": 2,
   "metadata": {
    "ExecuteTime": {
     "end_time": "2020-12-21T22:48:17.553905Z",
     "start_time": "2020-12-21T22:48:17.514506Z"
    }
   },
   "outputs": [],
   "source": [
    "#Implement regression and classification decision tree\n",
    "from collections import Counter\n",
    "class DT:\n",
    "    \"\"\"\n",
    "    Implementation of a decision tree for regression and classification\n",
    "    \"\"\"\n",
    "    class Node:\n",
    "        xIndex = None\n",
    "        xSplitPoint = None\n",
    "        value = None\n",
    "        leftNode = None\n",
    "        rightNode = None\n",
    "        mse = None\n",
    "        nSamples = None\n",
    "        \n",
    "    root = Node()\n",
    "    def __init__(self, minDataPoints=2, regressionTree=True):\n",
    "        self.minDataPoints = minDataPoints\n",
    "        self.regressionTree = regressionTree\n",
    "    \n",
    "    def fit(self, x, y):\n",
    "        self._split(x, y, self.root, self.minDataPoints, self.regressionTree)\n",
    "    \n",
    "    def predict(self, x):\n",
    "        return DT._predict(self.root, x)\n",
    "        \n",
    "    def print(self):\n",
    "        DT._print(self.root,\"\")\n",
    "        \n",
    "    @staticmethod \n",
    "    def _predict(node, x):\n",
    "        if (node.leftNode == None) :\n",
    "            return node.value\n",
    "        elif (x[node.xIndex] <= node.xSplitPoint):\n",
    "            return DT._predict(node.leftNode, x)\n",
    "        else:\n",
    "            return DT._predict(node.rightNode, x)\n",
    "    \n",
    "    @staticmethod\n",
    "    def _print(node, indent):\n",
    "        if (node.leftNode == None) :\n",
    "            print(f\"{indent}value={node.value:.3}, mse={node.mse:.3}, nsamples={node.nSamples}\")\n",
    "        else:\n",
    "            print(f\"{indent}x[{node.xIndex}]={node.xSplitPoint:.3}, value={node.value:.3}, mse={node.mse:.3}, nsamples={node.nSamples}\")\n",
    "            indent += \" \"\n",
    "            DT._print(node.leftNode, indent)\n",
    "            DT._print(node.rightNode, indent)\n",
    "        \n",
    "    \n",
    "    @staticmethod\n",
    "    def _split(x, y, node, minDataPoints, regressionTree):\n",
    "        if regressionTree:\n",
    "            node.value = np.mean(y)\n",
    "            node.mse = np.sum(np.square(y - node.value))/y.shape[0]\n",
    "        else:\n",
    "            ncount = Counter(y)\n",
    "            node.value = float(ncount.most_common(1)[0][0])\n",
    "            node.mse = DT._gini(y)\n",
    "            \n",
    "        node.nSamples = y.shape[0]\n",
    "        if not regressionTree and node.mse == 0:\n",
    "            return\n",
    "        \n",
    "        if (y.shape[0]  < minDataPoints):\n",
    "            return\n",
    "        else:\n",
    "            (x_index, x_point) = DT._findBestSplit(x, y, regressionTree)\n",
    "            y_left = y[x[:,x_index] <= x_point]\n",
    "            y_right = y[x[:,x_index] > x_point]\n",
    "            x_left = x[x[:,x_index] <= x_point]\n",
    "            x_right = x[x[:,x_index] > x_point]\n",
    "            if (y_left.shape[0] == 0) or (y_right.shape[0] == 0):\n",
    "                return\n",
    "            node.xIndex = x_index\n",
    "            node.xSplitPoint = x_point\n",
    "            node.leftNode = DT.Node()\n",
    "            node.rightNode = DT.Node()\n",
    "            DT._split(x_left, y_left, node.leftNode, minDataPoints, regressionTree)\n",
    "            DT._split(x_right, y_right, node.rightNode, minDataPoints, regressionTree)\n",
    "    \n",
    "    @staticmethod\n",
    "    def _findBestSplit(x, y, regressionTree):\n",
    "        nx = x.shape[1]\n",
    "        bestXIndex = -1\n",
    "        bestSplitPoint = -1\n",
    "        bestLoss = float(\"inf\")\n",
    "        for i in range(nx):\n",
    "            xSortNdx = np.argsort(x[:,i])\n",
    "            xSort = x[xSortNdx,i]\n",
    "            ySort = y[xSortNdx]\n",
    "            if regressionTree:\n",
    "                z = DT._calculateRegressionLoss( xSort, ySort )\n",
    "            else:\n",
    "                z = DT._calculateClassificationGiniLoss( xSort, ySort)\n",
    "            l = np.min(z)\n",
    "            if l < bestLoss:\n",
    "                bestSplitPoint = (xSort[np.argmin(z)] + xSort[np.argmin(z)+1])/2.0\n",
    "                bestLoss = l\n",
    "                bestXIndex = i\n",
    "            \n",
    "        return (bestXIndex, bestSplitPoint)\n",
    "    \n",
    "    @staticmethod\n",
    "    def _calculateRegressionLoss(x, y):\n",
    "        \"\"\"\n",
    "        Given a sorted x returns a vector of Loss if split by x_i\n",
    "        Note this code can be optimized significantly but here we are writing for understanding \n",
    "        not speed\n",
    "        \"\"\"\n",
    "        N = x.shape[0]\n",
    "        l = np.zeros(N-1)\n",
    "        for i in range(1, N):\n",
    "            mean1 = np.mean(y[0:i])\n",
    "            mean2 = np.mean(y[i:])\n",
    "            l1 = np.sum(np.square(y[0:i] - mean1))\n",
    "            l2 = np.sum(np.square(y[i:] - mean2))\n",
    "            l[i-1] = l1 + l2\n",
    "        return l\n",
    "    \n",
    "    @staticmethod\n",
    "    def _gini(y):\n",
    "        classes = np.unique(y)\n",
    "        g = 0\n",
    "        N = len(y)\n",
    "        for c in classes:\n",
    "            p = len(y[y==c])/N\n",
    "            g += p * (1 - p)\n",
    "        return g\n",
    "        \n",
    "    @staticmethod\n",
    "    def _calculateClassificationGiniLoss(x, y):\n",
    "        \"\"\"\n",
    "        Given a sorted x returns a vector of loss if split by x_i\n",
    "        \"\"\"\n",
    "        N = x.shape[0]\n",
    "        l = np.zeros(N-1)\n",
    "        for i in range(1, N):\n",
    "            gini1 = DT._gini(y[0:i])\n",
    "            gini2 = DT._gini(y[i:])\n",
    "            l[i-1] = gini1 + gini2\n",
    "        return l\n",
    "        \n",
    "    "
   ]
  },
  {
   "cell_type": "code",
   "execution_count": 3,
   "metadata": {
    "ExecuteTime": {
     "end_time": "2020-12-21T22:48:20.830434Z",
     "start_time": "2020-12-21T22:48:20.579245Z"
    }
   },
   "outputs": [
    {
     "data": {
      "text/plain": [
       "[<matplotlib.lines.Line2D at 0x7fb63f93e310>]"
      ]
     },
     "execution_count": 3,
     "metadata": {},
     "output_type": "execute_result"
    },
    {
     "data": {
      "image/png": "[encoded data removed]",
      "text/plain": [
       "<Figure size 1440x720 with 1 Axes>"
      ]
     },
     "metadata": {
      "needs_background": "light"
     },
     "output_type": "display_data"
    }
   ],
   "source": [
    "#Generate some test data and test the tree\n",
    "np.random.seed(0)\n",
    "x = np.random.uniform(size=(6,1))\n",
    "y = x + np.random.randn(6,1)*0.1\n",
    "plt.figure(figsize=(20,10))\n",
    "plt.plot(x,y, 'ro')"
   ]
  },
  {
   "cell_type": "code",
   "execution_count": 4,
   "metadata": {
    "ExecuteTime": {
     "end_time": "2020-12-21T22:48:30.548419Z",
     "start_time": "2020-12-21T22:48:30.537773Z"
    }
   },
   "outputs": [
    {
     "name": "stdout",
     "output_type": "stream",
     "text": [
      "x[0]=0.624, value=0.625, mse=0.0119, nsamples=6\n",
      " x[0]=0.484, value=0.565, mse=0.00588, nsamples=4\n",
      "  value=0.438, mse=0.0, nsamples=1\n",
      "  x[0]=0.547, value=0.607, mse=0.00067, nsamples=3\n",
      "   value=0.586, mse=0.0, nsamples=1\n",
      "   x[0]=0.576, value=0.618, mse=0.00066, nsamples=2\n",
      "    value=0.644, mse=0.0, nsamples=1\n",
      "    value=0.592, mse=0.0, nsamples=1\n",
      " x[0]=0.681, value=0.746, mse=0.00208, nsamples=2\n",
      "  value=0.791, mse=0.0, nsamples=1\n",
      "  value=0.7, mse=0.0, nsamples=1\n",
      "Predict=0.5859\n"
     ]
    }
   ],
   "source": [
    "#Fit the tree\n",
    "dt = DT()\n",
    "dt.fit(x,y)\n",
    "\n",
    "#Print the tree\n",
    "dt.print()\n",
    "\n",
    "#Predict the tree\n",
    "print(f\"Predict={dt.predict(np.array([0.5])):.4}\")"
   ]
  },
  {
   "cell_type": "code",
   "execution_count": 5,
   "metadata": {
    "ExecuteTime": {
     "end_time": "2020-12-21T22:48:37.762569Z",
     "start_time": "2020-12-21T22:48:35.967515Z"
    }
   },
   "outputs": [
    {
     "name": "stdout",
     "output_type": "stream",
     "text": [
      "Predict=[0.58594303]\n"
     ]
    },
    {
     "data": {
      "image/png": "[encoded data removed]",
      "text/plain": [
       "<Figure size 432x288 with 1 Axes>"
      ]
     },
     "metadata": {
      "needs_background": "light"
     },
     "output_type": "display_data"
    }
   ],
   "source": [
    "#Now lets compare with tree implementation of sklearn\n",
    "from sklearn import tree\n",
    "clf = tree.DecisionTreeRegressor()\n",
    "clf = clf.fit(x, y)\n",
    "tree.plot_tree(clf)\n",
    "print(f\"Predict={clf.predict(np.array([0.5]).reshape(1,1))}\")"
   ]
  },
  {
   "cell_type": "markdown",
   "metadata": {},
   "source": [
    "#### Our tree implementation and sklearn implementation give similar results."
   ]
  },
  {
   "cell_type": "markdown",
   "metadata": {},
   "source": [
    "### Decision trees for classification"
   ]
  },
  {
   "cell_type": "markdown",
   "metadata": {},
   "source": [
    "**Decision trees** can be used for classification also. For classification we just have to change the loss function. There are two most popular loss functions for classification. \n",
    "1. **Gin Index** - Lets define $p_{mk} = \\frac{1}{N_m}\\sum_{x_i \\in R_m} \\mathcal{I}(y_i = k)$. Proportion of class $k$ observations in node $m$. Then **Gini Index** is $\\sum_{k=1}^{K} p_{mk}(1-p_{mk})$ where $K$ is the number of classes.\n",
    "2. **Cross Entropy** - $-\\sum_{k=1}^{K}p_{mk}\\text{log}p_{mk}$\n",
    "\n",
    "In practice both **Gini Index** and **Cross Entropy** give very similar results.\n"
   ]
  },
  {
   "cell_type": "code",
   "execution_count": 6,
   "metadata": {
    "ExecuteTime": {
     "end_time": "2020-12-21T22:52:02.131960Z",
     "start_time": "2020-12-21T22:52:01.891763Z"
    }
   },
   "outputs": [
    {
     "data": {
      "text/plain": [
       "[<matplotlib.lines.Line2D at 0x7fb6419b6f10>]"
      ]
     },
     "execution_count": 6,
     "metadata": {},
     "output_type": "execute_result"
    },
    {
     "data": {
      "image/png": "[encoded data removed]",
      "text/plain": [
       "<Figure size 1440x720 with 1 Axes>"
      ]
     },
     "metadata": {
      "needs_background": "light"
     },
     "output_type": "display_data"
    }
   ],
   "source": [
    "#Generate some test data and test the tree\n",
    "np.random.seed(0)\n",
    "x= np.random.uniform(size=(6,1))\n",
    "y = np.array([ 1 if xi >= 0.5 else 0 for xi in x])\n",
    "plt.figure(figsize=(20,10))\n",
    "plt.plot(x,y, 'ro')"
   ]
  },
  {
   "cell_type": "code",
   "execution_count": 7,
   "metadata": {
    "ExecuteTime": {
     "end_time": "2020-12-21T22:52:18.310173Z",
     "start_time": "2020-12-21T22:52:18.303815Z"
    }
   },
   "outputs": [
    {
     "name": "stdout",
     "output_type": "stream",
     "text": [
      "x[0]=0.484, value=1.0, mse=0.278, nsamples=6\n",
      " value=0.0, mse=0.0, nsamples=1\n",
      " value=1.0, mse=0.0, nsamples=5\n",
      "Predict=1.0\n"
     ]
    }
   ],
   "source": [
    "#Fit the tree\n",
    "dtc = DT(regressionTree=False)\n",
    "dtc.fit(x,y)\n",
    "\n",
    "#Print the tree\n",
    "dtc.print()\n",
    "\n",
    "#Predict the tree\n",
    "print(f\"Predict={dtc.predict(np.array([0.6]))}\")"
   ]
  },
  {
   "cell_type": "code",
   "execution_count": 8,
   "metadata": {
    "ExecuteTime": {
     "end_time": "2020-12-21T22:52:32.575836Z",
     "start_time": "2020-12-21T22:52:32.429596Z"
    }
   },
   "outputs": [
    {
     "name": "stdout",
     "output_type": "stream",
     "text": [
      "Predict=[1]\n"
     ]
    },
    {
     "data": {
      "image/png": "[encoded data removed]",
      "text/plain": [
       "<Figure size 432x288 with 1 Axes>"
      ]
     },
     "metadata": {
      "needs_background": "light"
     },
     "output_type": "display_data"
    }
   ],
   "source": [
    "from sklearn import tree\n",
    "clf = tree.DecisionTreeClassifier(random_state=0)\n",
    "clf = clf.fit(x, y)\n",
    "tree.plot_tree(clf)\n",
    "print(f\"Predict={clf.predict(np.array([0.5]).reshape(1,1))}\")"
   ]
  },
  {
   "cell_type": "markdown",
   "metadata": {},
   "source": [
    "#### From the above we can see classification tree also matches with sklearn."
   ]
  },
  {
   "cell_type": "code",
   "execution_count": null,
   "metadata": {},
   "outputs": [],
   "source": []
  }
 ],
 "metadata": {
  "kernelspec": {
   "display_name": "Python 3",
   "language": "python",
   "name": "python3"
  },
  "language_info": {
   "codemirror_mode": {
    "name": "ipython",
    "version": 3
   },
   "file_extension": ".py",
   "mimetype": "text/x-python",
   "name": "python",
   "nbconvert_exporter": "python",
   "pygments_lexer": "ipython3",
   "version": "3.8.3"
  },
  "latex_envs": {
   "LaTeX_envs_menu_present": true,
   "autoclose": false,
   "autocomplete": true,
   "bibliofile": "biblio.bib",
   "cite_by": "apalike",
   "current_citInitial": 1,
   "eqLabelWithNumbers": true,
   "eqNumInitial": 1,
   "hotkeys": {
    "equation": "Ctrl-E",
    "itemize": "Ctrl-I"
   },
   "labels_anchors": false,
   "latex_user_defs": false,
   "report_style_numbering": false,
   "user_envs_cfg": false
  },
  "toc": {
   "base_numbering": 1,
   "nav_menu": {},
   "number_sections": false,
   "sideBar": true,
   "skip_h1_title": false,
   "title_cell": "Table of Contents",
   "title_sidebar": "Contents",
   "toc_cell": false,
   "toc_position": {},
   "toc_section_display": true,
   "toc_window_display": true
  }
 },
 "nbformat": 4,
 "nbformat_minor": 4
}
