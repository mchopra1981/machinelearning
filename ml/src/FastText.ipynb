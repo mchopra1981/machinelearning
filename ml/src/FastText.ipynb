{
 "cells": [
  {
   "cell_type": "markdown",
   "id": "academic-charge",
   "metadata": {},
   "source": [
    "## FastText\n",
    "**FastText** is a library for efficient learning of word representations and sentence classification.\n",
    "**FastText** is described in this paper https://arxiv.org/abs/1607.04606.\n"
   ]
  },
  {
   "cell_type": "code",
   "execution_count": 2,
   "id": "banner-phase",
   "metadata": {
    "ExecuteTime": {
     "end_time": "2021-03-17T05:29:54.779576Z",
     "start_time": "2021-03-17T05:29:54.099487Z"
    }
   },
   "outputs": [],
   "source": [
    "import fasttext"
   ]
  },
  {
   "cell_type": "code",
   "execution_count": 3,
   "id": "peripheral-edwards",
   "metadata": {
    "ExecuteTime": {
     "end_time": "2021-03-17T15:58:24.152128Z",
     "start_time": "2021-03-17T05:30:55.729615Z"
    }
   },
   "outputs": [],
   "source": [
    "model = fasttext.train_unsupervised('fasttext-data/fil9')"
   ]
  },
  {
   "cell_type": "code",
   "execution_count": 6,
   "id": "registered-theme",
   "metadata": {
    "ExecuteTime": {
     "end_time": "2021-03-17T17:35:23.484563Z",
     "start_time": "2021-03-17T17:35:23.473944Z"
    },
    "scrolled": true
   },
   "outputs": [
    {
     "data": {
      "text/plain": [
       "218316"
      ]
     },
     "execution_count": 6,
     "metadata": {},
     "output_type": "execute_result"
    }
   ],
   "source": [
    "len(model.words)"
   ]
  },
  {
   "cell_type": "code",
   "execution_count": 7,
   "id": "breathing-vaccine",
   "metadata": {
    "ExecuteTime": {
     "end_time": "2021-03-17T17:35:33.796597Z",
     "start_time": "2021-03-17T17:35:33.742150Z"
    }
   },
   "outputs": [
    {
     "data": {
      "text/plain": [
       "array([-0.04339668, -0.02602919,  0.15291053, -0.06255169,  0.11894853,\n",
       "        0.22506483, -0.24265355,  0.47460836, -0.04951644, -0.27080876,\n",
       "       -0.14667968, -0.18643628, -0.24581823,  0.06511789,  0.08160857,\n",
       "        0.2211662 ,  0.20429333,  0.00972598,  0.11798759, -0.2864534 ,\n",
       "        0.08428375,  0.09098904,  0.15000814, -0.05516969, -0.03306255,\n",
       "       -0.03280978, -0.01896152,  0.23924382, -0.11676523, -0.43856254,\n",
       "       -0.05040808,  0.16635494, -0.39364827, -0.04147669, -0.17411782,\n",
       "       -0.1807962 ,  0.1337848 , -0.09307227, -0.23431928,  0.19757172,\n",
       "        0.24821547,  0.16820186, -0.05271857,  0.12137199,  0.13131607,\n",
       "       -0.06212092,  0.10914549, -0.08647984,  0.02175414,  0.128182  ,\n",
       "       -0.11132103,  0.04182782,  0.02216484, -0.20911735, -0.02655949,\n",
       "        0.13122487,  0.09170875,  0.24625129,  0.2997683 ,  0.28914523,\n",
       "       -0.10966185,  0.21045043,  0.342048  ,  0.12492497, -0.01652659,\n",
       "        0.011909  , -0.0645201 ,  0.04300814, -0.03813475, -0.23673399,\n",
       "        0.0127086 , -0.09930761,  0.21339954, -0.18403946,  0.06510909,\n",
       "        0.13973522,  0.13408461,  0.15967211, -0.05887546, -0.0761044 ,\n",
       "        0.02314264, -0.04876141, -0.07102247,  0.29764476,  0.18289463,\n",
       "       -0.1362469 ,  0.06180374, -0.16007069, -0.46767354, -0.22746472,\n",
       "        0.2241102 ,  0.2829715 ,  0.22514084, -0.15857868, -0.2955279 ,\n",
       "       -0.09870935, -0.0260017 ,  0.28521538, -0.06058515,  0.05495954],\n",
       "      dtype=float32)"
      ]
     },
     "execution_count": 7,
     "metadata": {},
     "output_type": "execute_result"
    }
   ],
   "source": [
    " model.get_word_vector(\"the\")"
   ]
  },
  {
   "cell_type": "code",
   "execution_count": 8,
   "id": "sacred-federal",
   "metadata": {
    "ExecuteTime": {
     "end_time": "2021-03-17T17:36:20.329230Z",
     "start_time": "2021-03-17T17:36:16.236682Z"
    }
   },
   "outputs": [
    {
     "data": {
      "text/plain": [
       "[(0.7798551917076111, 'kings'),\n",
       " (0.7775497436523438, 'throne'),\n",
       " (0.7458605766296387, 'son'),\n",
       " (0.7428922653198242, 'prince'),\n",
       " (0.7395654320716858, 'pretender'),\n",
       " (0.7340434789657593, 'cenred'),\n",
       " (0.7335514426231384, 'reigned'),\n",
       " (0.7290411591529846, 'godfred'),\n",
       " (0.718990683555603, 'queen'),\n",
       " (0.7176603078842163, 'thrones')]"
      ]
     },
     "execution_count": 8,
     "metadata": {},
     "output_type": "execute_result"
    }
   ],
   "source": [
    "model.get_nearest_neighbors('king')"
   ]
  },
  {
   "cell_type": "code",
   "execution_count": 9,
   "id": "exposed-surgery",
   "metadata": {
    "ExecuteTime": {
     "end_time": "2021-03-17T17:39:19.323475Z",
     "start_time": "2021-03-17T17:39:19.270760Z"
    }
   },
   "outputs": [
    {
     "data": {
      "text/plain": [
       "[(0.8833524584770203, 'paris'),\n",
       " (0.7412819266319275, 'bourges'),\n",
       " (0.7257428765296936, 'louveciennes'),\n",
       " (0.7231709957122803, 'perreux'),\n",
       " (0.7216129302978516, 'bourget'),\n",
       " (0.7213156819343567, 'montpellier'),\n",
       " (0.7212177515029907, 'beaubourg'),\n",
       " (0.7206199169158936, 'maubourg'),\n",
       " (0.7200356721878052, 'valenciennes'),\n",
       " (0.7186718583106995, 'dubourg')]"
      ]
     },
     "execution_count": 9,
     "metadata": {},
     "output_type": "execute_result"
    }
   ],
   "source": [
    "model.get_analogies(\"berlin\", \"germany\", \"france\")"
   ]
  },
  {
   "cell_type": "code",
   "execution_count": 10,
   "id": "wrapped-halifax",
   "metadata": {
    "ExecuteTime": {
     "end_time": "2021-03-17T17:39:38.334502Z",
     "start_time": "2021-03-17T17:39:38.280395Z"
    }
   },
   "outputs": [
    {
     "data": {
      "text/plain": [
       "[(0.7083815336227417, 'prince'),\n",
       " (0.7059714198112488, 'regent'),\n",
       " (0.7050192952156067, 'consort'),\n",
       " (0.700732946395874, 'regnant'),\n",
       " (0.6768476366996765, 'throne'),\n",
       " (0.6698915958404541, 'regency'),\n",
       " (0.6581066250801086, 'thrones'),\n",
       " (0.6528937220573425, 'coronation'),\n",
       " (0.6515898704528809, 'princess'),\n",
       " (0.6460654139518738, 'anjou')]"
      ]
     },
     "execution_count": 10,
     "metadata": {},
     "output_type": "execute_result"
    }
   ],
   "source": [
    "model.get_analogies(\"king\", \"man\", \"queen\")"
   ]
  },
  {
   "cell_type": "code",
   "execution_count": null,
   "id": "technical-indie",
   "metadata": {},
   "outputs": [],
   "source": []
  }
 ],
 "metadata": {
  "kernelspec": {
   "display_name": "Python 3",
   "language": "python",
   "name": "python3"
  },
  "language_info": {
   "codemirror_mode": {
    "name": "ipython",
    "version": 3
   },
   "file_extension": ".py",
   "mimetype": "text/x-python",
   "name": "python",
   "nbconvert_exporter": "python",
   "pygments_lexer": "ipython3",
   "version": "3.8.3"
  },
  "latex_envs": {
   "LaTeX_envs_menu_present": true,
   "autoclose": false,
   "autocomplete": true,
   "bibliofile": "biblio.bib",
   "cite_by": "apalike",
   "current_citInitial": 1,
   "eqLabelWithNumbers": true,
   "eqNumInitial": 1,
   "hotkeys": {
    "equation": "Ctrl-E",
    "itemize": "Ctrl-I"
   },
   "labels_anchors": false,
   "latex_user_defs": false,
   "report_style_numbering": false,
   "user_envs_cfg": false
  },
  "toc": {
   "base_numbering": 1,
   "nav_menu": {},
   "number_sections": false,
   "sideBar": true,
   "skip_h1_title": false,
   "title_cell": "Table of Contents",
   "title_sidebar": "Contents",
   "toc_cell": false,
   "toc_position": {},
   "toc_section_display": true,
   "toc_window_display": true
  }
 },
 "nbformat": 4,
 "nbformat_minor": 5
}
