{
 "cells": [
  {
   "cell_type": "markdown",
   "metadata": {},
   "source": [
    "## PyTorch-LSTM\n",
    "\n",
    "**LSTM - Long Short Term Memory networks** are a special kind of RNN, capable of learning long-term dependencies. LSTMs are explicitly designed to have a long term memory and can. remember \"context\" for sometime. Recently they have been very successful in many machine learning tasks. In the sheet below we will apply LSTMs to time series predictions. A good introduction to **LSTMs** can be found here \n",
    "\n",
    "http://colah.github.io/posts/2015-08-Understanding-LSTMs/"
   ]
  },
  {
   "cell_type": "code",
   "execution_count": 1,
   "metadata": {
    "ExecuteTime": {
     "end_time": "2020-09-23T16:35:02.333731Z",
     "start_time": "2020-09-23T16:34:59.826683Z"
    }
   },
   "outputs": [],
   "source": [
    "import torch\n",
    "import torch.nn as nn\n",
    "\n",
    "import numpy as np\n",
    "import pandas as pd\n",
    "import matplotlib.pyplot as plt\n",
    "%matplotlib inline\n",
    "\n",
    "# This relates to plotting datetime values with matplotlib:\n",
    "from pandas.plotting import register_matplotlib_converters\n",
    "register_matplotlib_converters()"
   ]
  },
  {
   "cell_type": "markdown",
   "metadata": {},
   "source": [
    "we will be using this dataset for our timeseries predictions.\n",
    "https://archive.ics.uci.edu/ml/datasets/Metro+Interstate+Traffic+Volume#\n"
   ]
  },
  {
   "cell_type": "code",
   "execution_count": 2,
   "metadata": {
    "ExecuteTime": {
     "end_time": "2020-09-23T16:35:02.467553Z",
     "start_time": "2020-09-23T16:35:02.338956Z"
    }
   },
   "outputs": [
    {
     "data": {
      "text/plain": [
       "48204"
      ]
     },
     "execution_count": 2,
     "metadata": {},
     "output_type": "execute_result"
    }
   ],
   "source": [
    "df = pd.read_csv('../data/traffic/Metro_Interstate_Traffic_Volume.csv')\n",
    "len(df)"
   ]
  },
  {
   "cell_type": "code",
   "execution_count": 3,
   "metadata": {
    "ExecuteTime": {
     "end_time": "2020-09-23T16:35:02.513248Z",
     "start_time": "2020-09-23T16:35:02.473165Z"
    }
   },
   "outputs": [
    {
     "data": {
      "text/html": [
       "<div>\n",
       "<style scoped>\n",
       "    .dataframe tbody tr th:only-of-type {\n",
       "        vertical-align: middle;\n",
       "    }\n",
       "\n",
       "    .dataframe tbody tr th {\n",
       "        vertical-align: top;\n",
       "    }\n",
       "\n",
       "    .dataframe thead th {\n",
       "        text-align: right;\n",
       "    }\n",
       "</style>\n",
       "<table border=\"1\" class=\"dataframe\">\n",
       "  <thead>\n",
       "    <tr style=\"text-align: right;\">\n",
       "      <th></th>\n",
       "      <th>holiday</th>\n",
       "      <th>temp</th>\n",
       "      <th>rain_1h</th>\n",
       "      <th>snow_1h</th>\n",
       "      <th>clouds_all</th>\n",
       "      <th>weather_main</th>\n",
       "      <th>weather_description</th>\n",
       "      <th>date_time</th>\n",
       "      <th>traffic_volume</th>\n",
       "    </tr>\n",
       "  </thead>\n",
       "  <tbody>\n",
       "    <tr>\n",
       "      <th>0</th>\n",
       "      <td>None</td>\n",
       "      <td>288.28</td>\n",
       "      <td>0.0</td>\n",
       "      <td>0.0</td>\n",
       "      <td>40</td>\n",
       "      <td>Clouds</td>\n",
       "      <td>scattered clouds</td>\n",
       "      <td>2012-10-02 09:00:00</td>\n",
       "      <td>5545</td>\n",
       "    </tr>\n",
       "    <tr>\n",
       "      <th>1</th>\n",
       "      <td>None</td>\n",
       "      <td>289.36</td>\n",
       "      <td>0.0</td>\n",
       "      <td>0.0</td>\n",
       "      <td>75</td>\n",
       "      <td>Clouds</td>\n",
       "      <td>broken clouds</td>\n",
       "      <td>2012-10-02 10:00:00</td>\n",
       "      <td>4516</td>\n",
       "    </tr>\n",
       "    <tr>\n",
       "      <th>2</th>\n",
       "      <td>None</td>\n",
       "      <td>289.58</td>\n",
       "      <td>0.0</td>\n",
       "      <td>0.0</td>\n",
       "      <td>90</td>\n",
       "      <td>Clouds</td>\n",
       "      <td>overcast clouds</td>\n",
       "      <td>2012-10-02 11:00:00</td>\n",
       "      <td>4767</td>\n",
       "    </tr>\n",
       "    <tr>\n",
       "      <th>3</th>\n",
       "      <td>None</td>\n",
       "      <td>290.13</td>\n",
       "      <td>0.0</td>\n",
       "      <td>0.0</td>\n",
       "      <td>90</td>\n",
       "      <td>Clouds</td>\n",
       "      <td>overcast clouds</td>\n",
       "      <td>2012-10-02 12:00:00</td>\n",
       "      <td>5026</td>\n",
       "    </tr>\n",
       "    <tr>\n",
       "      <th>4</th>\n",
       "      <td>None</td>\n",
       "      <td>291.14</td>\n",
       "      <td>0.0</td>\n",
       "      <td>0.0</td>\n",
       "      <td>75</td>\n",
       "      <td>Clouds</td>\n",
       "      <td>broken clouds</td>\n",
       "      <td>2012-10-02 13:00:00</td>\n",
       "      <td>4918</td>\n",
       "    </tr>\n",
       "  </tbody>\n",
       "</table>\n",
       "</div>"
      ],
      "text/plain": [
       "  holiday    temp  rain_1h  snow_1h  clouds_all weather_main  \\\n",
       "0    None  288.28      0.0      0.0          40       Clouds   \n",
       "1    None  289.36      0.0      0.0          75       Clouds   \n",
       "2    None  289.58      0.0      0.0          90       Clouds   \n",
       "3    None  290.13      0.0      0.0          90       Clouds   \n",
       "4    None  291.14      0.0      0.0          75       Clouds   \n",
       "\n",
       "  weather_description            date_time  traffic_volume  \n",
       "0    scattered clouds  2012-10-02 09:00:00            5545  \n",
       "1       broken clouds  2012-10-02 10:00:00            4516  \n",
       "2     overcast clouds  2012-10-02 11:00:00            4767  \n",
       "3     overcast clouds  2012-10-02 12:00:00            5026  \n",
       "4       broken clouds  2012-10-02 13:00:00            4918  "
      ]
     },
     "execution_count": 3,
     "metadata": {},
     "output_type": "execute_result"
    }
   ],
   "source": [
    "df.head()"
   ]
  },
  {
   "cell_type": "code",
   "execution_count": 4,
   "metadata": {
    "ExecuteTime": {
     "end_time": "2020-09-23T16:35:02.614851Z",
     "start_time": "2020-09-23T16:35:02.556727Z"
    }
   },
   "outputs": [
    {
     "data": {
      "text/plain": [
       "48204"
      ]
     },
     "execution_count": 4,
     "metadata": {},
     "output_type": "execute_result"
    }
   ],
   "source": [
    "#Drop na\n",
    "df.dropna(inplace=True)\n",
    "len(df)"
   ]
  },
  {
   "cell_type": "code",
   "execution_count": 5,
   "metadata": {
    "ExecuteTime": {
     "end_time": "2020-09-23T16:35:05.649162Z",
     "start_time": "2020-09-23T16:35:05.639803Z"
    }
   },
   "outputs": [],
   "source": [
    "#For purpose of this exercise delete everything except traffic_volume\n",
    "df.drop(['holiday','temp','rain_1h','snow_1h', 'clouds_all', 'weather_main','weather_description','date_time'], inplace=True, axis=1)"
   ]
  },
  {
   "cell_type": "markdown",
   "metadata": {},
   "source": [
    "For this example lets take 4000 rows of the data"
   ]
  },
  {
   "cell_type": "code",
   "execution_count": 7,
   "metadata": {
    "ExecuteTime": {
     "end_time": "2020-09-23T16:35:26.745881Z",
     "start_time": "2020-09-23T16:35:26.741372Z"
    }
   },
   "outputs": [],
   "source": [
    "df = df[0:4000]"
   ]
  },
  {
   "cell_type": "code",
   "execution_count": 8,
   "metadata": {
    "ExecuteTime": {
     "end_time": "2020-09-23T16:35:51.803136Z",
     "start_time": "2020-09-23T16:35:51.787825Z"
    }
   },
   "outputs": [],
   "source": [
    "# Define a test size\n",
    "test_size = 168 # 7days * 24 \n",
    "\n",
    "# Create train and test sets\n",
    "train_set = df[:-test_size].values\n",
    "test_set = df[-test_size:].values"
   ]
  },
  {
   "cell_type": "code",
   "execution_count": 9,
   "metadata": {
    "ExecuteTime": {
     "end_time": "2020-09-23T16:35:52.615475Z",
     "start_time": "2020-09-23T16:35:52.610911Z"
    }
   },
   "outputs": [
    {
     "data": {
      "text/plain": [
       "array([[5545],\n",
       "       [4516],\n",
       "       [4767],\n",
       "       ...,\n",
       "       [4600],\n",
       "       [4455],\n",
       "       [4776]])"
      ]
     },
     "execution_count": 9,
     "metadata": {},
     "output_type": "execute_result"
    }
   ],
   "source": [
    "train_set"
   ]
  },
  {
   "cell_type": "code",
   "execution_count": 10,
   "metadata": {
    "ExecuteTime": {
     "end_time": "2020-09-23T16:35:55.441307Z",
     "start_time": "2020-09-23T16:35:55.432716Z"
    }
   },
   "outputs": [
    {
     "data": {
      "text/plain": [
       "array([[4492],\n",
       "       [4588],\n",
       "       [4725],\n",
       "       [4301],\n",
       "       [3394],\n",
       "       [2782],\n",
       "       [2929],\n",
       "       [2441],\n",
       "       [1799],\n",
       "       [1093],\n",
       "       [ 785],\n",
       "       [ 612],\n",
       "       [ 368],\n",
       "       [ 252],\n",
       "       [ 454],\n",
       "       [ 454],\n",
       "       [ 696],\n",
       "       [ 696],\n",
       "       [ 996],\n",
       "       [ 996],\n",
       "       [1633],\n",
       "       [1633],\n",
       "       [2341],\n",
       "       [3229],\n",
       "       [3488],\n",
       "       [3488],\n",
       "       [3873],\n",
       "       [4204],\n",
       "       [4277],\n",
       "       [4073],\n",
       "       [4473],\n",
       "       [3845],\n",
       "       [3509],\n",
       "       [2693],\n",
       "       [2191],\n",
       "       [1837],\n",
       "       [1289],\n",
       "       [1056],\n",
       "       [ 472],\n",
       "       [ 260],\n",
       "       [ 260],\n",
       "       [ 229],\n",
       "       [ 291],\n",
       "       [ 291],\n",
       "       [ 778],\n",
       "       [2459],\n",
       "       [2459],\n",
       "       [2459],\n",
       "       [2459],\n",
       "       [5615],\n",
       "       [5615],\n",
       "       [5615],\n",
       "       [6920],\n",
       "       [4232],\n",
       "       [4232],\n",
       "       [4271],\n",
       "       [4271],\n",
       "       [4734],\n",
       "       [5108],\n",
       "       [5535],\n",
       "       [6374],\n",
       "       [5941],\n",
       "       [4384],\n",
       "       [2940],\n",
       "       [2545],\n",
       "       [2079],\n",
       "       [1457],\n",
       "       [ 910],\n",
       "       [ 910],\n",
       "       [ 495],\n",
       "       [ 293],\n",
       "       [ 229],\n",
       "       [ 298],\n",
       "       [ 808],\n",
       "       [2572],\n",
       "       [5886],\n",
       "       [6219],\n",
       "       [6219],\n",
       "       [5134],\n",
       "       [5134],\n",
       "       [4398],\n",
       "       [4557],\n",
       "       [4791],\n",
       "       [4821],\n",
       "       [5162],\n",
       "       [5948],\n",
       "       [6776],\n",
       "       [6543],\n",
       "       [4564],\n",
       "       [3184],\n",
       "       [2818],\n",
       "       [2818],\n",
       "       [3406],\n",
       "       [3406],\n",
       "       [3111],\n",
       "       [3111],\n",
       "       [1203],\n",
       "       [ 592],\n",
       "       [ 263],\n",
       "       [ 263],\n",
       "       [ 296],\n",
       "       [ 296],\n",
       "       [ 773],\n",
       "       [ 773],\n",
       "       [2604],\n",
       "       [2604],\n",
       "       [5881],\n",
       "       [5881],\n",
       "       [7067],\n",
       "       [7067],\n",
       "       [6128],\n",
       "       [6128],\n",
       "       [5156],\n",
       "       [5156],\n",
       "       [5156],\n",
       "       [4595],\n",
       "       [4595],\n",
       "       [4691],\n",
       "       [4691],\n",
       "       [4965],\n",
       "       [4899],\n",
       "       [5199],\n",
       "       [5763],\n",
       "       [6688],\n",
       "       [6178],\n",
       "       [4580],\n",
       "       [3395],\n",
       "       [3056],\n",
       "       [2642],\n",
       "       [1771],\n",
       "       [1150],\n",
       "       [ 659],\n",
       "       [ 325],\n",
       "       [ 256],\n",
       "       [ 335],\n",
       "       [ 767],\n",
       "       [2579],\n",
       "       [5853],\n",
       "       [7029],\n",
       "       [5242],\n",
       "       [5709],\n",
       "       [6356],\n",
       "       [6721],\n",
       "       [6304],\n",
       "       [4858],\n",
       "       [3677],\n",
       "       [3048],\n",
       "       [3465],\n",
       "       [2191],\n",
       "       [1336],\n",
       "       [ 713],\n",
       "       [ 395],\n",
       "       [ 345],\n",
       "       [ 357],\n",
       "       [ 748],\n",
       "       [2433],\n",
       "       [5452],\n",
       "       [6864],\n",
       "       [6144],\n",
       "       [4861],\n",
       "       [5373],\n",
       "       [5692],\n",
       "       [5626],\n",
       "       [5803],\n",
       "       [6453],\n",
       "       [6570],\n",
       "       [6296],\n",
       "       [5252]])"
      ]
     },
     "execution_count": 10,
     "metadata": {},
     "output_type": "execute_result"
    }
   ],
   "source": [
    "test_set"
   ]
  },
  {
   "cell_type": "code",
   "execution_count": 11,
   "metadata": {
    "ExecuteTime": {
     "end_time": "2020-09-23T16:35:58.275012Z",
     "start_time": "2020-09-23T16:35:58.023256Z"
    }
   },
   "outputs": [
    {
     "data": {
      "text/plain": [
       "[<matplotlib.lines.Line2D at 0x7ffecff7e820>]"
      ]
     },
     "execution_count": 11,
     "metadata": {},
     "output_type": "execute_result"
    },
    {
     "data": {
      "image/png": "[encoded data removed]",
      "text/plain": [
       "<Figure size 432x288 with 1 Axes>"
      ]
     },
     "metadata": {
      "needs_background": "light"
     },
     "output_type": "display_data"
    }
   ],
   "source": [
    "plt.plot(test_set)"
   ]
  },
  {
   "cell_type": "markdown",
   "metadata": {},
   "source": [
    "Scale the data to -1,1."
   ]
  },
  {
   "cell_type": "code",
   "execution_count": 12,
   "metadata": {
    "ExecuteTime": {
     "end_time": "2020-09-23T16:36:03.277054Z",
     "start_time": "2020-09-23T16:36:02.375289Z"
    }
   },
   "outputs": [],
   "source": [
    "#Scale the data between -1 1\n",
    "from sklearn.preprocessing import MinMaxScaler\n",
    "\n",
    "# Instantiate a scaler with a feature range from -1 to 1\n",
    "scaler = MinMaxScaler(feature_range=(-1, 1))"
   ]
  },
  {
   "cell_type": "markdown",
   "metadata": {},
   "source": [
    "Normalize the training dataset"
   ]
  },
  {
   "cell_type": "code",
   "execution_count": 13,
   "metadata": {
    "ExecuteTime": {
     "end_time": "2020-09-23T16:36:05.500344Z",
     "start_time": "2020-09-23T16:36:05.490273Z"
    }
   },
   "outputs": [],
   "source": [
    "# Normalize the training set\n",
    "train_norm = scaler.fit_transform(train_set.reshape(-1, 1))"
   ]
  },
  {
   "cell_type": "markdown",
   "metadata": {},
   "source": [
    "Convert the data to a format which PyTorch can consume"
   ]
  },
  {
   "cell_type": "code",
   "execution_count": 14,
   "metadata": {
    "ExecuteTime": {
     "end_time": "2020-09-23T16:36:17.562162Z",
     "start_time": "2020-09-23T16:36:17.512616Z"
    }
   },
   "outputs": [
    {
     "data": {
      "text/plain": [
       "3664"
      ]
     },
     "execution_count": 14,
     "metadata": {},
     "output_type": "execute_result"
    }
   ],
   "source": [
    "# Convert train_norm from an array to a tensor\n",
    "train_norm = torch.FloatTensor(train_norm).view(-1)\n",
    "\n",
    "# Define a window size\n",
    "window_size = 168 #1 week\n",
    "\n",
    "# Define function to create seq/label tuples\n",
    "def input_data(seq,ws):  # ws is the window size\n",
    "    out = []\n",
    "    L = len(seq)\n",
    "    for i in range(L-ws):\n",
    "        window = seq[i:i+ws]\n",
    "        label = seq[i+ws:i+ws+1]\n",
    "        out.append((window,label))\n",
    "    return out\n",
    "\n",
    "# Apply the input_data function to train_norm\n",
    "train_data = input_data(train_norm,window_size)\n",
    "len(train_data) "
   ]
  },
  {
   "cell_type": "code",
   "execution_count": 15,
   "metadata": {
    "ExecuteTime": {
     "end_time": "2020-09-23T16:36:20.035182Z",
     "start_time": "2020-09-23T16:36:19.997635Z"
    }
   },
   "outputs": [
    {
     "data": {
      "text/plain": [
       "(tensor([ 0.5345,  0.2432,  0.3143,  0.3876,  0.3570,  0.4315,  0.5456,  0.6676,\n",
       "          0.6042,  0.3151, -0.0334, -0.2472, -0.3669, -0.6025, -0.7627, -0.8921,\n",
       "         -0.9445, -0.9581, -0.9315, -0.8049, -0.2659,  0.5708,  0.8080,  0.5136,\n",
       "          0.4077,  0.3482,  0.4757,  0.5762,  0.7022,  0.2735, -0.0187, -0.2149,\n",
       "         -0.2888, -0.5323, -0.7480, -0.8661, -0.9309, -0.9471, -0.9315, -0.7990,\n",
       "         -0.2636,  0.5753,  0.9437,  0.6591,  0.4677,  0.2678,  0.3474,  0.4097,\n",
       "          0.4306,  0.5221,  0.5821,  0.7460,  0.6795,  0.3539, -0.0436, -0.1755,\n",
       "         -0.2364, -0.4714, -0.7053, -0.8579, -0.9255, -0.9312, -0.3307,  0.5323,\n",
       "          0.8412,  0.5314,  0.4943,  0.3151,  0.4417,  0.6266,  0.6540,  0.6939,\n",
       "          0.6996,  0.6829,  0.7112,  0.4890,  0.1149, -0.0830, -0.1942, -0.3417,\n",
       "         -0.5167, -0.6869, -0.8321, -0.8811, -0.9190, -0.8406, -0.6526, -0.4488,\n",
       "         -0.0892,  0.1702,  0.3409,  0.4343,  0.5696,  0.4012,  0.3873,  0.4236,\n",
       "          0.3870,  0.3177,  0.1996,  0.0575, -0.1407, -0.1883, -0.1288, -0.4858,\n",
       "         -0.6863, -0.9439, -0.9471, -0.8579, -0.6084, -0.5997, -0.4035,  0.2579,\n",
       "          0.2738,  0.2469,  0.4196,  0.8446,  0.8301,  0.2186,  0.1903,  0.0498,\n",
       "          0.1014, -0.0779, -0.2384, -0.4380, -0.5951, -0.7639, -0.9066, -0.9403,\n",
       "         -0.9604, -0.9465, -0.8148, -0.3075,  0.5396,  0.8548,  0.6537,  0.3327,\n",
       "          0.2089,  0.2135,  0.2806,  0.2676,  0.4156,  0.5224,  0.6574,  0.5680,\n",
       "          0.1704, -0.1665, -0.3621, -0.4606, -0.6390, -0.7758, -0.8896, -0.9499,\n",
       "         -0.9643, -0.8095, -0.2772,  0.5878,  0.7905,  0.5968,  0.5498,  0.2483,\n",
       "          0.2928,  0.3992,  0.3887,  0.4652,  0.6002,  0.7622,  0.6993,  0.2273]),\n",
       " tensor([-0.0677]))"
      ]
     },
     "execution_count": 15,
     "metadata": {},
     "output_type": "execute_result"
    }
   ],
   "source": [
    "# Display the first seq/label tuple in the train data\n",
    "train_data[0]"
   ]
  },
  {
   "cell_type": "markdown",
   "metadata": {},
   "source": [
    "Define an **LSTM** model, with 100 hidden states."
   ]
  },
  {
   "cell_type": "code",
   "execution_count": 16,
   "metadata": {
    "ExecuteTime": {
     "end_time": "2020-09-23T16:36:33.044944Z",
     "start_time": "2020-09-23T16:36:32.958711Z"
    }
   },
   "outputs": [],
   "source": [
    "class LSTMnetwork(nn.Module):\n",
    "    def __init__(self,input_size=1,hidden_size=168, output_size=1):\n",
    "        super().__init__()\n",
    "        self.hidden_size = hidden_size\n",
    "        \n",
    "        # Add an LSTM layer:\n",
    "        self.lstm = nn.LSTM(input_size,hidden_size)\n",
    "        \n",
    "        # Add a fully-connected layer:\n",
    "        self.linear = nn.Linear(hidden_size,output_size)\n",
    "        \n",
    "        # Initialize h0 and c0:\n",
    "        self.hidden = (torch.zeros(1,1,self.hidden_size),\n",
    "                       torch.zeros(1,1,self.hidden_size))\n",
    "\n",
    "    def forward(self,seq):\n",
    "        lstm_out, self.hidden = self.lstm(\n",
    "            seq.view(len(seq),1,-1), self.hidden)\n",
    "        pred = self.linear(lstm_out.view(len(seq),-1))\n",
    "        return pred[-1]  # we only want the last value"
   ]
  },
  {
   "cell_type": "markdown",
   "metadata": {},
   "source": [
    "Setup the model, criterion and optimizer"
   ]
  },
  {
   "cell_type": "code",
   "execution_count": 17,
   "metadata": {
    "ExecuteTime": {
     "end_time": "2020-09-23T16:36:35.910728Z",
     "start_time": "2020-09-23T16:36:35.878554Z"
    }
   },
   "outputs": [
    {
     "data": {
      "text/plain": [
       "LSTMnetwork(\n",
       "  (lstm): LSTM(1, 168)\n",
       "  (linear): Linear(in_features=168, out_features=1, bias=True)\n",
       ")"
      ]
     },
     "execution_count": 17,
     "metadata": {},
     "output_type": "execute_result"
    }
   ],
   "source": [
    "torch.manual_seed(101)\n",
    "model = LSTMnetwork()\n",
    "\n",
    "criterion = nn.MSELoss()\n",
    "optimizer = torch.optim.Adam(model.parameters(), lr=0.001)\n",
    "\n",
    "model"
   ]
  },
  {
   "cell_type": "markdown",
   "metadata": {},
   "source": [
    "Count number of parameters in the model"
   ]
  },
  {
   "cell_type": "code",
   "execution_count": 18,
   "metadata": {
    "ExecuteTime": {
     "end_time": "2020-09-23T16:36:39.764760Z",
     "start_time": "2020-09-23T16:36:39.752937Z"
    }
   },
   "outputs": [
    {
     "name": "stdout",
     "output_type": "stream",
     "text": [
      "   672\n",
      "112896\n",
      "   672\n",
      "   672\n",
      "   168\n",
      "     1\n",
      "______\n",
      "115081\n"
     ]
    }
   ],
   "source": [
    "def count_parameters(model):\n",
    "    params = [p.numel() for p in model.parameters() if p.requires_grad]\n",
    "    for item in params:\n",
    "        print(f'{item:>6}')\n",
    "    print(f'______\\n{sum(params):>6}')\n",
    "    \n",
    "count_parameters(model)"
   ]
  },
  {
   "cell_type": "markdown",
   "metadata": {},
   "source": [
    "Lets train the model"
   ]
  },
  {
   "cell_type": "code",
   "execution_count": 20,
   "metadata": {
    "ExecuteTime": {
     "end_time": "2020-09-23T21:27:11.983528Z",
     "start_time": "2020-09-23T17:51:43.347280Z"
    }
   },
   "outputs": [
    {
     "name": "stdout",
     "output_type": "stream",
     "text": [
      "Epoch:  1 Loss: 0.02317893\n",
      "Epoch:  2 Loss: 0.02260499\n",
      "Epoch:  3 Loss: 0.02174702\n",
      "Epoch:  4 Loss: 0.02022834\n",
      "Epoch:  5 Loss: 0.01810641\n",
      "Epoch:  6 Loss: 0.01804269\n",
      "Epoch:  7 Loss: 0.01560365\n",
      "Epoch:  8 Loss: 0.01608639\n",
      "Epoch:  9 Loss: 0.01399016\n",
      "Epoch: 10 Loss: 0.01333253\n",
      "\n",
      "Duration: 12929 seconds\n"
     ]
    }
   ],
   "source": [
    "epochs = 10\n",
    "\n",
    "import time\n",
    "start_time = time.time()\n",
    "\n",
    "for epoch in range(epochs):\n",
    "    \n",
    "    # extract the sequence & label from the training data\n",
    "    for seq, y_train in train_data:\n",
    "        \n",
    "        # reset the parameters and hidden states\n",
    "        optimizer.zero_grad()\n",
    "        model.hidden = (torch.zeros(1,1,model.hidden_size),\n",
    "                        torch.zeros(1,1,model.hidden_size))\n",
    "        \n",
    "        y_pred = model(seq)\n",
    "        \n",
    "        loss = criterion(y_pred, y_train)\n",
    "        loss.backward()\n",
    "        optimizer.step()\n",
    "        \n",
    "    # print training result\n",
    "    print(f'Epoch: {epoch+1:2} Loss: {loss.item():10.8f}')\n",
    "    \n",
    "print(f'\\nDuration: {time.time() - start_time:.0f} seconds')"
   ]
  },
  {
   "cell_type": "code",
   "execution_count": 21,
   "metadata": {
    "ExecuteTime": {
     "end_time": "2020-09-23T22:41:40.784768Z",
     "start_time": "2020-09-23T22:41:38.886362Z"
    }
   },
   "outputs": [],
   "source": [
    "future = 168\n",
    "\n",
    "# Add the last window of training values to the list of predictions\n",
    "preds = train_norm[-window_size:].tolist()\n",
    "\n",
    "# Set the model to evaluation mode\n",
    "model.eval()\n",
    "\n",
    "for i in range(future):\n",
    "    seq = torch.FloatTensor(preds[-window_size:])\n",
    "    with torch.no_grad():\n",
    "        model.hidden = (torch.zeros(1,1,model.hidden_size),\n",
    "                        torch.zeros(1,1,model.hidden_size))\n",
    "        preds.append(model(seq).item())"
   ]
  },
  {
   "cell_type": "code",
   "execution_count": 22,
   "metadata": {
    "ExecuteTime": {
     "end_time": "2020-09-23T22:41:46.106966Z",
     "start_time": "2020-09-23T22:41:46.081284Z"
    }
   },
   "outputs": [
    {
     "data": {
      "text/plain": [
       "[0.25325530767440796,\n",
       " 0.22441157698631287,\n",
       " 0.14631766080856323,\n",
       " 0.04050733894109726,\n",
       " -0.06794317811727524,\n",
       " -0.18915650248527527,\n",
       " -0.31379833817481995,\n",
       " -0.44562089443206787,\n",
       " -0.5859788656234741,\n",
       " -0.7258116602897644,\n",
       " -0.8485443592071533,\n",
       " -0.9399544596672058,\n",
       " -0.9883280396461487,\n",
       " -0.9701880216598511,\n",
       " -0.8292446732521057,\n",
       " -0.47972264885902405,\n",
       " 0.0634031817317009,\n",
       " 0.36768731474876404,\n",
       " 0.3564590811729431,\n",
       " 0.2588796317577362,\n",
       " 0.23494794964790344,\n",
       " 0.2708478271961212,\n",
       " 0.3125348389148712,\n",
       " 0.3481467664241791,\n",
       " 0.398053377866745,\n",
       " 0.45061519742012024,\n",
       " 0.45663419365882874,\n",
       " 0.38683417439460754,\n",
       " 0.25999853014945984,\n",
       " 0.12637153267860413,\n",
       " 0.019988588988780975,\n",
       " -0.07236810028553009,\n",
       " -0.16732561588287354,\n",
       " -0.27002209424972534,\n",
       " -0.3801162838935852,\n",
       " -0.4980246126651764,\n",
       " -0.6211956739425659,\n",
       " -0.7418017387390137,\n",
       " -0.8504962921142578,\n",
       " -0.9378758668899536,\n",
       " -0.9892715811729431,\n",
       " -0.9783325791358948,\n",
       " -0.8574575185775757,\n",
       " -0.5555151700973511,\n",
       " -0.052633557468652725,\n",
       " 0.3007538318634033,\n",
       " 0.3416525423526764,\n",
       " 0.2580442726612091,\n",
       " 0.22957149147987366,\n",
       " 0.25715601444244385,\n",
       " 0.295391708612442,\n",
       " 0.32064804434776306,\n",
       " 0.3506462574005127,\n",
       " 0.3892420530319214,\n",
       " 0.4079723060131073,\n",
       " 0.37542518973350525,\n",
       " 0.29384708404541016,\n",
       " 0.19295790791511536,\n",
       " 0.10013360530138016,\n",
       " 0.016199149191379547,\n",
       " -0.06815563142299652,\n",
       " -0.15727311372756958,\n",
       " -0.25280383229255676,\n",
       " -0.35785189270973206,\n",
       " -0.47487568855285645,\n",
       " -0.6008355617523193,\n",
       " -0.7264376878738403,\n",
       " -0.8407381176948547,\n",
       " -0.9334579706192017,\n",
       " -0.9904398918151855,\n",
       " -0.9869696497917175,\n",
       " -0.8755573630332947,\n",
       " -0.5797078609466553,\n",
       " -0.06231085956096649,\n",
       " 0.3239009976387024,\n",
       " 0.3697482943534851,\n",
       " 0.2722020447254181,\n",
       " 0.2326696217060089,\n",
       " 0.25914791226387024,\n",
       " 0.3021462559700012,\n",
       " 0.3356257975101471,\n",
       " 0.3779509663581848,\n",
       " 0.4302121102809906,\n",
       " 0.45270779728889465,\n",
       " 0.4064866602420807,\n",
       " 0.29746213555336,\n",
       " 0.16693377494812012,\n",
       " 0.05695461481809616,\n",
       " -0.035321153700351715,\n",
       " -0.1266808807849884,\n",
       " -0.22461697459220886,\n",
       " -0.32979461550712585,\n",
       " -0.4433821737766266,\n",
       " -0.5650410652160645,\n",
       " -0.6886787414550781,\n",
       " -0.8045815825462341,\n",
       " -0.9034298658370972,\n",
       " -0.9735075235366821,\n",
       " -0.9944729804992676,\n",
       " -0.9290664792060852,\n",
       " -0.7140570878982544,\n",
       " -0.2803492546081543,\n",
       " 0.20356011390686035,\n",
       " 0.3612387478351593,\n",
       " 0.2965269684791565,\n",
       " 0.23557916283607483,\n",
       " 0.24199318885803223,\n",
       " 0.28218117356300354,\n",
       " 0.3133458197116852,\n",
       " 0.34146547317504883,\n",
       " 0.38214966654777527,\n",
       " 0.4172411859035492,\n",
       " 0.4078468978404999,\n",
       " 0.3393482267856598,\n",
       " 0.2346034049987793,\n",
       " 0.13026130199432373,\n",
       " 0.04041997343301773,\n",
       " -0.044797711074352264,\n",
       " -0.133487269282341,\n",
       " -0.2280629575252533,\n",
       " -0.3306267261505127,\n",
       " -0.4441598653793335,\n",
       " -0.5677095055580139,\n",
       " -0.6936699151992798,\n",
       " -0.8112785816192627,\n",
       " -0.9105214476585388,\n",
       " -0.9789974093437195,\n",
       " -0.9956612586975098,\n",
       " -0.9209667444229126,\n",
       " -0.6863716840744019,\n",
       " -0.22324538230895996,\n",
       " 0.2515653669834137,\n",
       " 0.37856602668762207,\n",
       " 0.29627278447151184,\n",
       " 0.23604175448417664,\n",
       " 0.2471388578414917,\n",
       " 0.28992119431495667,\n",
       " 0.32375872135162354,\n",
       " 0.3596346080303192,\n",
       " 0.4096319377422333,\n",
       " 0.44587597250938416,\n",
       " 0.4237154424190521,\n",
       " 0.33439818024635315,\n",
       " 0.20932728052139282,\n",
       " 0.09423840790987015,\n",
       " -0.0001996457576751709,\n",
       " -0.08956509083509445,\n",
       " -0.1839025616645813,\n",
       " -0.28516098856925964,\n",
       " -0.3945346772670746,\n",
       " -0.513258695602417,\n",
       " -0.6375813484191895,\n",
       " -0.7583691477775574,\n",
       " -0.8658214211463928,\n",
       " -0.9498331546783447,\n",
       " -0.9942994117736816,\n",
       " -0.9702567458152771,\n",
       " -0.8248938918113708,\n",
       " -0.48251020908355713,\n",
       " 0.04046570509672165,\n",
       " 0.3381134569644928,\n",
       " 0.3378276526927948,\n",
       " 0.2520468533039093,\n",
       " 0.23232126235961914,\n",
       " 0.2660636603832245,\n",
       " 0.30409470200538635,\n",
       " 0.3323255479335785,\n",
       " 0.3703325092792511]"
      ]
     },
     "execution_count": 22,
     "metadata": {},
     "output_type": "execute_result"
    }
   ],
   "source": [
    "# Display predicted values\n",
    "preds[window_size:]    # equivalent to preds[-future:]"
   ]
  },
  {
   "cell_type": "code",
   "execution_count": 23,
   "metadata": {
    "ExecuteTime": {
     "end_time": "2020-09-23T22:41:50.006976Z",
     "start_time": "2020-09-23T22:41:49.985456Z"
    }
   },
   "outputs": [
    {
     "data": {
      "text/plain": [
       "array([[4551.49774671],\n",
       "       [4449.62168992],\n",
       "       [4173.79397798],\n",
       "       [3800.07192114],\n",
       "       [3417.02469489],\n",
       "       [2988.89923322],\n",
       "       [2548.66426957],\n",
       "       [2083.06700087],\n",
       "       [1587.32264662],\n",
       "       [1093.43321586],\n",
       "       [ 659.94132328],\n",
       "       [ 337.08084846],\n",
       "       [ 166.22536397],\n",
       "       [ 230.2959075 ],\n",
       "       [ 728.10781407],\n",
       "       [1962.61960423],\n",
       "       [3880.94003788],\n",
       "       [4955.67159569],\n",
       "       [4916.0134747 ],\n",
       "       [4571.36285937],\n",
       "       [4486.83615816],\n",
       "       [4613.63452566],\n",
       "       [4760.87305105],\n",
       "       [4886.65437901],\n",
       "       [5062.92453063],\n",
       "       [5248.57287729],\n",
       "       [5269.831972  ],\n",
       "       [5023.29830396],\n",
       "       [4575.31480849],\n",
       "       [4103.34425342],\n",
       "       [3727.59969631],\n",
       "       [3401.39586979],\n",
       "       [3066.0059247 ],\n",
       "       [2703.28196311],\n",
       "       [2314.42928529],\n",
       "       [1897.97706807],\n",
       "       [1462.93687963],\n",
       "       [1036.95625877],\n",
       "       [ 653.04709625],\n",
       "       [ 344.42243814],\n",
       "       [ 162.8927753 ],\n",
       "       [ 201.52933049],\n",
       "       [ 628.46004438],\n",
       "       [1694.92041922],\n",
       "       [3471.09827502],\n",
       "       [4719.26253414],\n",
       "       [4863.71677959],\n",
       "       [4568.41237104],\n",
       "       [4467.84650791],\n",
       "       [4565.27504301],\n",
       "       [4700.32351482],\n",
       "       [4789.52889264],\n",
       "       [4895.48258114],\n",
       "       [5031.80293131],\n",
       "       [5097.95818484],\n",
       "       [4983.00177014],\n",
       "       [4694.86790085],\n",
       "       [4338.52733076],\n",
       "       [4010.67189392],\n",
       "       [3714.21539494],\n",
       "       [3416.27430981],\n",
       "       [3101.51136231],\n",
       "       [2764.09686434],\n",
       "       [2393.06711495],\n",
       "       [1979.73906803],\n",
       "       [1534.84879589],\n",
       "       [1091.22208643],\n",
       "       [ 687.5129683 ],\n",
       "       [ 360.02644777],\n",
       "       [ 158.76630211],\n",
       "       [ 171.02319694],\n",
       "       [ 564.53139377],\n",
       "       [1609.47183514],\n",
       "       [3436.91804403],\n",
       "       [4801.01832366],\n",
       "       [4962.95097566],\n",
       "       [4618.41762197],\n",
       "       [4478.78910387],\n",
       "       [4572.31042612],\n",
       "       [4724.18057609],\n",
       "       [4842.43031681],\n",
       "       [4991.92281318],\n",
       "       [5176.50917351],\n",
       "       [5255.96394002],\n",
       "       [5092.71088398],\n",
       "       [4707.63626277],\n",
       "       [4246.61009312],\n",
       "       [3858.16369954],\n",
       "       [3532.24568513],\n",
       "       [3209.56312907],\n",
       "       [2863.65284574],\n",
       "       [2492.16541803],\n",
       "       [2090.97416222],\n",
       "       [1661.27495766],\n",
       "       [1224.58668518],\n",
       "       [ 815.21785045],\n",
       "       [ 466.08571386],\n",
       "       [ 218.57142687],\n",
       "       [ 144.52143288],\n",
       "       [ 375.53719544],\n",
       "       [1134.95036554],\n",
       "       [2666.80643272],\n",
       "       [4375.97432232],\n",
       "       [4932.89525735],\n",
       "       [4704.33325267],\n",
       "       [4489.06560314],\n",
       "       [4511.71994305],\n",
       "       [4653.66390502],\n",
       "       [4763.73743522],\n",
       "       [4863.05605125],\n",
       "       [5006.75262225],\n",
       "       [5130.69586861],\n",
       "       [5097.51524317],\n",
       "       [4855.57793701],\n",
       "       [4485.61922646],\n",
       "       [4117.08291864],\n",
       "       [3799.76334617],\n",
       "       [3498.77448449],\n",
       "       [3185.52296489],\n",
       "       [2851.48163402],\n",
       "       [2489.22640324],\n",
       "       [2088.22735548],\n",
       "       [1651.85002637],\n",
       "       [1206.95785952],\n",
       "       [ 791.56404972],\n",
       "       [ 441.03824687],\n",
       "       [ 199.1811502 ],\n",
       "       [ 140.32443428],\n",
       "       [ 404.1454587 ],\n",
       "       [1232.73521185],\n",
       "       [2868.49730968],\n",
       "       [4545.52887619],\n",
       "       [4994.09520626],\n",
       "       [4703.43547475],\n",
       "       [4490.69947684],\n",
       "       [4529.8944459 ],\n",
       "       [4681.00165832],\n",
       "       [4800.51580381],\n",
       "       [4927.22943556],\n",
       "       [5103.82000411],\n",
       "       [5231.8339349 ],\n",
       "       [5153.56294262],\n",
       "       [4838.09437263],\n",
       "       [4396.3439548 ],\n",
       "       [3989.85005674],\n",
       "       [3656.29485118],\n",
       "       [3340.65609917],\n",
       "       [3007.4561522 ],\n",
       "       [2649.81138837],\n",
       "       [2263.50351989],\n",
       "       [1844.17028713],\n",
       "       [1405.06267738],\n",
       "       [ 978.44017005],\n",
       "       [ 598.91874051],\n",
       "       [ 302.18929768],\n",
       "       [ 145.13447762],\n",
       "       [ 230.05317378],\n",
       "       [ 743.47477412],\n",
       "       [1952.77394152],\n",
       "       [3799.9248704 ],\n",
       "       [4851.21673   ],\n",
       "       [4850.20726931],\n",
       "       [4547.22948587],\n",
       "       [4477.55869865],\n",
       "       [4596.73684847],\n",
       "       [4731.06248748],\n",
       "       [4830.7738353 ],\n",
       "       [4965.01442277]])"
      ]
     },
     "execution_count": 23,
     "metadata": {},
     "output_type": "execute_result"
    }
   ],
   "source": [
    "true_predictions = scaler.inverse_transform(np.array(preds[window_size:]).reshape(-1, 1))\n",
    "true_predictions"
   ]
  },
  {
   "cell_type": "code",
   "execution_count": 29,
   "metadata": {
    "ExecuteTime": {
     "end_time": "2020-09-23T22:48:44.974545Z",
     "start_time": "2020-09-23T22:48:44.687084Z"
    },
    "scrolled": false
   },
   "outputs": [
    {
     "data": {
      "text/plain": [
       "<matplotlib.legend.Legend at 0x7ffed22f1340>"
      ]
     },
     "execution_count": 29,
     "metadata": {},
     "output_type": "execute_result"
    },
    {
     "data": {
      "image/png": "[encoded data removed]",
      "text/plain": [
       "<Figure size 1080x720 with 1 Axes>"
      ]
     },
     "metadata": {
      "needs_background": "light"
     },
     "output_type": "display_data"
    }
   ],
   "source": [
    "plt.figure(figsize=(15,10))\n",
    "plt.plot(true_predictions, label='Prediction')\n",
    "plt.plot(test_set, color='r', label='True')\n",
    "plt.legend()"
   ]
  },
  {
   "cell_type": "markdown",
   "metadata": {},
   "source": [
    "We can see from the above plot that predictions are not that bad..given we only trained for 10 epochs and only used 4000 datapoints, and didn't use the other features."
   ]
  }
 ],
 "metadata": {
  "kernelspec": {
   "display_name": "Python 3",
   "language": "python",
   "name": "python3"
  },
  "language_info": {
   "codemirror_mode": {
    "name": "ipython",
    "version": 3
   },
   "file_extension": ".py",
   "mimetype": "text/x-python",
   "name": "python",
   "nbconvert_exporter": "python",
   "pygments_lexer": "ipython3",
   "version": "3.8.3"
  },
  "latex_envs": {
   "LaTeX_envs_menu_present": true,
   "autoclose": false,
   "autocomplete": true,
   "bibliofile": "biblio.bib",
   "cite_by": "apalike",
   "current_citInitial": 1,
   "eqLabelWithNumbers": true,
   "eqNumInitial": 1,
   "hotkeys": {
    "equation": "Ctrl-E",
    "itemize": "Ctrl-I"
   },
   "labels_anchors": false,
   "latex_user_defs": false,
   "report_style_numbering": false,
   "user_envs_cfg": false
  },
  "toc": {
   "base_numbering": 1,
   "nav_menu": {},
   "number_sections": false,
   "sideBar": true,
   "skip_h1_title": false,
   "title_cell": "Table of Contents",
   "title_sidebar": "Contents",
   "toc_cell": false,
   "toc_position": {},
   "toc_section_display": true,
   "toc_window_display": false
  }
 },
 "nbformat": 4,
 "nbformat_minor": 4
}
