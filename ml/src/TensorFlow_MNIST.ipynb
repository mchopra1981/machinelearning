{
 "cells": [
  {
   "cell_type": "markdown",
   "metadata": {
    "colab_type": "text",
    "id": "6MKKfbbbIX04"
   },
   "source": [
    "## TensorFlow - MNIST\n",
    "\n",
    "In this notebook we will use **TensorFlow** to make predictions on **MNIST** dataset."
   ]
  },
  {
   "cell_type": "code",
   "execution_count": 1,
   "metadata": {
    "ExecuteTime": {
     "end_time": "2020-12-11T22:07:41.429000Z",
     "start_time": "2020-12-11T22:07:31.671302Z"
    },
    "colab": {},
    "colab_type": "code",
    "id": "YBY81FNT_2J5"
   },
   "outputs": [],
   "source": [
    "#Imports\n",
    "import tensorflow as tf\n",
    "import numpy as np\n",
    "import pandas as pd\n",
    "import matplotlib.pyplot as plt\n",
    "%matplotlib inline"
   ]
  },
  {
   "cell_type": "code",
   "execution_count": 2,
   "metadata": {
    "ExecuteTime": {
     "end_time": "2020-12-11T22:07:58.535405Z",
     "start_time": "2020-12-11T22:07:57.443557Z"
    },
    "colab": {
     "base_uri": "https://localhost:8080/",
     "height": 68
    },
    "colab_type": "code",
    "id": "K33P-7RTNbRp",
    "outputId": "50cf02b0-ca83-4b76-bc35-05d86d1ddd37"
   },
   "outputs": [
    {
     "name": "stdout",
     "output_type": "stream",
     "text": [
      "x_train.shape: (60000, 28, 28)\n"
     ]
    }
   ],
   "source": [
    "#Get MNIST dataset\n",
    "mnist = tf.keras.datasets.mnist\n",
    "\n",
    "(x_train, y_train), (x_test, y_test) = mnist.load_data()\n",
    "x_train, x_test = x_train / 255.0, x_test / 255.0\n",
    "print(\"x_train.shape:\", x_train.shape)"
   ]
  },
  {
   "cell_type": "code",
   "execution_count": 3,
   "metadata": {
    "ExecuteTime": {
     "end_time": "2020-12-11T22:08:01.987194Z",
     "start_time": "2020-12-11T22:08:01.719187Z"
    },
    "colab": {},
    "colab_type": "code",
    "id": "A3wG9pEyNd4y"
   },
   "outputs": [],
   "source": [
    "#Lets build a simple model\n",
    "model = tf.keras.models.Sequential([\n",
    "  tf.keras.layers.Flatten(input_shape=(28, 28)),\n",
    "  tf.keras.layers.Dense(128, activation='relu'),\n",
    "  tf.keras.layers.Dropout(0.2),\n",
    "  tf.keras.layers.Dense(10, activation='softmax')\n",
    "])\n",
    "\n",
    "# Compile the model\n",
    "model.compile(optimizer='adam',\n",
    "              loss='sparse_categorical_crossentropy',\n",
    "              metrics=['accuracy'])"
   ]
  },
  {
   "cell_type": "code",
   "execution_count": 4,
   "metadata": {
    "ExecuteTime": {
     "end_time": "2020-12-11T22:08:46.963863Z",
     "start_time": "2020-12-11T22:08:05.619609Z"
    },
    "colab": {
     "base_uri": "https://localhost:8080/",
     "height": 357
    },
    "colab_type": "code",
    "id": "a5ZIyqjrN1bU",
    "outputId": "3aab2678-7f89-41db-bb32-bfd20c3139a2"
   },
   "outputs": [
    {
     "name": "stdout",
     "output_type": "stream",
     "text": [
      "Epoch 1/10\n",
      "1875/1875 [==============================] - 4s 2ms/step - loss: 0.2965 - accuracy: 0.9130 - val_loss: 0.1370 - val_accuracy: 0.9589\n",
      "Epoch 2/10\n",
      "1875/1875 [==============================] - 4s 2ms/step - loss: 0.1438 - accuracy: 0.9571 - val_loss: 0.1005 - val_accuracy: 0.9693\n",
      "Epoch 3/10\n",
      "1875/1875 [==============================] - 4s 2ms/step - loss: 0.1067 - accuracy: 0.9676 - val_loss: 0.0880 - val_accuracy: 0.9736\n",
      "Epoch 4/10\n",
      "1875/1875 [==============================] - 4s 2ms/step - loss: 0.0880 - accuracy: 0.9730 - val_loss: 0.0790 - val_accuracy: 0.9762\n",
      "Epoch 5/10\n",
      "1875/1875 [==============================] - 4s 2ms/step - loss: 0.0725 - accuracy: 0.9769 - val_loss: 0.0745 - val_accuracy: 0.9787\n",
      "Epoch 6/10\n",
      "1875/1875 [==============================] - 4s 2ms/step - loss: 0.0652 - accuracy: 0.9794 - val_loss: 0.0730 - val_accuracy: 0.9793\n",
      "Epoch 7/10\n",
      "1875/1875 [==============================] - 5s 3ms/step - loss: 0.0585 - accuracy: 0.9810 - val_loss: 0.0807 - val_accuracy: 0.9763\n",
      "Epoch 8/10\n",
      "1875/1875 [==============================] - 3s 2ms/step - loss: 0.0512 - accuracy: 0.9831 - val_loss: 0.0724 - val_accuracy: 0.9801\n",
      "Epoch 9/10\n",
      "1875/1875 [==============================] - 4s 2ms/step - loss: 0.0478 - accuracy: 0.9841 - val_loss: 0.0798 - val_accuracy: 0.9774\n",
      "Epoch 10/10\n",
      "1875/1875 [==============================] - 4s 2ms/step - loss: 0.0452 - accuracy: 0.9848 - val_loss: 0.0746 - val_accuracy: 0.9778\n"
     ]
    }
   ],
   "source": [
    "# Train the model\n",
    "r = model.fit(x_train, y_train, validation_data=(x_test, y_test), epochs=10)"
   ]
  },
  {
   "cell_type": "code",
   "execution_count": 5,
   "metadata": {
    "ExecuteTime": {
     "end_time": "2020-12-11T22:08:47.254568Z",
     "start_time": "2020-12-11T22:08:46.967556Z"
    },
    "colab": {
     "base_uri": "https://localhost:8080/",
     "height": 282
    },
    "colab_type": "code",
    "id": "w0-DG-z0N9KE",
    "outputId": "e880899d-09d1-4d82-cb24-2f66227ea0a3"
   },
   "outputs": [
    {
     "data": {
      "text/plain": [
       "<matplotlib.legend.Legend at 0x7f91f6151490>"
      ]
     },
     "execution_count": 5,
     "metadata": {},
     "output_type": "execute_result"
    },
    {
     "data": {
      "image/png": "[encoded data removed]",
      "text/plain": [
       "<Figure size 432x288 with 1 Axes>"
      ]
     },
     "metadata": {
      "needs_background": "light"
     },
     "output_type": "display_data"
    }
   ],
   "source": [
    "# Plot loss per iteration\n",
    "plt.plot(r.history['loss'], label='loss')\n",
    "plt.plot(r.history['val_loss'], label='val_loss')\n",
    "plt.legend()"
   ]
  },
  {
   "cell_type": "code",
   "execution_count": 6,
   "metadata": {
    "ExecuteTime": {
     "end_time": "2020-12-11T22:08:47.454591Z",
     "start_time": "2020-12-11T22:08:47.258714Z"
    },
    "colab": {
     "base_uri": "https://localhost:8080/",
     "height": 282
    },
    "colab_type": "code",
    "id": "ZXHM4JJYOLIa",
    "outputId": "86e2f023-eb65-47ca-ee51-e11f8a4e0770"
   },
   "outputs": [
    {
     "data": {
      "text/plain": [
       "<matplotlib.legend.Legend at 0x7f91f7283970>"
      ]
     },
     "execution_count": 6,
     "metadata": {},
     "output_type": "execute_result"
    },
    {
     "data": {
      "image/png": "[encoded data removed]",
      "text/plain": [
       "<Figure size 432x288 with 1 Axes>"
      ]
     },
     "metadata": {
      "needs_background": "light"
     },
     "output_type": "display_data"
    }
   ],
   "source": [
    "# Plot accuracy per iteration\n",
    "plt.plot(r.history['accuracy'], label='acc')\n",
    "plt.plot(r.history['val_accuracy'], label='val_acc')\n",
    "plt.legend()"
   ]
  },
  {
   "cell_type": "code",
   "execution_count": 7,
   "metadata": {
    "ExecuteTime": {
     "end_time": "2020-12-11T22:08:47.879843Z",
     "start_time": "2020-12-11T22:08:47.458237Z"
    },
    "colab": {
     "base_uri": "https://localhost:8080/",
     "height": 51
    },
    "colab_type": "code",
    "id": "oElb0bPsOQ8T",
    "outputId": "6b6ee5dc-d61f-4079-839d-61bd5bcbb34d"
   },
   "outputs": [
    {
     "name": "stdout",
     "output_type": "stream",
     "text": [
      "313/313 [==============================] - 0s 1ms/step - loss: 0.0746 - accuracy: 0.9778\n",
      "[0.07458673417568207, 0.9778000116348267]\n"
     ]
    }
   ],
   "source": [
    "# Evaluate the model\n",
    "print(model.evaluate(x_test, y_test))"
   ]
  },
  {
   "cell_type": "code",
   "execution_count": 8,
   "metadata": {
    "ExecuteTime": {
     "end_time": "2020-12-11T22:08:49.018844Z",
     "start_time": "2020-12-11T22:08:47.882631Z"
    },
    "colab": {
     "base_uri": "https://localhost:8080/",
     "height": 187
    },
    "colab_type": "code",
    "id": "imfp-BixOT28",
    "outputId": "f7926545-0e3b-41ee-c116-e1fb075fea6b"
   },
   "outputs": [
    {
     "data": {
      "text/plain": [
       "array([[ 964,    0,    1,    2,    1,    1,    5,    1,    3,    2],\n",
       "       [   0, 1124,    4,    2,    0,    0,    2,    0,    3,    0],\n",
       "       [   1,    2, 1002,    6,    5,    1,    2,    7,    6,    0],\n",
       "       [   0,    0,    2,  996,    0,    2,    0,    4,    2,    4],\n",
       "       [   0,    0,    1,    1,  968,    0,    5,    3,    1,    3],\n",
       "       [   1,    0,    0,   10,    2,  873,    2,    0,    4,    0],\n",
       "       [   3,    3,    1,    1,    4,    6,  937,    0,    3,    0],\n",
       "       [   0,    1,   11,    6,    0,    0,    0, 1008,    1,    1],\n",
       "       [   3,    1,    3,   10,    4,    3,    1,    4,  940,    5],\n",
       "       [   0,    3,    1,   10,   18,    2,    1,    5,    3,  966]])"
      ]
     },
     "execution_count": 8,
     "metadata": {},
     "output_type": "execute_result"
    }
   ],
   "source": [
    "#lets look at the confusion matrix\n",
    "from sklearn.metrics import confusion_matrix\n",
    "y_pred = model.predict(x_test).argmax(axis=1)\n",
    "cm = confusion_matrix(y_test, y_pred)\n",
    "cm"
   ]
  },
  {
   "cell_type": "code",
   "execution_count": 9,
   "metadata": {
    "ExecuteTime": {
     "end_time": "2020-12-11T22:08:49.035374Z",
     "start_time": "2020-12-11T22:08:49.022400Z"
    },
    "colab": {
     "base_uri": "https://localhost:8080/",
     "height": 34
    },
    "colab_type": "code",
    "id": "WhMmew4iOvLE",
    "outputId": "30f8ce43-8292-48ff-f52e-9f3d9d415fe2"
   },
   "outputs": [
    {
     "data": {
      "text/plain": [
       "array([149, 247, 259, 274, 321])"
      ]
     },
     "execution_count": 9,
     "metadata": {},
     "output_type": "execute_result"
    }
   ],
   "source": [
    "#Lets look at some missclassified images\n",
    "missclassified_ndx = np.where(y_pred != y_test)[0][0:5]\n",
    "missclassified_ndx"
   ]
  },
  {
   "cell_type": "code",
   "execution_count": 10,
   "metadata": {
    "ExecuteTime": {
     "end_time": "2020-12-11T22:08:49.072297Z",
     "start_time": "2020-12-11T22:08:49.050292Z"
    },
    "colab": {
     "base_uri": "https://localhost:8080/",
     "height": 34
    },
    "colab_type": "code",
    "id": "TNn5E4FcPHcn",
    "outputId": "ce6410d9-5f18-4731-ac5c-871d80fb39b9"
   },
   "outputs": [
    {
     "data": {
      "text/plain": [
       "array([4, 6, 0, 3, 7])"
      ]
     },
     "execution_count": 10,
     "metadata": {},
     "output_type": "execute_result"
    }
   ],
   "source": [
    "y_pred[missclassified_ndx]"
   ]
  },
  {
   "cell_type": "code",
   "execution_count": 11,
   "metadata": {
    "ExecuteTime": {
     "end_time": "2020-12-11T22:08:49.113479Z",
     "start_time": "2020-12-11T22:08:49.083224Z"
    },
    "colab": {
     "base_uri": "https://localhost:8080/",
     "height": 34
    },
    "colab_type": "code",
    "id": "-kXIHVYtPeXz",
    "outputId": "9c49c65d-61f1-4947-85cf-95bce84873b5"
   },
   "outputs": [
    {
     "data": {
      "text/plain": [
       "array([2, 4, 6, 9, 2], dtype=uint8)"
      ]
     },
     "execution_count": 11,
     "metadata": {},
     "output_type": "execute_result"
    }
   ],
   "source": [
    "y_test[missclassified_ndx]"
   ]
  },
  {
   "cell_type": "code",
   "execution_count": 12,
   "metadata": {
    "ExecuteTime": {
     "end_time": "2020-12-11T22:08:50.038475Z",
     "start_time": "2020-12-11T22:08:49.129749Z"
    },
    "colab": {
     "base_uri": "https://localhost:8080/",
     "height": 1000
    },
    "colab_type": "code",
    "id": "TKnNxV0rPp3_",
    "outputId": "25928842-2e9c-4f64-bc25-9769dbea8389"
   },
   "outputs": [
    {
     "data": {
      "image/png": "[encoded data removed]",
      "text/plain": [
       "<Figure size 432x288 with 1 Axes>"
      ]
     },
     "metadata": {
      "needs_background": "light"
     },
     "output_type": "display_data"
    },
    {
     "data": {
      "image/png": "[encoded data removed]",
      "text/plain": [
       "<Figure size 432x288 with 1 Axes>"
      ]
     },
     "metadata": {
      "needs_background": "light"
     },
     "output_type": "display_data"
    },
    {
     "data": {
      "image/png": "[encoded data removed]",
      "text/plain": [
       "<Figure size 432x288 with 1 Axes>"
      ]
     },
     "metadata": {
      "needs_background": "light"
     },
     "output_type": "display_data"
    },
    {
     "data": {
      "image/png": "[encoded data removed]",
      "text/plain": [
       "<Figure size 432x288 with 1 Axes>"
      ]
     },
     "metadata": {
      "needs_background": "light"
     },
     "output_type": "display_data"
    },
    {
     "data": {
      "image/png": "[encoded data removed]",
      "text/plain": [
       "<Figure size 432x288 with 1 Axes>"
      ]
     },
     "metadata": {
      "needs_background": "light"
     },
     "output_type": "display_data"
    }
   ],
   "source": [
    "for i in missclassified_ndx:\n",
    "    plt.figure()\n",
    "    plt.imshow(x_test[i], cmap='gray')\n",
    "    plt.title(f'True={y_test[i]} pred={y_pred[i]}')"
   ]
  },
  {
   "cell_type": "markdown",
   "metadata": {
    "colab_type": "text",
    "id": "tTo_Mi4KQPxd"
   },
   "source": [
    "We can see many of these are very confusing."
   ]
  }
 ],
 "metadata": {
  "colab": {
   "name": "TensorFlow-MNIST.ipynb",
   "provenance": []
  },
  "kernelspec": {
   "display_name": "Python 3",
   "language": "python",
   "name": "python3"
  },
  "language_info": {
   "codemirror_mode": {
    "name": "ipython",
    "version": 3
   },
   "file_extension": ".py",
   "mimetype": "text/x-python",
   "name": "python",
   "nbconvert_exporter": "python",
   "pygments_lexer": "ipython3",
   "version": "3.8.3"
  },
  "latex_envs": {
   "LaTeX_envs_menu_present": true,
   "autoclose": false,
   "autocomplete": true,
   "bibliofile": "biblio.bib",
   "cite_by": "apalike",
   "current_citInitial": 1,
   "eqLabelWithNumbers": true,
   "eqNumInitial": 1,
   "hotkeys": {
    "equation": "Ctrl-E",
    "itemize": "Ctrl-I"
   },
   "labels_anchors": false,
   "latex_user_defs": false,
   "report_style_numbering": false,
   "user_envs_cfg": false
  },
  "toc": {
   "base_numbering": 1,
   "nav_menu": {},
   "number_sections": false,
   "sideBar": true,
   "skip_h1_title": false,
   "title_cell": "Table of Contents",
   "title_sidebar": "Contents",
   "toc_cell": false,
   "toc_position": {},
   "toc_section_display": true,
   "toc_window_display": true
  }
 },
 "nbformat": 4,
 "nbformat_minor": 1
}
