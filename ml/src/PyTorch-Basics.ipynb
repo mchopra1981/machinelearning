{
 "cells": [
  {
   "cell_type": "markdown",
   "metadata": {},
   "source": [
    "### PyTorch-Basics\n",
    "**PyTorch** is a very popular Deep Learning framework. In this notebook we will go through some of the basics of Tensor data type of **PyTorch**."
   ]
  },
  {
   "cell_type": "markdown",
   "metadata": {},
   "source": [
    "Import PyTorch"
   ]
  },
  {
   "cell_type": "code",
   "execution_count": 1,
   "metadata": {},
   "outputs": [],
   "source": [
    "import numpy as np\n",
    "import torch"
   ]
  },
  {
   "cell_type": "markdown",
   "metadata": {},
   "source": [
    "Construct PyTorch Tensors"
   ]
  },
  {
   "cell_type": "code",
   "execution_count": 2,
   "metadata": {},
   "outputs": [
    {
     "name": "stdout",
     "output_type": "stream",
     "text": [
      "tensor([1, 2, 3])\n",
      "torch.LongTensor\n"
     ]
    }
   ],
   "source": [
    "#From list\n",
    "l = [1,2,3]\n",
    "x = torch.tensor(l)\n",
    "print(x)\n",
    "print(x.type())"
   ]
  },
  {
   "cell_type": "code",
   "execution_count": 3,
   "metadata": {},
   "outputs": [
    {
     "name": "stdout",
     "output_type": "stream",
     "text": [
      "tensor([1, 2, 3])\n",
      "torch.LongTensor\n"
     ]
    }
   ],
   "source": [
    "#From numpy array\n",
    "arr = np.array([1,2,3])\n",
    "x = torch.tensor(arr)\n",
    "print(x)\n",
    "print(x.type())"
   ]
  },
  {
   "cell_type": "code",
   "execution_count": 4,
   "metadata": {},
   "outputs": [
    {
     "name": "stdout",
     "output_type": "stream",
     "text": [
      "tensor([1, 2, 3])\n",
      "torch.LongTensor\n"
     ]
    }
   ],
   "source": [
    "#Directly\n",
    "x = torch.tensor([1,2,3])\n",
    "print(x)\n",
    "print(x.type())"
   ]
  },
  {
   "cell_type": "code",
   "execution_count": 5,
   "metadata": {},
   "outputs": [
    {
     "name": "stdout",
     "output_type": "stream",
     "text": [
      "tensor([1., 2., 3.])\n",
      "torch.FloatTensor\n",
      "torch.float32\n"
     ]
    }
   ],
   "source": [
    "#Using Tensor constructor\n",
    "x = torch.Tensor([1,2,3])\n",
    "print(x)\n",
    "print(x.type())\n",
    "print(x.dtype)"
   ]
  },
  {
   "cell_type": "markdown",
   "metadata": {},
   "source": [
    "Note Tensor constructor makes a tensor of type FloatTensor"
   ]
  },
  {
   "cell_type": "markdown",
   "metadata": {},
   "source": [
    "Other type of Tensors"
   ]
  },
  {
   "cell_type": "code",
   "execution_count": 6,
   "metadata": {},
   "outputs": [
    {
     "name": "stdout",
     "output_type": "stream",
     "text": [
      "tensor([1., 2., 3.])\n",
      "torch.FloatTensor\n",
      "torch.float32\n"
     ]
    }
   ],
   "source": [
    "#FloatTensor\n",
    "x = torch.FloatTensor([1,2,3])\n",
    "print(x)\n",
    "print(x.type())\n",
    "print(x.dtype)"
   ]
  },
  {
   "cell_type": "code",
   "execution_count": 7,
   "metadata": {},
   "outputs": [
    {
     "name": "stdout",
     "output_type": "stream",
     "text": [
      "tensor([1., 2., 3.], dtype=torch.float64)\n",
      "torch.DoubleTensor\n",
      "torch.float64\n"
     ]
    }
   ],
   "source": [
    "#DoubleTensor\n",
    "x = torch.DoubleTensor([1,2,3])\n",
    "print(x)\n",
    "print(x.type())\n",
    "print(x.dtype)"
   ]
  },
  {
   "cell_type": "code",
   "execution_count": 8,
   "metadata": {},
   "outputs": [
    {
     "name": "stdout",
     "output_type": "stream",
     "text": [
      "tensor([1., 2., 3.], dtype=torch.float16)\n",
      "torch.HalfTensor\n",
      "torch.float16\n"
     ]
    }
   ],
   "source": [
    "#HalfTensor\n",
    "x = torch.HalfTensor([1,2,3])\n",
    "print(x)\n",
    "print(x.type())\n",
    "print(x.dtype)"
   ]
  },
  {
   "cell_type": "code",
   "execution_count": 9,
   "metadata": {},
   "outputs": [
    {
     "name": "stdout",
     "output_type": "stream",
     "text": [
      "tensor([1., 2., 3.], dtype=torch.bfloat16)\n",
      "torch.BFloat16Tensor\n",
      "torch.bfloat16\n"
     ]
    }
   ],
   "source": [
    "#BFloat16Tensor\n",
    "x = torch.BFloat16Tensor([1,2,3])\n",
    "print(x)\n",
    "print(x.type())\n",
    "print(x.dtype)"
   ]
  },
  {
   "cell_type": "code",
   "execution_count": 10,
   "metadata": {},
   "outputs": [
    {
     "name": "stdout",
     "output_type": "stream",
     "text": [
      "tensor([1, 2, 3], dtype=torch.uint8)\n",
      "torch.ByteTensor\n",
      "torch.uint8\n"
     ]
    }
   ],
   "source": [
    "#ByteTensor\n",
    "x = torch.ByteTensor([1,2,3])\n",
    "print(x)\n",
    "print(x.type())\n",
    "print(x.dtype)"
   ]
  },
  {
   "cell_type": "code",
   "execution_count": 11,
   "metadata": {},
   "outputs": [
    {
     "name": "stdout",
     "output_type": "stream",
     "text": [
      "tensor([1, 2, 3], dtype=torch.int8)\n",
      "torch.CharTensor\n",
      "torch.int8\n"
     ]
    }
   ],
   "source": [
    "#CharTensor\n",
    "x = torch.CharTensor([1,2,3])\n",
    "print(x)\n",
    "print(x.type())\n",
    "print(x.dtype)"
   ]
  },
  {
   "cell_type": "code",
   "execution_count": 12,
   "metadata": {},
   "outputs": [
    {
     "data": {
      "text/plain": [
       "tensor([[0., 0., 0., 0.],\n",
       "        [0., 0., 0., 0.],\n",
       "        [0., 0., 0., 0.]])"
      ]
     },
     "execution_count": 12,
     "metadata": {},
     "output_type": "execute_result"
    }
   ],
   "source": [
    "#Create an empty tensor\n",
    "torch.empty((3,4))"
   ]
  },
  {
   "cell_type": "code",
   "execution_count": 13,
   "metadata": {},
   "outputs": [
    {
     "data": {
      "text/plain": [
       "tensor([[0, 0, 0, 0],\n",
       "        [0, 0, 0, 0],\n",
       "        [0, 0, 0, 0]])"
      ]
     },
     "execution_count": 13,
     "metadata": {},
     "output_type": "execute_result"
    }
   ],
   "source": [
    "#Tensor with zeros\n",
    "torch.zeros((3,4),dtype=torch.int64)"
   ]
  },
  {
   "cell_type": "code",
   "execution_count": 14,
   "metadata": {},
   "outputs": [
    {
     "data": {
      "text/plain": [
       "tensor([[1, 1, 1, 1],\n",
       "        [1, 1, 1, 1],\n",
       "        [1, 1, 1, 1]])"
      ]
     },
     "execution_count": 14,
     "metadata": {},
     "output_type": "execute_result"
    }
   ],
   "source": [
    "#Tensor with ones\n",
    "torch.ones((3,4),dtype=torch.int64)"
   ]
  },
  {
   "cell_type": "code",
   "execution_count": 15,
   "metadata": {},
   "outputs": [
    {
     "data": {
      "text/plain": [
       "tensor([[1, 0, 0],\n",
       "        [0, 1, 0],\n",
       "        [0, 0, 1]])"
      ]
     },
     "execution_count": 15,
     "metadata": {},
     "output_type": "execute_result"
    }
   ],
   "source": [
    "#Identity matrix\n",
    "torch.eye(3, dtype=torch.int64)"
   ]
  },
  {
   "cell_type": "code",
   "execution_count": 16,
   "metadata": {},
   "outputs": [
    {
     "data": {
      "text/plain": [
       "tensor([[99, 99, 99, 99],\n",
       "        [99, 99, 99, 99],\n",
       "        [99, 99, 99, 99]])"
      ]
     },
     "execution_count": 16,
     "metadata": {},
     "output_type": "execute_result"
    }
   ],
   "source": [
    "#Using full\n",
    "torch.full((3,4),99, dtype=torch.int64)"
   ]
  },
  {
   "cell_type": "code",
   "execution_count": 17,
   "metadata": {},
   "outputs": [
    {
     "data": {
      "text/plain": [
       "tensor([[0, 1],\n",
       "        [2, 3],\n",
       "        [4, 5],\n",
       "        [6, 7],\n",
       "        [8, 9]])"
      ]
     },
     "execution_count": 17,
     "metadata": {},
     "output_type": "execute_result"
    }
   ],
   "source": [
    "#You can also make tensors from ranges\n",
    "torch.arange(0,10).reshape(5,2)"
   ]
  },
  {
   "cell_type": "code",
   "execution_count": 18,
   "metadata": {},
   "outputs": [
    {
     "data": {
      "text/plain": [
       "tensor([[0.0200, 0.0400, 0.0600, 0.0800, 0.1000],\n",
       "        [0.1200, 0.1400, 0.1600, 0.1800, 0.2000],\n",
       "        [0.2200, 0.2400, 0.2600, 0.2800, 0.3000],\n",
       "        [0.3200, 0.3400, 0.3600, 0.3800, 0.4000],\n",
       "        [0.4200, 0.4400, 0.4600, 0.4800, 0.5000],\n",
       "        [0.5200, 0.5400, 0.5600, 0.5800, 0.6000],\n",
       "        [0.6200, 0.6400, 0.6600, 0.6800, 0.7000],\n",
       "        [0.7200, 0.7400, 0.7600, 0.7800, 0.8000],\n",
       "        [0.8200, 0.8400, 0.8600, 0.8800, 0.9000],\n",
       "        [0.9200, 0.9400, 0.9600, 0.9800, 1.0000]])"
      ]
     },
     "execution_count": 18,
     "metadata": {},
     "output_type": "execute_result"
    }
   ],
   "source": [
    "x = torch.linspace(0.02,1,50).reshape(10,-1)\n",
    "x"
   ]
  },
  {
   "cell_type": "code",
   "execution_count": 19,
   "metadata": {},
   "outputs": [
    {
     "name": "stdout",
     "output_type": "stream",
     "text": [
      "torch.IntTensor\n",
      "torch.FloatTensor\n"
     ]
    }
   ],
   "source": [
    "#Changing datatype of a tensor\n",
    "#create an int tensor\n",
    "x = torch.tensor([1,2,3], dtype=torch.int32)\n",
    "print(x.type())\n",
    "\n",
    "#change its datatype to float32\n",
    "x = x.type(torch.float32)\n",
    "print(x.type())"
   ]
  },
  {
   "cell_type": "markdown",
   "metadata": {},
   "source": [
    "One important thing in Deep Learning is having tensorwith random numbers. Below we will make some tensors with random numbers"
   ]
  },
  {
   "cell_type": "code",
   "execution_count": 20,
   "metadata": {},
   "outputs": [
    {
     "data": {
      "text/plain": [
       "tensor([[0.8823, 0.9150, 0.3829, 0.9593],\n",
       "        [0.3904, 0.6009, 0.2566, 0.7936],\n",
       "        [0.9408, 0.1332, 0.9346, 0.5936]])"
      ]
     },
     "execution_count": 20,
     "metadata": {},
     "output_type": "execute_result"
    }
   ],
   "source": [
    "torch.manual_seed(42)\n",
    "#Uniform random number\n",
    "torch.rand((3,4))"
   ]
  },
  {
   "cell_type": "code",
   "execution_count": 21,
   "metadata": {},
   "outputs": [
    {
     "data": {
      "text/plain": [
       "tensor([[ 2.2082, -0.6380,  0.4617,  0.2674],\n",
       "        [ 0.5349,  0.8094,  1.1103, -1.6898],\n",
       "        [-0.9890,  0.9580,  1.3221,  0.8172]])"
      ]
     },
     "execution_count": 21,
     "metadata": {},
     "output_type": "execute_result"
    }
   ],
   "source": [
    "#Standard Normal random numbers\n",
    "torch.randn((3,4))"
   ]
  },
  {
   "cell_type": "code",
   "execution_count": 22,
   "metadata": {},
   "outputs": [
    {
     "data": {
      "text/plain": [
       "tensor([[9, 6, 2],\n",
       "        [0, 6, 2],\n",
       "        [7, 9, 7]])"
      ]
     },
     "execution_count": 22,
     "metadata": {},
     "output_type": "execute_result"
    }
   ],
   "source": [
    "#Tensor with random ints\n",
    "torch.randint(0,10,(3,3))"
   ]
  },
  {
   "cell_type": "markdown",
   "metadata": {},
   "source": [
    "There are convienence functions in torch to make random tensors like other tensors"
   ]
  },
  {
   "cell_type": "code",
   "execution_count": 23,
   "metadata": {},
   "outputs": [
    {
     "name": "stdout",
     "output_type": "stream",
     "text": [
      "tensor([[3, 3, 4, 3],\n",
      "        [7, 0, 9, 0],\n",
      "        [9, 6, 9, 5]], dtype=torch.int32)\n",
      "tensor([[ 0.5312, -0.2483, -0.1735,  1.3850],\n",
      "        [ 0.7045,  1.2197, -0.6778, -0.5920],\n",
      "        [-0.6382, -1.9187, -0.6441, -0.6061]])\n",
      "tensor([[0.1591, 0.7653, 0.2979, 0.8035],\n",
      "        [0.3813, 0.7860, 0.1115, 0.2477],\n",
      "        [0.6524, 0.6057, 0.3725, 0.7980]])\n"
     ]
    }
   ],
   "source": [
    "x = torch.ones((3,4), dtype=torch.float32)\n",
    "print(torch.randint_like(x,low=0,high=10, dtype=torch.int32))\n",
    "print(torch.randn_like(x))\n",
    "print(torch.rand_like(x))"
   ]
  },
  {
   "cell_type": "markdown",
   "metadata": {},
   "source": [
    "## Indexing\n",
    "\n",
    "Indexing and Slicing of PyTorch Tensors is very similar to numpy indexing and slicing"
   ]
  },
  {
   "cell_type": "code",
   "execution_count": 24,
   "metadata": {},
   "outputs": [
    {
     "data": {
      "text/plain": [
       "tensor([[ 0,  1,  2,  3],\n",
       "        [ 4,  5,  6,  7],\n",
       "        [ 8,  9, 10, 11]])"
      ]
     },
     "execution_count": 24,
     "metadata": {},
     "output_type": "execute_result"
    }
   ],
   "source": [
    "x = torch.arange(0,12).reshape(3,-1)\n",
    "x"
   ]
  },
  {
   "cell_type": "code",
   "execution_count": 25,
   "metadata": {},
   "outputs": [
    {
     "data": {
      "text/plain": [
       "tensor([0, 1, 2, 3])"
      ]
     },
     "execution_count": 25,
     "metadata": {},
     "output_type": "execute_result"
    }
   ],
   "source": [
    "#Select row 0\n",
    "x[0]"
   ]
  },
  {
   "cell_type": "code",
   "execution_count": 26,
   "metadata": {},
   "outputs": [
    {
     "name": "stdout",
     "output_type": "stream",
     "text": [
      "torch.Size([1, 4])\n"
     ]
    }
   ],
   "source": [
    "#Slice row 0\n",
    "s = x[0:1]\n",
    "s\n",
    "print(s.shape)"
   ]
  },
  {
   "cell_type": "code",
   "execution_count": 27,
   "metadata": {},
   "outputs": [
    {
     "data": {
      "text/plain": [
       "tensor([[1],\n",
       "        [5],\n",
       "        [9]])"
      ]
     },
     "execution_count": 27,
     "metadata": {},
     "output_type": "execute_result"
    }
   ],
   "source": [
    "#slice column 2\n",
    "s = x[:,1:2]\n",
    "s"
   ]
  },
  {
   "cell_type": "code",
   "execution_count": 28,
   "metadata": {},
   "outputs": [
    {
     "data": {
      "text/plain": [
       "tensor([1, 5, 9])"
      ]
     },
     "execution_count": 28,
     "metadata": {},
     "output_type": "execute_result"
    }
   ],
   "source": [
    "#select columnn 2\n",
    "x[:,1]\n",
    "\n",
    "#Note again slice gives a 2D tensor but select gives a 1D tensor"
   ]
  },
  {
   "cell_type": "code",
   "execution_count": 29,
   "metadata": {},
   "outputs": [
    {
     "data": {
      "text/plain": [
       "tensor([[ 0,  2],\n",
       "        [ 8, 10]])"
      ]
     },
     "execution_count": 29,
     "metadata": {},
     "output_type": "execute_result"
    }
   ],
   "source": [
    "#Slicing with strides\n",
    "#With stride of 2\n",
    "x[0::2,0::2]"
   ]
  },
  {
   "cell_type": "markdown",
   "metadata": {},
   "source": [
    "### Veiw and reshape function\n",
    "\n",
    "View and reshape are very similar functions, **View** only works on contigous memory and **reshape** is more general."
   ]
  },
  {
   "cell_type": "code",
   "execution_count": 30,
   "metadata": {},
   "outputs": [
    {
     "data": {
      "text/plain": [
       "tensor([[ 0,  1,  2],\n",
       "        [ 3,  4,  5],\n",
       "        [ 6,  7,  8],\n",
       "        [ 9, 10, 11]])"
      ]
     },
     "execution_count": 30,
     "metadata": {},
     "output_type": "execute_result"
    }
   ],
   "source": [
    "x.view(4,3)"
   ]
  },
  {
   "cell_type": "code",
   "execution_count": 31,
   "metadata": {},
   "outputs": [
    {
     "data": {
      "text/plain": [
       "tensor([[ 0,  1,  2],\n",
       "        [ 3,  4,  5],\n",
       "        [ 6,  7,  8],\n",
       "        [ 9, 10, 11]])"
      ]
     },
     "execution_count": 31,
     "metadata": {},
     "output_type": "execute_result"
    }
   ],
   "source": [
    "x.reshape(4,3)"
   ]
  },
  {
   "cell_type": "code",
   "execution_count": 32,
   "metadata": {},
   "outputs": [],
   "source": [
    "#views only work on contigous data\n",
    "t = x[0::2,0::2]\n",
    "\n",
    "\n",
    "# t.view(1,4) #Uncomment to see the error\n",
    "#above will give an error because t is not contigous"
   ]
  },
  {
   "cell_type": "code",
   "execution_count": 33,
   "metadata": {},
   "outputs": [
    {
     "data": {
      "text/plain": [
       "tensor([[ 0,  2,  8, 10]])"
      ]
     },
     "execution_count": 33,
     "metadata": {},
     "output_type": "execute_result"
    }
   ],
   "source": [
    "#Reshape is more general and will work for everything, but it might sometime copy the data\n",
    "t.reshape(1,4)"
   ]
  },
  {
   "cell_type": "markdown",
   "metadata": {},
   "source": [
    "### Arithmetic operations on tensors"
   ]
  },
  {
   "cell_type": "code",
   "execution_count": 34,
   "metadata": {},
   "outputs": [
    {
     "name": "stdout",
     "output_type": "stream",
     "text": [
      "tensor([1., 2., 3.])\n",
      "tensor([4., 5., 6.])\n",
      "tensor([5., 7., 9.])\n"
     ]
    },
    {
     "data": {
      "text/plain": [
       "tensor([5., 7., 9.])"
      ]
     },
     "execution_count": 34,
     "metadata": {},
     "output_type": "execute_result"
    }
   ],
   "source": [
    "a = torch.Tensor([1,2,3])\n",
    "b = torch.Tensor([4,5,6])\n",
    "print(a)\n",
    "print(b)\n",
    "#Addition\n",
    "print(a + b)\n",
    "#Another equivalent form is\n",
    "a.add(b)"
   ]
  },
  {
   "cell_type": "code",
   "execution_count": 35,
   "metadata": {},
   "outputs": [
    {
     "name": "stdout",
     "output_type": "stream",
     "text": [
      "tensor([3., 3., 3.])\n"
     ]
    },
    {
     "data": {
      "text/plain": [
       "tensor([3., 3., 3.])"
      ]
     },
     "execution_count": 35,
     "metadata": {},
     "output_type": "execute_result"
    }
   ],
   "source": [
    "#Subraction\n",
    "print(b-a)\n",
    "b.sub(a)"
   ]
  },
  {
   "cell_type": "code",
   "execution_count": 36,
   "metadata": {},
   "outputs": [
    {
     "name": "stdout",
     "output_type": "stream",
     "text": [
      "tensor([ 4., 10., 18.])\n"
     ]
    },
    {
     "data": {
      "text/plain": [
       "tensor([ 4., 10., 18.])"
      ]
     },
     "execution_count": 36,
     "metadata": {},
     "output_type": "execute_result"
    }
   ],
   "source": [
    "#Elementvise multiplication\n",
    "print(a*b)\n",
    "a.mul(b)"
   ]
  },
  {
   "cell_type": "code",
   "execution_count": 37,
   "metadata": {},
   "outputs": [
    {
     "name": "stdout",
     "output_type": "stream",
     "text": [
      "tensor([0.2500, 0.4000, 0.5000])\n"
     ]
    },
    {
     "data": {
      "text/plain": [
       "tensor([0.2500, 0.4000, 0.5000])"
      ]
     },
     "execution_count": 37,
     "metadata": {},
     "output_type": "execute_result"
    }
   ],
   "source": [
    "#Elementvise devision\n",
    "print(a/b)\n",
    "a.div(b)"
   ]
  },
  {
   "cell_type": "code",
   "execution_count": 38,
   "metadata": {},
   "outputs": [
    {
     "name": "stdout",
     "output_type": "stream",
     "text": [
      "Addition tensor([6., 7., 8.])\n",
      "Subtraction tensor([-4., -3., -2.])\n",
      "Multiplication tensor([10., 20., 30.])\n",
      "Division tensor([0.5000, 1.0000, 1.5000])\n"
     ]
    }
   ],
   "source": [
    "#Operations with a scalar\n",
    "#Scalars will broadcast\n",
    "print(\"Addition\", a + 5)\n",
    "print(\"Subtraction\", a-5)\n",
    "print(\"Multiplication\",a*10)\n",
    "print(\"Division\",a/2.0)"
   ]
  },
  {
   "cell_type": "code",
   "execution_count": 39,
   "metadata": {},
   "outputs": [],
   "source": [
    "#Boradcasting - tensors will broadcast values whenever possible just like numpy\n",
    "a = torch.Tensor([[1,2,3],[4,5,6]])\n",
    "b = torch.Tensor([10,11,12])"
   ]
  },
  {
   "cell_type": "code",
   "execution_count": 40,
   "metadata": {},
   "outputs": [
    {
     "name": "stdout",
     "output_type": "stream",
     "text": [
      "tensor([[11., 13., 15.],\n",
      "        [14., 16., 18.]])\n",
      "tensor([[-9., -9., -9.],\n",
      "        [-6., -6., -6.]])\n",
      "tensor([[10., 22., 36.],\n",
      "        [40., 55., 72.]])\n"
     ]
    }
   ],
   "source": [
    "print(a + b)\n",
    "print(a-b)\n",
    "print(a*b)"
   ]
  },
  {
   "cell_type": "markdown",
   "metadata": {},
   "source": [
    "Inplace arithmetic operations.\n",
    "Tensors also have inplace arithmetic operations"
   ]
  },
  {
   "cell_type": "code",
   "execution_count": 41,
   "metadata": {},
   "outputs": [
    {
     "name": "stdout",
     "output_type": "stream",
     "text": [
      "tensor([[11., 13., 15.],\n",
      "        [14., 16., 18.]])\n",
      "tensor([[1., 2., 3.],\n",
      "        [4., 5., 6.]])\n",
      "tensor([[10., 22., 36.],\n",
      "        [40., 55., 72.]])\n",
      "tensor([[1., 2., 3.],\n",
      "        [4., 5., 6.]])\n"
     ]
    }
   ],
   "source": [
    "#Underscore operators are short forms for a = a operator b\n",
    "a.add_(b)\n",
    "print(a)\n",
    "\n",
    "a.sub_(b)\n",
    "print(a)\n",
    "\n",
    "a.mul_(b)\n",
    "print(a)\n",
    "\n",
    "a.div_(b)\n",
    "print(a)"
   ]
  },
  {
   "cell_type": "markdown",
   "metadata": {},
   "source": [
    "### Matrix operations\n",
    "**Tensors** support a bunch of matrix operations"
   ]
  },
  {
   "cell_type": "code",
   "execution_count": 42,
   "metadata": {},
   "outputs": [
    {
     "data": {
      "text/plain": [
       "tensor(32.)"
      ]
     },
     "execution_count": 42,
     "metadata": {},
     "output_type": "execute_result"
    }
   ],
   "source": [
    "#dot product\n",
    "a = torch.Tensor([1,2,3])\n",
    "b = torch.Tensor([4,5,6])\n",
    "#take dot product\n",
    "a.dot(b)"
   ]
  },
  {
   "cell_type": "code",
   "execution_count": 43,
   "metadata": {},
   "outputs": [
    {
     "name": "stdout",
     "output_type": "stream",
     "text": [
      "Shape of A= torch.Size([3, 1])\n",
      "Shape of B= torch.Size([1, 3])\n",
      "tensor([[ 4.,  5.,  6.],\n",
      "        [ 8., 10., 12.],\n",
      "        [12., 15., 18.]])\n",
      "tensor([[ 4.,  5.,  6.],\n",
      "        [ 8., 10., 12.],\n",
      "        [12., 15., 18.]])\n",
      "tensor([[ 4.,  5.,  6.],\n",
      "        [ 8., 10., 12.],\n",
      "        [12., 15., 18.]])\n"
     ]
    }
   ],
   "source": [
    "#matrix multiplication\n",
    "a = a.reshape(3,-1)\n",
    "b = b.reshape(-1,3)\n",
    "print(\"Shape of A=\",a.shape)\n",
    "print(\"Shape of B=\",b.shape)\n",
    "print(torch.mm(a,b))\n",
    "\n",
    "#Other way of matrix multiplication\n",
    "print(a @ b)\n",
    "print(a.mm(b))"
   ]
  },
  {
   "cell_type": "markdown",
   "metadata": {},
   "source": [
    "One very common operation in DL is L2Norm, lets try that for a matrix"
   ]
  },
  {
   "cell_type": "code",
   "execution_count": 44,
   "metadata": {},
   "outputs": [
    {
     "name": "stdout",
     "output_type": "stream",
     "text": [
      "tensor(3.7417)\n"
     ]
    }
   ],
   "source": [
    "print(a.norm())"
   ]
  }
 ],
 "metadata": {
  "kernelspec": {
   "display_name": "Python 3",
   "language": "python",
   "name": "python3"
  },
  "language_info": {
   "codemirror_mode": {
    "name": "ipython",
    "version": 3
   },
   "file_extension": ".py",
   "mimetype": "text/x-python",
   "name": "python",
   "nbconvert_exporter": "python",
   "pygments_lexer": "ipython3",
   "version": "3.8.3"
  }
 },
 "nbformat": 4,
 "nbformat_minor": 4
}
