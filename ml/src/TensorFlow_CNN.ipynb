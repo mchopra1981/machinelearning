{
 "cells": [
  {
   "cell_type": "markdown",
   "metadata": {
    "id": "8XrS9hSwZikm"
   },
   "source": [
    "## TensorFlow - CNN\n",
    "In this notebook we will train a **CNN** in TensorFlow to clasify Fashion - MNIST dataset."
   ]
  },
  {
   "cell_type": "code",
   "execution_count": 1,
   "metadata": {
    "ExecuteTime": {
     "end_time": "2020-12-11T22:18:17.717297Z",
     "start_time": "2020-12-11T22:18:07.787321Z"
    },
    "id": "LYEEcmOCZbH2"
   },
   "outputs": [],
   "source": [
    "#Imports\n",
    "import numpy as np\n",
    "import pandas as pd\n",
    "import matplotlib.pyplot as plt\n",
    "import tensorflow as tf\n",
    "\n",
    "%matplotlib inline"
   ]
  },
  {
   "cell_type": "code",
   "execution_count": 2,
   "metadata": {
    "ExecuteTime": {
     "end_time": "2020-12-11T22:34:50.460244Z",
     "start_time": "2020-12-11T22:34:50.431985Z"
    },
    "id": "-WNsMj7hb6Kd"
   },
   "outputs": [],
   "source": [
    "from tensorflow.keras.layers import Input, Conv2D, Dense, Flatten, Dropout\n",
    "from tensorflow.keras.models import Model"
   ]
  },
  {
   "cell_type": "code",
   "execution_count": 3,
   "metadata": {
    "ExecuteTime": {
     "end_time": "2020-12-11T22:34:55.862908Z",
     "start_time": "2020-12-11T22:34:53.114630Z"
    },
    "colab": {
     "base_uri": "https://localhost:8080/",
     "height": 153
    },
    "id": "PA3uHEz8Z4bs",
    "outputId": "82b346fe-e33c-4b80-c565-9e2f2923826e"
   },
   "outputs": [
    {
     "name": "stdout",
     "output_type": "stream",
     "text": [
      "Downloading data from https://storage.googleapis.com/tensorflow/tf-keras-datasets/train-labels-idx1-ubyte.gz\n",
      "32768/29515 [=================================] - 0s 1us/step\n",
      "Downloading data from https://storage.googleapis.com/tensorflow/tf-keras-datasets/train-images-idx3-ubyte.gz\n",
      "26427392/26421880 [==============================] - 1s 0us/step\n",
      "Downloading data from https://storage.googleapis.com/tensorflow/tf-keras-datasets/t10k-labels-idx1-ubyte.gz\n",
      "8192/5148 [===============================================] - 0s 1us/step\n",
      "Downloading data from https://storage.googleapis.com/tensorflow/tf-keras-datasets/t10k-images-idx3-ubyte.gz\n",
      "4423680/4422102 [==============================] - 0s 0us/step\n"
     ]
    }
   ],
   "source": [
    "#Load Fashion MNIST dataset\n",
    "from tensorflow.keras.datasets.fashion_mnist import load_data\n",
    "(X_train, y_train) , (X_test, y_test) = load_data()"
   ]
  },
  {
   "cell_type": "code",
   "execution_count": 4,
   "metadata": {
    "ExecuteTime": {
     "end_time": "2020-12-11T22:35:26.777044Z",
     "start_time": "2020-12-11T22:35:26.762307Z"
    },
    "colab": {
     "base_uri": "https://localhost:8080/",
     "height": 85
    },
    "id": "Tq6Z4K5IaN_V",
    "outputId": "c8eda44f-d4a8-4269-835d-14afad04c0ff"
   },
   "outputs": [
    {
     "name": "stdout",
     "output_type": "stream",
     "text": [
      "Train X shape= (60000, 28, 28)\n",
      "Test X shape= (10000, 28, 28)\n",
      "Train Y shape= (60000,)\n",
      "Test Y shape= (10000,)\n"
     ]
    }
   ],
   "source": [
    "print(\"Train X shape=\",X_train.shape)\n",
    "print(\"Test X shape=\",X_test.shape)\n",
    "print(\"Train Y shape=\",y_train.shape)\n",
    "print(\"Test Y shape=\",y_test.shape)"
   ]
  },
  {
   "cell_type": "code",
   "execution_count": 5,
   "metadata": {
    "ExecuteTime": {
     "end_time": "2020-12-11T22:35:29.477845Z",
     "start_time": "2020-12-11T22:35:29.464775Z"
    },
    "colab": {
     "base_uri": "https://localhost:8080/",
     "height": 34
    },
    "id": "R8oDoBLlabjv",
    "outputId": "82781321-05dd-4556-f1a7-0f5384aa390b"
   },
   "outputs": [
    {
     "name": "stdout",
     "output_type": "stream",
     "text": [
      "(60000, 28, 28, 1)\n"
     ]
    }
   ],
   "source": [
    "# the data is only 2D!\n",
    "# convolution expects height x width x color\n",
    "X_train = np.expand_dims(X_train, -1)\n",
    "X_test = np.expand_dims(X_test, -1)\n",
    "print(X_train.shape)"
   ]
  },
  {
   "cell_type": "code",
   "execution_count": 6,
   "metadata": {
    "ExecuteTime": {
     "end_time": "2020-12-11T22:35:32.074177Z",
     "start_time": "2020-12-11T22:35:32.057619Z"
    },
    "colab": {
     "base_uri": "https://localhost:8080/",
     "height": 34
    },
    "id": "_kOuUgsxcAr_",
    "outputId": "881a7a6c-9158-4f87-a28b-87c1799861af"
   },
   "outputs": [
    {
     "name": "stdout",
     "output_type": "stream",
     "text": [
      "number of classes: 10\n"
     ]
    }
   ],
   "source": [
    "# number of classes\n",
    "K = len(set(y_train))\n",
    "print(\"number of classes:\", K)"
   ]
  },
  {
   "cell_type": "code",
   "execution_count": 7,
   "metadata": {
    "ExecuteTime": {
     "end_time": "2020-12-11T22:35:47.280623Z",
     "start_time": "2020-12-11T22:35:46.974942Z"
    },
    "id": "i29qCEx3a82J"
   },
   "outputs": [],
   "source": [
    "# Build the model using the functional API\n",
    "i = Input(shape=X_train[0].shape)\n",
    "x = Conv2D(32, (3, 3), strides=2, activation='relu')(i)\n",
    "x = Conv2D(64, (3, 3), strides=2, activation='relu')(x)\n",
    "x = Conv2D(128, (3, 3), strides=2, activation='relu')(x)\n",
    "x = Flatten()(x)\n",
    "x = Dropout(0.2)(x)\n",
    "x = Dense(512, activation='relu')(x)\n",
    "x = Dropout(0.2)(x)\n",
    "x = Dense(K, activation='softmax')(x)\n",
    "\n",
    "model = Model(i, x)"
   ]
  },
  {
   "cell_type": "code",
   "execution_count": 8,
   "metadata": {
    "ExecuteTime": {
     "end_time": "2020-12-11T22:42:58.079229Z",
     "start_time": "2020-12-11T22:35:50.251139Z"
    },
    "colab": {
     "base_uri": "https://localhost:8080/",
     "height": 527
    },
    "id": "qPzEGHEjbvVB",
    "outputId": "f95477c2-c35e-498c-9238-150289e2c99e"
   },
   "outputs": [
    {
     "name": "stdout",
     "output_type": "stream",
     "text": [
      "Epoch 1/15\n",
      "1875/1875 [==============================] - 26s 14ms/step - loss: 0.5590 - accuracy: 0.8044 - val_loss: 0.4272 - val_accuracy: 0.8429\n",
      "Epoch 2/15\n",
      "1875/1875 [==============================] - 24s 13ms/step - loss: 0.4014 - accuracy: 0.8495 - val_loss: 0.4017 - val_accuracy: 0.8502\n",
      "Epoch 3/15\n",
      "1875/1875 [==============================] - 21s 11ms/step - loss: 0.3629 - accuracy: 0.8634 - val_loss: 0.3527 - val_accuracy: 0.8685\n",
      "Epoch 4/15\n",
      "1875/1875 [==============================] - 24s 13ms/step - loss: 0.3356 - accuracy: 0.8728 - val_loss: 0.3565 - val_accuracy: 0.8701\n",
      "Epoch 5/15\n",
      "1875/1875 [==============================] - 27s 14ms/step - loss: 0.3180 - accuracy: 0.8796 - val_loss: 0.3415 - val_accuracy: 0.8744\n",
      "Epoch 6/15\n",
      "1875/1875 [==============================] - 32s 17ms/step - loss: 0.3068 - accuracy: 0.8832 - val_loss: 0.3852 - val_accuracy: 0.8546\n",
      "Epoch 7/15\n",
      "1875/1875 [==============================] - 26s 14ms/step - loss: 0.2885 - accuracy: 0.8920 - val_loss: 0.3538 - val_accuracy: 0.8738\n",
      "Epoch 8/15\n",
      "1875/1875 [==============================] - 27s 14ms/step - loss: 0.2831 - accuracy: 0.8927 - val_loss: 0.3698 - val_accuracy: 0.8698\n",
      "Epoch 9/15\n",
      "1875/1875 [==============================] - 30s 16ms/step - loss: 0.2763 - accuracy: 0.8975 - val_loss: 0.3580 - val_accuracy: 0.8766\n",
      "Epoch 10/15\n",
      "1875/1875 [==============================] - 35s 18ms/step - loss: 0.2698 - accuracy: 0.8979 - val_loss: 0.3733 - val_accuracy: 0.8754\n",
      "Epoch 11/15\n",
      "1875/1875 [==============================] - 30s 16ms/step - loss: 0.2673 - accuracy: 0.8989 - val_loss: 0.3594 - val_accuracy: 0.8830\n",
      "Epoch 12/15\n",
      "1875/1875 [==============================] - 31s 17ms/step - loss: 0.2580 - accuracy: 0.9020 - val_loss: 0.3791 - val_accuracy: 0.8752\n",
      "Epoch 13/15\n",
      "1875/1875 [==============================] - 36s 19ms/step - loss: 0.2551 - accuracy: 0.9054 - val_loss: 0.4345 - val_accuracy: 0.8546\n",
      "Epoch 14/15\n",
      "1875/1875 [==============================] - 31s 16ms/step - loss: 0.2477 - accuracy: 0.9081 - val_loss: 0.3845 - val_accuracy: 0.8733\n",
      "Epoch 15/15\n",
      "1875/1875 [==============================] - 28s 15ms/step - loss: 0.2445 - accuracy: 0.9075 - val_loss: 0.3996 - val_accuracy: 0.8802\n"
     ]
    }
   ],
   "source": [
    "# Compile and fit\n",
    "# Note: make sure you are using the GPU for this!\n",
    "model.compile(optimizer='adam',\n",
    "              loss='sparse_categorical_crossentropy',\n",
    "              metrics=['accuracy'])\n",
    "r = model.fit(X_train, y_train, validation_data=(X_test, y_test), epochs=15)"
   ]
  },
  {
   "cell_type": "code",
   "execution_count": 9,
   "metadata": {
    "ExecuteTime": {
     "end_time": "2020-12-11T22:42:58.473101Z",
     "start_time": "2020-12-11T22:42:58.086774Z"
    },
    "colab": {
     "base_uri": "https://localhost:8080/",
     "height": 282
    },
    "id": "i4YZpvGLcOZN",
    "outputId": "d6270e3f-23ab-4448-e917-6efd6bc6855c"
   },
   "outputs": [
    {
     "data": {
      "text/plain": [
       "<matplotlib.legend.Legend at 0x7ff7de122d90>"
      ]
     },
     "execution_count": 9,
     "metadata": {},
     "output_type": "execute_result"
    },
    {
     "data": {
      "image/png": "[encoded data removed]",
      "text/plain": [
       "<Figure size 432x288 with 1 Axes>"
      ]
     },
     "metadata": {
      "needs_background": "light"
     },
     "output_type": "display_data"
    }
   ],
   "source": [
    "# Plot loss per iteration\n",
    "import matplotlib.pyplot as plt\n",
    "plt.plot(r.history['loss'], label='loss')\n",
    "plt.plot(r.history['val_loss'], label='val_loss')\n",
    "plt.legend()"
   ]
  },
  {
   "cell_type": "code",
   "execution_count": 10,
   "metadata": {
    "ExecuteTime": {
     "end_time": "2020-12-11T22:42:58.696312Z",
     "start_time": "2020-12-11T22:42:58.480829Z"
    },
    "colab": {
     "base_uri": "https://localhost:8080/",
     "height": 282
    },
    "id": "AWEy0QMucZgy",
    "outputId": "94aaa743-7661-4a50-ce7a-952997658495"
   },
   "outputs": [
    {
     "data": {
      "text/plain": [
       "<matplotlib.legend.Legend at 0x7ff7ef7920a0>"
      ]
     },
     "execution_count": 10,
     "metadata": {},
     "output_type": "execute_result"
    },
    {
     "data": {
      "image/png": "[encoded data removed]",
      "text/plain": [
       "<Figure size 432x288 with 1 Axes>"
      ]
     },
     "metadata": {
      "needs_background": "light"
     },
     "output_type": "display_data"
    }
   ],
   "source": [
    "# Plot accuracy per iteration\n",
    "plt.plot(r.history['accuracy'], label='acc')\n",
    "plt.plot(r.history['val_accuracy'], label='val_acc')\n",
    "plt.legend()"
   ]
  }
 ],
 "metadata": {
  "colab": {
   "name": "TensorFlow-CNN.ipynb",
   "provenance": []
  },
  "kernelspec": {
   "display_name": "Python 3",
   "language": "python",
   "name": "python3"
  },
  "language_info": {
   "codemirror_mode": {
    "name": "ipython",
    "version": 3
   },
   "file_extension": ".py",
   "mimetype": "text/x-python",
   "name": "python",
   "nbconvert_exporter": "python",
   "pygments_lexer": "ipython3",
   "version": "3.8.3"
  },
  "latex_envs": {
   "LaTeX_envs_menu_present": true,
   "autoclose": false,
   "autocomplete": true,
   "bibliofile": "biblio.bib",
   "cite_by": "apalike",
   "current_citInitial": 1,
   "eqLabelWithNumbers": true,
   "eqNumInitial": 1,
   "hotkeys": {
    "equation": "Ctrl-E",
    "itemize": "Ctrl-I"
   },
   "labels_anchors": false,
   "latex_user_defs": false,
   "report_style_numbering": false,
   "user_envs_cfg": false
  },
  "toc": {
   "base_numbering": 1,
   "nav_menu": {},
   "number_sections": false,
   "sideBar": true,
   "skip_h1_title": false,
   "title_cell": "Table of Contents",
   "title_sidebar": "Contents",
   "toc_cell": false,
   "toc_position": {},
   "toc_section_display": true,
   "toc_window_display": true
  }
 },
 "nbformat": 4,
 "nbformat_minor": 1
}
