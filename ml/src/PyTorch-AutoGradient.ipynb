{
 "cells": [
  {
   "cell_type": "markdown",
   "metadata": {},
   "source": [
    "## PyTorch-AutoGradient\n",
    "\n",
    "**PyTorch** has a mechanism to automatically take gradients of a computational graph. In this notebook we will demonstrate that."
   ]
  },
  {
   "cell_type": "code",
   "execution_count": 11,
   "metadata": {
    "ExecuteTime": {
     "end_time": "2020-09-04T15:44:01.088571Z",
     "start_time": "2020-09-04T15:44:01.081956Z"
    }
   },
   "outputs": [],
   "source": [
    "import torch\n",
    "import numpy as np\n",
    "import matplotlib.pyplot as plt\n",
    "%matplotlib inline"
   ]
  },
  {
   "cell_type": "markdown",
   "metadata": {},
   "source": [
    "### Example 1"
   ]
  },
  {
   "cell_type": "markdown",
   "metadata": {},
   "source": [
    "Lets create a computational graph like this\n",
    "\n",
    "\n",
    "$y_i$ = $\\text{sin}(x_i)$  \n",
    "$z=\\sum_{i=1}^{N}\\text{sin}(x_i)$\n",
    "\n",
    "Now derivative of $z$ w.r.t $x_i$ is given as\n",
    "\n",
    "$\\frac{\\partial z}{\\partial x_i} = \\frac{\\partial z }{\\partial y_i} \\frac{\\partial y_i}{\\partial x_i}$\n",
    "\n",
    "$\\frac{\\partial y_i}{\\partial x_i} = \\text{cos}(x_i)$\n",
    "\n",
    "$\\frac{\\partial z }{\\partial y_i} = 1$\n",
    "\n",
    "Hence, $\\frac{\\partial z}{\\partial x_i} = \\text{cos}(x_i)$ \n",
    "\n",
    "This derivative will be stored in x.grad, lets try this below"
   ]
  },
  {
   "cell_type": "code",
   "execution_count": 34,
   "metadata": {
    "ExecuteTime": {
     "end_time": "2020-09-04T15:56:12.004313Z",
     "start_time": "2020-09-04T15:56:11.994346Z"
    }
   },
   "outputs": [
    {
     "data": {
      "text/plain": [
       "tensor([0.0000, 0.0635, 0.1269, 0.1904, 0.2539, 0.3173, 0.3808, 0.4443, 0.5077,\n",
       "        0.5712, 0.6347, 0.6981, 0.7616, 0.8251, 0.8885, 0.9520, 1.0155, 1.0789,\n",
       "        1.1424, 1.2059, 1.2693, 1.3328, 1.3963, 1.4597, 1.5232, 1.5867, 1.6501,\n",
       "        1.7136, 1.7771, 1.8405, 1.9040, 1.9675, 2.0309, 2.0944, 2.1579, 2.2213,\n",
       "        2.2848, 2.3483, 2.4117, 2.4752, 2.5387, 2.6021, 2.6656, 2.7291, 2.7925,\n",
       "        2.8560, 2.9195, 2.9829, 3.0464, 3.1099, 3.1733, 3.2368, 3.3003, 3.3637,\n",
       "        3.4272, 3.4907, 3.5541, 3.6176, 3.6811, 3.7445, 3.8080, 3.8715, 3.9349,\n",
       "        3.9984, 4.0619, 4.1253, 4.1888, 4.2523, 4.3157, 4.3792, 4.4427, 4.5061,\n",
       "        4.5696, 4.6331, 4.6965, 4.7600, 4.8235, 4.8869, 4.9504, 5.0139, 5.0773,\n",
       "        5.1408, 5.2043, 5.2677, 5.3312, 5.3947, 5.4581, 5.5216, 5.5851, 5.6485,\n",
       "        5.7120, 5.7755, 5.8389, 5.9024, 5.9659, 6.0293, 6.0928, 6.1563, 6.2197,\n",
       "        6.2832], requires_grad=True)"
      ]
     },
     "execution_count": 34,
     "metadata": {},
     "output_type": "execute_result"
    }
   ],
   "source": [
    "x = torch.linspace(0,2*np.pi,100, requires_grad=True)\n",
    "x"
   ]
  },
  {
   "cell_type": "code",
   "execution_count": 35,
   "metadata": {
    "ExecuteTime": {
     "end_time": "2020-09-04T15:56:12.601794Z",
     "start_time": "2020-09-04T15:56:12.597044Z"
    }
   },
   "outputs": [],
   "source": [
    "y = torch.sin(x)"
   ]
  },
  {
   "cell_type": "code",
   "execution_count": 36,
   "metadata": {
    "ExecuteTime": {
     "end_time": "2020-09-04T15:56:13.314142Z",
     "start_time": "2020-09-04T15:56:13.112422Z"
    }
   },
   "outputs": [
    {
     "data": {
      "text/plain": [
       "[<matplotlib.lines.Line2D at 0x7f8323ba9d30>]"
      ]
     },
     "execution_count": 36,
     "metadata": {},
     "output_type": "execute_result"
    },
    {
     "data": {
      "image/png": "[encoded data removed]",
      "text/plain": [
       "<Figure size 432x288 with 1 Axes>"
      ]
     },
     "metadata": {
      "needs_background": "light"
     },
     "output_type": "display_data"
    }
   ],
   "source": [
    "plt.plot(x.detach().numpy(), y.detach().numpy())"
   ]
  },
  {
   "cell_type": "code",
   "execution_count": 37,
   "metadata": {
    "ExecuteTime": {
     "end_time": "2020-09-04T15:56:13.761179Z",
     "start_time": "2020-09-04T15:56:13.755154Z"
    }
   },
   "outputs": [],
   "source": [
    "out = y.sum()"
   ]
  },
  {
   "cell_type": "code",
   "execution_count": 38,
   "metadata": {
    "ExecuteTime": {
     "end_time": "2020-09-04T15:56:14.427420Z",
     "start_time": "2020-09-04T15:56:14.411140Z"
    }
   },
   "outputs": [],
   "source": [
    "out.backward()"
   ]
  },
  {
   "cell_type": "code",
   "execution_count": 39,
   "metadata": {
    "ExecuteTime": {
     "end_time": "2020-09-04T15:56:15.660371Z",
     "start_time": "2020-09-04T15:56:15.652615Z"
    }
   },
   "outputs": [
    {
     "data": {
      "text/plain": [
       "tensor(2.9986e-06, grad_fn=<SumBackward0>)"
      ]
     },
     "execution_count": 39,
     "metadata": {},
     "output_type": "execute_result"
    }
   ],
   "source": [
    "out"
   ]
  },
  {
   "cell_type": "code",
   "execution_count": 40,
   "metadata": {
    "ExecuteTime": {
     "end_time": "2020-09-04T15:56:16.994112Z",
     "start_time": "2020-09-04T15:56:16.984904Z"
    }
   },
   "outputs": [
    {
     "name": "stdout",
     "output_type": "stream",
     "text": [
      "tensor([ 1.0000,  0.9980,  0.9920,  0.9819,  0.9679,  0.9501,  0.9284,  0.9029,\n",
      "         0.8738,  0.8413,  0.8053,  0.7660,  0.7237,  0.6785,  0.6306,  0.5801,\n",
      "         0.5272,  0.4723,  0.4154,  0.3569,  0.2969,  0.2358,  0.1736,  0.1108,\n",
      "         0.0476, -0.0159, -0.0793, -0.1423, -0.2048, -0.2665, -0.3271, -0.3863,\n",
      "        -0.4441, -0.5000, -0.5539, -0.6056, -0.6549, -0.7015, -0.7453, -0.7861,\n",
      "        -0.8237, -0.8580, -0.8888, -0.9161, -0.9397, -0.9595, -0.9754, -0.9874,\n",
      "        -0.9955, -0.9995, -0.9995, -0.9955, -0.9874, -0.9754, -0.9595, -0.9397,\n",
      "        -0.9161, -0.8888, -0.8580, -0.8237, -0.7861, -0.7453, -0.7015, -0.6549,\n",
      "        -0.6056, -0.5539, -0.5000, -0.4441, -0.3863, -0.3271, -0.2665, -0.2048,\n",
      "        -0.1423, -0.0792, -0.0159,  0.0476,  0.1108,  0.1736,  0.2358,  0.2969,\n",
      "         0.3569,  0.4154,  0.4723,  0.5272,  0.5801,  0.6306,  0.6785,  0.7237,\n",
      "         0.7660,  0.8053,  0.8413,  0.8738,  0.9029,  0.9284,  0.9501,  0.9679,\n",
      "         0.9819,  0.9920,  0.9980,  1.0000])\n"
     ]
    }
   ],
   "source": [
    "print(x.grad)"
   ]
  },
  {
   "cell_type": "code",
   "execution_count": 41,
   "metadata": {
    "ExecuteTime": {
     "end_time": "2020-09-04T15:56:20.310940Z",
     "start_time": "2020-09-04T15:56:20.117059Z"
    }
   },
   "outputs": [
    {
     "data": {
      "text/plain": [
       "[<matplotlib.lines.Line2D at 0x7f8323cb4be0>]"
      ]
     },
     "execution_count": 41,
     "metadata": {},
     "output_type": "execute_result"
    },
    {
     "data": {
      "image/png": "[encoded data removed]",
      "text/plain": [
       "<Figure size 432x288 with 1 Axes>"
      ]
     },
     "metadata": {
      "needs_background": "light"
     },
     "output_type": "display_data"
    }
   ],
   "source": [
    "plt.plot(x.detach().numpy(), x.grad.numpy())"
   ]
  },
  {
   "cell_type": "markdown",
   "metadata": {},
   "source": [
    "Matches what we expect."
   ]
  },
  {
   "cell_type": "markdown",
   "metadata": {
    "ExecuteTime": {
     "end_time": "2020-09-04T15:57:32.895588Z",
     "start_time": "2020-09-04T15:57:32.876522Z"
    }
   },
   "source": [
    "### Example 2"
   ]
  },
  {
   "cell_type": "markdown",
   "metadata": {},
   "source": [
    "$y_i = x_i^2$\n",
    "\n",
    "$z_i = y_i^3$\n",
    "\n",
    "$u = \\sum_{i=1}^{N}(z_i)$\n",
    "\n",
    "$\\frac{\\partial u}{\\partial x_i} = \\frac{\\partial u }{\\partial z_i} \\frac{\\partial z_i}{\\partial y_i} \\frac{\\partial y_i}{\\partial x_i}$\n",
    "\n",
    "$\\frac{\\partial u }{\\partial z_i} = 1$\n",
    "\n",
    "$\\frac{\\partial z_i}{\\partial y_i} = 3 y_i^2$\n",
    "\n",
    "$\\frac{\\partial y_i}{\\partial x_i} = 2 x_i$\n",
    "\n",
    "$\\frac{\\partial u}{\\partial x_i} = 1 * 3 y_i^2 * 2 x_i = 6 x_i^5$"
   ]
  },
  {
   "cell_type": "code",
   "execution_count": 43,
   "metadata": {
    "ExecuteTime": {
     "end_time": "2020-09-04T16:04:41.027666Z",
     "start_time": "2020-09-04T16:04:41.024367Z"
    }
   },
   "outputs": [],
   "source": [
    "x = torch.linspace(0,1,100,requires_grad=True)"
   ]
  },
  {
   "cell_type": "code",
   "execution_count": 44,
   "metadata": {
    "ExecuteTime": {
     "end_time": "2020-09-04T16:06:39.315547Z",
     "start_time": "2020-09-04T16:06:39.306839Z"
    }
   },
   "outputs": [],
   "source": [
    "y = torch.square(x)"
   ]
  },
  {
   "cell_type": "code",
   "execution_count": 45,
   "metadata": {
    "ExecuteTime": {
     "end_time": "2020-09-04T16:07:13.798901Z",
     "start_time": "2020-09-04T16:07:13.792810Z"
    }
   },
   "outputs": [],
   "source": [
    "z = torch.pow(y, 3)\n",
    "u = z.sum()"
   ]
  },
  {
   "cell_type": "code",
   "execution_count": 46,
   "metadata": {
    "ExecuteTime": {
     "end_time": "2020-09-04T16:07:15.628185Z",
     "start_time": "2020-09-04T16:07:15.620559Z"
    }
   },
   "outputs": [
    {
     "data": {
      "text/plain": [
       "tensor(14.6479, grad_fn=<SumBackward0>)"
      ]
     },
     "execution_count": 46,
     "metadata": {},
     "output_type": "execute_result"
    }
   ],
   "source": [
    "u"
   ]
  },
  {
   "cell_type": "code",
   "execution_count": 47,
   "metadata": {
    "ExecuteTime": {
     "end_time": "2020-09-04T16:16:10.109101Z",
     "start_time": "2020-09-04T16:16:09.839113Z"
    }
   },
   "outputs": [
    {
     "data": {
      "text/plain": [
       "[<matplotlib.lines.Line2D at 0x7f8324bf1a60>]"
      ]
     },
     "execution_count": 47,
     "metadata": {},
     "output_type": "execute_result"
    },
    {
     "data": {
      "image/png": "[encoded data removed]",
      "text/plain": [
       "<Figure size 432x288 with 1 Axes>"
      ]
     },
     "metadata": {
      "needs_background": "light"
     },
     "output_type": "display_data"
    }
   ],
   "source": [
    "u.backward()"
   ]
  },
  {
   "cell_type": "code",
   "execution_count": 51,
   "metadata": {
    "ExecuteTime": {
     "end_time": "2020-09-04T16:18:22.155146Z",
     "start_time": "2020-09-04T16:18:21.956918Z"
    }
   },
   "outputs": [
    {
     "data": {
      "text/plain": [
       "<matplotlib.legend.Legend at 0x7f8324c13700>"
      ]
     },
     "execution_count": 51,
     "metadata": {},
     "output_type": "execute_result"
    },
    {
     "data": {
      "image/png": "[encoded data removed]",
      "text/plain": [
       "<Figure size 432x288 with 1 Axes>"
      ]
     },
     "metadata": {
      "needs_background": "light"
     },
     "output_type": "display_data"
    }
   ],
   "source": [
    "plt.plot(x.detach().numpy(), x.grad.numpy(), 'ro', label='PyTorch')\n",
    "\n",
    "y2 = 6*x**5\n",
    "plt.plot(x.detach().numpy(), y2.detach().numpy(), label='Analytical')\n",
    "plt.legend()"
   ]
  },
  {
   "cell_type": "markdown",
   "metadata": {},
   "source": [
    "### Example 3"
   ]
  },
  {
   "cell_type": "markdown",
   "metadata": {},
   "source": [
    "$y_i = e^{x_i}$\n",
    "\n",
    "$z_i=\\text{sin}(y_i)$\n",
    "\n",
    "$u=\\sum_{i=1}^{N}(z_i)$\n",
    "\n",
    "$\\frac{\\partial u}{\\partial x_i} = \\frac{\\partial u}{\\partial z_i} \\frac{\\partial z_i}{\\partial y_i} \\frac{\\partial y_i}{\\partial x_i}$\n",
    "\n",
    "$\\frac{\\partial u}{\\partial x_i} = 1 * \\text{cos}(y_i) * e^{x_i} = 1 * \\text{cos}(e^{x_i}) * e^{x_i}$ "
   ]
  },
  {
   "cell_type": "code",
   "execution_count": 54,
   "metadata": {
    "ExecuteTime": {
     "end_time": "2020-09-04T16:26:11.436794Z",
     "start_time": "2020-09-04T16:26:11.430353Z"
    }
   },
   "outputs": [],
   "source": [
    "x = torch.linspace(0,2*np.pi,100,requires_grad=True)\n",
    "y = torch.exp(x)\n",
    "z = torch.sin(y)\n",
    "u = z.sum()\n",
    "\n",
    "u.backward()\n"
   ]
  },
  {
   "cell_type": "code",
   "execution_count": 57,
   "metadata": {
    "ExecuteTime": {
     "end_time": "2020-09-04T16:28:58.502985Z",
     "start_time": "2020-09-04T16:28:58.317333Z"
    }
   },
   "outputs": [
    {
     "data": {
      "text/plain": [
       "<matplotlib.legend.Legend at 0x7f83250b1400>"
      ]
     },
     "execution_count": 57,
     "metadata": {},
     "output_type": "execute_result"
    },
    {
     "data": {
      "image/png": "[encoded data removed]",
      "text/plain": [
       "<Figure size 432x288 with 1 Axes>"
      ]
     },
     "metadata": {
      "needs_background": "light"
     },
     "output_type": "display_data"
    }
   ],
   "source": [
    "#analytical\n",
    "z2 = torch.cos(y) * y \n",
    "\n",
    "plt.plot(x.detach().numpy(), x.grad.numpy(), 'ro', label='PyTorch')\n",
    "plt.plot(x.detach().numpy(), z2.detach().numpy(), label='Analytical')\n",
    "plt.legend()"
   ]
  }
 ],
 "metadata": {
  "kernelspec": {
   "display_name": "Python 3",
   "language": "python",
   "name": "python3"
  },
  "language_info": {
   "codemirror_mode": {
    "name": "ipython",
    "version": 3
   },
   "file_extension": ".py",
   "mimetype": "text/x-python",
   "name": "python",
   "nbconvert_exporter": "python",
   "pygments_lexer": "ipython3",
   "version": "3.8.3"
  },
  "latex_envs": {
   "LaTeX_envs_menu_present": true,
   "autoclose": false,
   "autocomplete": true,
   "bibliofile": "biblio.bib",
   "cite_by": "apalike",
   "current_citInitial": 1,
   "eqLabelWithNumbers": true,
   "eqNumInitial": 1,
   "hotkeys": {
    "equation": "Ctrl-E",
    "itemize": "Ctrl-I"
   },
   "labels_anchors": false,
   "latex_user_defs": false,
   "report_style_numbering": false,
   "user_envs_cfg": false
  },
  "toc": {
   "base_numbering": 1,
   "nav_menu": {},
   "number_sections": false,
   "sideBar": true,
   "skip_h1_title": false,
   "title_cell": "Table of Contents",
   "title_sidebar": "Contents",
   "toc_cell": false,
   "toc_position": {},
   "toc_section_display": true,
   "toc_window_display": false
  }
 },
 "nbformat": 4,
 "nbformat_minor": 4
}
