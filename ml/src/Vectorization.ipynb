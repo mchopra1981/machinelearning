{
 "cells": [
  {
   "cell_type": "markdown",
   "metadata": {},
   "source": [
    "## Vectorization\n",
    "\n",
    "In this notebook we will demonstrate speed up of code by vectorization"
   ]
  },
  {
   "cell_type": "code",
   "execution_count": 1,
   "metadata": {
    "ExecuteTime": {
     "end_time": "2020-10-14T15:15:12.001924Z",
     "start_time": "2020-10-14T15:15:11.679384Z"
    }
   },
   "outputs": [],
   "source": [
    "import numpy as np"
   ]
  },
  {
   "cell_type": "code",
   "execution_count": 2,
   "metadata": {
    "ExecuteTime": {
     "end_time": "2020-10-14T15:15:12.142669Z",
     "start_time": "2020-10-14T15:15:12.137628Z"
    }
   },
   "outputs": [],
   "source": [
    "np.random.seed(42)"
   ]
  },
  {
   "cell_type": "code",
   "execution_count": 3,
   "metadata": {
    "ExecuteTime": {
     "end_time": "2020-10-14T15:15:12.596109Z",
     "start_time": "2020-10-14T15:15:12.586298Z"
    }
   },
   "outputs": [],
   "source": [
    "X = np.random.uniform(size=(100000,1))\n",
    "Y = np.random.uniform(size=(100000,1))"
   ]
  },
  {
   "cell_type": "markdown",
   "metadata": {},
   "source": [
    "We want to compute $X^T Y$."
   ]
  },
  {
   "cell_type": "markdown",
   "metadata": {},
   "source": [
    "Lets compute $X^TY$ explicitly."
   ]
  },
  {
   "cell_type": "code",
   "execution_count": 4,
   "metadata": {
    "ExecuteTime": {
     "end_time": "2020-10-14T15:15:14.038600Z",
     "start_time": "2020-10-14T15:15:13.794151Z"
    }
   },
   "outputs": [
    {
     "name": "stdout",
     "output_type": "stream",
     "text": [
      "CPU times: user 236 ms, sys: 3.46 ms, total: 240 ms\n",
      "Wall time: 240 ms\n"
     ]
    }
   ],
   "source": [
    "%%time\n",
    "z = 0\n",
    "for i in range(len(X)):\n",
    "    z += X[i] * Y[i]\n"
   ]
  },
  {
   "cell_type": "code",
   "execution_count": 5,
   "metadata": {
    "ExecuteTime": {
     "end_time": "2020-10-14T15:15:14.294031Z",
     "start_time": "2020-10-14T15:15:14.288219Z"
    }
   },
   "outputs": [
    {
     "name": "stdout",
     "output_type": "stream",
     "text": [
      "[25026.09985437]\n"
     ]
    }
   ],
   "source": [
    "print(z)"
   ]
  },
  {
   "cell_type": "markdown",
   "metadata": {},
   "source": [
    "Now lets use dot product"
   ]
  },
  {
   "cell_type": "code",
   "execution_count": 6,
   "metadata": {
    "ExecuteTime": {
     "end_time": "2020-10-14T15:15:15.244589Z",
     "start_time": "2020-10-14T15:15:15.234130Z"
    }
   },
   "outputs": [
    {
     "name": "stdout",
     "output_type": "stream",
     "text": [
      "CPU times: user 4.11 ms, sys: 3.25 ms, total: 7.36 ms\n",
      "Wall time: 5.56 ms\n"
     ]
    }
   ],
   "source": [
    "%%time\n",
    "z = np.dot(X.T,Y)"
   ]
  },
  {
   "cell_type": "code",
   "execution_count": 7,
   "metadata": {
    "ExecuteTime": {
     "end_time": "2020-10-14T15:15:15.667150Z",
     "start_time": "2020-10-14T15:15:15.662284Z"
    }
   },
   "outputs": [
    {
     "name": "stdout",
     "output_type": "stream",
     "text": [
      "[[25026.09985437]]\n"
     ]
    }
   ],
   "source": [
    "print(z)"
   ]
  },
  {
   "cell_type": "markdown",
   "metadata": {},
   "source": [
    "We can see that the vectorized version goes from 213ms to 3.6ms."
   ]
  },
  {
   "cell_type": "markdown",
   "metadata": {},
   "source": [
    "### Matrix multiplication"
   ]
  },
  {
   "cell_type": "code",
   "execution_count": 8,
   "metadata": {
    "ExecuteTime": {
     "end_time": "2020-10-14T15:15:17.095793Z",
     "start_time": "2020-10-14T15:15:17.088102Z"
    }
   },
   "outputs": [],
   "source": [
    "X = np.random.randn(100,200)\n",
    "Y = np.random.randn(200,100)"
   ]
  },
  {
   "cell_type": "markdown",
   "metadata": {},
   "source": [
    "Lets do this in explicit for loop"
   ]
  },
  {
   "cell_type": "code",
   "execution_count": 9,
   "metadata": {
    "ExecuteTime": {
     "end_time": "2020-10-14T15:15:18.010590Z",
     "start_time": "2020-10-14T15:15:18.005906Z"
    }
   },
   "outputs": [],
   "source": [
    "Z = np.zeros(shape=(100,100))"
   ]
  },
  {
   "cell_type": "code",
   "execution_count": 10,
   "metadata": {
    "ExecuteTime": {
     "end_time": "2020-10-14T15:15:20.216746Z",
     "start_time": "2020-10-14T15:15:18.496400Z"
    }
   },
   "outputs": [
    {
     "name": "stdout",
     "output_type": "stream",
     "text": [
      "CPU times: user 1.69 s, sys: 11.7 ms, total: 1.7 s\n",
      "Wall time: 1.72 s\n"
     ]
    }
   ],
   "source": [
    "%%time\n",
    "#We have to do three nested loops for this\n",
    "for i in range(0,100):\n",
    "    for j in range(0,100):\n",
    "        for k in range(0,200):\n",
    "            Z[i,j] += X[i,k] * Y[k,j]"
   ]
  },
  {
   "cell_type": "markdown",
   "metadata": {},
   "source": [
    "Lets do matrix multiplication explicitly using numpy matmul"
   ]
  },
  {
   "cell_type": "code",
   "execution_count": 11,
   "metadata": {
    "ExecuteTime": {
     "end_time": "2020-10-14T15:15:24.999376Z",
     "start_time": "2020-10-14T15:15:24.991703Z"
    }
   },
   "outputs": [
    {
     "name": "stdout",
     "output_type": "stream",
     "text": [
      "CPU times: user 2.73 ms, sys: 1.89 ms, total: 4.62 ms\n",
      "Wall time: 2.47 ms\n"
     ]
    }
   ],
   "source": [
    "%%time\n",
    "Z2 = np.matmul(X,Y)"
   ]
  },
  {
   "cell_type": "code",
   "execution_count": 13,
   "metadata": {
    "ExecuteTime": {
     "end_time": "2020-10-14T15:17:37.174164Z",
     "start_time": "2020-10-14T15:17:37.164034Z"
    }
   },
   "outputs": [
    {
     "data": {
      "text/plain": [
       "5.121194267265761e-13"
      ]
     },
     "execution_count": 13,
     "metadata": {},
     "output_type": "execute_result"
    }
   ],
   "source": [
    "#lets check the results are the same\n",
    "np.sum(Z2-Z)"
   ]
  },
  {
   "cell_type": "markdown",
   "metadata": {},
   "source": [
    "Results are the same, and the vectorized version is around 600 times faster."
   ]
  },
  {
   "cell_type": "markdown",
   "metadata": {},
   "source": [
    "### Vectorized sigmoid"
   ]
  },
  {
   "cell_type": "code",
   "execution_count": 15,
   "metadata": {
    "ExecuteTime": {
     "end_time": "2020-10-14T15:19:21.595605Z",
     "start_time": "2020-10-14T15:19:21.590569Z"
    }
   },
   "outputs": [],
   "source": [
    "X = np.random.randn(10000,1)"
   ]
  },
  {
   "cell_type": "markdown",
   "metadata": {},
   "source": [
    "$Z = \\frac{1}{1+e^{-X}}$ "
   ]
  },
  {
   "cell_type": "code",
   "execution_count": 29,
   "metadata": {
    "ExecuteTime": {
     "end_time": "2020-10-14T15:23:09.313345Z",
     "start_time": "2020-10-14T15:23:09.258609Z"
    }
   },
   "outputs": [
    {
     "name": "stdout",
     "output_type": "stream",
     "text": [
      "CPU times: user 49 ms, sys: 1.94 ms, total: 51 ms\n",
      "Wall time: 50.2 ms\n"
     ]
    }
   ],
   "source": [
    "%%time\n",
    "#loop implementation\n",
    "Z1 = np.zeros(X.shape[0])\n",
    "for i in range(X.shape[0]):\n",
    "    Z1[i] = 1.0/(1+np.exp(-X[i]))"
   ]
  },
  {
   "cell_type": "code",
   "execution_count": 30,
   "metadata": {
    "ExecuteTime": {
     "end_time": "2020-10-14T15:23:10.305283Z",
     "start_time": "2020-10-14T15:23:10.297787Z"
    }
   },
   "outputs": [
    {
     "name": "stdout",
     "output_type": "stream",
     "text": [
      "CPU times: user 589 µs, sys: 293 µs, total: 882 µs\n",
      "Wall time: 559 µs\n"
     ]
    }
   ],
   "source": [
    "%%time\n",
    "#Vectorized implementation\n",
    "Z2 = 1.0/(1+np.exp(-X))"
   ]
  },
  {
   "cell_type": "code",
   "execution_count": 27,
   "metadata": {
    "ExecuteTime": {
     "end_time": "2020-10-14T15:22:36.184458Z",
     "start_time": "2020-10-14T15:22:35.671730Z"
    }
   },
   "outputs": [
    {
     "data": {
      "text/plain": [
       "5.239542133494979e-10"
      ]
     },
     "execution_count": 27,
     "metadata": {},
     "output_type": "execute_result"
    }
   ],
   "source": [
    "#Lets check the results are same\n",
    "print(np.sum(Z1-Z2))"
   ]
  },
  {
   "cell_type": "markdown",
   "metadata": {},
   "source": [
    "We can see that vectorized version is around 100x faster."
   ]
  }
 ],
 "metadata": {
  "kernelspec": {
   "display_name": "Python 3",
   "language": "python",
   "name": "python3"
  },
  "language_info": {
   "codemirror_mode": {
    "name": "ipython",
    "version": 3
   },
   "file_extension": ".py",
   "mimetype": "text/x-python",
   "name": "python",
   "nbconvert_exporter": "python",
   "pygments_lexer": "ipython3",
   "version": "3.8.3"
  },
  "latex_envs": {
   "LaTeX_envs_menu_present": true,
   "autoclose": false,
   "autocomplete": true,
   "bibliofile": "biblio.bib",
   "cite_by": "apalike",
   "current_citInitial": 1,
   "eqLabelWithNumbers": true,
   "eqNumInitial": 1,
   "hotkeys": {
    "equation": "Ctrl-E",
    "itemize": "Ctrl-I"
   },
   "labels_anchors": false,
   "latex_user_defs": false,
   "report_style_numbering": false,
   "user_envs_cfg": false
  },
  "toc": {
   "base_numbering": 1,
   "nav_menu": {},
   "number_sections": false,
   "sideBar": true,
   "skip_h1_title": false,
   "title_cell": "Table of Contents",
   "title_sidebar": "Contents",
   "toc_cell": false,
   "toc_position": {},
   "toc_section_display": true,
   "toc_window_display": false
  }
 },
 "nbformat": 4,
 "nbformat_minor": 4
}
