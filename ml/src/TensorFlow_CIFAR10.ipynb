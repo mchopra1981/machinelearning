{
 "cells": [
  {
   "cell_type": "markdown",
   "metadata": {
    "id": "vWS0-GSWhoUp"
   },
   "source": [
    "## TensorFlow-CIFAR10\n",
    "\n",
    "Lets apply **TensorFlow** to fit CIFAR10 dataset"
   ]
  },
  {
   "cell_type": "code",
   "execution_count": 1,
   "metadata": {
    "id": "OyNVLL_KfEtX"
   },
   "outputs": [],
   "source": [
    "import numpy as np\n",
    "import matplotlib.pyplot as plt\n",
    "import pandas as pd\n",
    "import tensorflow as tf\n",
    "from tensorflow.keras.layers import Input, Conv2D, Dense, Flatten, Dropout, GlobalMaxPooling2D, MaxPooling2D, BatchNormalization\n",
    "from tensorflow.keras.models import Model"
   ]
  },
  {
   "cell_type": "code",
   "execution_count": 2,
   "metadata": {
    "colab": {
     "base_uri": "https://localhost:8080/",
     "height": 85
    },
    "id": "qhms7gtUh7JE",
    "outputId": "39582697-73c4-4079-852a-2169507fd1d4"
   },
   "outputs": [
    {
     "name": "stdout",
     "output_type": "stream",
     "text": [
      "Downloading data from https://www.cs.toronto.edu/~kriz/cifar-10-python.tar.gz\n",
      "170500096/170498071 [==============================] - 4s 0us/step\n",
      "x_train.shape: (50000, 32, 32, 3)\n",
      "y_train.shape (50000,)\n"
     ]
    }
   ],
   "source": [
    "# Load in the data\n",
    "cifar10 = tf.keras.datasets.cifar10\n",
    "\n",
    "(x_train, y_train), (x_test, y_test) = cifar10.load_data()\n",
    "x_train, x_test = x_train / 255.0, x_test / 255.0\n",
    "y_train, y_test = y_train.flatten(), y_test.flatten()\n",
    "print(\"x_train.shape:\", x_train.shape)\n",
    "print(\"y_train.shape\", y_train.shape)"
   ]
  },
  {
   "cell_type": "code",
   "execution_count": 3,
   "metadata": {
    "colab": {
     "base_uri": "https://localhost:8080/",
     "height": 34
    },
    "id": "hCF7ZwP9h9dv",
    "outputId": "58bb2970-d153-4132-c616-158f880c406e"
   },
   "outputs": [
    {
     "name": "stdout",
     "output_type": "stream",
     "text": [
      "number of classes: 10\n"
     ]
    }
   ],
   "source": [
    "# number of classes\n",
    "K = len(set(y_train))\n",
    "print(\"number of classes:\", K)"
   ]
  },
  {
   "cell_type": "code",
   "execution_count": 4,
   "metadata": {
    "id": "IgIcI-wviDiQ"
   },
   "outputs": [],
   "source": [
    "#Build the model\n",
    "i = Input(shape=x_train[0].shape)\n",
    "x = Conv2D(32, (3, 3), activation='relu', padding='same' )(i)\n",
    "x = BatchNormalization()(x)\n",
    "x = Conv2D(32, (3, 3), activation='relu', padding='same')(x)\n",
    "x = BatchNormalization()(x)\n",
    "x = MaxPooling2D((2, 2))(x)\n",
    "x = Conv2D(64, (3, 3), activation='relu', padding='same')(x)\n",
    "x = BatchNormalization()(x)\n",
    "x = Conv2D(64, (3, 3), activation='relu', padding='same')(x)\n",
    "x = BatchNormalization()(x)\n",
    "x = MaxPooling2D((2, 2))(x)\n",
    "x = Conv2D(128, (3, 3), activation='relu', padding='same')(x)\n",
    "x = BatchNormalization()(x)\n",
    "x = Conv2D(128, (3, 3), activation='relu', padding='same')(x)\n",
    "x = BatchNormalization()(x)\n",
    "x = MaxPooling2D((2, 2))(x)\n",
    "\n",
    "x = Flatten()(x)\n",
    "x = Dropout(0.2)(x)\n",
    "x = Dense(1024, activation='relu')(x)\n",
    "x = Dropout(0.2)(x)\n",
    "x = Dense(K, activation='softmax')(x)\n",
    "\n",
    "model = Model(i, x)"
   ]
  },
  {
   "cell_type": "code",
   "execution_count": 5,
   "metadata": {
    "id": "ce5aHAkuiYbr"
   },
   "outputs": [],
   "source": [
    "# Compile\n",
    "# Note: make sure you are using the GPU for this!\n",
    "model.compile(optimizer='adam',\n",
    "              loss='sparse_categorical_crossentropy',\n",
    "              metrics=['accuracy'])"
   ]
  },
  {
   "cell_type": "code",
   "execution_count": 6,
   "metadata": {
    "colab": {
     "base_uri": "https://localhost:8080/",
     "height": 1000
    },
    "id": "DXOaZmjwis18",
    "outputId": "ac93329e-aa65-42b6-fcbd-bc50d7048af5"
   },
   "outputs": [
    {
     "name": "stdout",
     "output_type": "stream",
     "text": [
      "Epoch 1/50\n",
      "1562/1562 [==============================] - 28s 18ms/step - loss: 1.4355 - accuracy: 0.4984 - val_loss: 1.2539 - val_accuracy: 0.5691\n",
      "Epoch 2/50\n",
      "1562/1562 [==============================] - 28s 18ms/step - loss: 1.0169 - accuracy: 0.6438 - val_loss: 0.9149 - val_accuracy: 0.6858\n",
      "Epoch 3/50\n",
      "1562/1562 [==============================] - 28s 18ms/step - loss: 0.8642 - accuracy: 0.7020 - val_loss: 0.8295 - val_accuracy: 0.7175\n",
      "Epoch 4/50\n",
      "1562/1562 [==============================] - 28s 18ms/step - loss: 0.7646 - accuracy: 0.7386 - val_loss: 0.7133 - val_accuracy: 0.7616\n",
      "Epoch 5/50\n",
      "1562/1562 [==============================] - 28s 18ms/step - loss: 0.6989 - accuracy: 0.7602 - val_loss: 0.6761 - val_accuracy: 0.7700\n",
      "Epoch 6/50\n",
      "1562/1562 [==============================] - 28s 18ms/step - loss: 0.6449 - accuracy: 0.7807 - val_loss: 0.6580 - val_accuracy: 0.7814\n",
      "Epoch 7/50\n",
      "1562/1562 [==============================] - 28s 18ms/step - loss: 0.6023 - accuracy: 0.7952 - val_loss: 0.7359 - val_accuracy: 0.7680\n",
      "Epoch 8/50\n",
      "1562/1562 [==============================] - 28s 18ms/step - loss: 0.5630 - accuracy: 0.8109 - val_loss: 0.5922 - val_accuracy: 0.8039\n",
      "Epoch 9/50\n",
      "1562/1562 [==============================] - 28s 18ms/step - loss: 0.5316 - accuracy: 0.8183 - val_loss: 0.5610 - val_accuracy: 0.8103\n",
      "Epoch 10/50\n",
      "1562/1562 [==============================] - 29s 18ms/step - loss: 0.4936 - accuracy: 0.8303 - val_loss: 0.5454 - val_accuracy: 0.8182\n",
      "Epoch 11/50\n",
      "1562/1562 [==============================] - 28s 18ms/step - loss: 0.4780 - accuracy: 0.8367 - val_loss: 0.5670 - val_accuracy: 0.8089\n",
      "Epoch 12/50\n",
      "1562/1562 [==============================] - 28s 18ms/step - loss: 0.4542 - accuracy: 0.8438 - val_loss: 0.5088 - val_accuracy: 0.8288\n",
      "Epoch 13/50\n",
      "1562/1562 [==============================] - 28s 18ms/step - loss: 0.4353 - accuracy: 0.8508 - val_loss: 0.5032 - val_accuracy: 0.8335\n",
      "Epoch 14/50\n",
      "1562/1562 [==============================] - 28s 18ms/step - loss: 0.4098 - accuracy: 0.8607 - val_loss: 0.5162 - val_accuracy: 0.8288\n",
      "Epoch 15/50\n",
      "1562/1562 [==============================] - 28s 18ms/step - loss: 0.3968 - accuracy: 0.8642 - val_loss: 0.4789 - val_accuracy: 0.8386\n",
      "Epoch 16/50\n",
      "1562/1562 [==============================] - 28s 18ms/step - loss: 0.3775 - accuracy: 0.8702 - val_loss: 0.4828 - val_accuracy: 0.8374\n",
      "Epoch 17/50\n",
      "1562/1562 [==============================] - 28s 18ms/step - loss: 0.3626 - accuracy: 0.8755 - val_loss: 0.4800 - val_accuracy: 0.8472\n",
      "Epoch 18/50\n",
      "1562/1562 [==============================] - 28s 18ms/step - loss: 0.3541 - accuracy: 0.8785 - val_loss: 0.4503 - val_accuracy: 0.8492\n",
      "Epoch 19/50\n",
      "1562/1562 [==============================] - 28s 18ms/step - loss: 0.3449 - accuracy: 0.8802 - val_loss: 0.4771 - val_accuracy: 0.8417\n",
      "Epoch 20/50\n",
      "1562/1562 [==============================] - 28s 18ms/step - loss: 0.3344 - accuracy: 0.8854 - val_loss: 0.4370 - val_accuracy: 0.8551\n",
      "Epoch 21/50\n",
      "1562/1562 [==============================] - 29s 18ms/step - loss: 0.3232 - accuracy: 0.8889 - val_loss: 0.4140 - val_accuracy: 0.8661\n",
      "Epoch 22/50\n",
      "1562/1562 [==============================] - 28s 18ms/step - loss: 0.3114 - accuracy: 0.8935 - val_loss: 0.4464 - val_accuracy: 0.8549\n",
      "Epoch 23/50\n",
      "1562/1562 [==============================] - 28s 18ms/step - loss: 0.2991 - accuracy: 0.8969 - val_loss: 0.4518 - val_accuracy: 0.8585\n",
      "Epoch 24/50\n",
      "1562/1562 [==============================] - 28s 18ms/step - loss: 0.2971 - accuracy: 0.8976 - val_loss: 0.4179 - val_accuracy: 0.8652\n",
      "Epoch 25/50\n",
      "1562/1562 [==============================] - 28s 18ms/step - loss: 0.2906 - accuracy: 0.8992 - val_loss: 0.4185 - val_accuracy: 0.8698\n",
      "Epoch 26/50\n",
      "1562/1562 [==============================] - 27s 18ms/step - loss: 0.2804 - accuracy: 0.9024 - val_loss: 0.3997 - val_accuracy: 0.8705\n",
      "Epoch 27/50\n",
      "1562/1562 [==============================] - 28s 18ms/step - loss: 0.2754 - accuracy: 0.9059 - val_loss: 0.4300 - val_accuracy: 0.8651\n",
      "Epoch 28/50\n",
      "1562/1562 [==============================] - 28s 18ms/step - loss: 0.2680 - accuracy: 0.9084 - val_loss: 0.4718 - val_accuracy: 0.8554\n",
      "Epoch 29/50\n",
      "1562/1562 [==============================] - 26s 17ms/step - loss: 0.2629 - accuracy: 0.9087 - val_loss: 0.4298 - val_accuracy: 0.8683\n",
      "Epoch 30/50\n",
      "1562/1562 [==============================] - 26s 16ms/step - loss: 0.2545 - accuracy: 0.9127 - val_loss: 0.4431 - val_accuracy: 0.8651\n",
      "Epoch 31/50\n",
      "1562/1562 [==============================] - 26s 17ms/step - loss: 0.2530 - accuracy: 0.9123 - val_loss: 0.4293 - val_accuracy: 0.8602\n",
      "Epoch 32/50\n",
      "1562/1562 [==============================] - 26s 17ms/step - loss: 0.2437 - accuracy: 0.9152 - val_loss: 0.4081 - val_accuracy: 0.8704\n",
      "Epoch 33/50\n",
      "1562/1562 [==============================] - 29s 19ms/step - loss: 0.2446 - accuracy: 0.9160 - val_loss: 0.4085 - val_accuracy: 0.8716\n",
      "Epoch 34/50\n",
      "1562/1562 [==============================] - 28s 18ms/step - loss: 0.2333 - accuracy: 0.9198 - val_loss: 0.4290 - val_accuracy: 0.8705\n",
      "Epoch 35/50\n",
      "1562/1562 [==============================] - 28s 18ms/step - loss: 0.2356 - accuracy: 0.9192 - val_loss: 0.3990 - val_accuracy: 0.8697\n",
      "Epoch 36/50\n",
      "1562/1562 [==============================] - 28s 18ms/step - loss: 0.2227 - accuracy: 0.9230 - val_loss: 0.4209 - val_accuracy: 0.8747\n",
      "Epoch 37/50\n",
      "1562/1562 [==============================] - 29s 18ms/step - loss: 0.2221 - accuracy: 0.9228 - val_loss: 0.3912 - val_accuracy: 0.8801\n",
      "Epoch 38/50\n",
      "1562/1562 [==============================] - 29s 18ms/step - loss: 0.2202 - accuracy: 0.9233 - val_loss: 0.4130 - val_accuracy: 0.8713\n",
      "Epoch 39/50\n",
      "1562/1562 [==============================] - 28s 18ms/step - loss: 0.2133 - accuracy: 0.9257 - val_loss: 0.4321 - val_accuracy: 0.8659\n",
      "Epoch 40/50\n",
      "1562/1562 [==============================] - 29s 18ms/step - loss: 0.2120 - accuracy: 0.9277 - val_loss: 0.4666 - val_accuracy: 0.8614\n",
      "Epoch 41/50\n",
      "1562/1562 [==============================] - 28s 18ms/step - loss: 0.2109 - accuracy: 0.9280 - val_loss: 0.4517 - val_accuracy: 0.8639\n",
      "Epoch 42/50\n",
      "1562/1562 [==============================] - 28s 18ms/step - loss: 0.2095 - accuracy: 0.9273 - val_loss: 0.3694 - val_accuracy: 0.8832\n",
      "Epoch 43/50\n",
      "1562/1562 [==============================] - 29s 18ms/step - loss: 0.2002 - accuracy: 0.9333 - val_loss: 0.4302 - val_accuracy: 0.8727\n",
      "Epoch 44/50\n",
      "1562/1562 [==============================] - 29s 19ms/step - loss: 0.1979 - accuracy: 0.9317 - val_loss: 0.3936 - val_accuracy: 0.8849\n",
      "Epoch 45/50\n",
      "1562/1562 [==============================] - 29s 18ms/step - loss: 0.1913 - accuracy: 0.9354 - val_loss: 0.4554 - val_accuracy: 0.8677\n",
      "Epoch 46/50\n",
      "1562/1562 [==============================] - 29s 18ms/step - loss: 0.1954 - accuracy: 0.9319 - val_loss: 0.3866 - val_accuracy: 0.8803\n",
      "Epoch 47/50\n",
      "1562/1562 [==============================] - 29s 18ms/step - loss: 0.1930 - accuracy: 0.9340 - val_loss: 0.4081 - val_accuracy: 0.8811\n",
      "Epoch 48/50\n",
      "1562/1562 [==============================] - 29s 18ms/step - loss: 0.1923 - accuracy: 0.9332 - val_loss: 0.3887 - val_accuracy: 0.8790\n",
      "Epoch 49/50\n",
      "1562/1562 [==============================] - 29s 18ms/step - loss: 0.1865 - accuracy: 0.9366 - val_loss: 0.4497 - val_accuracy: 0.8642\n",
      "Epoch 50/50\n",
      "1562/1562 [==============================] - 29s 18ms/step - loss: 0.1826 - accuracy: 0.9371 - val_loss: 0.4174 - val_accuracy: 0.8842\n"
     ]
    }
   ],
   "source": [
    "#Data augumentation\n",
    "batch_size = 32\n",
    "data_generator = tf.keras.preprocessing.image.ImageDataGenerator(width_shift_range=0.1, height_shift_range=0.1, horizontal_flip=True)\n",
    "train_generator = data_generator.flow(x_train, y_train, batch_size)\n",
    "steps_per_epoch = x_train.shape[0] // batch_size\n",
    "r = model.fit(train_generator, validation_data=(x_test, y_test), steps_per_epoch=steps_per_epoch, epochs=50)"
   ]
  },
  {
   "cell_type": "code",
   "execution_count": 7,
   "metadata": {
    "colab": {
     "base_uri": "https://localhost:8080/",
     "height": 282
    },
    "id": "3Lip5GhSi-pr",
    "outputId": "03eacdb4-8da5-49d6-cea9-575276f20258"
   },
   "outputs": [
    {
     "data": {
      "text/plain": [
       "<matplotlib.legend.Legend at 0x7fc58a2d8c50>"
      ]
     },
     "execution_count": 7,
     "metadata": {
      "tags": []
     },
     "output_type": "execute_result"
    },
    {
     "data": {
      "image/png": "[encoded data removed]",
      "text/plain": [
       "<Figure size 432x288 with 1 Axes>"
      ]
     },
     "metadata": {
      "needs_background": "light",
      "tags": []
     },
     "output_type": "display_data"
    }
   ],
   "source": [
    "plt.plot(r.history['loss'], label='loss')\n",
    "plt.plot(r.history['val_loss'], label='val_loss')\n",
    "plt.legend()"
   ]
  },
  {
   "cell_type": "code",
   "execution_count": 8,
   "metadata": {
    "colab": {
     "base_uri": "https://localhost:8080/",
     "height": 282
    },
    "id": "_P21VMvXjXsg",
    "outputId": "fb5c68ac-5de6-46af-d39d-f9cfb4dce7a3"
   },
   "outputs": [
    {
     "data": {
      "text/plain": [
       "<matplotlib.legend.Legend at 0x7fc58a1c4550>"
      ]
     },
     "execution_count": 8,
     "metadata": {
      "tags": []
     },
     "output_type": "execute_result"
    },
    {
     "data": {
      "image/png": "[encoded data removed]",
      "text/plain": [
       "<Figure size 432x288 with 1 Axes>"
      ]
     },
     "metadata": {
      "needs_background": "light",
      "tags": []
     },
     "output_type": "display_data"
    }
   ],
   "source": [
    "# Plot accuracy per iteration\n",
    "plt.plot(r.history['accuracy'], label='acc')\n",
    "plt.plot(r.history['val_accuracy'], label='val_acc')\n",
    "plt.legend()"
   ]
  },
  {
   "cell_type": "code",
   "execution_count": 9,
   "metadata": {
    "colab": {
     "base_uri": "https://localhost:8080/",
     "height": 867
    },
    "id": "_LkW_XPHjYOa",
    "outputId": "8e9b1358-6e83-4491-b861-79bb0c12e26d"
   },
   "outputs": [
    {
     "name": "stdout",
     "output_type": "stream",
     "text": [
      "Model: \"functional_1\"\n",
      "_________________________________________________________________\n",
      "Layer (type)                 Output Shape              Param #   \n",
      "=================================================================\n",
      "input_1 (InputLayer)         [(None, 32, 32, 3)]       0         \n",
      "_________________________________________________________________\n",
      "conv2d (Conv2D)              (None, 32, 32, 32)        896       \n",
      "_________________________________________________________________\n",
      "batch_normalization (BatchNo (None, 32, 32, 32)        128       \n",
      "_________________________________________________________________\n",
      "conv2d_1 (Conv2D)            (None, 32, 32, 32)        9248      \n",
      "_________________________________________________________________\n",
      "batch_normalization_1 (Batch (None, 32, 32, 32)        128       \n",
      "_________________________________________________________________\n",
      "max_pooling2d (MaxPooling2D) (None, 16, 16, 32)        0         \n",
      "_________________________________________________________________\n",
      "conv2d_2 (Conv2D)            (None, 16, 16, 64)        18496     \n",
      "_________________________________________________________________\n",
      "batch_normalization_2 (Batch (None, 16, 16, 64)        256       \n",
      "_________________________________________________________________\n",
      "conv2d_3 (Conv2D)            (None, 16, 16, 64)        36928     \n",
      "_________________________________________________________________\n",
      "batch_normalization_3 (Batch (None, 16, 16, 64)        256       \n",
      "_________________________________________________________________\n",
      "max_pooling2d_1 (MaxPooling2 (None, 8, 8, 64)          0         \n",
      "_________________________________________________________________\n",
      "conv2d_4 (Conv2D)            (None, 8, 8, 128)         73856     \n",
      "_________________________________________________________________\n",
      "batch_normalization_4 (Batch (None, 8, 8, 128)         512       \n",
      "_________________________________________________________________\n",
      "conv2d_5 (Conv2D)            (None, 8, 8, 128)         147584    \n",
      "_________________________________________________________________\n",
      "batch_normalization_5 (Batch (None, 8, 8, 128)         512       \n",
      "_________________________________________________________________\n",
      "max_pooling2d_2 (MaxPooling2 (None, 4, 4, 128)         0         \n",
      "_________________________________________________________________\n",
      "flatten (Flatten)            (None, 2048)              0         \n",
      "_________________________________________________________________\n",
      "dropout (Dropout)            (None, 2048)              0         \n",
      "_________________________________________________________________\n",
      "dense (Dense)                (None, 1024)              2098176   \n",
      "_________________________________________________________________\n",
      "dropout_1 (Dropout)          (None, 1024)              0         \n",
      "_________________________________________________________________\n",
      "dense_1 (Dense)              (None, 10)                10250     \n",
      "=================================================================\n",
      "Total params: 2,397,226\n",
      "Trainable params: 2,396,330\n",
      "Non-trainable params: 896\n",
      "_________________________________________________________________\n"
     ]
    }
   ],
   "source": [
    "model.summary()"
   ]
  }
 ],
 "metadata": {
  "accelerator": "GPU",
  "colab": {
   "name": "TensorFlow-CIFAR10.ipynb",
   "provenance": []
  },
  "kernelspec": {
   "display_name": "Python 3",
   "language": "python",
   "name": "python3"
  },
  "language_info": {
   "codemirror_mode": {
    "name": "ipython",
    "version": 3
   },
   "file_extension": ".py",
   "mimetype": "text/x-python",
   "name": "python",
   "nbconvert_exporter": "python",
   "pygments_lexer": "ipython3",
   "version": "3.8.3"
  },
  "latex_envs": {
   "LaTeX_envs_menu_present": true,
   "autoclose": false,
   "autocomplete": true,
   "bibliofile": "biblio.bib",
   "cite_by": "apalike",
   "current_citInitial": 1,
   "eqLabelWithNumbers": true,
   "eqNumInitial": 1,
   "hotkeys": {
    "equation": "Ctrl-E",
    "itemize": "Ctrl-I"
   },
   "labels_anchors": false,
   "latex_user_defs": false,
   "report_style_numbering": false,
   "user_envs_cfg": false
  },
  "toc": {
   "base_numbering": 1,
   "nav_menu": {},
   "number_sections": true,
   "sideBar": true,
   "skip_h1_title": false,
   "title_cell": "Table of Contents",
   "title_sidebar": "Contents",
   "toc_cell": false,
   "toc_position": {},
   "toc_section_display": true,
   "toc_window_display": false
  }
 },
 "nbformat": 4,
 "nbformat_minor": 1
}
