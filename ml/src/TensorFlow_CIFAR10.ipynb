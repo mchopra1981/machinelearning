{
  "nbformat": 4,
  "nbformat_minor": 0,
  "metadata": {
    "accelerator": "GPU",
    "colab": {
      "name": "TensorFlow-CIFAR10.ipynb",
      "provenance": []
    },
    "kernelspec": {
      "display_name": "Python 3",
      "language": "python",
      "name": "python3"
    },
    "language_info": {
      "codemirror_mode": {
        "name": "ipython",
        "version": 3
      },
      "file_extension": ".py",
      "mimetype": "text/x-python",
      "name": "python",
      "nbconvert_exporter": "python",
      "pygments_lexer": "ipython3",
      "version": "3.8.3"
    },
    "latex_envs": {
      "LaTeX_envs_menu_present": true,
      "autoclose": false,
      "autocomplete": true,
      "bibliofile": "biblio.bib",
      "cite_by": "apalike",
      "current_citInitial": 1,
      "eqLabelWithNumbers": true,
      "eqNumInitial": 1,
      "hotkeys": {
        "equation": "Ctrl-E",
        "itemize": "Ctrl-I"
      },
      "labels_anchors": false,
      "latex_user_defs": false,
      "report_style_numbering": false,
      "user_envs_cfg": false
    },
    "toc": {
      "base_numbering": 1,
      "nav_menu": {},
      "number_sections": true,
      "sideBar": true,
      "skip_h1_title": false,
      "title_cell": "Table of Contents",
      "title_sidebar": "Contents",
      "toc_cell": false,
      "toc_position": {},
      "toc_section_display": true,
      "toc_window_display": false
    }
  },
  "cells": [
    {
      "cell_type": "markdown",
      "metadata": {
        "id": "vWS0-GSWhoUp"
      },
      "source": [
        "## TensorFlow-CIFAR10\n",
        "\n",
        "Lets apply **TensorFlow** to fit CIFAR10 dataset"
      ]
    },
    {
      "cell_type": "code",
      "metadata": {
        "id": "OyNVLL_KfEtX"
      },
      "source": [
        "import numpy as np\n",
        "import matplotlib.pyplot as plt\n",
        "import pandas as pd\n",
        "import tensorflow as tf\n",
        "from tensorflow.keras.layers import Input, Conv2D, Dense, Flatten, Dropout, GlobalMaxPooling2D, MaxPooling2D, BatchNormalization\n",
        "from tensorflow.keras.models import Model"
      ],
      "execution_count": 1,
      "outputs": []
    },
    {
      "cell_type": "code",
      "metadata": {
        "colab": {
          "base_uri": "https://localhost:8080/"
        },
        "id": "qhms7gtUh7JE",
        "outputId": "bf37fc4b-76a5-4233-8993-1fd60825790d"
      },
      "source": [
        "# Load in the data\n",
        "cifar10 = tf.keras.datasets.cifar10\n",
        "\n",
        "(x_train, y_train), (x_test, y_test) = cifar10.load_data()\n",
        "x_train, x_test = x_train / 255.0, x_test / 255.0\n",
        "y_train, y_test = y_train.flatten(), y_test.flatten()\n",
        "print(\"x_train.shape:\", x_train.shape)\n",
        "print(\"y_train.shape\", y_train.shape)"
      ],
      "execution_count": 2,
      "outputs": [
        {
          "output_type": "stream",
          "text": [
            "Downloading data from https://www.cs.toronto.edu/~kriz/cifar-10-python.tar.gz\n",
            "170500096/170498071 [==============================] - 4s 0us/step\n",
            "x_train.shape: (50000, 32, 32, 3)\n",
            "y_train.shape (50000,)\n"
          ],
          "name": "stdout"
        }
      ]
    },
    {
      "cell_type": "code",
      "metadata": {
        "colab": {
          "base_uri": "https://localhost:8080/"
        },
        "id": "hCF7ZwP9h9dv",
        "outputId": "45d35eea-6f85-4b99-95b6-396a9938488b"
      },
      "source": [
        "# number of classes\n",
        "K = len(set(y_train))\n",
        "print(\"number of classes:\", K)"
      ],
      "execution_count": 3,
      "outputs": [
        {
          "output_type": "stream",
          "text": [
            "number of classes: 10\n"
          ],
          "name": "stdout"
        }
      ]
    },
    {
      "cell_type": "code",
      "metadata": {
        "id": "IgIcI-wviDiQ"
      },
      "source": [
        "#Build the model\n",
        "i = Input(shape=x_train[0].shape)\n",
        "x = Conv2D(32, (3, 3), activation='relu', padding='same' )(i)\n",
        "x = BatchNormalization()(x)\n",
        "x = Conv2D(32, (3, 3), activation='relu', padding='same')(x)\n",
        "x = BatchNormalization()(x)\n",
        "x = MaxPooling2D((2, 2))(x)\n",
        "x = Conv2D(64, (3, 3), activation='relu', padding='same')(x)\n",
        "x = BatchNormalization()(x)\n",
        "x = Conv2D(64, (3, 3), activation='relu', padding='same')(x)\n",
        "x = BatchNormalization()(x)\n",
        "x = MaxPooling2D((2, 2))(x)\n",
        "x = Conv2D(128, (3, 3), activation='relu', padding='same')(x)\n",
        "x = BatchNormalization()(x)\n",
        "x = Conv2D(128, (3, 3), activation='relu', padding='same')(x)\n",
        "x = BatchNormalization()(x)\n",
        "x = MaxPooling2D((2, 2))(x)\n",
        "\n",
        "x = Flatten()(x)\n",
        "x = Dropout(0.2)(x)\n",
        "x = Dense(1024, activation='relu')(x)\n",
        "x = Dropout(0.2)(x)\n",
        "x = Dense(K, activation='softmax')(x)\n",
        "\n",
        "model = Model(i, x)"
      ],
      "execution_count": 4,
      "outputs": []
    },
    {
      "cell_type": "code",
      "metadata": {
        "id": "ce5aHAkuiYbr"
      },
      "source": [
        "# Compile\n",
        "# Note: make sure you are using the GPU for this!\n",
        "model.compile(optimizer='adam',\n",
        "              loss='sparse_categorical_crossentropy',\n",
        "              metrics=['accuracy'])"
      ],
      "execution_count": 5,
      "outputs": []
    },
    {
      "cell_type": "code",
      "metadata": {
        "colab": {
          "base_uri": "https://localhost:8080/"
        },
        "id": "DXOaZmjwis18",
        "outputId": "d3fc42d1-9108-43ee-9ca7-a38a4c3631b1"
      },
      "source": [
        "#Data augumentation\n",
        "batch_size = 32\n",
        "data_generator = tf.keras.preprocessing.image.ImageDataGenerator(width_shift_range=0.1, height_shift_range=0.1, horizontal_flip=True)\n",
        "train_generator = data_generator.flow(x_train, y_train, batch_size)\n",
        "steps_per_epoch = x_train.shape[0] // batch_size\n",
        "#Fit the model\n",
        "r = model.fit(train_generator, validation_data=(x_test, y_test), steps_per_epoch=steps_per_epoch, epochs=50)"
      ],
      "execution_count": 6,
      "outputs": [
        {
          "output_type": "stream",
          "text": [
            "Epoch 1/50\n",
            "1562/1562 [==============================] - 28s 18ms/step - loss: 1.4156 - accuracy: 0.5055 - val_loss: 1.1643 - val_accuracy: 0.5951\n",
            "Epoch 2/50\n",
            "1562/1562 [==============================] - 27s 17ms/step - loss: 0.9847 - accuracy: 0.6550 - val_loss: 0.9346 - val_accuracy: 0.6870\n",
            "Epoch 3/50\n",
            "1562/1562 [==============================] - 29s 18ms/step - loss: 0.8339 - accuracy: 0.7152 - val_loss: 0.8652 - val_accuracy: 0.7190\n",
            "Epoch 4/50\n",
            "1562/1562 [==============================] - 29s 19ms/step - loss: 0.7452 - accuracy: 0.7462 - val_loss: 0.8349 - val_accuracy: 0.7259\n",
            "Epoch 5/50\n",
            "1562/1562 [==============================] - 28s 18ms/step - loss: 0.6856 - accuracy: 0.7663 - val_loss: 0.6190 - val_accuracy: 0.7957\n",
            "Epoch 6/50\n",
            "1562/1562 [==============================] - 28s 18ms/step - loss: 0.6272 - accuracy: 0.7862 - val_loss: 0.7415 - val_accuracy: 0.7597\n",
            "Epoch 7/50\n",
            "1562/1562 [==============================] - 28s 18ms/step - loss: 0.5930 - accuracy: 0.8004 - val_loss: 0.6054 - val_accuracy: 0.7996\n",
            "Epoch 8/50\n",
            "1562/1562 [==============================] - 28s 18ms/step - loss: 0.5514 - accuracy: 0.8127 - val_loss: 0.5651 - val_accuracy: 0.8112\n",
            "Epoch 9/50\n",
            "1562/1562 [==============================] - 28s 18ms/step - loss: 0.5207 - accuracy: 0.8229 - val_loss: 0.5456 - val_accuracy: 0.8201\n",
            "Epoch 10/50\n",
            "1562/1562 [==============================] - 29s 18ms/step - loss: 0.4947 - accuracy: 0.8313 - val_loss: 0.5365 - val_accuracy: 0.8220\n",
            "Epoch 11/50\n",
            "1562/1562 [==============================] - 28s 18ms/step - loss: 0.4738 - accuracy: 0.8382 - val_loss: 0.5671 - val_accuracy: 0.8108\n",
            "Epoch 12/50\n",
            "1562/1562 [==============================] - 28s 18ms/step - loss: 0.4516 - accuracy: 0.8452 - val_loss: 0.5464 - val_accuracy: 0.8229\n",
            "Epoch 13/50\n",
            "1562/1562 [==============================] - 28s 18ms/step - loss: 0.4325 - accuracy: 0.8508 - val_loss: 0.5269 - val_accuracy: 0.8256\n",
            "Epoch 14/50\n",
            "1562/1562 [==============================] - 28s 18ms/step - loss: 0.4100 - accuracy: 0.8606 - val_loss: 0.5475 - val_accuracy: 0.8289\n",
            "Epoch 15/50\n",
            "1562/1562 [==============================] - 28s 18ms/step - loss: 0.3932 - accuracy: 0.8653 - val_loss: 0.4447 - val_accuracy: 0.8555\n",
            "Epoch 16/50\n",
            "1562/1562 [==============================] - 28s 18ms/step - loss: 0.3780 - accuracy: 0.8699 - val_loss: 0.4474 - val_accuracy: 0.8509\n",
            "Epoch 17/50\n",
            "1562/1562 [==============================] - 28s 18ms/step - loss: 0.3645 - accuracy: 0.8753 - val_loss: 0.4679 - val_accuracy: 0.8496\n",
            "Epoch 18/50\n",
            "1562/1562 [==============================] - 28s 18ms/step - loss: 0.3611 - accuracy: 0.8762 - val_loss: 0.4271 - val_accuracy: 0.8573\n",
            "Epoch 19/50\n",
            "1562/1562 [==============================] - 28s 18ms/step - loss: 0.3446 - accuracy: 0.8816 - val_loss: 0.4416 - val_accuracy: 0.8530\n",
            "Epoch 20/50\n",
            "1562/1562 [==============================] - 28s 18ms/step - loss: 0.3300 - accuracy: 0.8864 - val_loss: 0.4190 - val_accuracy: 0.8627\n",
            "Epoch 21/50\n",
            "1562/1562 [==============================] - 29s 18ms/step - loss: 0.3237 - accuracy: 0.8882 - val_loss: 0.4524 - val_accuracy: 0.8525\n",
            "Epoch 22/50\n",
            "1562/1562 [==============================] - 28s 18ms/step - loss: 0.3140 - accuracy: 0.8921 - val_loss: 0.4107 - val_accuracy: 0.8676\n",
            "Epoch 23/50\n",
            "1562/1562 [==============================] - 28s 18ms/step - loss: 0.3021 - accuracy: 0.8973 - val_loss: 0.4014 - val_accuracy: 0.8686\n",
            "Epoch 24/50\n",
            "1562/1562 [==============================] - 28s 18ms/step - loss: 0.2981 - accuracy: 0.8978 - val_loss: 0.4238 - val_accuracy: 0.8629\n",
            "Epoch 25/50\n",
            "1562/1562 [==============================] - 28s 18ms/step - loss: 0.2884 - accuracy: 0.8987 - val_loss: 0.4368 - val_accuracy: 0.8625\n",
            "Epoch 26/50\n",
            "1562/1562 [==============================] - 28s 18ms/step - loss: 0.2755 - accuracy: 0.9043 - val_loss: 0.4436 - val_accuracy: 0.8657\n",
            "Epoch 27/50\n",
            "1562/1562 [==============================] - 28s 18ms/step - loss: 0.2751 - accuracy: 0.9056 - val_loss: 0.4654 - val_accuracy: 0.8599\n",
            "Epoch 28/50\n",
            "1562/1562 [==============================] - 28s 18ms/step - loss: 0.2725 - accuracy: 0.9061 - val_loss: 0.4708 - val_accuracy: 0.8570\n",
            "Epoch 29/50\n",
            "1562/1562 [==============================] - 28s 18ms/step - loss: 0.2629 - accuracy: 0.9087 - val_loss: 0.3808 - val_accuracy: 0.8811\n",
            "Epoch 30/50\n",
            "1562/1562 [==============================] - 28s 18ms/step - loss: 0.2595 - accuracy: 0.9087 - val_loss: 0.4199 - val_accuracy: 0.8665\n",
            "Epoch 31/50\n",
            "1562/1562 [==============================] - 28s 18ms/step - loss: 0.2537 - accuracy: 0.9132 - val_loss: 0.4751 - val_accuracy: 0.8546\n",
            "Epoch 32/50\n",
            "1562/1562 [==============================] - 28s 18ms/step - loss: 0.2458 - accuracy: 0.9144 - val_loss: 0.3872 - val_accuracy: 0.8760\n",
            "Epoch 33/50\n",
            "1562/1562 [==============================] - 27s 18ms/step - loss: 0.2433 - accuracy: 0.9163 - val_loss: 0.4034 - val_accuracy: 0.8763\n",
            "Epoch 34/50\n",
            "1562/1562 [==============================] - 27s 17ms/step - loss: 0.2357 - accuracy: 0.9187 - val_loss: 0.3940 - val_accuracy: 0.8717\n",
            "Epoch 35/50\n",
            "1562/1562 [==============================] - 27s 18ms/step - loss: 0.2358 - accuracy: 0.9203 - val_loss: 0.3946 - val_accuracy: 0.8722\n",
            "Epoch 36/50\n",
            "1562/1562 [==============================] - 27s 17ms/step - loss: 0.2301 - accuracy: 0.9205 - val_loss: 0.4191 - val_accuracy: 0.8758\n",
            "Epoch 37/50\n",
            "1562/1562 [==============================] - 27s 18ms/step - loss: 0.2289 - accuracy: 0.9233 - val_loss: 0.4260 - val_accuracy: 0.8658\n",
            "Epoch 38/50\n",
            "1562/1562 [==============================] - 27s 18ms/step - loss: 0.2211 - accuracy: 0.9236 - val_loss: 0.4101 - val_accuracy: 0.8769\n",
            "Epoch 39/50\n",
            "1562/1562 [==============================] - 27s 17ms/step - loss: 0.2204 - accuracy: 0.9237 - val_loss: 0.3784 - val_accuracy: 0.8792\n",
            "Epoch 40/50\n",
            "1562/1562 [==============================] - 27s 17ms/step - loss: 0.2164 - accuracy: 0.9255 - val_loss: 0.4270 - val_accuracy: 0.8780\n",
            "Epoch 41/50\n",
            "1562/1562 [==============================] - 27s 17ms/step - loss: 0.2072 - accuracy: 0.9291 - val_loss: 0.3755 - val_accuracy: 0.8854\n",
            "Epoch 42/50\n",
            "1562/1562 [==============================] - 27s 17ms/step - loss: 0.2099 - accuracy: 0.9284 - val_loss: 0.4490 - val_accuracy: 0.8746\n",
            "Epoch 43/50\n",
            "1562/1562 [==============================] - 28s 18ms/step - loss: 0.2038 - accuracy: 0.9296 - val_loss: 0.4336 - val_accuracy: 0.8694\n",
            "Epoch 44/50\n",
            "1562/1562 [==============================] - 27s 17ms/step - loss: 0.1958 - accuracy: 0.9336 - val_loss: 0.4444 - val_accuracy: 0.8719\n",
            "Epoch 45/50\n",
            "1562/1562 [==============================] - 27s 17ms/step - loss: 0.2004 - accuracy: 0.9307 - val_loss: 0.4122 - val_accuracy: 0.8827\n",
            "Epoch 46/50\n",
            "1562/1562 [==============================] - 27s 17ms/step - loss: 0.1936 - accuracy: 0.9331 - val_loss: 0.3836 - val_accuracy: 0.8875\n",
            "Epoch 47/50\n",
            "1562/1562 [==============================] - 27s 17ms/step - loss: 0.1946 - accuracy: 0.9338 - val_loss: 0.4100 - val_accuracy: 0.8838\n",
            "Epoch 48/50\n",
            "1562/1562 [==============================] - 27s 17ms/step - loss: 0.1917 - accuracy: 0.9348 - val_loss: 0.4204 - val_accuracy: 0.8748\n",
            "Epoch 49/50\n",
            "1562/1562 [==============================] - 27s 17ms/step - loss: 0.1885 - accuracy: 0.9341 - val_loss: 0.4021 - val_accuracy: 0.8808\n",
            "Epoch 50/50\n",
            "1562/1562 [==============================] - 27s 17ms/step - loss: 0.1794 - accuracy: 0.9377 - val_loss: 0.4043 - val_accuracy: 0.8893\n"
          ],
          "name": "stdout"
        }
      ]
    },
    {
      "cell_type": "code",
      "metadata": {
        "colab": {
          "base_uri": "https://localhost:8080/",
          "height": 282
        },
        "id": "3Lip5GhSi-pr",
        "outputId": "48ce8f16-8a56-48be-abfc-e5c593b62797"
      },
      "source": [
        "plt.plot(r.history['loss'], label='loss')\n",
        "plt.plot(r.history['val_loss'], label='val_loss')\n",
        "plt.legend()"
      ],
      "execution_count": 7,
      "outputs": [
        {
          "output_type": "execute_result",
          "data": {
            "text/plain": [
              "<matplotlib.legend.Legend at 0x7f0a4bfc6dd8>"
            ]
          },
          "metadata": {
            "tags": []
          },
          "execution_count": 7
        },
        {
          "output_type": "display_data",
          "data": {
            "image/png": "[encoded data removed]",
            "text/plain": [
              "<Figure size 432x288 with 1 Axes>"
            ]
          },
          "metadata": {
            "tags": [],
            "needs_background": "light"
          }
        }
      ]
    },
    {
      "cell_type": "code",
      "metadata": {
        "colab": {
          "base_uri": "https://localhost:8080/",
          "height": 282
        },
        "id": "_P21VMvXjXsg",
        "outputId": "a6dddcf7-c971-4688-c4e0-e5dd058078b6"
      },
      "source": [
        "# Plot accuracy per iteration\n",
        "plt.plot(r.history['accuracy'], label='acc')\n",
        "plt.plot(r.history['val_accuracy'], label='val_acc')\n",
        "plt.legend()"
      ],
      "execution_count": 8,
      "outputs": [
        {
          "output_type": "execute_result",
          "data": {
            "text/plain": [
              "<matplotlib.legend.Legend at 0x7f0a4a254438>"
            ]
          },
          "metadata": {
            "tags": []
          },
          "execution_count": 8
        },
        {
          "output_type": "display_data",
          "data": {
            "image/png": "[encoded data removed]",
            "text/plain": [
              "<Figure size 432x288 with 1 Axes>"
            ]
          },
          "metadata": {
            "tags": [],
            "needs_background": "light"
          }
        }
      ]
    },
    {
      "cell_type": "code",
      "metadata": {
        "colab": {
          "base_uri": "https://localhost:8080/"
        },
        "id": "_LkW_XPHjYOa",
        "outputId": "3c353e9b-b5d3-4f49-873e-9a031e1bf211"
      },
      "source": [
        "model.summary()"
      ],
      "execution_count": 9,
      "outputs": [
        {
          "output_type": "stream",
          "text": [
            "Model: \"functional_1\"\n",
            "_________________________________________________________________\n",
            "Layer (type)                 Output Shape              Param #   \n",
            "=================================================================\n",
            "input_1 (InputLayer)         [(None, 32, 32, 3)]       0         \n",
            "_________________________________________________________________\n",
            "conv2d (Conv2D)              (None, 32, 32, 32)        896       \n",
            "_________________________________________________________________\n",
            "batch_normalization (BatchNo (None, 32, 32, 32)        128       \n",
            "_________________________________________________________________\n",
            "conv2d_1 (Conv2D)            (None, 32, 32, 32)        9248      \n",
            "_________________________________________________________________\n",
            "batch_normalization_1 (Batch (None, 32, 32, 32)        128       \n",
            "_________________________________________________________________\n",
            "max_pooling2d (MaxPooling2D) (None, 16, 16, 32)        0         \n",
            "_________________________________________________________________\n",
            "conv2d_2 (Conv2D)            (None, 16, 16, 64)        18496     \n",
            "_________________________________________________________________\n",
            "batch_normalization_2 (Batch (None, 16, 16, 64)        256       \n",
            "_________________________________________________________________\n",
            "conv2d_3 (Conv2D)            (None, 16, 16, 64)        36928     \n",
            "_________________________________________________________________\n",
            "batch_normalization_3 (Batch (None, 16, 16, 64)        256       \n",
            "_________________________________________________________________\n",
            "max_pooling2d_1 (MaxPooling2 (None, 8, 8, 64)          0         \n",
            "_________________________________________________________________\n",
            "conv2d_4 (Conv2D)            (None, 8, 8, 128)         73856     \n",
            "_________________________________________________________________\n",
            "batch_normalization_4 (Batch (None, 8, 8, 128)         512       \n",
            "_________________________________________________________________\n",
            "conv2d_5 (Conv2D)            (None, 8, 8, 128)         147584    \n",
            "_________________________________________________________________\n",
            "batch_normalization_5 (Batch (None, 8, 8, 128)         512       \n",
            "_________________________________________________________________\n",
            "max_pooling2d_2 (MaxPooling2 (None, 4, 4, 128)         0         \n",
            "_________________________________________________________________\n",
            "flatten (Flatten)            (None, 2048)              0         \n",
            "_________________________________________________________________\n",
            "dropout (Dropout)            (None, 2048)              0         \n",
            "_________________________________________________________________\n",
            "dense (Dense)                (None, 1024)              2098176   \n",
            "_________________________________________________________________\n",
            "dropout_1 (Dropout)          (None, 1024)              0         \n",
            "_________________________________________________________________\n",
            "dense_1 (Dense)              (None, 10)                10250     \n",
            "=================================================================\n",
            "Total params: 2,397,226\n",
            "Trainable params: 2,396,330\n",
            "Non-trainable params: 896\n",
            "_________________________________________________________________\n"
          ],
          "name": "stdout"
        }
      ]
    }
  ]
}