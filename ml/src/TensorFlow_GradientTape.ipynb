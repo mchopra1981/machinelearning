{
 "cells": [
  {
   "cell_type": "markdown",
   "metadata": {
    "id": "-KL7B6VKbRAb"
   },
   "source": [
    "## TensorFlow - Gradient Tape\n",
    "**TensorFlow** has a mechanism to record gradients of variables, that mechanism is called **Gradient Tape**. In this notebook we will make some examples of Gradient Tape."
   ]
  },
  {
   "cell_type": "code",
   "execution_count": 1,
   "metadata": {
    "ExecuteTime": {
     "end_time": "2021-01-06T21:58:56.281165Z",
     "start_time": "2021-01-06T21:58:48.092618Z"
    },
    "id": "i0hN8zQbbNJx"
   },
   "outputs": [],
   "source": [
    "import numpy as np\n",
    "import tensorflow as tf\n",
    "import matplotlib.pyplot as plt\n",
    "\n",
    "%matplotlib inline"
   ]
  },
  {
   "cell_type": "code",
   "execution_count": 2,
   "metadata": {
    "ExecuteTime": {
     "end_time": "2021-01-06T21:58:56.406912Z",
     "start_time": "2021-01-06T21:58:56.284030Z"
    },
    "id": "2R15BpkwbmLk"
   },
   "outputs": [],
   "source": [
    "#we will optimize (x-1)^2\n",
    "\n",
    "x = tf.Variable(5.)\n",
    "\n",
    "#Define the loss function\n",
    "def get_loss(x):\n",
    "    return (x-1) ** 2\n",
    "\n",
    "# Use \"gradient tape\" to record the gradients\n",
    "def get_grad(x):\n",
    "    with tf.GradientTape() as tape:\n",
    "        L = get_loss(x)\n",
    "\n",
    "    # Get the gradient\n",
    "    g = tape.gradient(L, x)\n",
    "    return g\n",
    "  \n",
    "\n",
    "# Define an optimizer\n",
    "optimizer = tf.keras.optimizers.SGD(learning_rate=0.1)\n",
    "\n",
    "# Store the losses\n",
    "losses = []\n",
    "\n",
    "# Perform gradient descent\n",
    "for i in range(50):\n",
    "    g = get_grad(x)\n",
    "    optimizer.apply_gradients(zip([g], [x]))\n",
    "    losses.append(get_loss(x))"
   ]
  },
  {
   "cell_type": "code",
   "execution_count": 3,
   "metadata": {
    "ExecuteTime": {
     "end_time": "2021-01-06T21:58:56.691092Z",
     "start_time": "2021-01-06T21:58:56.410317Z"
    },
    "colab": {
     "base_uri": "https://localhost:8080/",
     "height": 282
    },
    "id": "N7kIb1ZMcAia",
    "outputId": "2b18f7c7-7022-47c9-97e2-6b0363bdd17f"
   },
   "outputs": [
    {
     "data": {
      "text/plain": [
       "[<matplotlib.lines.Line2D at 0x7ff6a8b28160>]"
      ]
     },
     "execution_count": 3,
     "metadata": {},
     "output_type": "execute_result"
    },
    {
     "data": {
      "image/png": "[encoded data removed]",
      "text/plain": [
       "<Figure size 432x288 with 1 Axes>"
      ]
     },
     "metadata": {
      "needs_background": "light"
     },
     "output_type": "display_data"
    }
   ],
   "source": [
    "plt.plot(losses)"
   ]
  }
 ],
 "metadata": {
  "colab": {
   "name": "TensorFlow-GradientTape.ipynb",
   "provenance": []
  },
  "kernelspec": {
   "display_name": "Python 3",
   "language": "python",
   "name": "python3"
  },
  "language_info": {
   "codemirror_mode": {
    "name": "ipython",
    "version": 3
   },
   "file_extension": ".py",
   "mimetype": "text/x-python",
   "name": "python",
   "nbconvert_exporter": "python",
   "pygments_lexer": "ipython3",
   "version": "3.8.3"
  },
  "latex_envs": {
   "LaTeX_envs_menu_present": true,
   "autoclose": false,
   "autocomplete": true,
   "bibliofile": "biblio.bib",
   "cite_by": "apalike",
   "current_citInitial": 1,
   "eqLabelWithNumbers": true,
   "eqNumInitial": 1,
   "hotkeys": {
    "equation": "Ctrl-E",
    "itemize": "Ctrl-I"
   },
   "labels_anchors": false,
   "latex_user_defs": false,
   "report_style_numbering": false,
   "user_envs_cfg": false
  }
 },
 "nbformat": 4,
 "nbformat_minor": 1
}
