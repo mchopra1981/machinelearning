{
  "nbformat": 4,
  "nbformat_minor": 0,
  "metadata": {
    "colab": {
      "name": "TensorFlow-GradientTape.ipynb",
      "provenance": []
    },
    "kernelspec": {
      "name": "python3",
      "display_name": "Python 3"
    }
  },
  "cells": [
    {
      "cell_type": "markdown",
      "metadata": {
        "id": "-KL7B6VKbRAb"
      },
      "source": [
        "## TensorFlow - Gradient Tape\n",
        "**TensorFlow** has a mechanism to record gradients of variables, that mechanism is called **Gradient Tape**. In this notebook we will make some examples of Gradient Tape."
      ]
    },
    {
      "cell_type": "code",
      "metadata": {
        "id": "i0hN8zQbbNJx"
      },
      "source": [
        "import numpy as np\n",
        "import tensorflow as tf\n",
        "import matplotlib.pyplot as plt\n",
        "\n",
        "%matplotlib inline"
      ],
      "execution_count": 2,
      "outputs": []
    },
    {
      "cell_type": "code",
      "metadata": {
        "id": "2R15BpkwbmLk"
      },
      "source": [
        "#we will optimize (x-1)^2\n",
        "\n",
        "x = tf.Variable(5.)\n",
        "\n",
        "#Define the loss function\n",
        "def get_loss(x):\n",
        "  return (x-1) ** 2\n",
        "\n",
        "# Use \"gradient tape\" to record the gradients\n",
        "def get_grad(x):\n",
        "  with tf.GradientTape() as tape:\n",
        "    L = get_loss(x)\n",
        "\n",
        "  # Get the gradient\n",
        "  g = tape.gradient(L, x)\n",
        "  return g\n",
        "  \n",
        "\n",
        "# Define an optimizer\n",
        "optimizer = tf.keras.optimizers.SGD(learning_rate=0.1)\n",
        "\n",
        "# Store the losses\n",
        "losses = []\n",
        "\n",
        "# Perform gradient descent\n",
        "for i in range(50):\n",
        "  g = get_grad(x)\n",
        "  optimizer.apply_gradients(zip([g], [x]))\n",
        "  losses.append(get_loss(x))"
      ],
      "execution_count": 3,
      "outputs": []
    },
    {
      "cell_type": "code",
      "metadata": {
        "id": "N7kIb1ZMcAia",
        "outputId": "2b18f7c7-7022-47c9-97e2-6b0363bdd17f",
        "colab": {
          "base_uri": "https://localhost:8080/",
          "height": 282
        }
      },
      "source": [
        "plt.plot(losses)"
      ],
      "execution_count": 4,
      "outputs": [
        {
          "output_type": "execute_result",
          "data": {
            "text/plain": [
              "[<matplotlib.lines.Line2D at 0x7f317c4ec2b0>]"
            ]
          },
          "metadata": {
            "tags": []
          },
          "execution_count": 4
        },
        {
          "output_type": "display_data",
          "data": {
            "image/png": "[encoded data removed]",
            "text/plain": [
              "<Figure size 432x288 with 1 Axes>"
            ]
          },
          "metadata": {
            "tags": [],
            "needs_background": "light"
          }
        }
      ]
    }
  ]
}