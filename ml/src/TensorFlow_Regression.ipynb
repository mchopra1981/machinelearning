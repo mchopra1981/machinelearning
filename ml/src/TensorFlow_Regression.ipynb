{
  "nbformat": 4,
  "nbformat_minor": 0,
  "metadata": {
    "colab": {
      "name": "TensorFlow-Regression.ipynb",
      "provenance": []
    },
    "kernelspec": {
      "name": "python3",
      "display_name": "Python 3"
    }
  },
  "cells": [
    {
      "cell_type": "markdown",
      "metadata": {
        "id": "nU4TduOKJcb3"
      },
      "source": [
        "## TensorFlow - Regression\n",
        "We will show the power of ANNs to fit learn non linear function"
      ]
    },
    {
      "cell_type": "code",
      "metadata": {
        "id": "j3uEcDWEJYVK"
      },
      "source": [
        "#import stuff\n",
        "import numpy as np\n",
        "import pandas as pd\n",
        "import matplotlib.pyplot as plt\n",
        "%matplotlib inline\n",
        "\n",
        "import tensorflow as tf"
      ],
      "execution_count": 35,
      "outputs": []
    },
    {
      "cell_type": "code",
      "metadata": {
        "id": "J3znEy4xJ7Ao"
      },
      "source": [
        "#lets make a synthetic dataset\n",
        "X = np.linspace(0,2*np.pi,100000)\n",
        "y = np.sin(x) + np.cos(3*x)"
      ],
      "execution_count": 67,
      "outputs": []
    },
    {
      "cell_type": "code",
      "metadata": {
        "id": "Eu5S-xAoKZjh",
        "outputId": "2bb8c383-c050-44ca-af3a-8f17584f93d1",
        "colab": {
          "base_uri": "https://localhost:8080/",
          "height": 283
        }
      },
      "source": [
        "plt.plot(x,y)"
      ],
      "execution_count": 68,
      "outputs": [
        {
          "output_type": "execute_result",
          "data": {
            "text/plain": [
              "[<matplotlib.lines.Line2D at 0x7fb543bead30>]"
            ]
          },
          "metadata": {
            "tags": []
          },
          "execution_count": 68
        },
        {
          "output_type": "display_data",
          "data": {
            "image/png": "[encoded data removed]",
            "text/plain": [
              "<Figure size 432x288 with 1 Axes>"
            ]
          },
          "metadata": {
            "tags": [],
            "needs_background": "light"
          }
        }
      ]
    },
    {
      "cell_type": "code",
      "metadata": {
        "id": "1CxZ_fJmKNsB"
      },
      "source": [
        "from sklearn.model_selection import train_test_split\n",
        "X_train, X_test, y_train, y_test = train_test_split(X, y, test_size=0.20, random_state=42)"
      ],
      "execution_count": 69,
      "outputs": []
    },
    {
      "cell_type": "code",
      "metadata": {
        "id": "1LxZQIt-KYaa",
        "outputId": "0d0c8525-29c0-4fe0-ee19-2d8bfca5e561",
        "colab": {
          "base_uri": "https://localhost:8080/",
          "height": 34
        }
      },
      "source": [
        "len(X_train)"
      ],
      "execution_count": 39,
      "outputs": [
        {
          "output_type": "execute_result",
          "data": {
            "text/plain": [
              "80000"
            ]
          },
          "metadata": {
            "tags": []
          },
          "execution_count": 39
        }
      ]
    },
    {
      "cell_type": "code",
      "metadata": {
        "id": "CBepmXOMK0dv",
        "outputId": "520d158e-c644-469f-9b4b-30fe9a5fbccc",
        "colab": {
          "base_uri": "https://localhost:8080/",
          "height": 34
        }
      },
      "source": [
        "len(X_test)"
      ],
      "execution_count": 40,
      "outputs": [
        {
          "output_type": "execute_result",
          "data": {
            "text/plain": [
              "20000"
            ]
          },
          "metadata": {
            "tags": []
          },
          "execution_count": 40
        }
      ]
    },
    {
      "cell_type": "code",
      "metadata": {
        "id": "4FWkZSRjK1k8"
      },
      "source": [
        "# Build the model\n",
        "model = tf.keras.models.Sequential([\n",
        "  tf.keras.layers.Dense(2048, input_shape=(1,), activation='relu' ),\n",
        "  tf.keras.layers.Dense(1)  \n",
        "])"
      ],
      "execution_count": 78,
      "outputs": []
    },
    {
      "cell_type": "code",
      "metadata": {
        "id": "m4s9dNcBLGIx",
        "outputId": "21c82ea5-f30f-4d62-bac4-f2a26b958d5d",
        "colab": {
          "base_uri": "https://localhost:8080/",
          "height": 1000
        }
      },
      "source": [
        "# Compile and fit\n",
        "opt = tf.keras.optimizers.Adam(0.01)\n",
        "model.compile(optimizer=opt, loss='mse')\n",
        "r = model.fit(X_train, y_train, validation_data=(X_test, y_test), epochs=50)"
      ],
      "execution_count": 79,
      "outputs": [
        {
          "output_type": "stream",
          "text": [
            "Epoch 1/50\n",
            "2500/2500 [==============================] - 5s 2ms/step - loss: 0.4150 - val_loss: 0.2658\n",
            "Epoch 2/50\n",
            "2500/2500 [==============================] - 4s 2ms/step - loss: 0.1313 - val_loss: 0.0354\n",
            "Epoch 3/50\n",
            "2500/2500 [==============================] - 4s 2ms/step - loss: 0.0237 - val_loss: 0.0140\n",
            "Epoch 4/50\n",
            "2500/2500 [==============================] - 4s 2ms/step - loss: 0.0087 - val_loss: 0.0062\n",
            "Epoch 5/50\n",
            "2500/2500 [==============================] - 5s 2ms/step - loss: 0.0060 - val_loss: 0.0015\n",
            "Epoch 6/50\n",
            "2500/2500 [==============================] - 5s 2ms/step - loss: 0.0055 - val_loss: 0.0040\n",
            "Epoch 7/50\n",
            "2500/2500 [==============================] - 5s 2ms/step - loss: 0.0060 - val_loss: 0.0096\n",
            "Epoch 8/50\n",
            "2500/2500 [==============================] - 5s 2ms/step - loss: 0.0044 - val_loss: 0.0034\n",
            "Epoch 9/50\n",
            "2500/2500 [==============================] - 5s 2ms/step - loss: 0.0046 - val_loss: 0.0077\n",
            "Epoch 10/50\n",
            "2500/2500 [==============================] - 5s 2ms/step - loss: 0.0057 - val_loss: 8.5240e-04\n",
            "Epoch 11/50\n",
            "2500/2500 [==============================] - 4s 2ms/step - loss: 0.0039 - val_loss: 0.0040\n",
            "Epoch 12/50\n",
            "2500/2500 [==============================] - 4s 2ms/step - loss: 0.0050 - val_loss: 0.0025\n",
            "Epoch 13/50\n",
            "2500/2500 [==============================] - 4s 2ms/step - loss: 0.0052 - val_loss: 0.0265\n",
            "Epoch 14/50\n",
            "2500/2500 [==============================] - 4s 2ms/step - loss: 0.0047 - val_loss: 0.0100\n",
            "Epoch 15/50\n",
            "2500/2500 [==============================] - 4s 2ms/step - loss: 0.0049 - val_loss: 0.0012\n",
            "Epoch 16/50\n",
            "2500/2500 [==============================] - 4s 2ms/step - loss: 0.0046 - val_loss: 7.8022e-04\n",
            "Epoch 17/50\n",
            "2500/2500 [==============================] - 4s 2ms/step - loss: 0.0044 - val_loss: 0.0027\n",
            "Epoch 18/50\n",
            "2500/2500 [==============================] - 4s 2ms/step - loss: 0.0041 - val_loss: 0.0018\n",
            "Epoch 19/50\n",
            "2500/2500 [==============================] - 4s 2ms/step - loss: 0.0044 - val_loss: 0.0026\n",
            "Epoch 20/50\n",
            "2500/2500 [==============================] - 4s 2ms/step - loss: 0.0041 - val_loss: 7.7549e-04\n",
            "Epoch 21/50\n",
            "2500/2500 [==============================] - 5s 2ms/step - loss: 0.0044 - val_loss: 0.0019\n",
            "Epoch 22/50\n",
            "2500/2500 [==============================] - 6s 2ms/step - loss: 0.0042 - val_loss: 9.0925e-04\n",
            "Epoch 23/50\n",
            "2500/2500 [==============================] - 5s 2ms/step - loss: 0.0039 - val_loss: 0.0183\n",
            "Epoch 24/50\n",
            "2500/2500 [==============================] - 5s 2ms/step - loss: 0.0045 - val_loss: 7.2111e-04\n",
            "Epoch 25/50\n",
            "2500/2500 [==============================] - 5s 2ms/step - loss: 0.0040 - val_loss: 0.0231\n",
            "Epoch 26/50\n",
            "2500/2500 [==============================] - 5s 2ms/step - loss: 0.0039 - val_loss: 0.0036\n",
            "Epoch 27/50\n",
            "2500/2500 [==============================] - 5s 2ms/step - loss: 0.0044 - val_loss: 0.0163\n",
            "Epoch 28/50\n",
            "2500/2500 [==============================] - 4s 2ms/step - loss: 0.0042 - val_loss: 0.0013\n",
            "Epoch 29/50\n",
            "2500/2500 [==============================] - 5s 2ms/step - loss: 0.0035 - val_loss: 7.5409e-04\n",
            "Epoch 30/50\n",
            "2500/2500 [==============================] - 4s 2ms/step - loss: 0.0039 - val_loss: 0.0017\n",
            "Epoch 31/50\n",
            "2500/2500 [==============================] - 4s 2ms/step - loss: 0.0038 - val_loss: 0.0045\n",
            "Epoch 32/50\n",
            "2500/2500 [==============================] - 4s 2ms/step - loss: 0.0038 - val_loss: 0.0018\n",
            "Epoch 33/50\n",
            "2500/2500 [==============================] - 4s 2ms/step - loss: 0.0040 - val_loss: 0.0041\n",
            "Epoch 34/50\n",
            "2500/2500 [==============================] - 5s 2ms/step - loss: 0.0037 - val_loss: 0.0013\n",
            "Epoch 35/50\n",
            "2500/2500 [==============================] - 5s 2ms/step - loss: 0.0035 - val_loss: 0.0013\n",
            "Epoch 36/50\n",
            "2500/2500 [==============================] - 5s 2ms/step - loss: 0.0040 - val_loss: 0.0041\n",
            "Epoch 37/50\n",
            "2500/2500 [==============================] - 4s 2ms/step - loss: 0.0035 - val_loss: 0.0019\n",
            "Epoch 38/50\n",
            "2500/2500 [==============================] - 5s 2ms/step - loss: 0.0044 - val_loss: 0.0016\n",
            "Epoch 39/50\n",
            "2500/2500 [==============================] - 5s 2ms/step - loss: 0.0044 - val_loss: 0.0937\n",
            "Epoch 40/50\n",
            "2500/2500 [==============================] - 5s 2ms/step - loss: 0.0033 - val_loss: 0.0019\n",
            "Epoch 41/50\n",
            "2500/2500 [==============================] - 5s 2ms/step - loss: 0.0037 - val_loss: 0.0016\n",
            "Epoch 42/50\n",
            "2500/2500 [==============================] - 4s 2ms/step - loss: 0.0036 - val_loss: 7.4300e-04\n",
            "Epoch 43/50\n",
            "2500/2500 [==============================] - 4s 2ms/step - loss: 0.0040 - val_loss: 0.0045\n",
            "Epoch 44/50\n",
            "2500/2500 [==============================] - 5s 2ms/step - loss: 0.0036 - val_loss: 0.0095\n",
            "Epoch 45/50\n",
            "2500/2500 [==============================] - 4s 2ms/step - loss: 0.0036 - val_loss: 0.0011\n",
            "Epoch 46/50\n",
            "2500/2500 [==============================] - 5s 2ms/step - loss: 0.0035 - val_loss: 8.1455e-04\n",
            "Epoch 47/50\n",
            "2500/2500 [==============================] - 4s 2ms/step - loss: 0.0037 - val_loss: 9.9419e-04\n",
            "Epoch 48/50\n",
            "2500/2500 [==============================] - 5s 2ms/step - loss: 0.0038 - val_loss: 0.0103\n",
            "Epoch 49/50\n",
            "2500/2500 [==============================] - 4s 2ms/step - loss: 0.0035 - val_loss: 0.0022\n",
            "Epoch 50/50\n",
            "2500/2500 [==============================] - 5s 2ms/step - loss: 0.0035 - val_loss: 0.0021\n"
          ],
          "name": "stdout"
        }
      ]
    },
    {
      "cell_type": "code",
      "metadata": {
        "id": "SxJDD3EZLI7Z",
        "outputId": "b563833b-b311-4bd2-f937-3a4e6a1f5a20",
        "colab": {
          "base_uri": "https://localhost:8080/",
          "height": 282
        }
      },
      "source": [
        "# Plot the loss\n",
        "plt.plot(r.history['loss'], label='loss')\n",
        "plt.plot(r.history['val_loss'], label='val_loss')\n",
        "plt.legend()"
      ],
      "execution_count": 80,
      "outputs": [
        {
          "output_type": "execute_result",
          "data": {
            "text/plain": [
              "<matplotlib.legend.Legend at 0x7fb544aa7a20>"
            ]
          },
          "metadata": {
            "tags": []
          },
          "execution_count": 80
        },
        {
          "output_type": "display_data",
          "data": {
            "image/png": "[encoded data removed]",
            "text/plain": [
              "<Figure size 432x288 with 1 Axes>"
            ]
          },
          "metadata": {
            "tags": [],
            "needs_background": "light"
          }
        }
      ]
    },
    {
      "cell_type": "code",
      "metadata": {
        "id": "P-GKMJbfLSYF"
      },
      "source": [
        "#Make the prediction\n",
        "sortNdx = np.argsort(X_test)\n",
        "X_test = X_test[sortNdx]\n",
        "y_test = y_test[sortNdx]\n",
        "y_predict = model.predict(X_test)"
      ],
      "execution_count": 81,
      "outputs": []
    },
    {
      "cell_type": "code",
      "metadata": {
        "id": "DIhd38EeLhd-",
        "outputId": "1820391c-b861-456f-98c7-4561382d95d0",
        "colab": {
          "base_uri": "https://localhost:8080/",
          "height": 282
        }
      },
      "source": [
        "plt.plot(X_test, y_test, label='Ground truth')\n",
        "plt.plot(X_test, y_predict, label='Predict')\n",
        "plt.legend()"
      ],
      "execution_count": 83,
      "outputs": [
        {
          "output_type": "execute_result",
          "data": {
            "text/plain": [
              "<matplotlib.legend.Legend at 0x7fb544b76198>"
            ]
          },
          "metadata": {
            "tags": []
          },
          "execution_count": 83
        },
        {
          "output_type": "display_data",
          "data": {
            "image/png": "[encoded data removed]",
            "text/plain": [
              "<Figure size 432x288 with 1 Axes>"
            ]
          },
          "metadata": {
            "tags": [],
            "needs_background": "light"
          }
        }
      ]
    },
    {
      "cell_type": "markdown",
      "metadata": {
        "id": "xO79qPzlblNn"
      },
      "source": [
        "We see a very good fit of the data using ANN."
      ]
    }
  ]
}