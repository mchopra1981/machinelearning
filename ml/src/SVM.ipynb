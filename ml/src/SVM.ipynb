{
 "cells": [
  {
   "cell_type": "markdown",
   "metadata": {},
   "source": [
    "## SVM (Support vector machines)"
   ]
  },
  {
   "cell_type": "markdown",
   "metadata": {},
   "source": [
    "**SVM** are one of the most popular ML algorithm for classification task. In this notebook we will implement a SVM classifier from default and compare the results with Sklearn. **SVM** produce non linear boundaries by constructing a linear boundary in a large, transformed version of the feature space.\n",
    "\n",
    "**SVM** solves the following primal problem:\n",
    "\n",
    "$\\text{min}_{\\beta,\\beta_0} \\frac{1}{2} || \\beta ||^2 + C \\sum_{i=1}^{N} \\xi_i$\n",
    "\n",
    "subject to $\\xi_i \\ge 0$, $y_i(x_i^T\\beta+\\beta_0) \\ge 1 - \\xi_i$ $\\forall i$.\n",
    "\n",
    "Dual of the problem is\n",
    "\n",
    "$\\text{min}_{\\alpha} \\frac{1}{2} \\alpha^T Q \\alpha - e^T \\alpha$\n",
    "\n",
    "subject to $y^T\\alpha = 0$, $0 \\le \\alpha_i \\le C, i = 1...n$, where $e$ is the vector of all ones. And $Q$ is a $n \\times n$ matrix $Q_{ij}=y_iy_jK(x_i,x_j)$, where $K(x_i,x_j) = \\phi(x_i)^T\\phi(x_j)$.\n",
    "\n",
    "Once optimal values of $\\alpha_i$ are found decision function is given as \n",
    "\n",
    "$\\sum_{i \\in SV} y_i \\alpha_i K(x_i, x) + b$. Below we will use cvxopt to solve the QP for **SVM**\n"
   ]
  },
  {
   "cell_type": "code",
   "execution_count": 1,
   "metadata": {
    "ExecuteTime": {
     "end_time": "2021-01-08T16:10:40.331490Z",
     "start_time": "2021-01-08T16:10:37.915125Z"
    }
   },
   "outputs": [],
   "source": [
    "import numpy as np\n",
    "import pandas as pd\n",
    "import matplotlib.pyplot as plt\n",
    "%matplotlib inline\n",
    "\n",
    "from sklearn.svm import SVC\n",
    "from cvxopt import matrix as cvxopt_matrix\n",
    "from cvxopt import solvers as cvxopt_solvers"
   ]
  },
  {
   "cell_type": "code",
   "execution_count": 2,
   "metadata": {
    "ExecuteTime": {
     "end_time": "2021-01-08T16:10:43.861928Z",
     "start_time": "2021-01-08T16:10:43.768867Z"
    }
   },
   "outputs": [
    {
     "name": "stdout",
     "output_type": "stream",
     "text": [
      "(100, 5) (100,)\n"
     ]
    }
   ],
   "source": [
    "#Make a classification dataset\n",
    "from sklearn.datasets import make_classification\n",
    "X, y = make_classification(n_samples=100, \n",
    "                           n_features=5, \n",
    "                           random_state=0)\n",
    "y = 2*y-1\n",
    "print(X.shape, y.shape)"
   ]
  },
  {
   "cell_type": "code",
   "execution_count": 3,
   "metadata": {
    "ExecuteTime": {
     "end_time": "2021-01-08T16:10:46.864671Z",
     "start_time": "2021-01-08T16:10:46.855239Z"
    }
   },
   "outputs": [
    {
     "name": "stdout",
     "output_type": "stream",
     "text": [
      "(90, 5) (10, 5)\n"
     ]
    }
   ],
   "source": [
    "#Divide data in train test split\n",
    "from sklearn.model_selection import train_test_split\n",
    "X_train, X_test, y_train, y_test = train_test_split(X, y, test_size=0.10, random_state=0)\n",
    "print(X_train.shape, X_test.shape)"
   ]
  },
  {
   "cell_type": "code",
   "execution_count": 4,
   "metadata": {
    "ExecuteTime": {
     "end_time": "2021-01-08T16:10:46.931955Z",
     "start_time": "2021-01-08T16:10:46.897394Z"
    }
   },
   "outputs": [
    {
     "name": "stdout",
     "output_type": "stream",
     "text": [
      "Train score  0.933\n",
      "Test score  0.9\n",
      "Coef= [[0.97281344 0.68848874 0.09705952 0.79525107 0.1183482 ]]\n",
      "Intercept = [0.57480184]\n"
     ]
    }
   ],
   "source": [
    "from sklearn import svm\n",
    "clf = svm.SVC(kernel='linear', C=1)\n",
    "clf.fit(X_train, y_train)\n",
    "print(f\"Train score {clf.score(X_train, y_train) : .3}\")\n",
    "print(f\"Test score {clf.score(X_test, y_test) : .3}\")\n",
    "\n",
    "print(f\"Coef= {clf.coef_}\")\n",
    "print(f\"Intercept = {clf.intercept_}\")"
   ]
  },
  {
   "cell_type": "markdown",
   "metadata": {},
   "source": [
    "#### Now lets implement SVM from scratch\n",
    "\n",
    "**cvsopt** API is \n",
    "\n",
    "$\\text{min}\\frac{1}{2}x^TPx + q^Tx$  s.t. $Gx \\le h$  $Ax = b$\n",
    "\n",
    "Reformulating **SVM** equation in the above format we have\n",
    "1. $P=Q$\n",
    "2. $q=-e$\n",
    "3. $A=y$\n",
    "4. $b=0$\n",
    "5. $G=diag(1)$ stacked over $diag(-1)$\n",
    "6. $h$ is a vector of $C$ stacked over a vector of 0s."
   ]
  },
  {
   "cell_type": "code",
   "execution_count": 5,
   "metadata": {
    "ExecuteTime": {
     "end_time": "2021-01-08T16:10:50.369302Z",
     "start_time": "2021-01-08T16:10:50.348829Z"
    }
   },
   "outputs": [],
   "source": [
    "from sklearn.metrics import accuracy_score\n",
    "class SVM():\n",
    "    \"\"\"\n",
    "        Implements Linear SVM for classification\n",
    "    \"\"\"\n",
    "    def __init__(self,C=1):\n",
    "        self.C_ = C\n",
    "        \n",
    "    def fit(self, X, y):\n",
    "        #Lets compute the Q matrix\n",
    "        (n,m) = X.shape\n",
    "        y = y.reshape(y.shape[0],1)\n",
    "        y = y.astype('float')\n",
    "        yx = y * X\n",
    "        Q = np.dot(yx , yx.T)\n",
    "        \n",
    "        #set e\n",
    "        e = -np.ones((n,1))\n",
    "        \n",
    "        #Convert to cvxopt_matrix\n",
    "        P = cvxopt_matrix(Q)\n",
    "        q = cvxopt_matrix(e)\n",
    "        A = cvxopt_matrix(y.reshape(1,-1))\n",
    "        G = cvxopt_matrix(np.vstack((np.eye(n),np.eye(n)*-1)))\n",
    "        h = cvxopt_matrix(np.hstack((np.ones(n) * self.C_, np.zeros(n))))\n",
    "        b = cvxopt_matrix(np.zeros(1))\n",
    "        \n",
    "        \n",
    "        cvxopt_solvers.options['show_progress'] = True\n",
    "        cvxopt_solvers.options['abstol'] = 1e-3\n",
    "        cvxopt_solvers.options['reltol'] = 1e-3\n",
    "        cvxopt_solvers.options['feastol'] = 1e-3\n",
    "\n",
    "        #Run solver\n",
    "        sol = cvxopt_solvers.qp(P, q, G, h, A, b)\n",
    "        alphas = np.array(sol['x'])\n",
    "        beta = ((y * alphas).T @ X).reshape(-1,1)\n",
    "        \n",
    "        #many alphas will be zero\n",
    "        #Alphas which are non zero make the support vector\n",
    "        S = (alphas > 1e-4).flatten()\n",
    "        \n",
    "        #compute beta_0\n",
    "        beta_0 = y[S] - np.dot(X[S], beta)\n",
    "        \n",
    "        self.coef_ = beta.T\n",
    "        #Take the beta computed by first Support vector\n",
    "        self.intercept_ = beta_0[0]\n",
    "        \n",
    "    def predict(self, X):\n",
    "        return np.sign(self.intercept_ + np.matmul(X,self.coef_.reshape(-1,1)))\n",
    "\n",
    "    def score(self, X, y):\n",
    "        y_pred = self.predict(X)\n",
    "        return accuracy_score(y, y_pred)"
   ]
  },
  {
   "cell_type": "code",
   "execution_count": 6,
   "metadata": {
    "ExecuteTime": {
     "end_time": "2021-01-08T16:10:53.719709Z",
     "start_time": "2021-01-08T16:10:52.840737Z"
    }
   },
   "outputs": [
    {
     "name": "stdout",
     "output_type": "stream",
     "text": [
      "     pcost       dcost       gap    pres   dres\n",
      " 0: -3.7359e+01 -2.3730e+02  1e+03  3e+00  6e-15\n",
      " 1: -2.3489e+01 -1.5904e+02  3e+02  4e-01  4e-15\n",
      " 2: -1.6704e+01 -6.2924e+01  7e+01  9e-02  6e-15\n",
      " 3: -1.6005e+01 -2.6826e+01  1e+01  2e-02  4e-15\n",
      " 4: -1.7776e+01 -2.1906e+01  5e+00  5e-03  3e-15\n",
      " 5: -1.8372e+01 -2.0651e+01  3e+00  2e-03  3e-15\n",
      " 6: -1.8703e+01 -1.9743e+01  1e+00  6e-04  3e-15\n",
      " 7: -1.8942e+01 -1.9363e+01  4e-01  1e-04  3e-15\n",
      " 8: -1.9054e+01 -1.9192e+01  1e-01  3e-05  3e-15\n",
      " 9: -1.9083e+01 -1.9149e+01  7e-02  1e-05  3e-15\n",
      "10: -1.9110e+01 -1.9116e+01  5e-03  6e-16  3e-15\n",
      "Optimal solution found.\n",
      "Coef= [[0.97293264 0.68859025 0.09684185 0.79533827 0.11838178]]\n",
      "Intercept = [0.5745351]\n",
      "Train score  0.933\n",
      "Test score  0.9\n"
     ]
    }
   ],
   "source": [
    "clf = SVM()\n",
    "clf.fit(X_train, y_train)\n",
    "\n",
    "print(f\"Coef= {clf.coef_}\")\n",
    "print(f\"Intercept = {clf.intercept_}\")\n",
    "\n",
    "print(f\"Train score {clf.score(X_train, y_train) : .3}\")\n",
    "print(f\"Test score {clf.score(X_test, y_test) : .3}\")"
   ]
  },
  {
   "cell_type": "markdown",
   "metadata": {},
   "source": [
    "#### Our results match very closely with sklearns svm implementation!!!"
   ]
  },
  {
   "cell_type": "markdown",
   "metadata": {},
   "source": [
    "## Kernel SVM"
   ]
  },
  {
   "cell_type": "code",
   "execution_count": 7,
   "metadata": {
    "ExecuteTime": {
     "end_time": "2021-01-08T16:10:57.647705Z",
     "start_time": "2021-01-08T16:10:57.635516Z"
    }
   },
   "outputs": [
    {
     "name": "stdout",
     "output_type": "stream",
     "text": [
      "Train score  0.944\n",
      "Test score  0.9\n"
     ]
    }
   ],
   "source": [
    "#Lets apply Kernel SVM to the data and see if it changes results\n",
    "clf = svm.SVC(kernel='rbf', C=1)\n",
    "clf.fit(X_train, y_train)\n",
    "print(f\"Train score {clf.score(X_train, y_train) : .3}\")\n",
    "print(f\"Test score {clf.score(X_test, y_test) : .3}\")"
   ]
  },
  {
   "cell_type": "markdown",
   "metadata": {},
   "source": [
    "Using rbf kernel doesn't seem to help much in this case."
   ]
  }
 ],
 "metadata": {
  "kernelspec": {
   "display_name": "Python 3",
   "language": "python",
   "name": "python3"
  },
  "language_info": {
   "codemirror_mode": {
    "name": "ipython",
    "version": 3
   },
   "file_extension": ".py",
   "mimetype": "text/x-python",
   "name": "python",
   "nbconvert_exporter": "python",
   "pygments_lexer": "ipython3",
   "version": "3.8.3"
  },
  "latex_envs": {
   "LaTeX_envs_menu_present": true,
   "autoclose": false,
   "autocomplete": true,
   "bibliofile": "biblio.bib",
   "cite_by": "apalike",
   "current_citInitial": 1,
   "eqLabelWithNumbers": true,
   "eqNumInitial": 1,
   "hotkeys": {
    "equation": "Ctrl-E",
    "itemize": "Ctrl-I"
   },
   "labels_anchors": false,
   "latex_user_defs": false,
   "report_style_numbering": false,
   "user_envs_cfg": false
  }
 },
 "nbformat": 4,
 "nbformat_minor": 4
}
