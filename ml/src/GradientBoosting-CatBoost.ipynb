{
 "cells": [
  {
   "cell_type": "markdown",
   "metadata": {
    "toc": true
   },
   "source": [
    "<h1>Table of Contents<span class=\"tocSkip\"></span></h1>\n",
    "<div class=\"toc\"><ul class=\"toc-item\"><li><span><a href=\"#CatBoost\" data-toc-modified-id=\"CatBoost-1\">CatBoost</a></span><ul class=\"toc-item\"><li><ul class=\"toc-item\"><li><span><a href=\"#Now-lets-do-catBoost\" data-toc-modified-id=\"Now-lets-do-catBoost-1.0.1\">Now lets do catBoost</a></span></li><li><span><a href=\"#very-good-test-score-of-95.3%\" data-toc-modified-id=\"very-good-test-score-of-95.3%-1.0.2\">very good test score of 95.3%</a></span></li></ul></li></ul></li></ul></div>"
   ]
  },
  {
   "cell_type": "markdown",
   "metadata": {},
   "source": [
    "## CatBoost\n",
    "\n",
    "**CatBoost** is a new Gradient boosting library. **CatBoost** is shown to be better than **LightGBM** and **xgBoost** on some tasks. Below are some innovations in **CatBoost**.\n",
    "\n",
    "**CatBoost** paper: https://arxiv.org/abs/1706.09516\n",
    "\n",
    "1. **CatBoost** tried to address *prediction shift* caused by target leakage, they came up with a novel ordered boosting algorithm to address this issue.\n",
    "2. They applied the same ordered statistics methods to handle categorical features. In **CatBoost** there is no need for on-hot-encoding of categorical features.\n",
    "\n",
    "Lets understand *target leakage* a little more. One common trick for handling categorical features is called **Target Statistics (TS)**. In TS what we do is we substitute the category $x^i_k$ of the $k-th$ training example with one numeric feature equal to some target statistics (TS) $\\hat{x}^i_k$. Commonly, it estimates the expected target $y$ conditioned by category: $\\hat{x}^i_k=E(y|x^i = x^i_k)$. A straightforward approach to estimate $\\hat{x}^i_k=E(y|x^i = x^i_k)$ is the average value of $y$ over the training examples with the same category $x_k^i$. Problem with this is feature $x_k^i$ is computed using $y_k$, the target of $x_k$."
   ]
  },
  {
   "cell_type": "code",
   "execution_count": 1,
   "metadata": {},
   "outputs": [
    {
     "data": {
      "text/html": [
       "<style>.container {width:100% !important;}</style>"
      ],
      "text/plain": [
       "<IPython.core.display.HTML object>"
      ]
     },
     "metadata": {},
     "output_type": "display_data"
    }
   ],
   "source": [
    "import numpy as np\n",
    "import pandas as pd\n",
    "import matplotlib.pyplot as plt\n",
    "%matplotlib inline\n",
    "\n",
    "#Make the sheet width 100%\n",
    "from IPython.core.display import display, HTML\n",
    "display(HTML(\"<style>.container {width:100% !important;}</style>\" ))"
   ]
  },
  {
   "cell_type": "code",
   "execution_count": 2,
   "metadata": {},
   "outputs": [
    {
     "name": "stdout",
     "output_type": "stream",
     "text": [
      "(32769, 10) (58921, 10)\n"
     ]
    }
   ],
   "source": [
    "from catboost import datasets\n",
    "train_df, test_df = datasets.amazon()\n",
    "print(train_df.shape, test_df.shape)\n"
   ]
  },
  {
   "cell_type": "code",
   "execution_count": 3,
   "metadata": {},
   "outputs": [
    {
     "data": {
      "text/html": [
       "<div>\n",
       "<style scoped>\n",
       "    .dataframe tbody tr th:only-of-type {\n",
       "        vertical-align: middle;\n",
       "    }\n",
       "\n",
       "    .dataframe tbody tr th {\n",
       "        vertical-align: top;\n",
       "    }\n",
       "\n",
       "    .dataframe thead th {\n",
       "        text-align: right;\n",
       "    }\n",
       "</style>\n",
       "<table border=\"1\" class=\"dataframe\">\n",
       "  <thead>\n",
       "    <tr style=\"text-align: right;\">\n",
       "      <th></th>\n",
       "      <th>ACTION</th>\n",
       "      <th>RESOURCE</th>\n",
       "      <th>MGR_ID</th>\n",
       "      <th>ROLE_ROLLUP_1</th>\n",
       "      <th>ROLE_ROLLUP_2</th>\n",
       "      <th>ROLE_DEPTNAME</th>\n",
       "      <th>ROLE_TITLE</th>\n",
       "      <th>ROLE_FAMILY_DESC</th>\n",
       "      <th>ROLE_FAMILY</th>\n",
       "      <th>ROLE_CODE</th>\n",
       "    </tr>\n",
       "  </thead>\n",
       "  <tbody>\n",
       "    <tr>\n",
       "      <th>0</th>\n",
       "      <td>1</td>\n",
       "      <td>39353</td>\n",
       "      <td>85475</td>\n",
       "      <td>117961</td>\n",
       "      <td>118300</td>\n",
       "      <td>123472</td>\n",
       "      <td>117905</td>\n",
       "      <td>117906</td>\n",
       "      <td>290919</td>\n",
       "      <td>117908</td>\n",
       "    </tr>\n",
       "    <tr>\n",
       "      <th>1</th>\n",
       "      <td>1</td>\n",
       "      <td>17183</td>\n",
       "      <td>1540</td>\n",
       "      <td>117961</td>\n",
       "      <td>118343</td>\n",
       "      <td>123125</td>\n",
       "      <td>118536</td>\n",
       "      <td>118536</td>\n",
       "      <td>308574</td>\n",
       "      <td>118539</td>\n",
       "    </tr>\n",
       "    <tr>\n",
       "      <th>2</th>\n",
       "      <td>1</td>\n",
       "      <td>36724</td>\n",
       "      <td>14457</td>\n",
       "      <td>118219</td>\n",
       "      <td>118220</td>\n",
       "      <td>117884</td>\n",
       "      <td>117879</td>\n",
       "      <td>267952</td>\n",
       "      <td>19721</td>\n",
       "      <td>117880</td>\n",
       "    </tr>\n",
       "    <tr>\n",
       "      <th>3</th>\n",
       "      <td>1</td>\n",
       "      <td>36135</td>\n",
       "      <td>5396</td>\n",
       "      <td>117961</td>\n",
       "      <td>118343</td>\n",
       "      <td>119993</td>\n",
       "      <td>118321</td>\n",
       "      <td>240983</td>\n",
       "      <td>290919</td>\n",
       "      <td>118322</td>\n",
       "    </tr>\n",
       "    <tr>\n",
       "      <th>4</th>\n",
       "      <td>1</td>\n",
       "      <td>42680</td>\n",
       "      <td>5905</td>\n",
       "      <td>117929</td>\n",
       "      <td>117930</td>\n",
       "      <td>119569</td>\n",
       "      <td>119323</td>\n",
       "      <td>123932</td>\n",
       "      <td>19793</td>\n",
       "      <td>119325</td>\n",
       "    </tr>\n",
       "  </tbody>\n",
       "</table>\n",
       "</div>"
      ],
      "text/plain": [
       "   ACTION  RESOURCE  MGR_ID  ROLE_ROLLUP_1  ROLE_ROLLUP_2  ROLE_DEPTNAME  \\\n",
       "0       1     39353   85475         117961         118300         123472   \n",
       "1       1     17183    1540         117961         118343         123125   \n",
       "2       1     36724   14457         118219         118220         117884   \n",
       "3       1     36135    5396         117961         118343         119993   \n",
       "4       1     42680    5905         117929         117930         119569   \n",
       "\n",
       "   ROLE_TITLE  ROLE_FAMILY_DESC  ROLE_FAMILY  ROLE_CODE  \n",
       "0      117905            117906       290919     117908  \n",
       "1      118536            118536       308574     118539  \n",
       "2      117879            267952        19721     117880  \n",
       "3      118321            240983       290919     118322  \n",
       "4      119323            123932        19793     119325  "
      ]
     },
     "execution_count": 3,
     "metadata": {},
     "output_type": "execute_result"
    }
   ],
   "source": [
    "train_df.head()"
   ]
  },
  {
   "cell_type": "code",
   "execution_count": 4,
   "metadata": {},
   "outputs": [
    {
     "name": "stdout",
     "output_type": "stream",
     "text": [
      "Index(['RESOURCE', 'MGR_ID', 'ROLE_ROLLUP_1', 'ROLE_ROLLUP_2', 'ROLE_DEPTNAME',\n",
      "       'ROLE_TITLE', 'ROLE_FAMILY_DESC', 'ROLE_FAMILY', 'ROLE_CODE'],\n",
      "      dtype='object')\n"
     ]
    }
   ],
   "source": [
    "#Lets list all the categorical columns\n",
    "categorical_columns = train_df.drop('ACTION', axis=1).columns\n",
    "print(categorical_columns)"
   ]
  },
  {
   "cell_type": "code",
   "execution_count": 5,
   "metadata": {},
   "outputs": [
    {
     "name": "stdout",
     "output_type": "stream",
     "text": [
      "(32769, 15627)\n"
     ]
    }
   ],
   "source": [
    "#Lets apply Logistic Regression, RandomForest, xgBoost, LightGBM and catBoost to the data\n",
    "#For other methods except catBoost we need to have one hot encoding\n",
    "#Now lets apply one hot encoding to categorical columns\n",
    "def applyOneHot(df, cat_columns):\n",
    "    onehot_df = df[cat_columns]\n",
    "    onehot_df = pd.get_dummies(onehot_df, columns = cat_columns)\n",
    "    onehot_drop = df.drop(cat_columns, axis = 1)\n",
    "    ret = pd.concat([onehot_drop, onehot_df], axis = 1)\n",
    "    return ret\n",
    "\n",
    "train_df_one_hot = applyOneHot(train_df, categorical_columns)\n",
    "print(train_df_one_hot.shape)"
   ]
  },
  {
   "cell_type": "code",
   "execution_count": 6,
   "metadata": {},
   "outputs": [],
   "source": [
    "y = train_df_one_hot['ACTION']\n",
    "X = train_df_one_hot.drop('ACTION', axis=1)"
   ]
  },
  {
   "cell_type": "code",
   "execution_count": 7,
   "metadata": {},
   "outputs": [],
   "source": [
    "#Lets use 25% of the data as test because train data is unlabled\n",
    "from sklearn.model_selection import train_test_split\n",
    "X_train, X_test, y_train, y_test = train_test_split(X, y, test_size=0.25, random_state=1)"
   ]
  },
  {
   "cell_type": "code",
   "execution_count": 8,
   "metadata": {},
   "outputs": [
    {
     "name": "stdout",
     "output_type": "stream",
     "text": [
      "Train score=0.959\n",
      "Test score=0.948\n",
      "CPU times: user 1min 56s, sys: 11.9 s, total: 2min 8s\n",
      "Wall time: 1min 31s\n"
     ]
    }
   ],
   "source": [
    "%%time\n",
    "from sklearn.linear_model import LogisticRegression\n",
    "clf = LogisticRegression(random_state=0, max_iter=500)\n",
    "clf.fit(X_train, y_train)\n",
    "print(f\"Train score={clf.score(X_train, y_train):.3}\")\n",
    "print(f\"Test score={clf.score(X_test, y_test):.3}\")"
   ]
  },
  {
   "cell_type": "code",
   "execution_count": 9,
   "metadata": {},
   "outputs": [
    {
     "name": "stdout",
     "output_type": "stream",
     "text": [
      "Train score=1.0\n",
      "Test score=0.951\n",
      "CPU times: user 20min 8s, sys: 11.3 s, total: 20min 19s\n",
      "Wall time: 21min 50s\n"
     ]
    }
   ],
   "source": [
    "%%time\n",
    "#Lets apply random forest\n",
    "from sklearn.ensemble import RandomForestClassifier\n",
    "clf = RandomForestClassifier(n_estimators=500, min_samples_split=2)\n",
    "clf.fit(X_train, y_train)\n",
    "print(f\"Train score={clf.score(X_train, y_train):.3}\")\n",
    "print(f\"Test score={clf.score(X_test, y_test):.3}\")"
   ]
  },
  {
   "cell_type": "code",
   "execution_count": 20,
   "metadata": {},
   "outputs": [
    {
     "name": "stdout",
     "output_type": "stream",
     "text": [
      "Train score=0.97\n",
      "Test score=0.949\n",
      "CPU times: user 987 ms, sys: 49.3 ms, total: 1.04 s\n",
      "Wall time: 350 ms\n"
     ]
    }
   ],
   "source": [
    "%%time\n",
    "#Lets apply xgBoost default parameters\n",
    "import xgboost as xgb\n",
    "clf = xgb.XGBClassifier(tree_method='hist')\n",
    "clf.fit(X_train, y_train)\n",
    "print(f\"Train score={clf.score(X_train, y_train):.3}\")\n",
    "print(f\"Test score={clf.score(X_test, y_test):.3}\")"
   ]
  },
  {
   "cell_type": "code",
   "execution_count": 25,
   "metadata": {},
   "outputs": [
    {
     "name": "stdout",
     "output_type": "stream",
     "text": [
      "Train score=0.957\n",
      "Test score=0.947\n",
      "CPU times: user 1.36 s, sys: 38.2 ms, total: 1.4 s\n",
      "Wall time: 450 ms\n"
     ]
    }
   ],
   "source": [
    "%%time\n",
    "#Lets apply LightGBM\n",
    "import lightgbm as lgb\n",
    "clf = lgb.LGBMClassifier(boosting_type='goss')\n",
    "clf.fit(X_train, y_train)\n",
    "print(f\"Train score={clf.score(X_train, y_train):.3}\")\n",
    "print(f\"Test score={clf.score(X_test, y_test):.3}\")"
   ]
  },
  {
   "cell_type": "markdown",
   "metadata": {},
   "source": [
    "#### Now lets do catBoost"
   ]
  },
  {
   "cell_type": "code",
   "execution_count": 12,
   "metadata": {},
   "outputs": [],
   "source": [
    "y = train_df['ACTION']\n",
    "X = train_df.drop('ACTION', axis=1)"
   ]
  },
  {
   "cell_type": "code",
   "execution_count": 13,
   "metadata": {},
   "outputs": [],
   "source": [
    "#Lets use 25% of the data as test because train data is unlabled\n",
    "from sklearn.model_selection import train_test_split\n",
    "X_train, X_test, y_train, y_test = train_test_split(X, y, test_size=0.25, random_state=1)\n",
    "\n",
    "#and 25% of train data as validation data\n",
    "X_train, X_valid, y_train, y_valid = train_test_split(X_train, y_train, test_size=0.25, random_state=1)"
   ]
  },
  {
   "cell_type": "code",
   "execution_count": 23,
   "metadata": {},
   "outputs": [
    {
     "name": "stdout",
     "output_type": "stream",
     "text": [
      "Learning rate set to 0.065089\n",
      "0:\ttest: 0.5895970\tbest: 0.5895970 (0)\ttotal: 21.2ms\tremaining: 21.1s\n",
      "200:\ttest: 0.8828906\tbest: 0.8830745 (190)\ttotal: 12.5s\tremaining: 49.9s\n",
      "400:\ttest: 0.8843996\tbest: 0.8845600 (383)\ttotal: 27.1s\tremaining: 40.5s\n",
      "600:\ttest: 0.8839381\tbest: 0.8852154 (452)\ttotal: 38s\tremaining: 25.2s\n",
      "Stopped by overfitting detector  (200 iterations wait)\n",
      "\n",
      "bestTest = 0.8852153871\n",
      "bestIteration = 452\n",
      "\n",
      "Shrink model to first 453 iterations.\n",
      "CPU times: user 1min 20s, sys: 15.9 s, total: 1min 36s\n",
      "Wall time: 40.9 s\n"
     ]
    },
    {
     "data": {
      "text/plain": [
       "<catboost.core.CatBoostClassifier at 0x7fe12dfa7e50>"
      ]
     },
     "execution_count": 23,
     "metadata": {},
     "output_type": "execute_result"
    }
   ],
   "source": [
    "%%time\n",
    "from catboost import CatBoostClassifier \n",
    "clf = CatBoostClassifier(\n",
    "    loss_function='Logloss',\n",
    "    eval_metric='AUC',\n",
    "    cat_features=categorical_columns,\n",
    "    early_stopping_rounds=200,\n",
    "    verbose=200,\n",
    "    random_seed=1\n",
    ")\n",
    "clf.fit(X_train, y_train, \n",
    "        eval_set=(X_valid, y_valid), \n",
    "        use_best_model=True)\n"
   ]
  },
  {
   "cell_type": "code",
   "execution_count": 24,
   "metadata": {},
   "outputs": [
    {
     "name": "stdout",
     "output_type": "stream",
     "text": [
      "Train score=0.969\n",
      "Test score=0.953\n"
     ]
    }
   ],
   "source": [
    "print(f\"Train score={clf.score(X, y):.3}\")\n",
    "print(f\"Test score={clf.score(X_test, y_test):.3}\")"
   ]
  },
  {
   "cell_type": "markdown",
   "metadata": {},
   "source": [
    "#### very good test score of 95.3%"
   ]
  },
  {
   "cell_type": "markdown",
   "metadata": {},
   "source": [
    "In the above tests we can see that **catBoost** gave one of the best performance. But it also took much longer."
   ]
  },
  {
   "cell_type": "code",
   "execution_count": 18,
   "metadata": {},
   "outputs": [
    {
     "data": {
      "image/png": "[encoded data removed]",
      "text/plain": [
       "<Figure size 1440x720 with 1 Axes>"
      ]
     },
     "metadata": {
      "needs_background": "light"
     },
     "output_type": "display_data"
    }
   ],
   "source": [
    "#Lets look at feature importance\n",
    "import seaborn as sns\n",
    "\n",
    "feature_importance_df = pd.DataFrame(clf.get_feature_importance(prettified=True).values, \n",
    "                                     columns=['feature', 'importance'])\n",
    "\n",
    "\n",
    "plt.figure(figsize=(20, 10));\n",
    "sns.barplot(x=\"importance\", y=\"feature\", data=feature_importance_df);\n",
    "plt.title('CatBoost features importance:');"
   ]
  }
 ],
 "metadata": {
  "kernelspec": {
   "display_name": "Python 3",
   "language": "python",
   "name": "python3"
  },
  "language_info": {
   "codemirror_mode": {
    "name": "ipython",
    "version": 3
   },
   "file_extension": ".py",
   "mimetype": "text/x-python",
   "name": "python",
   "nbconvert_exporter": "python",
   "pygments_lexer": "ipython3",
   "version": "3.8.3"
  },
  "latex_envs": {
   "LaTeX_envs_menu_present": true,
   "autoclose": false,
   "autocomplete": true,
   "bibliofile": "biblio.bib",
   "cite_by": "apalike",
   "current_citInitial": 1,
   "eqLabelWithNumbers": true,
   "eqNumInitial": 1,
   "hotkeys": {
    "equation": "Ctrl-E",
    "itemize": "Ctrl-I"
   },
   "labels_anchors": false,
   "latex_user_defs": false,
   "report_style_numbering": false,
   "user_envs_cfg": false
  },
  "toc": {
   "base_numbering": 1,
   "nav_menu": {},
   "number_sections": false,
   "sideBar": true,
   "skip_h1_title": true,
   "title_cell": "Table of Contents",
   "title_sidebar": "Contents",
   "toc_cell": true,
   "toc_position": {},
   "toc_section_display": true,
   "toc_window_display": false
  }
 },
 "nbformat": 4,
 "nbformat_minor": 4
}
